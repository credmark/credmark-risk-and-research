{
 "cells": [
  {
   "cell_type": "markdown",
   "id": "51da28d3",
   "metadata": {},
   "source": [
    "## On Chain Data Sources Research\n",
    "This notebook is currently for development and research purposes, please see it's corresponding version in product-deployments for production version.<br>\n",
    "<br>\n",
    "##### Created: December 22, 2021\n",
    "##### @Copyright: Credmark Research Team\n",
    "##### @Author: Nishchal Gaba"
   ]
  },
  {
   "cell_type": "code",
   "execution_count": 9,
   "id": "c351045a",
   "metadata": {
    "ExecuteTime": {
     "end_time": "2021-12-21T20:23:17.621115Z",
     "start_time": "2021-12-21T20:23:17.616080Z"
    },
    "code_folding": []
   },
   "outputs": [],
   "source": [
    "# Import packages\n",
    "## Currently used conda environment for local system: (defi)\n",
    "import os\n",
    "import sys\n",
    "import time\n",
    "import random\n",
    "import pandas as pd\n",
    "import numpy as np\n",
    "import matplotlib\n",
    "import matplotlib.pyplot as plt\n",
    "import json\n",
    "\n",
    "%matplotlib inline"
   ]
  },
  {
   "cell_type": "markdown",
   "id": "b580a500",
   "metadata": {},
   "source": [
    "### Reference Document\n",
    "#### on-chain data\n",
    "'https://docs.google.com/document/d/1xS2a_YSIuPi0t0U9_Wsvf3idrn2fPaqgBOUjukoDe2I'"
   ]
  },
  {
   "cell_type": "code",
   "execution_count": 12,
   "id": "959dc2f9",
   "metadata": {
    "ExecuteTime": {
     "end_time": "2021-12-21T20:41:04.515052Z",
     "start_time": "2021-12-21T20:41:04.512641Z"
    }
   },
   "outputs": [],
   "source": [
    "# Import packages\n",
    "from web3 import Web3\n",
    "import requests"
   ]
  },
  {
   "cell_type": "code",
   "execution_count": 11,
   "id": "d000b3b4",
   "metadata": {
    "ExecuteTime": {
     "end_time": "2021-12-21T20:36:41.865638Z",
     "start_time": "2021-12-21T20:36:41.862801Z"
    }
   },
   "outputs": [],
   "source": [
    "# Infura Details\n",
    "PROJECT_ID = \"eefcbbcd9d6147a098708f6130115749\"\n",
    "\n",
    "\n",
    "# WAllet Details\n",
    "TEST_WALLET_METAMASK = \"0x84eAF08c13E86cD1603Bb8de7f5F61Fa115771bc\"\n",
    "\n",
    "\n",
    "# Etherscan API Details\n",
    "ETHERSCAN_API_KEY = \"FSIN6WW8F5BVAT58YGPHDFV99MI818NXUF\"\n",
    "ETH_MAINNET = \"https://api.etherscan.io/\""
   ]
  },
  {
   "cell_type": "code",
   "execution_count": 7,
   "id": "496dad4c",
   "metadata": {
    "ExecuteTime": {
     "end_time": "2021-12-21T20:21:38.861494Z",
     "start_time": "2021-12-21T20:21:38.858211Z"
    }
   },
   "outputs": [],
   "source": [
    "# Web3 Handle\n",
    "w3 = Web3(Web3.HTTPProvider(\"https://mainnet.infura.io/v3/\"+str(PROJECT_ID)))"
   ]
  },
  {
   "cell_type": "code",
   "execution_count": null,
   "id": "4be195df",
   "metadata": {},
   "outputs": [],
   "source": []
  },
  {
   "cell_type": "code",
   "execution_count": null,
   "id": "85752f5c",
   "metadata": {},
   "outputs": [],
   "source": []
  },
  {
   "cell_type": "code",
   "execution_count": null,
   "id": "1f4aba81",
   "metadata": {},
   "outputs": [],
   "source": []
  },
  {
   "cell_type": "code",
   "execution_count": null,
   "id": "55701830",
   "metadata": {},
   "outputs": [],
   "source": []
  },
  {
   "cell_type": "code",
   "execution_count": null,
   "id": "6c7c607f",
   "metadata": {},
   "outputs": [],
   "source": []
  },
  {
   "cell_type": "code",
   "execution_count": null,
   "id": "5246564f",
   "metadata": {},
   "outputs": [],
   "source": []
  },
  {
   "cell_type": "code",
   "execution_count": null,
   "id": "d54f79ef",
   "metadata": {},
   "outputs": [],
   "source": []
  },
  {
   "cell_type": "markdown",
   "id": "b3fd1778",
   "metadata": {},
   "source": [
    "#### 1. Uniswap V3"
   ]
  },
  {
   "cell_type": "code",
   "execution_count": null,
   "id": "3da86aac",
   "metadata": {
    "ExecuteTime": {
     "end_time": "2021-12-21T20:19:44.408522Z",
     "start_time": "2021-12-21T20:19:42.626021Z"
    }
   },
   "outputs": [],
   "source": []
  },
  {
   "cell_type": "code",
   "execution_count": null,
   "id": "0586eece",
   "metadata": {},
   "outputs": [],
   "source": []
  },
  {
   "cell_type": "code",
   "execution_count": null,
   "id": "fec250d4",
   "metadata": {},
   "outputs": [],
   "source": []
  },
  {
   "cell_type": "code",
   "execution_count": null,
   "id": "15fb80d0",
   "metadata": {},
   "outputs": [],
   "source": []
  },
  {
   "cell_type": "code",
   "execution_count": null,
   "id": "ddc79d18",
   "metadata": {},
   "outputs": [],
   "source": []
  },
  {
   "cell_type": "code",
   "execution_count": null,
   "id": "776732d8",
   "metadata": {},
   "outputs": [],
   "source": []
  },
  {
   "cell_type": "code",
   "execution_count": null,
   "id": "e3d68c42",
   "metadata": {},
   "outputs": [],
   "source": []
  }
 ],
 "metadata": {
  "kernelspec": {
   "display_name": "Python 3",
   "language": "python",
   "name": "python3"
  },
  "language_info": {
   "codemirror_mode": {
    "name": "ipython",
    "version": 3
   },
   "file_extension": ".py",
   "mimetype": "text/x-python",
   "name": "python",
   "nbconvert_exporter": "python",
   "pygments_lexer": "ipython3",
   "version": "3.6.13"
  }
 },
 "nbformat": 4,
 "nbformat_minor": 5
}
