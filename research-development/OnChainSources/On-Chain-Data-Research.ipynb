{
 "cells": [
  {
   "cell_type": "markdown",
   "id": "51da28d3",
   "metadata": {},
   "source": [
    "## On Chain Data Sources Research\n",
    "This notebook is currently for development and research purposes, please see it's corresponding version in product-deployments for production version.<br>\n",
    "<br>\n",
    "##### Created: December 22, 2021\n",
    "##### @Copyright: Credmark Research Team\n",
    "##### @Author: Nishchal Gaba"
   ]
  },
  {
   "cell_type": "code",
   "execution_count": 1,
   "id": "c351045a",
   "metadata": {
    "ExecuteTime": {
     "end_time": "2021-12-22T12:29:51.858118Z",
     "start_time": "2021-12-22T12:29:51.303988Z"
    },
    "code_folding": []
   },
   "outputs": [],
   "source": [
    "# Import packages\n",
    "## Currently used conda environment for local system: (defi)\n",
    "import os\n",
    "import sys\n",
    "import time\n",
    "import random\n",
    "import pandas as pd\n",
    "import numpy as np\n",
    "import matplotlib\n",
    "import matplotlib.pyplot as plt\n",
    "import json\n",
    "\n",
    "%matplotlib inline"
   ]
  },
  {
   "cell_type": "markdown",
   "id": "b580a500",
   "metadata": {},
   "source": [
    "### Reference Document\n",
    "#### on-chain data\n",
    "'https://docs.google.com/document/d/1xS2a_YSIuPi0t0U9_Wsvf3idrn2fPaqgBOUjukoDe2I'"
   ]
  },
  {
   "cell_type": "code",
   "execution_count": 2,
   "id": "959dc2f9",
   "metadata": {
    "ExecuteTime": {
     "end_time": "2021-12-22T12:29:57.868732Z",
     "start_time": "2021-12-22T12:29:56.476427Z"
    }
   },
   "outputs": [],
   "source": [
    "# Import packages\n",
    "from web3 import Web3\n",
    "import requests"
   ]
  },
  {
   "cell_type": "code",
   "execution_count": 3,
   "id": "d000b3b4",
   "metadata": {
    "ExecuteTime": {
     "end_time": "2021-12-22T12:29:58.631111Z",
     "start_time": "2021-12-22T12:29:58.627708Z"
    }
   },
   "outputs": [],
   "source": [
    "# Infura Details\n",
    "PROJECT_ID = \"eefcbbcd9d6147a098708f6130115749\"\n",
    "\n",
    "\n",
    "# WAllet Details\n",
    "TEST_WALLET_METAMASK = \"0x84eAF08c13E86cD1603Bb8de7f5F61Fa115771bc\"\n",
    "\n",
    "\n",
    "# Etherscan API Details\n",
    "ETHERSCAN_API_KEY = \"FSIN6WW8F5BVAT58YGPHDFV99MI818NXUF\"\n",
    "ETH_MAINNET = \"https://api.etherscan.io/\""
   ]
  },
  {
   "cell_type": "code",
   "execution_count": 4,
   "id": "496dad4c",
   "metadata": {
    "ExecuteTime": {
     "end_time": "2021-12-22T12:30:00.842119Z",
     "start_time": "2021-12-22T12:30:00.838810Z"
    }
   },
   "outputs": [],
   "source": [
    "# Web3 Handle\n",
    "w3 = Web3(Web3.HTTPProvider(\"https://mainnet.infura.io/v3/\"+str(PROJECT_ID)))"
   ]
  },
  {
   "cell_type": "markdown",
   "id": "18ed7541",
   "metadata": {},
   "source": [
    "##### Etherscan API endpoints\n"
   ]
  },
  {
   "cell_type": "code",
   "execution_count": 5,
   "id": "85752f5c",
   "metadata": {
    "ExecuteTime": {
     "end_time": "2021-12-22T12:30:02.775923Z",
     "start_time": "2021-12-22T12:30:02.772739Z"
    }
   },
   "outputs": [],
   "source": [
    "# 1. ABI from contract address\n",
    "## Needs Contract Address and API Key as an input\n",
    "\n",
    "def etherscan_abi_request(_contractAddress, _apiKey):\n",
    "    '''\n",
    "        Etherscan ABI Request Method\n",
    "        Args::\n",
    "            _contractAddress: Ethereum Address of the contract\n",
    "            _apiKey: Etherscan API Key\n",
    "        Returns::\n",
    "            ethResJS: Etherscan ABI request result in JSON format\n",
    "    '''\n",
    "    ETHERSCAN_ABI_REQUEST = \"https://api.etherscan.io/api?module=contract&action=getabi&address={0}&apikey={1}\".format(_contractAddress, _apiKey)\n",
    "    ethResJS = (requests.get(ETHERSCAN_ABI_REQUEST)).json()\n",
    "    return ethResJS"
   ]
  },
  {
   "cell_type": "code",
   "execution_count": 6,
   "id": "1f4aba81",
   "metadata": {
    "ExecuteTime": {
     "end_time": "2021-12-22T12:30:06.593908Z",
     "start_time": "2021-12-22T12:30:05.055079Z"
    }
   },
   "outputs": [],
   "source": [
    "UNISWAP_FACTORY_ADDRESS = \"0x1F98431c8aD98523631AE4a59f267346ea31F984\"\n",
    "test_res = etherscan_abi_request(UNISWAP_FACTORY_ADDRESS, ETHERSCAN_API_KEY )"
   ]
  },
  {
   "cell_type": "code",
   "execution_count": 7,
   "id": "55701830",
   "metadata": {
    "ExecuteTime": {
     "end_time": "2021-12-22T12:30:07.550229Z",
     "start_time": "2021-12-22T12:30:07.547190Z"
    }
   },
   "outputs": [
    {
     "name": "stdout",
     "output_type": "stream",
     "text": [
      "{'status': '1', 'message': 'OK', 'result': '[{\"inputs\":[],\"stateMutability\":\"nonpayable\",\"type\":\"constructor\"},{\"anonymous\":false,\"inputs\":[{\"indexed\":true,\"internalType\":\"uint24\",\"name\":\"fee\",\"type\":\"uint24\"},{\"indexed\":true,\"internalType\":\"int24\",\"name\":\"tickSpacing\",\"type\":\"int24\"}],\"name\":\"FeeAmountEnabled\",\"type\":\"event\"},{\"anonymous\":false,\"inputs\":[{\"indexed\":true,\"internalType\":\"address\",\"name\":\"oldOwner\",\"type\":\"address\"},{\"indexed\":true,\"internalType\":\"address\",\"name\":\"newOwner\",\"type\":\"address\"}],\"name\":\"OwnerChanged\",\"type\":\"event\"},{\"anonymous\":false,\"inputs\":[{\"indexed\":true,\"internalType\":\"address\",\"name\":\"token0\",\"type\":\"address\"},{\"indexed\":true,\"internalType\":\"address\",\"name\":\"token1\",\"type\":\"address\"},{\"indexed\":true,\"internalType\":\"uint24\",\"name\":\"fee\",\"type\":\"uint24\"},{\"indexed\":false,\"internalType\":\"int24\",\"name\":\"tickSpacing\",\"type\":\"int24\"},{\"indexed\":false,\"internalType\":\"address\",\"name\":\"pool\",\"type\":\"address\"}],\"name\":\"PoolCreated\",\"type\":\"event\"},{\"inputs\":[{\"internalType\":\"address\",\"name\":\"tokenA\",\"type\":\"address\"},{\"internalType\":\"address\",\"name\":\"tokenB\",\"type\":\"address\"},{\"internalType\":\"uint24\",\"name\":\"fee\",\"type\":\"uint24\"}],\"name\":\"createPool\",\"outputs\":[{\"internalType\":\"address\",\"name\":\"pool\",\"type\":\"address\"}],\"stateMutability\":\"nonpayable\",\"type\":\"function\"},{\"inputs\":[{\"internalType\":\"uint24\",\"name\":\"fee\",\"type\":\"uint24\"},{\"internalType\":\"int24\",\"name\":\"tickSpacing\",\"type\":\"int24\"}],\"name\":\"enableFeeAmount\",\"outputs\":[],\"stateMutability\":\"nonpayable\",\"type\":\"function\"},{\"inputs\":[{\"internalType\":\"uint24\",\"name\":\"\",\"type\":\"uint24\"}],\"name\":\"feeAmountTickSpacing\",\"outputs\":[{\"internalType\":\"int24\",\"name\":\"\",\"type\":\"int24\"}],\"stateMutability\":\"view\",\"type\":\"function\"},{\"inputs\":[{\"internalType\":\"address\",\"name\":\"\",\"type\":\"address\"},{\"internalType\":\"address\",\"name\":\"\",\"type\":\"address\"},{\"internalType\":\"uint24\",\"name\":\"\",\"type\":\"uint24\"}],\"name\":\"getPool\",\"outputs\":[{\"internalType\":\"address\",\"name\":\"\",\"type\":\"address\"}],\"stateMutability\":\"view\",\"type\":\"function\"},{\"inputs\":[],\"name\":\"owner\",\"outputs\":[{\"internalType\":\"address\",\"name\":\"\",\"type\":\"address\"}],\"stateMutability\":\"view\",\"type\":\"function\"},{\"inputs\":[],\"name\":\"parameters\",\"outputs\":[{\"internalType\":\"address\",\"name\":\"factory\",\"type\":\"address\"},{\"internalType\":\"address\",\"name\":\"token0\",\"type\":\"address\"},{\"internalType\":\"address\",\"name\":\"token1\",\"type\":\"address\"},{\"internalType\":\"uint24\",\"name\":\"fee\",\"type\":\"uint24\"},{\"internalType\":\"int24\",\"name\":\"tickSpacing\",\"type\":\"int24\"}],\"stateMutability\":\"view\",\"type\":\"function\"},{\"inputs\":[{\"internalType\":\"address\",\"name\":\"_owner\",\"type\":\"address\"}],\"name\":\"setOwner\",\"outputs\":[],\"stateMutability\":\"nonpayable\",\"type\":\"function\"}]'}\n"
     ]
    }
   ],
   "source": [
    "# Sample Result\n",
    "print(test_res)"
   ]
  },
  {
   "cell_type": "code",
   "execution_count": 10,
   "id": "6c7c607f",
   "metadata": {
    "ExecuteTime": {
     "end_time": "2021-12-22T12:36:55.043742Z",
     "start_time": "2021-12-22T12:36:55.041242Z"
    }
   },
   "outputs": [
    {
     "name": "stdout",
     "output_type": "stream",
     "text": [
      "[{\"inputs\":[],\"stateMutability\":\"nonpayable\",\"type\":\"constructor\"},{\"anonymous\":false,\"inputs\":[{\"indexed\":true,\"internalType\":\"uint24\",\"name\":\"fee\",\"type\":\"uint24\"},{\"indexed\":true,\"internalType\":\"int24\",\"name\":\"tickSpacing\",\"type\":\"int24\"}],\"name\":\"FeeAmountEnabled\",\"type\":\"event\"},{\"anonymous\":false,\"inputs\":[{\"indexed\":true,\"internalType\":\"address\",\"name\":\"oldOwner\",\"type\":\"address\"},{\"indexed\":true,\"internalType\":\"address\",\"name\":\"newOwner\",\"type\":\"address\"}],\"name\":\"OwnerChanged\",\"type\":\"event\"},{\"anonymous\":false,\"inputs\":[{\"indexed\":true,\"internalType\":\"address\",\"name\":\"token0\",\"type\":\"address\"},{\"indexed\":true,\"internalType\":\"address\",\"name\":\"token1\",\"type\":\"address\"},{\"indexed\":true,\"internalType\":\"uint24\",\"name\":\"fee\",\"type\":\"uint24\"},{\"indexed\":false,\"internalType\":\"int24\",\"name\":\"tickSpacing\",\"type\":\"int24\"},{\"indexed\":false,\"internalType\":\"address\",\"name\":\"pool\",\"type\":\"address\"}],\"name\":\"PoolCreated\",\"type\":\"event\"},{\"inputs\":[{\"internalType\":\"address\",\"name\":\"tokenA\",\"type\":\"address\"},{\"internalType\":\"address\",\"name\":\"tokenB\",\"type\":\"address\"},{\"internalType\":\"uint24\",\"name\":\"fee\",\"type\":\"uint24\"}],\"name\":\"createPool\",\"outputs\":[{\"internalType\":\"address\",\"name\":\"pool\",\"type\":\"address\"}],\"stateMutability\":\"nonpayable\",\"type\":\"function\"},{\"inputs\":[{\"internalType\":\"uint24\",\"name\":\"fee\",\"type\":\"uint24\"},{\"internalType\":\"int24\",\"name\":\"tickSpacing\",\"type\":\"int24\"}],\"name\":\"enableFeeAmount\",\"outputs\":[],\"stateMutability\":\"nonpayable\",\"type\":\"function\"},{\"inputs\":[{\"internalType\":\"uint24\",\"name\":\"\",\"type\":\"uint24\"}],\"name\":\"feeAmountTickSpacing\",\"outputs\":[{\"internalType\":\"int24\",\"name\":\"\",\"type\":\"int24\"}],\"stateMutability\":\"view\",\"type\":\"function\"},{\"inputs\":[{\"internalType\":\"address\",\"name\":\"\",\"type\":\"address\"},{\"internalType\":\"address\",\"name\":\"\",\"type\":\"address\"},{\"internalType\":\"uint24\",\"name\":\"\",\"type\":\"uint24\"}],\"name\":\"getPool\",\"outputs\":[{\"internalType\":\"address\",\"name\":\"\",\"type\":\"address\"}],\"stateMutability\":\"view\",\"type\":\"function\"},{\"inputs\":[],\"name\":\"owner\",\"outputs\":[{\"internalType\":\"address\",\"name\":\"\",\"type\":\"address\"}],\"stateMutability\":\"view\",\"type\":\"function\"},{\"inputs\":[],\"name\":\"parameters\",\"outputs\":[{\"internalType\":\"address\",\"name\":\"factory\",\"type\":\"address\"},{\"internalType\":\"address\",\"name\":\"token0\",\"type\":\"address\"},{\"internalType\":\"address\",\"name\":\"token1\",\"type\":\"address\"},{\"internalType\":\"uint24\",\"name\":\"fee\",\"type\":\"uint24\"},{\"internalType\":\"int24\",\"name\":\"tickSpacing\",\"type\":\"int24\"}],\"stateMutability\":\"view\",\"type\":\"function\"},{\"inputs\":[{\"internalType\":\"address\",\"name\":\"_owner\",\"type\":\"address\"}],\"name\":\"setOwner\",\"outputs\":[],\"stateMutability\":\"nonpayable\",\"type\":\"function\"}]\n"
     ]
    }
   ],
   "source": [
    "print(test_res['result'])"
   ]
  },
  {
   "cell_type": "code",
   "execution_count": 11,
   "id": "5246564f",
   "metadata": {
    "ExecuteTime": {
     "end_time": "2021-12-22T12:37:03.322360Z",
     "start_time": "2021-12-22T12:37:03.317209Z"
    }
   },
   "outputs": [
    {
     "data": {
      "text/plain": [
       "str"
      ]
     },
     "execution_count": 11,
     "metadata": {},
     "output_type": "execute_result"
    }
   ],
   "source": [
    "type(test_res['result'])"
   ]
  },
  {
   "cell_type": "code",
   "execution_count": null,
   "id": "d54f79ef",
   "metadata": {},
   "outputs": [],
   "source": []
  },
  {
   "cell_type": "markdown",
   "id": "b3fd1778",
   "metadata": {},
   "source": [
    "#### 1. Uniswap V3"
   ]
  },
  {
   "cell_type": "code",
   "execution_count": null,
   "id": "3da86aac",
   "metadata": {
    "ExecuteTime": {
     "end_time": "2021-12-21T20:19:44.408522Z",
     "start_time": "2021-12-21T20:19:42.626021Z"
    }
   },
   "outputs": [],
   "source": []
  },
  {
   "cell_type": "code",
   "execution_count": null,
   "id": "0586eece",
   "metadata": {},
   "outputs": [],
   "source": []
  },
  {
   "cell_type": "code",
   "execution_count": null,
   "id": "fec250d4",
   "metadata": {},
   "outputs": [],
   "source": []
  },
  {
   "cell_type": "code",
   "execution_count": null,
   "id": "15fb80d0",
   "metadata": {},
   "outputs": [],
   "source": []
  },
  {
   "cell_type": "code",
   "execution_count": null,
   "id": "ddc79d18",
   "metadata": {},
   "outputs": [],
   "source": []
  },
  {
   "cell_type": "code",
   "execution_count": null,
   "id": "776732d8",
   "metadata": {},
   "outputs": [],
   "source": []
  },
  {
   "cell_type": "code",
   "execution_count": null,
   "id": "e3d68c42",
   "metadata": {},
   "outputs": [],
   "source": []
  }
 ],
 "metadata": {
  "kernelspec": {
   "display_name": "Python 3",
   "language": "python",
   "name": "python3"
  },
  "language_info": {
   "codemirror_mode": {
    "name": "ipython",
    "version": 3
   },
   "file_extension": ".py",
   "mimetype": "text/x-python",
   "name": "python",
   "nbconvert_exporter": "python",
   "pygments_lexer": "ipython3",
   "version": "3.6.13"
  }
 },
 "nbformat": 4,
 "nbformat_minor": 5
}
