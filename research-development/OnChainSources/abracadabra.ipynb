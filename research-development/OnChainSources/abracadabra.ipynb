{
 "cells": [
  {
   "cell_type": "code",
   "execution_count": 1,
   "metadata": {
    "ExecuteTime": {
     "end_time": "2022-02-15T21:44:41.955756Z",
     "start_time": "2022-02-15T21:44:37.756218Z"
    }
   },
   "outputs": [],
   "source": [
    "# Import Packages\n",
    "import os\n",
    "import sys\n",
    "import time\n",
    "\n",
    "\n",
    "import json\n",
    "from web3 import Web3\n",
    "import requests"
   ]
  },
  {
   "cell_type": "code",
   "execution_count": 2,
   "metadata": {
    "ExecuteTime": {
     "end_time": "2022-02-15T21:44:41.962406Z",
     "start_time": "2022-02-15T21:44:41.958744Z"
    }
   },
   "outputs": [],
   "source": [
    "# Infura Details\n",
    "PROJECT_ID = \"1b0fc3af1d194e8ea8db248ccf926085\"\n",
    "\n",
    "\n",
    "# Etherscan API Details\n",
    "ETHERSCAN_API_KEY = \"P4XI3P1XKMUFPGIKGDNEJ8RAV6TBE317MW\"\n",
    "ETH_MAINNET = \"https://api.etherscan.io/\""
   ]
  },
  {
   "cell_type": "code",
   "execution_count": 3,
   "metadata": {
    "ExecuteTime": {
     "end_time": "2022-02-15T21:44:41.977895Z",
     "start_time": "2022-02-15T21:44:41.966746Z"
    }
   },
   "outputs": [],
   "source": [
    "# Web3 Handle\n",
    "\n",
    "## Ethereum web3 handle\n",
    "web3_eth = Web3(Web3.HTTPProvider(\"https://mainnet.infura.io/v3/\"+str(PROJECT_ID)))\n",
    "## Fantom web3 handle\n",
    "web3_ftm = Web3(Web3.HTTPProvider(\"https://rpcapi.fantom.network/\"))\n",
    "## Avax web3 handle\n",
    "web3_avax = Web3(Web3.HTTPProvider(\"https://rpcapi.avax.network/ext/bc/C/\"))"
   ]
  },
  {
   "cell_type": "code",
   "execution_count": 4,
   "metadata": {
    "ExecuteTime": {
     "end_time": "2022-02-15T21:44:41.986494Z",
     "start_time": "2022-02-15T21:44:41.981048Z"
    }
   },
   "outputs": [],
   "source": [
    "# Fetch ABI from contract address\n",
    "## Needs Contract Address and API Key as an input\n",
    "\n",
    "def etherscan_abi_request(_contractAddress, _apiKey):\n",
    "    '''\n",
    "        Etherscan ABI Request Method\n",
    "        Args::\n",
    "            _contractAddress: Ethereum Address of the contract\n",
    "            _apiKey: Etherscan API Key\n",
    "        Returns::\n",
    "            ethResJS: Etherscan ABI request result in JSON format\n",
    "    '''\n",
    "    ETHERSCAN_ABI_REQUEST = \"https://api.etherscan.io/api?module=contract&action=getabi&address={0}&apikey={1}\".format(_contractAddress, _apiKey)\n",
    "    ethResJS = (requests.get(ETHERSCAN_ABI_REQUEST)).json()['result']\n",
    "    return ethResJS"
   ]
  },
  {
   "cell_type": "code",
   "execution_count": 5,
   "metadata": {
    "ExecuteTime": {
     "end_time": "2022-02-15T21:44:41.997529Z",
     "start_time": "2022-02-15T21:44:41.989192Z"
    }
   },
   "outputs": [],
   "source": [
    "# Get token balance of an address on ethereum chain\n",
    "def ethereum_token_balance_of_address(_contractAddress, _accountAddress):\n",
    "    '''\n",
    "            Get token balance of an address method\n",
    "            Args::\n",
    "                _contractAddress: Ethereum Address of the token contract\n",
    "                _accountAddress: Ethereum Address of account whose token balance is to be fetched\n",
    "                _apiKey: Etherscan API Key\n",
    "            Returns::\n",
    "                _name: Name of token\n",
    "                _balance: Token Balance of Account\n",
    "    '''\n",
    "\n",
    "    _contractAddress = web3_eth.toChecksumAddress(_contractAddress)\n",
    "    _contractABI = '[{\"inputs\":[],\"stateMutability\":\"nonpayable\",\"type\":\"constructor\"},{\"anonymous\":false,\"inputs\":[{\"indexed\":true,\"internalType\":\"address\",\"name\":\"owner\",\"type\":\"address\"},{\"indexed\":true,\"internalType\":\"address\",\"name\":\"spender\",\"type\":\"address\"},{\"indexed\":false,\"internalType\":\"uint256\",\"name\":\"value\",\"type\":\"uint256\"}],\"name\":\"Approval\",\"type\":\"event\"},{\"anonymous\":false,\"inputs\":[{\"indexed\":true,\"internalType\":\"bytes32\",\"name\":\"role\",\"type\":\"bytes32\"},{\"indexed\":true,\"internalType\":\"bytes32\",\"name\":\"previousAdminRole\",\"type\":\"bytes32\"},{\"indexed\":true,\"internalType\":\"bytes32\",\"name\":\"newAdminRole\",\"type\":\"bytes32\"}],\"name\":\"RoleAdminChanged\",\"type\":\"event\"},{\"anonymous\":false,\"inputs\":[{\"indexed\":true,\"internalType\":\"bytes32\",\"name\":\"role\",\"type\":\"bytes32\"},{\"indexed\":true,\"internalType\":\"address\",\"name\":\"account\",\"type\":\"address\"},{\"indexed\":true,\"internalType\":\"address\",\"name\":\"sender\",\"type\":\"address\"}],\"name\":\"RoleGranted\",\"type\":\"event\"},{\"anonymous\":false,\"inputs\":[{\"indexed\":true,\"internalType\":\"bytes32\",\"name\":\"role\",\"type\":\"bytes32\"},{\"indexed\":true,\"internalType\":\"address\",\"name\":\"account\",\"type\":\"address\"},{\"indexed\":true,\"internalType\":\"address\",\"name\":\"sender\",\"type\":\"address\"}],\"name\":\"RoleRevoked\",\"type\":\"event\"},{\"anonymous\":false,\"inputs\":[{\"indexed\":true,\"internalType\":\"address\",\"name\":\"from\",\"type\":\"address\"},{\"indexed\":true,\"internalType\":\"address\",\"name\":\"to\",\"type\":\"address\"},{\"indexed\":false,\"internalType\":\"uint256\",\"name\":\"value\",\"type\":\"uint256\"}],\"name\":\"Transfer\",\"type\":\"event\"},{\"inputs\":[],\"name\":\"ADMIN_ROLE\",\"outputs\":[{\"internalType\":\"bytes32\",\"name\":\"\",\"type\":\"bytes32\"}],\"stateMutability\":\"view\",\"type\":\"function\"},{\"inputs\":[],\"name\":\"DEFAULT_ADMIN_ROLE\",\"outputs\":[{\"internalType\":\"bytes32\",\"name\":\"\",\"type\":\"bytes32\"}],\"stateMutability\":\"view\",\"type\":\"function\"},{\"inputs\":[],\"name\":\"MINTER_ROLE\",\"outputs\":[{\"internalType\":\"bytes32\",\"name\":\"\",\"type\":\"bytes32\"}],\"stateMutability\":\"view\",\"type\":\"function\"},{\"inputs\":[{\"internalType\":\"address\",\"name\":\"owner\",\"type\":\"address\"},{\"internalType\":\"address\",\"name\":\"spender\",\"type\":\"address\"}],\"name\":\"allowance\",\"outputs\":[{\"internalType\":\"uint256\",\"name\":\"\",\"type\":\"uint256\"}],\"stateMutability\":\"view\",\"type\":\"function\"},{\"inputs\":[{\"internalType\":\"address\",\"name\":\"spender\",\"type\":\"address\"},{\"internalType\":\"uint256\",\"name\":\"amount\",\"type\":\"uint256\"}],\"name\":\"approve\",\"outputs\":[{\"internalType\":\"bool\",\"name\":\"\",\"type\":\"bool\"}],\"stateMutability\":\"nonpayable\",\"type\":\"function\"},{\"inputs\":[{\"internalType\":\"address\",\"name\":\"account\",\"type\":\"address\"}],\"name\":\"balanceOf\",\"outputs\":[{\"internalType\":\"uint256\",\"name\":\"\",\"type\":\"uint256\"}],\"stateMutability\":\"view\",\"type\":\"function\"},{\"inputs\":[],\"name\":\"decimals\",\"outputs\":[{\"internalType\":\"uint8\",\"name\":\"\",\"type\":\"uint8\"}],\"stateMutability\":\"view\",\"type\":\"function\"},{\"inputs\":[{\"internalType\":\"address\",\"name\":\"spender\",\"type\":\"address\"},{\"internalType\":\"uint256\",\"name\":\"subtractedValue\",\"type\":\"uint256\"}],\"name\":\"decreaseAllowance\",\"outputs\":[{\"internalType\":\"bool\",\"name\":\"\",\"type\":\"bool\"}],\"stateMutability\":\"nonpayable\",\"type\":\"function\"},{\"inputs\":[{\"internalType\":\"bytes32\",\"name\":\"role\",\"type\":\"bytes32\"}],\"name\":\"getRoleAdmin\",\"outputs\":[{\"internalType\":\"bytes32\",\"name\":\"\",\"type\":\"bytes32\"}],\"stateMutability\":\"view\",\"type\":\"function\"},{\"inputs\":[{\"internalType\":\"bytes32\",\"name\":\"role\",\"type\":\"bytes32\"},{\"internalType\":\"uint256\",\"name\":\"index\",\"type\":\"uint256\"}],\"name\":\"getRoleMember\",\"outputs\":[{\"internalType\":\"address\",\"name\":\"\",\"type\":\"address\"}],\"stateMutability\":\"view\",\"type\":\"function\"},{\"inputs\":[{\"internalType\":\"bytes32\",\"name\":\"role\",\"type\":\"bytes32\"}],\"name\":\"getRoleMemberCount\",\"outputs\":[{\"internalType\":\"uint256\",\"name\":\"\",\"type\":\"uint256\"}],\"stateMutability\":\"view\",\"type\":\"function\"},{\"inputs\":[{\"internalType\":\"bytes32\",\"name\":\"role\",\"type\":\"bytes32\"},{\"internalType\":\"address\",\"name\":\"account\",\"type\":\"address\"}],\"name\":\"grantRole\",\"outputs\":[],\"stateMutability\":\"nonpayable\",\"type\":\"function\"},{\"inputs\":[{\"internalType\":\"bytes32\",\"name\":\"role\",\"type\":\"bytes32\"},{\"internalType\":\"address\",\"name\":\"account\",\"type\":\"address\"}],\"name\":\"hasRole\",\"outputs\":[{\"internalType\":\"bool\",\"name\":\"\",\"type\":\"bool\"}],\"stateMutability\":\"view\",\"type\":\"function\"},{\"inputs\":[{\"internalType\":\"address\",\"name\":\"spender\",\"type\":\"address\"},{\"internalType\":\"uint256\",\"name\":\"addedValue\",\"type\":\"uint256\"}],\"name\":\"increaseAllowance\",\"outputs\":[{\"internalType\":\"bool\",\"name\":\"\",\"type\":\"bool\"}],\"stateMutability\":\"nonpayable\",\"type\":\"function\"},{\"inputs\":[{\"internalType\":\"address\",\"name\":\"_recipient\",\"type\":\"address\"},{\"internalType\":\"uint256\",\"name\":\"_amount\",\"type\":\"uint256\"}],\"name\":\"mint\",\"outputs\":[],\"stateMutability\":\"nonpayable\",\"type\":\"function\"},{\"inputs\":[],\"name\":\"name\",\"outputs\":[{\"internalType\":\"string\",\"name\":\"\",\"type\":\"string\"}],\"stateMutability\":\"view\",\"type\":\"function\"},{\"inputs\":[{\"internalType\":\"bytes32\",\"name\":\"role\",\"type\":\"bytes32\"},{\"internalType\":\"address\",\"name\":\"account\",\"type\":\"address\"}],\"name\":\"renounceRole\",\"outputs\":[],\"stateMutability\":\"nonpayable\",\"type\":\"function\"},{\"inputs\":[{\"internalType\":\"bytes32\",\"name\":\"role\",\"type\":\"bytes32\"},{\"internalType\":\"address\",\"name\":\"account\",\"type\":\"address\"}],\"name\":\"revokeRole\",\"outputs\":[],\"stateMutability\":\"nonpayable\",\"type\":\"function\"},{\"inputs\":[],\"name\":\"symbol\",\"outputs\":[{\"internalType\":\"string\",\"name\":\"\",\"type\":\"string\"}],\"stateMutability\":\"view\",\"type\":\"function\"},{\"inputs\":[],\"name\":\"totalSupply\",\"outputs\":[{\"internalType\":\"uint256\",\"name\":\"\",\"type\":\"uint256\"}],\"stateMutability\":\"view\",\"type\":\"function\"},{\"inputs\":[{\"internalType\":\"address\",\"name\":\"recipient\",\"type\":\"address\"},{\"internalType\":\"uint256\",\"name\":\"amount\",\"type\":\"uint256\"}],\"name\":\"transfer\",\"outputs\":[{\"internalType\":\"bool\",\"name\":\"\",\"type\":\"bool\"}],\"stateMutability\":\"nonpayable\",\"type\":\"function\"},{\"inputs\":[{\"internalType\":\"address\",\"name\":\"sender\",\"type\":\"address\"},{\"internalType\":\"address\",\"name\":\"recipient\",\"type\":\"address\"},{\"internalType\":\"uint256\",\"name\":\"amount\",\"type\":\"uint256\"}],\"name\":\"transferFrom\",\"outputs\":[{\"internalType\":\"bool\",\"name\":\"\",\"type\":\"bool\"}],\"stateMutability\":\"nonpayable\",\"type\":\"function\"}]'\n",
    "    \n",
    "    _contract = web3_eth.eth.contract(address=_contractAddress, abi= _contractABI)\n",
    "\n",
    "    _name = _contract.functions.name().call()\n",
    "    _balance = _contract.functions.balanceOf(_accountAddress).call()\n",
    "    _decimals = _contract.functions.decimals().call()\n",
    "    _symbol = _contract.functions.symbol().call()\n",
    "\n",
    "    _balance = float(_balance)/pow(10,_decimals)\n",
    "\n",
    "    return (_name, _symbol, _balance)"
   ]
  },
  {
   "cell_type": "code",
   "execution_count": 6,
   "metadata": {
    "ExecuteTime": {
     "end_time": "2022-02-15T21:44:42.009025Z",
     "start_time": "2022-02-15T21:44:42.000474Z"
    }
   },
   "outputs": [],
   "source": [
    "# Get token balance of an address on fantom chain\n",
    "def fantom_token_balance_of_address(_contractAddress, _accountAddress):\n",
    "    '''\n",
    "            Get token balance of an address method\n",
    "            Args::\n",
    "                _contractAddress: Ethereum Address of the token contract\n",
    "                _accountAddress: Ethereum Address of account whose token balance is to be fetched\n",
    "                _apiKey: Etherscan API Key\n",
    "            Returns::\n",
    "                _name: Name of token\n",
    "                _balance: Token Balance of Account\n",
    "    '''\n",
    "\n",
    "    _contractAddress = web3_ftm.toChecksumAddress(_contractAddress)\n",
    "    _contractABI = '[{\"inputs\":[],\"stateMutability\":\"nonpayable\",\"type\":\"constructor\"},{\"anonymous\":false,\"inputs\":[{\"indexed\":true,\"internalType\":\"address\",\"name\":\"owner\",\"type\":\"address\"},{\"indexed\":true,\"internalType\":\"address\",\"name\":\"spender\",\"type\":\"address\"},{\"indexed\":false,\"internalType\":\"uint256\",\"name\":\"value\",\"type\":\"uint256\"}],\"name\":\"Approval\",\"type\":\"event\"},{\"anonymous\":false,\"inputs\":[{\"indexed\":true,\"internalType\":\"bytes32\",\"name\":\"role\",\"type\":\"bytes32\"},{\"indexed\":true,\"internalType\":\"bytes32\",\"name\":\"previousAdminRole\",\"type\":\"bytes32\"},{\"indexed\":true,\"internalType\":\"bytes32\",\"name\":\"newAdminRole\",\"type\":\"bytes32\"}],\"name\":\"RoleAdminChanged\",\"type\":\"event\"},{\"anonymous\":false,\"inputs\":[{\"indexed\":true,\"internalType\":\"bytes32\",\"name\":\"role\",\"type\":\"bytes32\"},{\"indexed\":true,\"internalType\":\"address\",\"name\":\"account\",\"type\":\"address\"},{\"indexed\":true,\"internalType\":\"address\",\"name\":\"sender\",\"type\":\"address\"}],\"name\":\"RoleGranted\",\"type\":\"event\"},{\"anonymous\":false,\"inputs\":[{\"indexed\":true,\"internalType\":\"bytes32\",\"name\":\"role\",\"type\":\"bytes32\"},{\"indexed\":true,\"internalType\":\"address\",\"name\":\"account\",\"type\":\"address\"},{\"indexed\":true,\"internalType\":\"address\",\"name\":\"sender\",\"type\":\"address\"}],\"name\":\"RoleRevoked\",\"type\":\"event\"},{\"anonymous\":false,\"inputs\":[{\"indexed\":true,\"internalType\":\"address\",\"name\":\"from\",\"type\":\"address\"},{\"indexed\":true,\"internalType\":\"address\",\"name\":\"to\",\"type\":\"address\"},{\"indexed\":false,\"internalType\":\"uint256\",\"name\":\"value\",\"type\":\"uint256\"}],\"name\":\"Transfer\",\"type\":\"event\"},{\"inputs\":[],\"name\":\"ADMIN_ROLE\",\"outputs\":[{\"internalType\":\"bytes32\",\"name\":\"\",\"type\":\"bytes32\"}],\"stateMutability\":\"view\",\"type\":\"function\"},{\"inputs\":[],\"name\":\"DEFAULT_ADMIN_ROLE\",\"outputs\":[{\"internalType\":\"bytes32\",\"name\":\"\",\"type\":\"bytes32\"}],\"stateMutability\":\"view\",\"type\":\"function\"},{\"inputs\":[],\"name\":\"MINTER_ROLE\",\"outputs\":[{\"internalType\":\"bytes32\",\"name\":\"\",\"type\":\"bytes32\"}],\"stateMutability\":\"view\",\"type\":\"function\"},{\"inputs\":[{\"internalType\":\"address\",\"name\":\"owner\",\"type\":\"address\"},{\"internalType\":\"address\",\"name\":\"spender\",\"type\":\"address\"}],\"name\":\"allowance\",\"outputs\":[{\"internalType\":\"uint256\",\"name\":\"\",\"type\":\"uint256\"}],\"stateMutability\":\"view\",\"type\":\"function\"},{\"inputs\":[{\"internalType\":\"address\",\"name\":\"spender\",\"type\":\"address\"},{\"internalType\":\"uint256\",\"name\":\"amount\",\"type\":\"uint256\"}],\"name\":\"approve\",\"outputs\":[{\"internalType\":\"bool\",\"name\":\"\",\"type\":\"bool\"}],\"stateMutability\":\"nonpayable\",\"type\":\"function\"},{\"inputs\":[{\"internalType\":\"address\",\"name\":\"account\",\"type\":\"address\"}],\"name\":\"balanceOf\",\"outputs\":[{\"internalType\":\"uint256\",\"name\":\"\",\"type\":\"uint256\"}],\"stateMutability\":\"view\",\"type\":\"function\"},{\"inputs\":[],\"name\":\"decimals\",\"outputs\":[{\"internalType\":\"uint8\",\"name\":\"\",\"type\":\"uint8\"}],\"stateMutability\":\"view\",\"type\":\"function\"},{\"inputs\":[{\"internalType\":\"address\",\"name\":\"spender\",\"type\":\"address\"},{\"internalType\":\"uint256\",\"name\":\"subtractedValue\",\"type\":\"uint256\"}],\"name\":\"decreaseAllowance\",\"outputs\":[{\"internalType\":\"bool\",\"name\":\"\",\"type\":\"bool\"}],\"stateMutability\":\"nonpayable\",\"type\":\"function\"},{\"inputs\":[{\"internalType\":\"bytes32\",\"name\":\"role\",\"type\":\"bytes32\"}],\"name\":\"getRoleAdmin\",\"outputs\":[{\"internalType\":\"bytes32\",\"name\":\"\",\"type\":\"bytes32\"}],\"stateMutability\":\"view\",\"type\":\"function\"},{\"inputs\":[{\"internalType\":\"bytes32\",\"name\":\"role\",\"type\":\"bytes32\"},{\"internalType\":\"uint256\",\"name\":\"index\",\"type\":\"uint256\"}],\"name\":\"getRoleMember\",\"outputs\":[{\"internalType\":\"address\",\"name\":\"\",\"type\":\"address\"}],\"stateMutability\":\"view\",\"type\":\"function\"},{\"inputs\":[{\"internalType\":\"bytes32\",\"name\":\"role\",\"type\":\"bytes32\"}],\"name\":\"getRoleMemberCount\",\"outputs\":[{\"internalType\":\"uint256\",\"name\":\"\",\"type\":\"uint256\"}],\"stateMutability\":\"view\",\"type\":\"function\"},{\"inputs\":[{\"internalType\":\"bytes32\",\"name\":\"role\",\"type\":\"bytes32\"},{\"internalType\":\"address\",\"name\":\"account\",\"type\":\"address\"}],\"name\":\"grantRole\",\"outputs\":[],\"stateMutability\":\"nonpayable\",\"type\":\"function\"},{\"inputs\":[{\"internalType\":\"bytes32\",\"name\":\"role\",\"type\":\"bytes32\"},{\"internalType\":\"address\",\"name\":\"account\",\"type\":\"address\"}],\"name\":\"hasRole\",\"outputs\":[{\"internalType\":\"bool\",\"name\":\"\",\"type\":\"bool\"}],\"stateMutability\":\"view\",\"type\":\"function\"},{\"inputs\":[{\"internalType\":\"address\",\"name\":\"spender\",\"type\":\"address\"},{\"internalType\":\"uint256\",\"name\":\"addedValue\",\"type\":\"uint256\"}],\"name\":\"increaseAllowance\",\"outputs\":[{\"internalType\":\"bool\",\"name\":\"\",\"type\":\"bool\"}],\"stateMutability\":\"nonpayable\",\"type\":\"function\"},{\"inputs\":[{\"internalType\":\"address\",\"name\":\"_recipient\",\"type\":\"address\"},{\"internalType\":\"uint256\",\"name\":\"_amount\",\"type\":\"uint256\"}],\"name\":\"mint\",\"outputs\":[],\"stateMutability\":\"nonpayable\",\"type\":\"function\"},{\"inputs\":[],\"name\":\"name\",\"outputs\":[{\"internalType\":\"string\",\"name\":\"\",\"type\":\"string\"}],\"stateMutability\":\"view\",\"type\":\"function\"},{\"inputs\":[{\"internalType\":\"bytes32\",\"name\":\"role\",\"type\":\"bytes32\"},{\"internalType\":\"address\",\"name\":\"account\",\"type\":\"address\"}],\"name\":\"renounceRole\",\"outputs\":[],\"stateMutability\":\"nonpayable\",\"type\":\"function\"},{\"inputs\":[{\"internalType\":\"bytes32\",\"name\":\"role\",\"type\":\"bytes32\"},{\"internalType\":\"address\",\"name\":\"account\",\"type\":\"address\"}],\"name\":\"revokeRole\",\"outputs\":[],\"stateMutability\":\"nonpayable\",\"type\":\"function\"},{\"inputs\":[],\"name\":\"symbol\",\"outputs\":[{\"internalType\":\"string\",\"name\":\"\",\"type\":\"string\"}],\"stateMutability\":\"view\",\"type\":\"function\"},{\"inputs\":[],\"name\":\"totalSupply\",\"outputs\":[{\"internalType\":\"uint256\",\"name\":\"\",\"type\":\"uint256\"}],\"stateMutability\":\"view\",\"type\":\"function\"},{\"inputs\":[{\"internalType\":\"address\",\"name\":\"recipient\",\"type\":\"address\"},{\"internalType\":\"uint256\",\"name\":\"amount\",\"type\":\"uint256\"}],\"name\":\"transfer\",\"outputs\":[{\"internalType\":\"bool\",\"name\":\"\",\"type\":\"bool\"}],\"stateMutability\":\"nonpayable\",\"type\":\"function\"},{\"inputs\":[{\"internalType\":\"address\",\"name\":\"sender\",\"type\":\"address\"},{\"internalType\":\"address\",\"name\":\"recipient\",\"type\":\"address\"},{\"internalType\":\"uint256\",\"name\":\"amount\",\"type\":\"uint256\"}],\"name\":\"transferFrom\",\"outputs\":[{\"internalType\":\"bool\",\"name\":\"\",\"type\":\"bool\"}],\"stateMutability\":\"nonpayable\",\"type\":\"function\"}]'\n",
    "    \n",
    "    _contract = web3_ftm.eth.contract(address=_contractAddress, abi= _contractABI)\n",
    "\n",
    "    _name = _contract.functions.name().call()\n",
    "    _balance = _contract.functions.balanceOf(_accountAddress).call()\n",
    "    _decimals = _contract.functions.decimals().call()\n",
    "    _symbol = _contract.functions.symbol().call()\n",
    "\n",
    "    _balance = float(_balance)/pow(10,_decimals)\n",
    "\n",
    "    return (_name, _symbol, _balance)"
   ]
  },
  {
   "cell_type": "code",
   "execution_count": 7,
   "metadata": {
    "ExecuteTime": {
     "end_time": "2022-02-15T21:44:42.022832Z",
     "start_time": "2022-02-15T21:44:42.013169Z"
    }
   },
   "outputs": [],
   "source": [
    "# Get token balance of an address on AVAX chain\n",
    "def avax_token_balance_of_address(_contractAddress, _accountAddress):\n",
    "    '''\n",
    "            Get token balance of an address method\n",
    "            Args::\n",
    "                _contractAddress: Ethereum Address of the token contract\n",
    "                _accountAddress: Ethereum Address of account whose token balance is to be fetched\n",
    "                _apiKey: Etherscan API Key\n",
    "            Returns::\n",
    "                _name: Name of token\n",
    "                _balance: Token Balance of Account\n",
    "    '''\n",
    "\n",
    "    _contractAddress = web3_avax.toChecksumAddress(_contractAddress)\n",
    "    _contractABI = '[{\"inputs\":[],\"stateMutability\":\"nonpayable\",\"type\":\"constructor\"},{\"anonymous\":false,\"inputs\":[{\"indexed\":true,\"internalType\":\"address\",\"name\":\"owner\",\"type\":\"address\"},{\"indexed\":true,\"internalType\":\"address\",\"name\":\"spender\",\"type\":\"address\"},{\"indexed\":false,\"internalType\":\"uint256\",\"name\":\"value\",\"type\":\"uint256\"}],\"name\":\"Approval\",\"type\":\"event\"},{\"anonymous\":false,\"inputs\":[{\"indexed\":true,\"internalType\":\"bytes32\",\"name\":\"role\",\"type\":\"bytes32\"},{\"indexed\":true,\"internalType\":\"bytes32\",\"name\":\"previousAdminRole\",\"type\":\"bytes32\"},{\"indexed\":true,\"internalType\":\"bytes32\",\"name\":\"newAdminRole\",\"type\":\"bytes32\"}],\"name\":\"RoleAdminChanged\",\"type\":\"event\"},{\"anonymous\":false,\"inputs\":[{\"indexed\":true,\"internalType\":\"bytes32\",\"name\":\"role\",\"type\":\"bytes32\"},{\"indexed\":true,\"internalType\":\"address\",\"name\":\"account\",\"type\":\"address\"},{\"indexed\":true,\"internalType\":\"address\",\"name\":\"sender\",\"type\":\"address\"}],\"name\":\"RoleGranted\",\"type\":\"event\"},{\"anonymous\":false,\"inputs\":[{\"indexed\":true,\"internalType\":\"bytes32\",\"name\":\"role\",\"type\":\"bytes32\"},{\"indexed\":true,\"internalType\":\"address\",\"name\":\"account\",\"type\":\"address\"},{\"indexed\":true,\"internalType\":\"address\",\"name\":\"sender\",\"type\":\"address\"}],\"name\":\"RoleRevoked\",\"type\":\"event\"},{\"anonymous\":false,\"inputs\":[{\"indexed\":true,\"internalType\":\"address\",\"name\":\"from\",\"type\":\"address\"},{\"indexed\":true,\"internalType\":\"address\",\"name\":\"to\",\"type\":\"address\"},{\"indexed\":false,\"internalType\":\"uint256\",\"name\":\"value\",\"type\":\"uint256\"}],\"name\":\"Transfer\",\"type\":\"event\"},{\"inputs\":[],\"name\":\"ADMIN_ROLE\",\"outputs\":[{\"internalType\":\"bytes32\",\"name\":\"\",\"type\":\"bytes32\"}],\"stateMutability\":\"view\",\"type\":\"function\"},{\"inputs\":[],\"name\":\"DEFAULT_ADMIN_ROLE\",\"outputs\":[{\"internalType\":\"bytes32\",\"name\":\"\",\"type\":\"bytes32\"}],\"stateMutability\":\"view\",\"type\":\"function\"},{\"inputs\":[],\"name\":\"MINTER_ROLE\",\"outputs\":[{\"internalType\":\"bytes32\",\"name\":\"\",\"type\":\"bytes32\"}],\"stateMutability\":\"view\",\"type\":\"function\"},{\"inputs\":[{\"internalType\":\"address\",\"name\":\"owner\",\"type\":\"address\"},{\"internalType\":\"address\",\"name\":\"spender\",\"type\":\"address\"}],\"name\":\"allowance\",\"outputs\":[{\"internalType\":\"uint256\",\"name\":\"\",\"type\":\"uint256\"}],\"stateMutability\":\"view\",\"type\":\"function\"},{\"inputs\":[{\"internalType\":\"address\",\"name\":\"spender\",\"type\":\"address\"},{\"internalType\":\"uint256\",\"name\":\"amount\",\"type\":\"uint256\"}],\"name\":\"approve\",\"outputs\":[{\"internalType\":\"bool\",\"name\":\"\",\"type\":\"bool\"}],\"stateMutability\":\"nonpayable\",\"type\":\"function\"},{\"inputs\":[{\"internalType\":\"address\",\"name\":\"account\",\"type\":\"address\"}],\"name\":\"balanceOf\",\"outputs\":[{\"internalType\":\"uint256\",\"name\":\"\",\"type\":\"uint256\"}],\"stateMutability\":\"view\",\"type\":\"function\"},{\"inputs\":[],\"name\":\"decimals\",\"outputs\":[{\"internalType\":\"uint8\",\"name\":\"\",\"type\":\"uint8\"}],\"stateMutability\":\"view\",\"type\":\"function\"},{\"inputs\":[{\"internalType\":\"address\",\"name\":\"spender\",\"type\":\"address\"},{\"internalType\":\"uint256\",\"name\":\"subtractedValue\",\"type\":\"uint256\"}],\"name\":\"decreaseAllowance\",\"outputs\":[{\"internalType\":\"bool\",\"name\":\"\",\"type\":\"bool\"}],\"stateMutability\":\"nonpayable\",\"type\":\"function\"},{\"inputs\":[{\"internalType\":\"bytes32\",\"name\":\"role\",\"type\":\"bytes32\"}],\"name\":\"getRoleAdmin\",\"outputs\":[{\"internalType\":\"bytes32\",\"name\":\"\",\"type\":\"bytes32\"}],\"stateMutability\":\"view\",\"type\":\"function\"},{\"inputs\":[{\"internalType\":\"bytes32\",\"name\":\"role\",\"type\":\"bytes32\"},{\"internalType\":\"uint256\",\"name\":\"index\",\"type\":\"uint256\"}],\"name\":\"getRoleMember\",\"outputs\":[{\"internalType\":\"address\",\"name\":\"\",\"type\":\"address\"}],\"stateMutability\":\"view\",\"type\":\"function\"},{\"inputs\":[{\"internalType\":\"bytes32\",\"name\":\"role\",\"type\":\"bytes32\"}],\"name\":\"getRoleMemberCount\",\"outputs\":[{\"internalType\":\"uint256\",\"name\":\"\",\"type\":\"uint256\"}],\"stateMutability\":\"view\",\"type\":\"function\"},{\"inputs\":[{\"internalType\":\"bytes32\",\"name\":\"role\",\"type\":\"bytes32\"},{\"internalType\":\"address\",\"name\":\"account\",\"type\":\"address\"}],\"name\":\"grantRole\",\"outputs\":[],\"stateMutability\":\"nonpayable\",\"type\":\"function\"},{\"inputs\":[{\"internalType\":\"bytes32\",\"name\":\"role\",\"type\":\"bytes32\"},{\"internalType\":\"address\",\"name\":\"account\",\"type\":\"address\"}],\"name\":\"hasRole\",\"outputs\":[{\"internalType\":\"bool\",\"name\":\"\",\"type\":\"bool\"}],\"stateMutability\":\"view\",\"type\":\"function\"},{\"inputs\":[{\"internalType\":\"address\",\"name\":\"spender\",\"type\":\"address\"},{\"internalType\":\"uint256\",\"name\":\"addedValue\",\"type\":\"uint256\"}],\"name\":\"increaseAllowance\",\"outputs\":[{\"internalType\":\"bool\",\"name\":\"\",\"type\":\"bool\"}],\"stateMutability\":\"nonpayable\",\"type\":\"function\"},{\"inputs\":[{\"internalType\":\"address\",\"name\":\"_recipient\",\"type\":\"address\"},{\"internalType\":\"uint256\",\"name\":\"_amount\",\"type\":\"uint256\"}],\"name\":\"mint\",\"outputs\":[],\"stateMutability\":\"nonpayable\",\"type\":\"function\"},{\"inputs\":[],\"name\":\"name\",\"outputs\":[{\"internalType\":\"string\",\"name\":\"\",\"type\":\"string\"}],\"stateMutability\":\"view\",\"type\":\"function\"},{\"inputs\":[{\"internalType\":\"bytes32\",\"name\":\"role\",\"type\":\"bytes32\"},{\"internalType\":\"address\",\"name\":\"account\",\"type\":\"address\"}],\"name\":\"renounceRole\",\"outputs\":[],\"stateMutability\":\"nonpayable\",\"type\":\"function\"},{\"inputs\":[{\"internalType\":\"bytes32\",\"name\":\"role\",\"type\":\"bytes32\"},{\"internalType\":\"address\",\"name\":\"account\",\"type\":\"address\"}],\"name\":\"revokeRole\",\"outputs\":[],\"stateMutability\":\"nonpayable\",\"type\":\"function\"},{\"inputs\":[],\"name\":\"symbol\",\"outputs\":[{\"internalType\":\"string\",\"name\":\"\",\"type\":\"string\"}],\"stateMutability\":\"view\",\"type\":\"function\"},{\"inputs\":[],\"name\":\"totalSupply\",\"outputs\":[{\"internalType\":\"uint256\",\"name\":\"\",\"type\":\"uint256\"}],\"stateMutability\":\"view\",\"type\":\"function\"},{\"inputs\":[{\"internalType\":\"address\",\"name\":\"recipient\",\"type\":\"address\"},{\"internalType\":\"uint256\",\"name\":\"amount\",\"type\":\"uint256\"}],\"name\":\"transfer\",\"outputs\":[{\"internalType\":\"bool\",\"name\":\"\",\"type\":\"bool\"}],\"stateMutability\":\"nonpayable\",\"type\":\"function\"},{\"inputs\":[{\"internalType\":\"address\",\"name\":\"sender\",\"type\":\"address\"},{\"internalType\":\"address\",\"name\":\"recipient\",\"type\":\"address\"},{\"internalType\":\"uint256\",\"name\":\"amount\",\"type\":\"uint256\"}],\"name\":\"transferFrom\",\"outputs\":[{\"internalType\":\"bool\",\"name\":\"\",\"type\":\"bool\"}],\"stateMutability\":\"nonpayable\",\"type\":\"function\"}]'\n",
    "    \n",
    "    _contract = web3_avax.eth.contract(address=_contractAddress, abi= _contractABI)\n",
    "\n",
    "    _name = _contract.functions.name().call()\n",
    "    _balance = _contract.functions.balanceOf(_accountAddress).call()\n",
    "    _decimals = _contract.functions.decimals().call()\n",
    "    _symbol = _contract.functions.symbol().call()\n",
    "\n",
    "    _balance = float(_balance)/pow(10,_decimals)\n",
    "\n",
    "    return (_name, _symbol, _balance)"
   ]
  },
  {
   "cell_type": "code",
   "execution_count": 8,
   "metadata": {
    "ExecuteTime": {
     "end_time": "2022-02-15T21:44:42.030602Z",
     "start_time": "2022-02-15T21:44:42.026797Z"
    }
   },
   "outputs": [],
   "source": [
    "# abracadabra Vaults' addresses\n",
    "\n",
    "## Vaults' addresses on ethereum chain\n",
    "BENTOBOX_ADDRESS_ETH = \"0xF5BCE5077908a1b7370B9ae04AdC565EBd643966\"\n",
    "DEGENBOX_ADDRESS_ETH = \"0xd96f48665a1410C0cd669A88898ecA36B9Fc2cce\"\n",
    "\n",
    "## Vaults' addresses on Fantom chain\n",
    "BENTOBOX_ADDRESS_FTM = \"0xF5BCE5077908a1b7370B9ae04AdC565EBd643966\"\n",
    "DEGENBOX_ADDRESS_FTM = \"0x74A0BcA2eeEdf8883cb91E37e9ff49430f20a616\"\n",
    "\n",
    "## Vaults' addresses on AVAX chain\n",
    "DEGENBOX_ADDRESS_AVAX = \"0x1fC83f75499b7620d53757f0b01E2ae626aAE530\""
   ]
  },
  {
   "cell_type": "code",
   "execution_count": 9,
   "metadata": {
    "ExecuteTime": {
     "end_time": "2022-02-15T21:44:43.580192Z",
     "start_time": "2022-02-15T21:44:42.032752Z"
    }
   },
   "outputs": [],
   "source": [
    "# ABI of an abracadabra's market contract\n",
    "MARKET_ADDRESS_ABI = etherscan_abi_request(\"0x7b7473a76D6ae86CE19f7352A1E89F6C9dc39020\", ETHERSCAN_API_KEY)"
   ]
  },
  {
   "cell_type": "code",
   "execution_count": 10,
   "metadata": {
    "ExecuteTime": {
     "end_time": "2022-02-15T21:44:43.588979Z",
     "start_time": "2022-02-15T21:44:43.583179Z"
    }
   },
   "outputs": [],
   "source": [
    "# Initiating dictionaries to store the balance of various collaterals on different chain\n",
    "\n",
    "## Dictionary for transactions data by wallet address\n",
    "\"\"\"\n",
    "format-\n",
    "\"address\": [Name, Symbol, Balance]\n",
    "\n",
    "@params\n",
    "address: Contract address of token\n",
    "Name: Name of token\n",
    "Symbol: Symbol of token\n",
    "Balance: Balance of token\n",
    "\"\"\"\n",
    "ETH_BALANCES = dict()\n",
    "FTM_BALANCES = dict()\n",
    "AVAX_BALANCES = dict()"
   ]
  },
  {
   "cell_type": "code",
   "execution_count": 11,
   "metadata": {
    "ExecuteTime": {
     "end_time": "2022-02-15T21:44:43.601375Z",
     "start_time": "2022-02-15T21:44:43.592274Z"
    }
   },
   "outputs": [],
   "source": [
    "# Contract address of various markets of abracadabra\n",
    "\n",
    "## Ethereum Active Markets\n",
    "ethereum_active_markets = {\n",
    "    \"ALCX\": \"0x7b7473a76D6ae86CE19f7352A1E89F6C9dc39020\",\n",
    "    \"FTM\": \"0x05500e2Ee779329698DF35760bEdcAAC046e7C27\",\n",
    "    \"wsOHM\": \"0x003d5A75d284824Af736df51933be522DE9Eed0f\",\n",
    "    \"xSUSHI\": \"0x98a84EfF6e008c5ed0289655CcdCa899bcb6B99F\",\n",
    "    \"yvcrvIB\": \"0xEBfDe87310dc22404d918058FAa4D56DC4E93f0A\",\n",
    "    \"yvstETH\": \"0x0BCa8ebcB26502b013493Bf8fE53aA2B1ED401C1\",\n",
    "    \"yvWETH v2\": \"0x920D9BD936Da4eAFb5E25c6bDC9f6CB528953F9f\",\n",
    "    \"cvxtricrypto2\": \"0x4EAeD76C3A388f4a841E9c765560BBe7B3E4B3A0\",\n",
    "    \"SHIB\": \"0x252dCf1B621Cc53bc22C256255d2bE5C8c32EaE4\",\n",
    "    \"cvxrenCrv\": \"0x35a0Dd182E4bCa59d5931eae13D0A2332fA30321\",\n",
    "    \"ALGD\": \"0xc1879bf24917ebE531FbAA20b0D05Da027B592ce\",\n",
    "    \"FTT\": \"0x9617b633EF905860D919b88E1d9d9a6191795341\",\n",
    "    \"SPELL (Degenbox)\": \"0xCfc571f3203756319c231d3Bc643Cee807E74636\",\n",
    "    \"sSPELL (New)\": \"0x3410297D89dCDAf4072B805EFc1ef701Bb3dd9BF\",\n",
    "    \"USTv2 (Degenbox)\": \"0x59e9082e068ddb27fc5ef1690f9a9f22b32e573f\",\n",
    "    \"cvx3pool (non deprecated)\": \"0x257101F20cB7243E2c7129773eD5dBBcef8B34E0\",\n",
    "    \"WETH\": \"0x390Db10e65b5ab920C19149C919D970ad9d18A41\",\n",
    "    \"WBTC\": \"0x5ec47EE69BEde0b6C2A2fC0D9d094dF16C192498\"\n",
    "}\n",
    "\n",
    "## Ethereum Deprecated Markets\n",
    "ethereum_deprecated_markets = {\n",
    "    \"yvUSDC v2\": \"0x6cbAFEE1FaB76cA5B5e144c43B3B50d42b7C8c8f\",\n",
    "    \"yvUSDT v2\": \"0x551a7CfF4de931F32893c928bBc3D25bF1Fc5147\",\n",
    "    \"yvWETH\": \"0x6Ff9061bB8f97d948942cEF376d98b51fA38B91f\",\n",
    "    \"xSUSHI\": \"0xbb02A884621FB8F5BFd263A67F58B65df5b090f3\",\n",
    "    \"sSPELL\": \"0xC319EEa1e792577C319723b5e60a15dA3857E7da\",\n",
    "    \"yvYFI\": \"0xFFbF4892822e0d552CFF317F65e1eE7b5D3d9aE6\",\n",
    "    \"cvx3pool (old)\": \"0x806e16ec797c69afa8590A55723CE4CC1b54050E\",\n",
    "    \"cvx3pool (new)\": \"0x6371EfE5CD6e3d2d7C477935b7669401143b7985\",\n",
    "    \"UST (Degenbox)\": \"0xbc36fde44a7fd8f545d459452ef9539d7a14dd63\"\n",
    "}\n",
    "\n",
    "## Fantom Markets\n",
    "fantom_opera_markets = {\n",
    "    \"wFTM (3.5)\": \"0x8E45Af6743422e488aFAcDad842cE75A09eaEd34\",\n",
    "    \"wFTM (1.8)\": \"0xd4357d43545F793101b592bACaB89943DC89d11b\",\n",
    "    \"yvWFTM\": \"0xed745b045f9495B8bfC7b58eeA8E0d0597884e12\"\n",
    "}\n",
    "\n",
    "## AVAX Markets\n",
    "avax_chain_markets = {\n",
    "    \"AVAX\": \"0x3CFEd0439aB822530b1fFBd19536d897EF30D2a2\",\n",
    "    \"wMEMO (deprecated)\": \"0x56984F04d2d04B2F63403f0EbeDD3487716bA49d\",\n",
    "    \"xJOE\": \"0x3b63f81Ad1fc724E44330b4cf5b5B6e355AD964B\",\n",
    "    \"USDC/AVAX JLP\": \"0x95cCe62C3eCD9A33090bBf8a9eAC50b699B54210\",\n",
    "    \"wMEMO\": \"0x35fA7A723B3B39f15623Ff1Eb26D8701E7D6bB21\",\n",
    "    \"USDT/AVAX JLP\": \"0x0a1e6a80E93e62Bd0D3D3BFcF4c362C40FB1cF3D\",\n",
    "    \"MIM/AVAX JLP\": \"0x2450Bf8e625e98e14884355205af6F97E3E68d07\",\n",
    "    \"MIM/AVAX SLP\": \"0xAcc6821d0F368b02d223158F8aDA4824dA9f28E3\"\n",
    "}\n",
    "\n",
    "## Arbitrum L2 Markets\n",
    "arbitrum_l2_markets = {\n",
    "    \"ETH\": \"0xC89958B03A55B5de2221aCB25B58B89A000215E6\"\n",
    "}\n",
    "\n",
    "## Binance Smart Chain Markets\n",
    "binance_smart_chain_markets = {\n",
    "    \"CAKE\": \"0xF8049467F3A9D50176f4816b20cDdd9bB8a93319\",\n",
    "    \"BNB\": \"0x692CF15F80415D83E8c0e139cAbcDA67fcc12C90\"\n",
    "}"
   ]
  },
  {
   "cell_type": "code",
   "execution_count": 12,
   "metadata": {
    "ExecuteTime": {
     "end_time": "2022-02-15T21:44:43.611200Z",
     "start_time": "2022-02-15T21:44:43.604807Z"
    }
   },
   "outputs": [],
   "source": [
    "# Compiling a list of all the contract adresses of ethereum chain on abracadabra\n",
    "\n",
    "collateral_contract_addresses_ethereum = list()"
   ]
  },
  {
   "cell_type": "code",
   "execution_count": 13,
   "metadata": {
    "ExecuteTime": {
     "end_time": "2022-02-15T21:45:43.633697Z",
     "start_time": "2022-02-15T21:44:43.613718Z"
    }
   },
   "outputs": [
    {
     "name": "stdout",
     "output_type": "stream",
     "text": [
      "Name: Alchemix, Symbol: ALCX, Balance:35995.655717047084\n",
      "\n",
      "Name: Fantom Token, Symbol: FTM, Balance:159094174.43667972\n",
      "\n",
      "Name: Wrapped sOHM, Symbol: wsOHM, Balance:22.428584451152055\n",
      "\n",
      "Name: SushiBar, Symbol: xSUSHI, Balance:2381349.964971264\n",
      "\n",
      "Name: Curve Iron Bank Pool yVault, Symbol: yvCurve-IronBank, Balance:30853870.760220006\n",
      "\n",
      "Name: Curve stETH Pool yVault, Symbol: yvCurve-stETH, Balance:70858.16359833576\n",
      "\n",
      "Name: WETH yVault, Symbol: yvWETH, Balance:56442.224029296325\n",
      "\n",
      "Name: Staked Curve.fi USD-BTC-ETH Convex Deposit Abra, Symbol: stkcvxcrv3crypto-abra, Balance:1.8100108039912526e+23\n",
      "\n",
      "Name: SHIBA INU, Symbol: SHIB, Balance:32915076320.91601\n",
      "\n",
      "Name: Staked Curve.fi renBTC/wBTC Convex Deposit Abra, Symbol: stkcvxcrvRenWBTC-abra, Balance:719.1292394599982\n",
      "\n",
      "Name: Adventure Gold, Symbol: AGLD, Balance:70878.43653418297\n",
      "\n",
      "Name: FTT, Symbol: FTX Token, Balance:4491957.435063474\n",
      "\n",
      "Name: Spell Token, Symbol: SPELL, Balance:2302943189.547267\n",
      "\n",
      "Name: Staked Spell Tokens, Symbol: sSPELL, Balance:8698771168.17297\n",
      "\n",
      "Name: Wrapped UST Token, Symbol: UST, Balance:104007566.21690714\n",
      "\n",
      "Name: Staked Curve.fi DAI/USDC/USDT Convex Deposit Abra, Symbol: stkcvx3Crv-abra, Balance:67920447.23482051\n",
      "\n",
      "Name: Wrapped Ether, Symbol: WETH, Balance:13921.487786843581\n",
      "\n",
      "Name: Wrapped BTC, Symbol: WBTC, Balance:1315.141701\n",
      "\n"
     ]
    }
   ],
   "source": [
    "# Fetching Collateral of each market of abracadabra on ethereum chain\n",
    "\n",
    "\n",
    "# Keys of ethereum_active_markets\n",
    "ethereum_active_markets_keys = list(ethereum_active_markets.keys())\n",
    "\n",
    "# Looping through all the ethereum active markets to fetch token balance\n",
    "for key in ethereum_active_markets_keys:\n",
    "    # print(\"Key: \" + str(key))\n",
    "    \n",
    "    # Contract address of market\n",
    "    market_address = web3_eth.toChecksumAddress(ethereum_active_markets[key])\n",
    "    \n",
    "    # Contract Instance\n",
    "    market_address_instance = web3_eth.eth.contract(address=market_address, abi=MARKET_ADDRESS_ABI)\n",
    "\n",
    "    # Contract address of collateral\n",
    "    collateral = web3_eth.toChecksumAddress(market_address_instance.functions.collateral().call())\n",
    "\n",
    "    # Appending the collateral contract address in the list\n",
    "    collateral_contract_addresses_ethereum.append(collateral)\n",
    "\n",
    "    # Balance of BENTOBOX  \n",
    "    _name, _symbol, bento_balance = ethereum_token_balance_of_address(collateral, BENTOBOX_ADDRESS_ETH)\n",
    "    # Balance OF DEGENBOX\n",
    "    _name, _symbol, degen_balance = ethereum_token_balance_of_address(collateral, DEGENBOX_ADDRESS_ETH)\n",
    "    # Total Balance\n",
    "    _balance = bento_balance + degen_balance\n",
    "\n",
    "    \n",
    "    ETH_BALANCES.setdefault(collateral, []).append([_name, _symbol, _balance])\n",
    "\n",
    "    print(\"Name: {0}, Symbol: {1}, Balance:{2}\\n\".format(_name, _symbol, _balance))"
   ]
  },
  {
   "cell_type": "code",
   "execution_count": 14,
   "metadata": {
    "ExecuteTime": {
     "end_time": "2022-02-15T21:45:43.655085Z",
     "start_time": "2022-02-15T21:45:43.638243Z"
    }
   },
   "outputs": [
    {
     "data": {
      "text/plain": [
       "{'0xdBdb4d16EdA451D0503b854CF79D55697F90c8DF': [['Alchemix',\n",
       "   'ALCX',\n",
       "   35995.655717047084]],\n",
       " '0x4E15361FD6b4BB609Fa63C81A2be19d873717870': [['Fantom Token',\n",
       "   'FTM',\n",
       "   159094174.43667972]],\n",
       " '0xCa76543Cf381ebBB277bE79574059e32108e3E65': [['Wrapped sOHM',\n",
       "   'wsOHM',\n",
       "   22.428584451152055]],\n",
       " '0x8798249c2E607446EfB7Ad49eC89dD1865Ff4272': [['SushiBar',\n",
       "   'xSUSHI',\n",
       "   2381349.964971264]],\n",
       " '0x27b7b1ad7288079A66d12350c828D3C00A6F07d7': [['Curve Iron Bank Pool yVault',\n",
       "   'yvCurve-IronBank',\n",
       "   30853870.760220006]],\n",
       " '0xdCD90C7f6324cfa40d7169ef80b12031770B4325': [['Curve stETH Pool yVault',\n",
       "   'yvCurve-stETH',\n",
       "   70858.16359833576]],\n",
       " '0xa258C4606Ca8206D8aA700cE2143D7db854D168c': [['WETH yVault',\n",
       "   'yvWETH',\n",
       "   56442.224029296325]],\n",
       " '0x5958A8DB7dfE0CC49382209069b00F54e17929C2': [['Staked Curve.fi USD-BTC-ETH Convex Deposit Abra',\n",
       "   'stkcvxcrv3crypto-abra',\n",
       "   1.8100108039912526e+23]],\n",
       " '0x95aD61b0a150d79219dCF64E1E6Cc01f0B64C4cE': [['SHIBA INU',\n",
       "   'SHIB',\n",
       "   32915076320.91601]],\n",
       " '0xB65eDE134521F0EFD4E943c835F450137dC6E83e': [['Staked Curve.fi renBTC/wBTC Convex Deposit Abra',\n",
       "   'stkcvxcrvRenWBTC-abra',\n",
       "   719.1292394599982]],\n",
       " '0x32353A6C91143bfd6C7d363B546e62a9A2489A20': [['Adventure Gold',\n",
       "   'AGLD',\n",
       "   70878.43653418297]],\n",
       " '0x50D1c9771902476076eCFc8B2A83Ad6b9355a4c9': [['FTT',\n",
       "   'FTX Token',\n",
       "   4491957.435063474]],\n",
       " '0x090185f2135308BaD17527004364eBcC2D37e5F6': [['Spell Token',\n",
       "   'SPELL',\n",
       "   2302943189.547267]],\n",
       " '0x26FA3fFFB6EfE8c1E69103aCb4044C26B9A106a9': [['Staked Spell Tokens',\n",
       "   'sSPELL',\n",
       "   8698771168.17297]],\n",
       " '0xa47c8bf37f92aBed4A126BDA807A7b7498661acD': [['Wrapped UST Token',\n",
       "   'UST',\n",
       "   104007566.21690714]],\n",
       " '0x3Ba207c25A278524e1cC7FaAea950753049072A4': [['Staked Curve.fi DAI/USDC/USDT Convex Deposit Abra',\n",
       "   'stkcvx3Crv-abra',\n",
       "   67920447.23482051]],\n",
       " '0xC02aaA39b223FE8D0A0e5C4F27eAD9083C756Cc2': [['Wrapped Ether',\n",
       "   'WETH',\n",
       "   13921.487786843581]],\n",
       " '0x2260FAC5E5542a773Aa44fBCfeDf7C193bc2C599': [['Wrapped BTC',\n",
       "   'WBTC',\n",
       "   1315.141701]]}"
      ]
     },
     "execution_count": 14,
     "metadata": {},
     "output_type": "execute_result"
    }
   ],
   "source": [
    "ETH_BALANCES"
   ]
  },
  {
   "cell_type": "code",
   "execution_count": 15,
   "metadata": {
    "ExecuteTime": {
     "end_time": "2022-02-15T21:45:43.662283Z",
     "start_time": "2022-02-15T21:45:43.658105Z"
    }
   },
   "outputs": [],
   "source": [
    "# Compiling a list of all the contract adresses of fantom chain on abracadabra\n",
    "\n",
    "collateral_contract_addresses_fantom = list()"
   ]
  },
  {
   "cell_type": "code",
   "execution_count": 16,
   "metadata": {
    "ExecuteTime": {
     "end_time": "2022-02-15T21:45:52.130439Z",
     "start_time": "2022-02-15T21:45:43.664676Z"
    }
   },
   "outputs": [
    {
     "name": "stdout",
     "output_type": "stream",
     "text": [
      "Name: Wrapped Fantom, Symbol: WFTM, Balance:13815129.398210965\n",
      "\n",
      "Name: Wrapped Fantom, Symbol: WFTM, Balance:13815129.398210965\n",
      "\n",
      "Name: WFTM yVault, Symbol: yvWFTM, Balance:52092472.1422977\n",
      "\n"
     ]
    }
   ],
   "source": [
    "# Fetching Collateral of each market of abracadabra on fantom chain\n",
    "\n",
    "\n",
    "# Keys of fantom_active_markets\n",
    "fantom_opera_markets_keys = list(fantom_opera_markets.keys())\n",
    "\n",
    "# Looping through all the ethereum active markets to fetch token balance\n",
    "for key in fantom_opera_markets_keys:\n",
    "    # print(\"Key: \" + str(key))\n",
    "    \n",
    "    # Contract address of market\n",
    "    market_address = web3_ftm.toChecksumAddress(fantom_opera_markets[key])\n",
    "    \n",
    "    # Contract Instance\n",
    "    market_address_instance = web3_ftm.eth.contract(address=market_address, abi=MARKET_ADDRESS_ABI)\n",
    "\n",
    "    # Contract address of collateral\n",
    "    collateral = web3_ftm.toChecksumAddress(market_address_instance.functions.collateral().call())\n",
    "\n",
    "    # Appending the collateral contract address in the list\n",
    "    collateral_contract_addresses_fantom.append(collateral)\n",
    "\n",
    "    # Balance of BENTOBOX  \n",
    "    _name, _symbol, bento_balance = fantom_token_balance_of_address(collateral, BENTOBOX_ADDRESS_FTM)\n",
    "    # Balance OF DEGENBOX\n",
    "    _name, _symbol, degen_balance = fantom_token_balance_of_address(collateral, DEGENBOX_ADDRESS_FTM)\n",
    "    # Total Balance\n",
    "    _balance = bento_balance + degen_balance\n",
    "\n",
    "    \n",
    "    FTM_BALANCES.setdefault(collateral, []).append([_name, _symbol, _balance])\n",
    "\n",
    "    print(\"Name: {0}, Symbol: {1}, Balance:{2}\\n\".format(_name, _symbol, _balance))"
   ]
  },
  {
   "cell_type": "code",
   "execution_count": 17,
   "metadata": {
    "ExecuteTime": {
     "end_time": "2022-02-15T21:45:52.139268Z",
     "start_time": "2022-02-15T21:45:52.133221Z"
    }
   },
   "outputs": [
    {
     "data": {
      "text/plain": [
       "{'0x21be370D5312f44cB42ce377BC9b8a0cEF1A4C83': [['Wrapped Fantom',\n",
       "   'WFTM',\n",
       "   13815129.398210965],\n",
       "  ['Wrapped Fantom', 'WFTM', 13815129.398210965]],\n",
       " '0x0DEC85e74A92c52b7F708c4B10207D9560CEFaf0': [['WFTM yVault',\n",
       "   'yvWFTM',\n",
       "   52092472.1422977]]}"
      ]
     },
     "execution_count": 17,
     "metadata": {},
     "output_type": "execute_result"
    }
   ],
   "source": [
    "FTM_BALANCES"
   ]
  },
  {
   "cell_type": "code",
   "execution_count": 18,
   "metadata": {
    "ExecuteTime": {
     "end_time": "2022-02-15T21:45:52.148853Z",
     "start_time": "2022-02-15T21:45:52.143575Z"
    }
   },
   "outputs": [],
   "source": [
    "# # Fetching Collateral of each market of abracadabra on AVAX chain\n",
    "\n",
    "\n",
    "# # Keys of ethereum_active_markets\n",
    "# avax_chain_markets_keys = list(avax_chain_markets.keys())\n",
    "\n",
    "# # Looping through all the ethereum active markets to fetch token balance\n",
    "# for key in avax_chain_markets_keys:\n",
    "#     print(\"Key: \" + str(key))\n",
    "#     # Contract address of market\n",
    "#     market_address = web3_avax.toChecksumAddress(avax_chain_markets[key])\n",
    "    \n",
    "#     # Contract Instance\n",
    "#     market_address_instance = web3_avax.eth.contract(address=market_address, abi=MARKET_ADDRESS_ABI)\n",
    "\n",
    "#     # Contract address of collateral\n",
    "#     collateral = web3_avax.toChecksumAddress(market_address_instance.functions.collateral().call())\n",
    "\n",
    "#     _name, _symbol, bento_balance = fantom_token_balance_of_address(collateral, BENTOBOX_ADDRESS_FTM)\n",
    "#     # print(bento_balance)\n",
    "#     _name, _symbol, degen_balance = fantom_token_balance_of_address(collateral, DEGENBOX_ADDRESS_FTM)\n",
    "#     # print(degen_balance)\n",
    "\n",
    "#     _balance = bento_balance + degen_balance\n",
    "\n",
    "#     print(\"Name: {0}, Symbol: {1}, Balance:{2}\\n\".format(_name, _symbol, _balance))"
   ]
  },
  {
   "cell_type": "code",
   "execution_count": 19,
   "metadata": {
    "ExecuteTime": {
     "end_time": "2022-02-15T21:45:52.157395Z",
     "start_time": "2022-02-15T21:45:52.152145Z"
    }
   },
   "outputs": [],
   "source": [
    "# To fetch the details of smart contract from Coingecko and return the current price\n",
    "def fetch_price_from_contract_address(_chain, _contractAddress):\n",
    "    URL = 'https://api.coingecko.com/api/v3/coins/{0}/contract/{1}'.format(_chain, _contractAddress)\n",
    "    # print(URL)\n",
    "    resJS = requests.get(URL).json()\n",
    "    # return resJS\n",
    "    usdPrice = resJS['market_data']['current_price']['usd']\n",
    "    return usdPrice\n"
   ]
  },
  {
   "cell_type": "code",
   "execution_count": 20,
   "metadata": {
    "ExecuteTime": {
     "end_time": "2022-02-15T21:45:52.169700Z",
     "start_time": "2022-02-15T21:45:52.160151Z"
    }
   },
   "outputs": [
    {
     "name": "stdout",
     "output_type": "stream",
     "text": [
      "18\n",
      "['0xdBdb4d16EdA451D0503b854CF79D55697F90c8DF', '0x4E15361FD6b4BB609Fa63C81A2be19d873717870', '0xCa76543Cf381ebBB277bE79574059e32108e3E65', '0x8798249c2E607446EfB7Ad49eC89dD1865Ff4272', '0x27b7b1ad7288079A66d12350c828D3C00A6F07d7', '0xdCD90C7f6324cfa40d7169ef80b12031770B4325', '0xa258C4606Ca8206D8aA700cE2143D7db854D168c', '0x5958A8DB7dfE0CC49382209069b00F54e17929C2', '0x95aD61b0a150d79219dCF64E1E6Cc01f0B64C4cE', '0xB65eDE134521F0EFD4E943c835F450137dC6E83e', '0x32353A6C91143bfd6C7d363B546e62a9A2489A20', '0x50D1c9771902476076eCFc8B2A83Ad6b9355a4c9', '0x090185f2135308BaD17527004364eBcC2D37e5F6', '0x26FA3fFFB6EfE8c1E69103aCb4044C26B9A106a9', '0xa47c8bf37f92aBed4A126BDA807A7b7498661acD', '0x3Ba207c25A278524e1cC7FaAea950753049072A4', '0xC02aaA39b223FE8D0A0e5C4F27eAD9083C756Cc2', '0x2260FAC5E5542a773Aa44fBCfeDf7C193bc2C599']\n"
     ]
    }
   ],
   "source": [
    "# List of all the contract adresses of ethereum chain on abracadabra\n",
    "\n",
    "print(len(collateral_contract_addresses_ethereum))\n",
    "print(collateral_contract_addresses_ethereum)"
   ]
  },
  {
   "cell_type": "code",
   "execution_count": 21,
   "metadata": {
    "ExecuteTime": {
     "end_time": "2022-02-15T21:46:01.054162Z",
     "start_time": "2022-02-15T21:45:52.172721Z"
    }
   },
   "outputs": [
    {
     "name": "stdout",
     "output_type": "stream",
     "text": [
      "167.74\n",
      "2.07\n",
      "Error in contract: 0xCa76543Cf381ebBB277bE79574059e32108e3E65\n",
      "'market_data'\n",
      "5.4\n",
      "Error in contract: 0x27b7b1ad7288079A66d12350c828D3C00A6F07d7\n",
      "'market_data'\n",
      "Error in contract: 0xdCD90C7f6324cfa40d7169ef80b12031770B4325\n",
      "'market_data'\n",
      "Error in contract: 0xa258C4606Ca8206D8aA700cE2143D7db854D168c\n",
      "'market_data'\n",
      "Error in contract: 0x5958A8DB7dfE0CC49382209069b00F54e17929C2\n",
      "'market_data'\n",
      "3.075e-05\n",
      "Error in contract: 0xB65eDE134521F0EFD4E943c835F450137dC6E83e\n",
      "'market_data'\n",
      "1.19\n",
      "46.57\n",
      "0.00596589\n",
      "Error in contract: 0x26FA3fFFB6EfE8c1E69103aCb4044C26B9A106a9\n",
      "'market_data'\n",
      "Error in contract: 0xa47c8bf37f92aBed4A126BDA807A7b7498661acD\n",
      "'market_data'\n",
      "Error in contract: 0x3Ba207c25A278524e1cC7FaAea950753049072A4\n",
      "'market_data'\n",
      "3096.07\n",
      "43994\n"
     ]
    }
   ],
   "source": [
    "# Looping through all the unique contracts on ethereum chain to fetch current price of a token\n",
    "\n",
    "error_contracts_list_ethereum = list()\n",
    "\n",
    "for contract in collateral_contract_addresses_ethereum:\n",
    "    try:\n",
    "        # Fetching current price\n",
    "        price = fetch_price_from_contract_address('ethereum', contract)\n",
    "        print(price)        \n",
    "        \n",
    "    except Exception as err:\n",
    "        print(\"Error in contract: {0}\".format(contract))\n",
    "        error_contracts_list_ethereum.append(contract)\n",
    "        print(err)\n"
   ]
  },
  {
   "cell_type": "code",
   "execution_count": 22,
   "metadata": {
    "ExecuteTime": {
     "end_time": "2022-02-15T21:46:01.065366Z",
     "start_time": "2022-02-15T21:46:01.057444Z"
    }
   },
   "outputs": [
    {
     "name": "stdout",
     "output_type": "stream",
     "text": [
      "9\n",
      "['0xCa76543Cf381ebBB277bE79574059e32108e3E65', '0x27b7b1ad7288079A66d12350c828D3C00A6F07d7', '0xdCD90C7f6324cfa40d7169ef80b12031770B4325', '0xa258C4606Ca8206D8aA700cE2143D7db854D168c', '0x5958A8DB7dfE0CC49382209069b00F54e17929C2', '0xB65eDE134521F0EFD4E943c835F450137dC6E83e', '0x26FA3fFFB6EfE8c1E69103aCb4044C26B9A106a9', '0xa47c8bf37f92aBed4A126BDA807A7b7498661acD', '0x3Ba207c25A278524e1cC7FaAea950753049072A4']\n"
     ]
    }
   ],
   "source": [
    "print(len(error_contracts_list_ethereum))\n",
    "print(error_contracts_list_ethereum)"
   ]
  },
  {
   "cell_type": "code",
   "execution_count": null,
   "metadata": {},
   "outputs": [],
   "source": []
  },
  {
   "cell_type": "code",
   "execution_count": 23,
   "metadata": {
    "ExecuteTime": {
     "end_time": "2022-02-15T21:46:01.082365Z",
     "start_time": "2022-02-15T21:46:01.068396Z"
    }
   },
   "outputs": [
    {
     "name": "stdout",
     "output_type": "stream",
     "text": [
      "3\n",
      "['0x21be370D5312f44cB42ce377BC9b8a0cEF1A4C83', '0x21be370D5312f44cB42ce377BC9b8a0cEF1A4C83', '0x0DEC85e74A92c52b7F708c4B10207D9560CEFaf0']\n"
     ]
    }
   ],
   "source": [
    "# List of all the contract adresses of fantom chain on abracadabra\n",
    "\n",
    "print(len(collateral_contract_addresses_fantom))\n",
    "print(collateral_contract_addresses_fantom)"
   ]
  },
  {
   "cell_type": "code",
   "execution_count": 24,
   "metadata": {
    "ExecuteTime": {
     "end_time": "2022-02-15T21:46:02.065259Z",
     "start_time": "2022-02-15T21:46:01.084962Z"
    }
   },
   "outputs": [
    {
     "name": "stdout",
     "output_type": "stream",
     "text": [
      "2.06\n",
      "2.06\n",
      "Error in contract: 0x0DEC85e74A92c52b7F708c4B10207D9560CEFaf0\n",
      "'market_data'\n"
     ]
    }
   ],
   "source": [
    "# Looping through all the unique contracts on fantom chain to fetch current price of a token\n",
    "\n",
    "error_contracts_list_fantom = list()\n",
    "\n",
    "for contract in collateral_contract_addresses_fantom:\n",
    "    try:\n",
    "        # Fetching current price\n",
    "        price = fetch_price_from_contract_address('fantom', contract)\n",
    "        print(price)        \n",
    "        \n",
    "    except Exception as err:\n",
    "        print(\"Error in contract: {0}\".format(contract))\n",
    "        error_contracts_list_fantom.append(contract)\n",
    "        print(err)\n"
   ]
  },
  {
   "cell_type": "code",
   "execution_count": 25,
   "metadata": {
    "ExecuteTime": {
     "end_time": "2022-02-15T21:46:02.073543Z",
     "start_time": "2022-02-15T21:46:02.067929Z"
    }
   },
   "outputs": [
    {
     "name": "stdout",
     "output_type": "stream",
     "text": [
      "1\n",
      "['0x0DEC85e74A92c52b7F708c4B10207D9560CEFaf0']\n"
     ]
    }
   ],
   "source": [
    "print(len(error_contracts_list_fantom))\n",
    "print(error_contracts_list_fantom)"
   ]
  },
  {
   "cell_type": "markdown",
   "metadata": {},
   "source": [
    "# Arbitrum"
   ]
  },
  {
   "cell_type": "code",
   "execution_count": 26,
   "metadata": {
    "ExecuteTime": {
     "end_time": "2022-02-15T21:46:02.087183Z",
     "start_time": "2022-02-15T21:46:02.075931Z"
    }
   },
   "outputs": [],
   "source": [
    "# Fetching MIM and SPELL supply on arbitrum chain\n",
    "\n",
    "## Fantom web3 handle\n",
    "web3_arbitrum = Web3(Web3.HTTPProvider(\"https://arb-mainnet.g.alchemy.com/v2/qt33i3d130sYrT2niXhlieZZ48e4RoPZ\"))\n"
   ]
  },
  {
   "cell_type": "code",
   "execution_count": 27,
   "metadata": {
    "ExecuteTime": {
     "end_time": "2022-02-15T21:46:02.099783Z",
     "start_time": "2022-02-15T21:46:02.090353Z"
    }
   },
   "outputs": [],
   "source": [
    "MIM_CONTRACT_ARBITRUM = '0xfea7a6a0b346362bf88a9e4a88416b77a57d6c2a'\n",
    "SPELL_CONTRACT_ARBITRUM = '0x3e6648c5a70a150a88bce65f4ad4d506fe15d2af'\n",
    "\n",
    "TOKEN_CONTRACT_ABI = '[{\"inputs\":[],\"stateMutability\":\"nonpayable\",\"type\":\"constructor\"},{\"anonymous\":false,\"inputs\":[{\"indexed\":true,\"internalType\":\"address\",\"name\":\"owner\",\"type\":\"address\"},{\"indexed\":true,\"internalType\":\"address\",\"name\":\"spender\",\"type\":\"address\"},{\"indexed\":false,\"internalType\":\"uint256\",\"name\":\"value\",\"type\":\"uint256\"}],\"name\":\"Approval\",\"type\":\"event\"},{\"anonymous\":false,\"inputs\":[{\"indexed\":true,\"internalType\":\"bytes32\",\"name\":\"role\",\"type\":\"bytes32\"},{\"indexed\":true,\"internalType\":\"bytes32\",\"name\":\"previousAdminRole\",\"type\":\"bytes32\"},{\"indexed\":true,\"internalType\":\"bytes32\",\"name\":\"newAdminRole\",\"type\":\"bytes32\"}],\"name\":\"RoleAdminChanged\",\"type\":\"event\"},{\"anonymous\":false,\"inputs\":[{\"indexed\":true,\"internalType\":\"bytes32\",\"name\":\"role\",\"type\":\"bytes32\"},{\"indexed\":true,\"internalType\":\"address\",\"name\":\"account\",\"type\":\"address\"},{\"indexed\":true,\"internalType\":\"address\",\"name\":\"sender\",\"type\":\"address\"}],\"name\":\"RoleGranted\",\"type\":\"event\"},{\"anonymous\":false,\"inputs\":[{\"indexed\":true,\"internalType\":\"bytes32\",\"name\":\"role\",\"type\":\"bytes32\"},{\"indexed\":true,\"internalType\":\"address\",\"name\":\"account\",\"type\":\"address\"},{\"indexed\":true,\"internalType\":\"address\",\"name\":\"sender\",\"type\":\"address\"}],\"name\":\"RoleRevoked\",\"type\":\"event\"},{\"anonymous\":false,\"inputs\":[{\"indexed\":true,\"internalType\":\"address\",\"name\":\"from\",\"type\":\"address\"},{\"indexed\":true,\"internalType\":\"address\",\"name\":\"to\",\"type\":\"address\"},{\"indexed\":false,\"internalType\":\"uint256\",\"name\":\"value\",\"type\":\"uint256\"}],\"name\":\"Transfer\",\"type\":\"event\"},{\"inputs\":[],\"name\":\"ADMIN_ROLE\",\"outputs\":[{\"internalType\":\"bytes32\",\"name\":\"\",\"type\":\"bytes32\"}],\"stateMutability\":\"view\",\"type\":\"function\"},{\"inputs\":[],\"name\":\"DEFAULT_ADMIN_ROLE\",\"outputs\":[{\"internalType\":\"bytes32\",\"name\":\"\",\"type\":\"bytes32\"}],\"stateMutability\":\"view\",\"type\":\"function\"},{\"inputs\":[],\"name\":\"MINTER_ROLE\",\"outputs\":[{\"internalType\":\"bytes32\",\"name\":\"\",\"type\":\"bytes32\"}],\"stateMutability\":\"view\",\"type\":\"function\"},{\"inputs\":[{\"internalType\":\"address\",\"name\":\"owner\",\"type\":\"address\"},{\"internalType\":\"address\",\"name\":\"spender\",\"type\":\"address\"}],\"name\":\"allowance\",\"outputs\":[{\"internalType\":\"uint256\",\"name\":\"\",\"type\":\"uint256\"}],\"stateMutability\":\"view\",\"type\":\"function\"},{\"inputs\":[{\"internalType\":\"address\",\"name\":\"spender\",\"type\":\"address\"},{\"internalType\":\"uint256\",\"name\":\"amount\",\"type\":\"uint256\"}],\"name\":\"approve\",\"outputs\":[{\"internalType\":\"bool\",\"name\":\"\",\"type\":\"bool\"}],\"stateMutability\":\"nonpayable\",\"type\":\"function\"},{\"inputs\":[{\"internalType\":\"address\",\"name\":\"account\",\"type\":\"address\"}],\"name\":\"balanceOf\",\"outputs\":[{\"internalType\":\"uint256\",\"name\":\"\",\"type\":\"uint256\"}],\"stateMutability\":\"view\",\"type\":\"function\"},{\"inputs\":[],\"name\":\"decimals\",\"outputs\":[{\"internalType\":\"uint8\",\"name\":\"\",\"type\":\"uint8\"}],\"stateMutability\":\"view\",\"type\":\"function\"},{\"inputs\":[{\"internalType\":\"address\",\"name\":\"spender\",\"type\":\"address\"},{\"internalType\":\"uint256\",\"name\":\"subtractedValue\",\"type\":\"uint256\"}],\"name\":\"decreaseAllowance\",\"outputs\":[{\"internalType\":\"bool\",\"name\":\"\",\"type\":\"bool\"}],\"stateMutability\":\"nonpayable\",\"type\":\"function\"},{\"inputs\":[{\"internalType\":\"bytes32\",\"name\":\"role\",\"type\":\"bytes32\"}],\"name\":\"getRoleAdmin\",\"outputs\":[{\"internalType\":\"bytes32\",\"name\":\"\",\"type\":\"bytes32\"}],\"stateMutability\":\"view\",\"type\":\"function\"},{\"inputs\":[{\"internalType\":\"bytes32\",\"name\":\"role\",\"type\":\"bytes32\"},{\"internalType\":\"uint256\",\"name\":\"index\",\"type\":\"uint256\"}],\"name\":\"getRoleMember\",\"outputs\":[{\"internalType\":\"address\",\"name\":\"\",\"type\":\"address\"}],\"stateMutability\":\"view\",\"type\":\"function\"},{\"inputs\":[{\"internalType\":\"bytes32\",\"name\":\"role\",\"type\":\"bytes32\"}],\"name\":\"getRoleMemberCount\",\"outputs\":[{\"internalType\":\"uint256\",\"name\":\"\",\"type\":\"uint256\"}],\"stateMutability\":\"view\",\"type\":\"function\"},{\"inputs\":[{\"internalType\":\"bytes32\",\"name\":\"role\",\"type\":\"bytes32\"},{\"internalType\":\"address\",\"name\":\"account\",\"type\":\"address\"}],\"name\":\"grantRole\",\"outputs\":[],\"stateMutability\":\"nonpayable\",\"type\":\"function\"},{\"inputs\":[{\"internalType\":\"bytes32\",\"name\":\"role\",\"type\":\"bytes32\"},{\"internalType\":\"address\",\"name\":\"account\",\"type\":\"address\"}],\"name\":\"hasRole\",\"outputs\":[{\"internalType\":\"bool\",\"name\":\"\",\"type\":\"bool\"}],\"stateMutability\":\"view\",\"type\":\"function\"},{\"inputs\":[{\"internalType\":\"address\",\"name\":\"spender\",\"type\":\"address\"},{\"internalType\":\"uint256\",\"name\":\"addedValue\",\"type\":\"uint256\"}],\"name\":\"increaseAllowance\",\"outputs\":[{\"internalType\":\"bool\",\"name\":\"\",\"type\":\"bool\"}],\"stateMutability\":\"nonpayable\",\"type\":\"function\"},{\"inputs\":[{\"internalType\":\"address\",\"name\":\"_recipient\",\"type\":\"address\"},{\"internalType\":\"uint256\",\"name\":\"_amount\",\"type\":\"uint256\"}],\"name\":\"mint\",\"outputs\":[],\"stateMutability\":\"nonpayable\",\"type\":\"function\"},{\"inputs\":[],\"name\":\"name\",\"outputs\":[{\"internalType\":\"string\",\"name\":\"\",\"type\":\"string\"}],\"stateMutability\":\"view\",\"type\":\"function\"},{\"inputs\":[{\"internalType\":\"bytes32\",\"name\":\"role\",\"type\":\"bytes32\"},{\"internalType\":\"address\",\"name\":\"account\",\"type\":\"address\"}],\"name\":\"renounceRole\",\"outputs\":[],\"stateMutability\":\"nonpayable\",\"type\":\"function\"},{\"inputs\":[{\"internalType\":\"bytes32\",\"name\":\"role\",\"type\":\"bytes32\"},{\"internalType\":\"address\",\"name\":\"account\",\"type\":\"address\"}],\"name\":\"revokeRole\",\"outputs\":[],\"stateMutability\":\"nonpayable\",\"type\":\"function\"},{\"inputs\":[],\"name\":\"symbol\",\"outputs\":[{\"internalType\":\"string\",\"name\":\"\",\"type\":\"string\"}],\"stateMutability\":\"view\",\"type\":\"function\"},{\"inputs\":[],\"name\":\"totalSupply\",\"outputs\":[{\"internalType\":\"uint256\",\"name\":\"\",\"type\":\"uint256\"}],\"stateMutability\":\"view\",\"type\":\"function\"},{\"inputs\":[{\"internalType\":\"address\",\"name\":\"recipient\",\"type\":\"address\"},{\"internalType\":\"uint256\",\"name\":\"amount\",\"type\":\"uint256\"}],\"name\":\"transfer\",\"outputs\":[{\"internalType\":\"bool\",\"name\":\"\",\"type\":\"bool\"}],\"stateMutability\":\"nonpayable\",\"type\":\"function\"},{\"inputs\":[{\"internalType\":\"address\",\"name\":\"sender\",\"type\":\"address\"},{\"internalType\":\"address\",\"name\":\"recipient\",\"type\":\"address\"},{\"internalType\":\"uint256\",\"name\":\"amount\",\"type\":\"uint256\"}],\"name\":\"transferFrom\",\"outputs\":[{\"internalType\":\"bool\",\"name\":\"\",\"type\":\"bool\"}],\"stateMutability\":\"nonpayable\",\"type\":\"function\"}]'"
   ]
  },
  {
   "cell_type": "code",
   "execution_count": 28,
   "metadata": {
    "ExecuteTime": {
     "end_time": "2022-02-15T21:46:02.132598Z",
     "start_time": "2022-02-15T21:46:02.102583Z"
    }
   },
   "outputs": [],
   "source": [
    "MIM_CONTRACT_INSTANCE_ARBITRUM = web3_arbitrum.eth.contract(address=web3_arbitrum.toChecksumAddress(MIM_CONTRACT_ARBITRUM), abi=TOKEN_CONTRACT_ABI)\n",
    "SPELL_CONTRACT_INSTANCE_ARBITRUM = web3_arbitrum.eth.contract(address=web3_arbitrum.toChecksumAddress(SPELL_CONTRACT_ARBITRUM), abi=TOKEN_CONTRACT_ABI)"
   ]
  },
  {
   "cell_type": "code",
   "execution_count": 29,
   "metadata": {
    "ExecuteTime": {
     "end_time": "2022-02-15T21:46:02.138996Z",
     "start_time": "2022-02-15T21:46:02.135596Z"
    }
   },
   "outputs": [],
   "source": [
    "ARBITRUM_BALANCES = dict()"
   ]
  },
  {
   "cell_type": "code",
   "execution_count": 30,
   "metadata": {
    "ExecuteTime": {
     "end_time": "2022-02-15T21:46:05.202989Z",
     "start_time": "2022-02-15T21:46:02.142615Z"
    }
   },
   "outputs": [],
   "source": [
    "_name = SPELL_CONTRACT_INSTANCE_ARBITRUM.functions.name().call()\n",
    "_symbol = SPELL_CONTRACT_INSTANCE_ARBITRUM.functions.symbol().call()\n",
    "_decimals = SPELL_CONTRACT_INSTANCE_ARBITRUM.functions.decimals().call()\n",
    "_totalSupply = SPELL_CONTRACT_INSTANCE_ARBITRUM.functions.totalSupply().call()\n",
    "\n",
    "_totalSupply = float(_totalSupply)/pow(10,_decimals)\n",
    "\n",
    "_usdBalance = _totalSupply * fetch_price_from_contract_address('arbitrum-one', SPELL_CONTRACT_ARBITRUM)\n",
    "\n",
    "ARBITRUM_BALANCES.setdefault(SPELL_CONTRACT_ARBITRUM, []).append([_name, _symbol, _totalSupply, _usdBalance])"
   ]
  },
  {
   "cell_type": "code",
   "execution_count": 31,
   "metadata": {
    "ExecuteTime": {
     "end_time": "2022-02-15T21:46:07.389777Z",
     "start_time": "2022-02-15T21:46:05.206019Z"
    }
   },
   "outputs": [],
   "source": [
    "_name = MIM_CONTRACT_INSTANCE_ARBITRUM.functions.name().call()\n",
    "_symbol = MIM_CONTRACT_INSTANCE_ARBITRUM.functions.symbol().call()\n",
    "_decimals = MIM_CONTRACT_INSTANCE_ARBITRUM.functions.decimals().call()\n",
    "_totalSupply = MIM_CONTRACT_INSTANCE_ARBITRUM.functions.totalSupply().call()\n",
    "\n",
    "_totalSupply = float(_totalSupply)/pow(10,_decimals)\n",
    "\n",
    "_usdBalance = _totalSupply * fetch_price_from_contract_address('arbitrum-one', MIM_CONTRACT_ARBITRUM)\n",
    "\n",
    "ARBITRUM_BALANCES.setdefault(MIM_CONTRACT_ARBITRUM, []).append([_name, _symbol, _totalSupply, _usdBalance])"
   ]
  },
  {
   "cell_type": "code",
   "execution_count": 32,
   "metadata": {
    "ExecuteTime": {
     "end_time": "2022-02-15T21:46:07.398958Z",
     "start_time": "2022-02-15T21:46:07.392776Z"
    }
   },
   "outputs": [
    {
     "data": {
      "text/plain": [
       "{'0x3e6648c5a70a150a88bce65f4ad4d506fe15d2af': [['Spell Token',\n",
       "   'SPELL',\n",
       "   1162130869.8419716,\n",
       "   6933144.93508152]],\n",
       " '0xfea7a6a0b346362bf88a9e4a88416b77a57d6c2a': [['Magic Internet Money',\n",
       "   'MIM',\n",
       "   158790196.81270152,\n",
       "   157931618.21853524]]}"
      ]
     },
     "execution_count": 32,
     "metadata": {},
     "output_type": "execute_result"
    }
   ],
   "source": [
    "ARBITRUM_BALANCES"
   ]
  },
  {
   "cell_type": "code",
   "execution_count": null,
   "metadata": {},
   "outputs": [],
   "source": []
  },
  {
   "cell_type": "code",
   "execution_count": null,
   "metadata": {},
   "outputs": [],
   "source": []
  },
  {
   "cell_type": "code",
   "execution_count": null,
   "metadata": {},
   "outputs": [],
   "source": []
  },
  {
   "cell_type": "code",
   "execution_count": null,
   "metadata": {},
   "outputs": [],
   "source": []
  }
 ],
 "metadata": {
  "interpreter": {
   "hash": "f57e7e74871ecd89a077d2a776a53e9eceabd5729ccce2c5de09d5a91e273d10"
  },
  "kernelspec": {
   "display_name": "Python 3",
   "language": "python",
   "name": "python3"
  },
  "language_info": {
   "codemirror_mode": {
    "name": "ipython",
    "version": 3
   },
   "file_extension": ".py",
   "mimetype": "text/x-python",
   "name": "python",
   "nbconvert_exporter": "python",
   "pygments_lexer": "ipython3",
   "version": "3.6.13"
  }
 },
 "nbformat": 4,
 "nbformat_minor": 2
}
