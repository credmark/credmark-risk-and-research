{
 "cells": [
  {
   "cell_type": "code",
   "execution_count": 5,
   "id": "02795e7d",
   "metadata": {
    "ExecuteTime": {
     "end_time": "2022-04-05T04:41:39.341169Z",
     "start_time": "2022-04-05T04:41:39.332825Z"
    }
   },
   "outputs": [],
   "source": [
    "# Import Files\n",
    "import os\n",
    "import sys\n",
    "import time\n",
    "import random\n",
    "import matplotlib\n",
    "import matplotlib.pyplot as plt\n",
    "import pandas as pd\n",
    "import numpy as np\n",
    "import json\n",
    "from web3 import Web3\n",
    "import requests\n",
    "import re\n",
    "\n",
    "%matplotlib inline"
   ]
  },
  {
   "cell_type": "code",
   "execution_count": 6,
   "id": "b81b47fb",
   "metadata": {
    "ExecuteTime": {
     "end_time": "2022-04-05T04:41:39.353670Z",
     "start_time": "2022-04-05T04:41:39.344128Z"
    }
   },
   "outputs": [],
   "source": [
    "# Infura Details\n",
    "PROJECT_ID = \"1b0fc3af1d194e8ea8db248ccf926085\""
   ]
  },
  {
   "cell_type": "code",
   "execution_count": 7,
   "id": "4f642e6d",
   "metadata": {
    "ExecuteTime": {
     "end_time": "2022-04-05T04:41:39.599766Z",
     "start_time": "2022-04-05T04:41:39.356806Z"
    }
   },
   "outputs": [
    {
     "name": "stdout",
     "output_type": "stream",
     "text": [
      "Connected:  True\n"
     ]
    }
   ],
   "source": [
    "# Web3 Handle\n",
    "web3 = Web3(Web3.HTTPProvider(\"https://mainnet.infura.io/v3/\"+str(PROJECT_ID)))\n",
    "print('Connected: ', str(web3.isConnected()))"
   ]
  },
  {
   "cell_type": "code",
   "execution_count": 8,
   "id": "7b3c4a5c",
   "metadata": {
    "ExecuteTime": {
     "end_time": "2022-04-05T04:41:39.608735Z",
     "start_time": "2022-04-05T04:41:39.602321Z"
    }
   },
   "outputs": [],
   "source": [
    "# Get token balance of an address on ethereum chain\n",
    "def ethereum_token_balance_of_address(_contractAddress, _accountAddress):\n",
    "    '''\n",
    "            Get token balance of an address method\n",
    "            Args::\n",
    "                _contractAddress: Ethereum Address of the token contract\n",
    "                _accountAddress: Ethereum Address of account whose token balance is to be fetched\n",
    "                _apiKey: Etherscan API Key\n",
    "            Returns::\n",
    "                _name: Name of token\n",
    "                _balance: Token Balance of Account\n",
    "    '''\n",
    "\n",
    "    _contractAddress = web3.toChecksumAddress(_contractAddress)\n",
    "    _contractABI = '[{\"inputs\":[],\"stateMutability\":\"nonpayable\",\"type\":\"constructor\"},{\"anonymous\":false,\"inputs\":[{\"indexed\":true,\"internalType\":\"address\",\"name\":\"owner\",\"type\":\"address\"},{\"indexed\":true,\"internalType\":\"address\",\"name\":\"spender\",\"type\":\"address\"},{\"indexed\":false,\"internalType\":\"uint256\",\"name\":\"value\",\"type\":\"uint256\"}],\"name\":\"Approval\",\"type\":\"event\"},{\"anonymous\":false,\"inputs\":[{\"indexed\":true,\"internalType\":\"bytes32\",\"name\":\"role\",\"type\":\"bytes32\"},{\"indexed\":true,\"internalType\":\"bytes32\",\"name\":\"previousAdminRole\",\"type\":\"bytes32\"},{\"indexed\":true,\"internalType\":\"bytes32\",\"name\":\"newAdminRole\",\"type\":\"bytes32\"}],\"name\":\"RoleAdminChanged\",\"type\":\"event\"},{\"anonymous\":false,\"inputs\":[{\"indexed\":true,\"internalType\":\"bytes32\",\"name\":\"role\",\"type\":\"bytes32\"},{\"indexed\":true,\"internalType\":\"address\",\"name\":\"account\",\"type\":\"address\"},{\"indexed\":true,\"internalType\":\"address\",\"name\":\"sender\",\"type\":\"address\"}],\"name\":\"RoleGranted\",\"type\":\"event\"},{\"anonymous\":false,\"inputs\":[{\"indexed\":true,\"internalType\":\"bytes32\",\"name\":\"role\",\"type\":\"bytes32\"},{\"indexed\":true,\"internalType\":\"address\",\"name\":\"account\",\"type\":\"address\"},{\"indexed\":true,\"internalType\":\"address\",\"name\":\"sender\",\"type\":\"address\"}],\"name\":\"RoleRevoked\",\"type\":\"event\"},{\"anonymous\":false,\"inputs\":[{\"indexed\":true,\"internalType\":\"address\",\"name\":\"from\",\"type\":\"address\"},{\"indexed\":true,\"internalType\":\"address\",\"name\":\"to\",\"type\":\"address\"},{\"indexed\":false,\"internalType\":\"uint256\",\"name\":\"value\",\"type\":\"uint256\"}],\"name\":\"Transfer\",\"type\":\"event\"},{\"inputs\":[],\"name\":\"ADMIN_ROLE\",\"outputs\":[{\"internalType\":\"bytes32\",\"name\":\"\",\"type\":\"bytes32\"}],\"stateMutability\":\"view\",\"type\":\"function\"},{\"inputs\":[],\"name\":\"DEFAULT_ADMIN_ROLE\",\"outputs\":[{\"internalType\":\"bytes32\",\"name\":\"\",\"type\":\"bytes32\"}],\"stateMutability\":\"view\",\"type\":\"function\"},{\"inputs\":[],\"name\":\"MINTER_ROLE\",\"outputs\":[{\"internalType\":\"bytes32\",\"name\":\"\",\"type\":\"bytes32\"}],\"stateMutability\":\"view\",\"type\":\"function\"},{\"inputs\":[{\"internalType\":\"address\",\"name\":\"owner\",\"type\":\"address\"},{\"internalType\":\"address\",\"name\":\"spender\",\"type\":\"address\"}],\"name\":\"allowance\",\"outputs\":[{\"internalType\":\"uint256\",\"name\":\"\",\"type\":\"uint256\"}],\"stateMutability\":\"view\",\"type\":\"function\"},{\"inputs\":[{\"internalType\":\"address\",\"name\":\"spender\",\"type\":\"address\"},{\"internalType\":\"uint256\",\"name\":\"amount\",\"type\":\"uint256\"}],\"name\":\"approve\",\"outputs\":[{\"internalType\":\"bool\",\"name\":\"\",\"type\":\"bool\"}],\"stateMutability\":\"nonpayable\",\"type\":\"function\"},{\"inputs\":[{\"internalType\":\"address\",\"name\":\"account\",\"type\":\"address\"}],\"name\":\"balanceOf\",\"outputs\":[{\"internalType\":\"uint256\",\"name\":\"\",\"type\":\"uint256\"}],\"stateMutability\":\"view\",\"type\":\"function\"},{\"inputs\":[],\"name\":\"decimals\",\"outputs\":[{\"internalType\":\"uint8\",\"name\":\"\",\"type\":\"uint8\"}],\"stateMutability\":\"view\",\"type\":\"function\"},{\"inputs\":[{\"internalType\":\"address\",\"name\":\"spender\",\"type\":\"address\"},{\"internalType\":\"uint256\",\"name\":\"subtractedValue\",\"type\":\"uint256\"}],\"name\":\"decreaseAllowance\",\"outputs\":[{\"internalType\":\"bool\",\"name\":\"\",\"type\":\"bool\"}],\"stateMutability\":\"nonpayable\",\"type\":\"function\"},{\"inputs\":[{\"internalType\":\"bytes32\",\"name\":\"role\",\"type\":\"bytes32\"}],\"name\":\"getRoleAdmin\",\"outputs\":[{\"internalType\":\"bytes32\",\"name\":\"\",\"type\":\"bytes32\"}],\"stateMutability\":\"view\",\"type\":\"function\"},{\"inputs\":[{\"internalType\":\"bytes32\",\"name\":\"role\",\"type\":\"bytes32\"},{\"internalType\":\"uint256\",\"name\":\"index\",\"type\":\"uint256\"}],\"name\":\"getRoleMember\",\"outputs\":[{\"internalType\":\"address\",\"name\":\"\",\"type\":\"address\"}],\"stateMutability\":\"view\",\"type\":\"function\"},{\"inputs\":[{\"internalType\":\"bytes32\",\"name\":\"role\",\"type\":\"bytes32\"}],\"name\":\"getRoleMemberCount\",\"outputs\":[{\"internalType\":\"uint256\",\"name\":\"\",\"type\":\"uint256\"}],\"stateMutability\":\"view\",\"type\":\"function\"},{\"inputs\":[{\"internalType\":\"bytes32\",\"name\":\"role\",\"type\":\"bytes32\"},{\"internalType\":\"address\",\"name\":\"account\",\"type\":\"address\"}],\"name\":\"grantRole\",\"outputs\":[],\"stateMutability\":\"nonpayable\",\"type\":\"function\"},{\"inputs\":[{\"internalType\":\"bytes32\",\"name\":\"role\",\"type\":\"bytes32\"},{\"internalType\":\"address\",\"name\":\"account\",\"type\":\"address\"}],\"name\":\"hasRole\",\"outputs\":[{\"internalType\":\"bool\",\"name\":\"\",\"type\":\"bool\"}],\"stateMutability\":\"view\",\"type\":\"function\"},{\"inputs\":[{\"internalType\":\"address\",\"name\":\"spender\",\"type\":\"address\"},{\"internalType\":\"uint256\",\"name\":\"addedValue\",\"type\":\"uint256\"}],\"name\":\"increaseAllowance\",\"outputs\":[{\"internalType\":\"bool\",\"name\":\"\",\"type\":\"bool\"}],\"stateMutability\":\"nonpayable\",\"type\":\"function\"},{\"inputs\":[{\"internalType\":\"address\",\"name\":\"_recipient\",\"type\":\"address\"},{\"internalType\":\"uint256\",\"name\":\"_amount\",\"type\":\"uint256\"}],\"name\":\"mint\",\"outputs\":[],\"stateMutability\":\"nonpayable\",\"type\":\"function\"},{\"inputs\":[],\"name\":\"name\",\"outputs\":[{\"internalType\":\"string\",\"name\":\"\",\"type\":\"string\"}],\"stateMutability\":\"view\",\"type\":\"function\"},{\"inputs\":[{\"internalType\":\"bytes32\",\"name\":\"role\",\"type\":\"bytes32\"},{\"internalType\":\"address\",\"name\":\"account\",\"type\":\"address\"}],\"name\":\"renounceRole\",\"outputs\":[],\"stateMutability\":\"nonpayable\",\"type\":\"function\"},{\"inputs\":[{\"internalType\":\"bytes32\",\"name\":\"role\",\"type\":\"bytes32\"},{\"internalType\":\"address\",\"name\":\"account\",\"type\":\"address\"}],\"name\":\"revokeRole\",\"outputs\":[],\"stateMutability\":\"nonpayable\",\"type\":\"function\"},{\"inputs\":[],\"name\":\"symbol\",\"outputs\":[{\"internalType\":\"string\",\"name\":\"\",\"type\":\"string\"}],\"stateMutability\":\"view\",\"type\":\"function\"},{\"inputs\":[],\"name\":\"totalSupply\",\"outputs\":[{\"internalType\":\"uint256\",\"name\":\"\",\"type\":\"uint256\"}],\"stateMutability\":\"view\",\"type\":\"function\"},{\"inputs\":[{\"internalType\":\"address\",\"name\":\"recipient\",\"type\":\"address\"},{\"internalType\":\"uint256\",\"name\":\"amount\",\"type\":\"uint256\"}],\"name\":\"transfer\",\"outputs\":[{\"internalType\":\"bool\",\"name\":\"\",\"type\":\"bool\"}],\"stateMutability\":\"nonpayable\",\"type\":\"function\"},{\"inputs\":[{\"internalType\":\"address\",\"name\":\"sender\",\"type\":\"address\"},{\"internalType\":\"address\",\"name\":\"recipient\",\"type\":\"address\"},{\"internalType\":\"uint256\",\"name\":\"amount\",\"type\":\"uint256\"}],\"name\":\"transferFrom\",\"outputs\":[{\"internalType\":\"bool\",\"name\":\"\",\"type\":\"bool\"}],\"stateMutability\":\"nonpayable\",\"type\":\"function\"}]'\n",
    "    \n",
    "    _contract = web3.eth.contract(address=_contractAddress, abi= _contractABI)\n",
    "\n",
    "    _name = _contract.functions.name().call()\n",
    "    _balance = _contract.functions.balanceOf(_accountAddress).call()\n",
    "    _decimals = _contract.functions.decimals().call()\n",
    "    _symbol = _contract.functions.symbol().call()\n",
    "\n",
    "    _balance = float(_balance)/pow(10,_decimals)\n",
    "\n",
    "    return (_name, _symbol, _balance)"
   ]
  },
  {
   "cell_type": "code",
   "execution_count": 9,
   "id": "e457a9ba",
   "metadata": {
    "ExecuteTime": {
     "end_time": "2022-04-05T04:41:39.624671Z",
     "start_time": "2022-04-05T04:41:39.611188Z"
    }
   },
   "outputs": [],
   "source": [
    "# Opening text file with text copied from Curve's website for pools' address\n",
    "\n",
    "file = open('./pools_list.txt', 'r')\n",
    "logs = file.read()\n",
    "file.close()"
   ]
  },
  {
   "cell_type": "code",
   "execution_count": 10,
   "id": "abf959e6",
   "metadata": {
    "ExecuteTime": {
     "end_time": "2022-04-05T04:41:39.633673Z",
     "start_time": "2022-04-05T04:41:39.626895Z"
    }
   },
   "outputs": [
    {
     "data": {
      "text/plain": [
       "'https://etherscan.io/address/0xD51a44d3FaE010294C616388b506AcdA1bfAAE46\\nhttps://etherscan.io/address/0xbEbc44782C7dB0a1A60Cb6fe97d0b483032FF1C7\\nhttps://etherscan.io/address/0xCEAF7747579696A2F0bb206a14210e3c9e6fB269\\nhttps://etherscan.io/address/0xd632f22692FaC7611d2AA1C0D552930D43CAEd3B\\nhttps://etherscan.io/address/0x5a6A4D54456819380173272A5E8E9B9904BdF41B\\nhttps://etherscan.io/address/0x890f4e345B1dAED0367A877a1612f86A1f86985f\\nhttps://etherscan.io/address/0xEd279fDD11cA84bEef15AF5D39BB4d4bEE23F0cA\\nhttps://etherscan.io/address/0x752eBeb79963cf0732E9c0fec72a49FD1DEfAEAC\\nhttps://etherscan.io/address/0x8301AE4fc9c624d1D396cbDAa1ed877821D7C511\\nhttps://etherscan.io/address/0x45F783CCE6B7FF23B2ab2D70e416cdb7D6055f51\\nhttps://etherscan.io/address/0x55A8a39bc9694714E2874c1ce77aa1E599461E18\\nhttps://etherscan.io/address/0xA5407eAE9Ba41422680e2e00537571bcC53efBfD\\nhttps://etherscan.io/address/0x80466c64868E1ab14a1Ddf27A676C3fcBE638Fe5\\nhttps://etherscan.io/address/0x1c65bA665ce39cfe85639227eccf17Be2B167058\\nhttps://etherscan.io/address/0x52EA46506B9CC5Ef470C5bf89f17Dc28bB35D85C'"
      ]
     },
     "execution_count": 10,
     "metadata": {},
     "output_type": "execute_result"
    }
   ],
   "source": [
    "# List of pool addresses\n",
    "logs"
   ]
  },
  {
   "cell_type": "code",
   "execution_count": 11,
   "id": "eaab6981",
   "metadata": {
    "ExecuteTime": {
     "end_time": "2022-04-05T04:41:39.642300Z",
     "start_time": "2022-04-05T04:41:39.635975Z"
    }
   },
   "outputs": [
    {
     "data": {
      "text/plain": [
       "['0xD51a44d3FaE010294C616388b506AcdA1bfAAE46',\n",
       " '0xbEbc44782C7dB0a1A60Cb6fe97d0b483032FF1C7',\n",
       " '0xCEAF7747579696A2F0bb206a14210e3c9e6fB269',\n",
       " '0xd632f22692FaC7611d2AA1C0D552930D43CAEd3B',\n",
       " '0x5a6A4D54456819380173272A5E8E9B9904BdF41B',\n",
       " '0x890f4e345B1dAED0367A877a1612f86A1f86985f',\n",
       " '0xEd279fDD11cA84bEef15AF5D39BB4d4bEE23F0cA',\n",
       " '0x752eBeb79963cf0732E9c0fec72a49FD1DEfAEAC',\n",
       " '0x8301AE4fc9c624d1D396cbDAa1ed877821D7C511',\n",
       " '0x45F783CCE6B7FF23B2ab2D70e416cdb7D6055f51',\n",
       " '0x55A8a39bc9694714E2874c1ce77aa1E599461E18',\n",
       " '0xA5407eAE9Ba41422680e2e00537571bcC53efBfD',\n",
       " '0x80466c64868E1ab14a1Ddf27A676C3fcBE638Fe5',\n",
       " '0x1c65bA665ce39cfe85639227eccf17Be2B167058',\n",
       " '0x52EA46506B9CC5Ef470C5bf89f17Dc28bB35D85C']"
      ]
     },
     "execution_count": 11,
     "metadata": {},
     "output_type": "execute_result"
    }
   ],
   "source": [
    "# Finding vault addresses from the log file using regex\n",
    "pool_addresses = re.findall(r\"\\b0x[a-f0-9A-F]{40}\\b\", logs)\n",
    "pool_addresses"
   ]
  },
  {
   "cell_type": "code",
   "execution_count": 12,
   "id": "4819f114",
   "metadata": {
    "ExecuteTime": {
     "end_time": "2022-04-05T04:41:39.649367Z",
     "start_time": "2022-04-05T04:41:39.646185Z"
    }
   },
   "outputs": [],
   "source": [
    "# Extracting unique pool contracts\n",
    "pool_addresses = list(set(pool_addresses))"
   ]
  },
  {
   "cell_type": "code",
   "execution_count": 13,
   "id": "091aa2a5",
   "metadata": {
    "ExecuteTime": {
     "end_time": "2022-04-05T04:41:39.657439Z",
     "start_time": "2022-04-05T04:41:39.652217Z"
    }
   },
   "outputs": [
    {
     "data": {
      "text/plain": [
       "['0xEd279fDD11cA84bEef15AF5D39BB4d4bEE23F0cA',\n",
       " '0x890f4e345B1dAED0367A877a1612f86A1f86985f',\n",
       " '0xA5407eAE9Ba41422680e2e00537571bcC53efBfD',\n",
       " '0xd632f22692FaC7611d2AA1C0D552930D43CAEd3B',\n",
       " '0xD51a44d3FaE010294C616388b506AcdA1bfAAE46',\n",
       " '0xCEAF7747579696A2F0bb206a14210e3c9e6fB269',\n",
       " '0x5a6A4D54456819380173272A5E8E9B9904BdF41B',\n",
       " '0x45F783CCE6B7FF23B2ab2D70e416cdb7D6055f51',\n",
       " '0x1c65bA665ce39cfe85639227eccf17Be2B167058',\n",
       " '0x55A8a39bc9694714E2874c1ce77aa1E599461E18',\n",
       " '0x52EA46506B9CC5Ef470C5bf89f17Dc28bB35D85C',\n",
       " '0x752eBeb79963cf0732E9c0fec72a49FD1DEfAEAC',\n",
       " '0x80466c64868E1ab14a1Ddf27A676C3fcBE638Fe5',\n",
       " '0x8301AE4fc9c624d1D396cbDAa1ed877821D7C511',\n",
       " '0xbEbc44782C7dB0a1A60Cb6fe97d0b483032FF1C7']"
      ]
     },
     "execution_count": 13,
     "metadata": {},
     "output_type": "execute_result"
    }
   ],
   "source": [
    "pool_addresses"
   ]
  },
  {
   "cell_type": "code",
   "execution_count": 14,
   "id": "d41f858e",
   "metadata": {
    "ExecuteTime": {
     "end_time": "2022-04-05T04:41:39.668234Z",
     "start_time": "2022-04-05T04:41:39.660019Z"
    }
   },
   "outputs": [],
   "source": [
    "# Saving vault addresses of GRIM in a text file\n",
    "with open('pool_contracts.txt', 'w') as file:\n",
    "    file.write(str(pool_addresses))\n"
   ]
  },
  {
   "cell_type": "code",
   "execution_count": 15,
   "id": "1250f92a",
   "metadata": {
    "ExecuteTime": {
     "end_time": "2022-04-05T04:41:39.674781Z",
     "start_time": "2022-04-05T04:41:39.670948Z"
    }
   },
   "outputs": [],
   "source": [
    "# ABI for a pool contract\n",
    "POOL_CONTRACT_ABI = '[{\"name\":\"TokenExchange\",\"inputs\":[{\"name\":\"buyer\",\"type\":\"address\",\"indexed\":true},{\"name\":\"sold_id\",\"type\":\"uint256\",\"indexed\":false},{\"name\":\"tokens_sold\",\"type\":\"uint256\",\"indexed\":false},{\"name\":\"bought_id\",\"type\":\"uint256\",\"indexed\":false},{\"name\":\"tokens_bought\",\"type\":\"uint256\",\"indexed\":false}],\"anonymous\":false,\"type\":\"event\"},{\"name\":\"AddLiquidity\",\"inputs\":[{\"name\":\"provider\",\"type\":\"address\",\"indexed\":true},{\"name\":\"token_amounts\",\"type\":\"uint256[3]\",\"indexed\":false},{\"name\":\"fee\",\"type\":\"uint256\",\"indexed\":false},{\"name\":\"token_supply\",\"type\":\"uint256\",\"indexed\":false}],\"anonymous\":false,\"type\":\"event\"},{\"name\":\"RemoveLiquidity\",\"inputs\":[{\"name\":\"provider\",\"type\":\"address\",\"indexed\":true},{\"name\":\"token_amounts\",\"type\":\"uint256[3]\",\"indexed\":false},{\"name\":\"token_supply\",\"type\":\"uint256\",\"indexed\":false}],\"anonymous\":false,\"type\":\"event\"},{\"name\":\"RemoveLiquidityOne\",\"inputs\":[{\"name\":\"provider\",\"type\":\"address\",\"indexed\":true},{\"name\":\"token_amount\",\"type\":\"uint256\",\"indexed\":false},{\"name\":\"coin_index\",\"type\":\"uint256\",\"indexed\":false},{\"name\":\"coin_amount\",\"type\":\"uint256\",\"indexed\":false}],\"anonymous\":false,\"type\":\"event\"},{\"name\":\"CommitNewAdmin\",\"inputs\":[{\"name\":\"deadline\",\"type\":\"uint256\",\"indexed\":true},{\"name\":\"admin\",\"type\":\"address\",\"indexed\":true}],\"anonymous\":false,\"type\":\"event\"},{\"name\":\"NewAdmin\",\"inputs\":[{\"name\":\"admin\",\"type\":\"address\",\"indexed\":true}],\"anonymous\":false,\"type\":\"event\"},{\"name\":\"CommitNewParameters\",\"inputs\":[{\"name\":\"deadline\",\"type\":\"uint256\",\"indexed\":true},{\"name\":\"admin_fee\",\"type\":\"uint256\",\"indexed\":false},{\"name\":\"mid_fee\",\"type\":\"uint256\",\"indexed\":false},{\"name\":\"out_fee\",\"type\":\"uint256\",\"indexed\":false},{\"name\":\"fee_gamma\",\"type\":\"uint256\",\"indexed\":false},{\"name\":\"allowed_extra_profit\",\"type\":\"uint256\",\"indexed\":false},{\"name\":\"adjustment_step\",\"type\":\"uint256\",\"indexed\":false},{\"name\":\"ma_half_time\",\"type\":\"uint256\",\"indexed\":false}],\"anonymous\":false,\"type\":\"event\"},{\"name\":\"NewParameters\",\"inputs\":[{\"name\":\"admin_fee\",\"type\":\"uint256\",\"indexed\":false},{\"name\":\"mid_fee\",\"type\":\"uint256\",\"indexed\":false},{\"name\":\"out_fee\",\"type\":\"uint256\",\"indexed\":false},{\"name\":\"fee_gamma\",\"type\":\"uint256\",\"indexed\":false},{\"name\":\"allowed_extra_profit\",\"type\":\"uint256\",\"indexed\":false},{\"name\":\"adjustment_step\",\"type\":\"uint256\",\"indexed\":false},{\"name\":\"ma_half_time\",\"type\":\"uint256\",\"indexed\":false}],\"anonymous\":false,\"type\":\"event\"},{\"name\":\"RampAgamma\",\"inputs\":[{\"name\":\"initial_A\",\"type\":\"uint256\",\"indexed\":false},{\"name\":\"future_A\",\"type\":\"uint256\",\"indexed\":false},{\"name\":\"initial_gamma\",\"type\":\"uint256\",\"indexed\":false},{\"name\":\"future_gamma\",\"type\":\"uint256\",\"indexed\":false},{\"name\":\"initial_time\",\"type\":\"uint256\",\"indexed\":false},{\"name\":\"future_time\",\"type\":\"uint256\",\"indexed\":false}],\"anonymous\":false,\"type\":\"event\"},{\"name\":\"StopRampA\",\"inputs\":[{\"name\":\"current_A\",\"type\":\"uint256\",\"indexed\":false},{\"name\":\"current_gamma\",\"type\":\"uint256\",\"indexed\":false},{\"name\":\"time\",\"type\":\"uint256\",\"indexed\":false}],\"anonymous\":false,\"type\":\"event\"},{\"name\":\"ClaimAdminFee\",\"inputs\":[{\"name\":\"admin\",\"type\":\"address\",\"indexed\":true},{\"name\":\"tokens\",\"type\":\"uint256\",\"indexed\":false}],\"anonymous\":false,\"type\":\"event\"},{\"stateMutability\":\"nonpayable\",\"type\":\"constructor\",\"inputs\":[{\"name\":\"owner\",\"type\":\"address\"},{\"name\":\"admin_fee_receiver\",\"type\":\"address\"},{\"name\":\"A\",\"type\":\"uint256\"},{\"name\":\"gamma\",\"type\":\"uint256\"},{\"name\":\"mid_fee\",\"type\":\"uint256\"},{\"name\":\"out_fee\",\"type\":\"uint256\"},{\"name\":\"allowed_extra_profit\",\"type\":\"uint256\"},{\"name\":\"fee_gamma\",\"type\":\"uint256\"},{\"name\":\"adjustment_step\",\"type\":\"uint256\"},{\"name\":\"admin_fee\",\"type\":\"uint256\"},{\"name\":\"ma_half_time\",\"type\":\"uint256\"},{\"name\":\"initial_prices\",\"type\":\"uint256[2]\"}],\"outputs\":[]},{\"stateMutability\":\"payable\",\"type\":\"fallback\"},{\"stateMutability\":\"view\",\"type\":\"function\",\"name\":\"price_oracle\",\"inputs\":[{\"name\":\"k\",\"type\":\"uint256\"}],\"outputs\":[{\"name\":\"\",\"type\":\"uint256\"}],\"gas\":3361},{\"stateMutability\":\"view\",\"type\":\"function\",\"name\":\"price_scale\",\"inputs\":[{\"name\":\"k\",\"type\":\"uint256\"}],\"outputs\":[{\"name\":\"\",\"type\":\"uint256\"}],\"gas\":3391},{\"stateMutability\":\"view\",\"type\":\"function\",\"name\":\"last_prices\",\"inputs\":[{\"name\":\"k\",\"type\":\"uint256\"}],\"outputs\":[{\"name\":\"\",\"type\":\"uint256\"}],\"gas\":3421},{\"stateMutability\":\"view\",\"type\":\"function\",\"name\":\"token\",\"inputs\":[],\"outputs\":[{\"name\":\"\",\"type\":\"address\"}],\"gas\":468},{\"stateMutability\":\"view\",\"type\":\"function\",\"name\":\"coins\",\"inputs\":[{\"name\":\"i\",\"type\":\"uint256\"}],\"outputs\":[{\"name\":\"\",\"type\":\"address\"}],\"gas\":582},{\"stateMutability\":\"view\",\"type\":\"function\",\"name\":\"A\",\"inputs\":[],\"outputs\":[{\"name\":\"\",\"type\":\"uint256\"}],\"gas\":597},{\"stateMutability\":\"view\",\"type\":\"function\",\"name\":\"gamma\",\"inputs\":[],\"outputs\":[{\"name\":\"\",\"type\":\"uint256\"}],\"gas\":11991},{\"stateMutability\":\"view\",\"type\":\"function\",\"name\":\"fee\",\"inputs\":[],\"outputs\":[{\"name\":\"\",\"type\":\"uint256\"}],\"gas\":21673},{\"stateMutability\":\"view\",\"type\":\"function\",\"name\":\"fee_calc\",\"inputs\":[{\"name\":\"xp\",\"type\":\"uint256[3]\"}],\"outputs\":[{\"name\":\"\",\"type\":\"uint256\"}],\"gas\":11096},{\"stateMutability\":\"view\",\"type\":\"function\",\"name\":\"get_virtual_price\",\"inputs\":[],\"outputs\":[{\"name\":\"\",\"type\":\"uint256\"}],\"gas\":11582},{\"stateMutability\":\"payable\",\"type\":\"function\",\"name\":\"exchange\",\"inputs\":[{\"name\":\"i\",\"type\":\"uint256\"},{\"name\":\"j\",\"type\":\"uint256\"},{\"name\":\"dx\",\"type\":\"uint256\"},{\"name\":\"min_dy\",\"type\":\"uint256\"}],\"outputs\":[]},{\"stateMutability\":\"payable\",\"type\":\"function\",\"name\":\"exchange\",\"inputs\":[{\"name\":\"i\",\"type\":\"uint256\"},{\"name\":\"j\",\"type\":\"uint256\"},{\"name\":\"dx\",\"type\":\"uint256\"},{\"name\":\"min_dy\",\"type\":\"uint256\"},{\"name\":\"use_eth\",\"type\":\"bool\"}],\"outputs\":[]},{\"stateMutability\":\"view\",\"type\":\"function\",\"name\":\"get_dy\",\"inputs\":[{\"name\":\"i\",\"type\":\"uint256\"},{\"name\":\"j\",\"type\":\"uint256\"},{\"name\":\"dx\",\"type\":\"uint256\"}],\"outputs\":[{\"name\":\"\",\"type\":\"uint256\"}],\"gas\":3122},{\"stateMutability\":\"view\",\"type\":\"function\",\"name\":\"calc_token_fee\",\"inputs\":[{\"name\":\"amounts\",\"type\":\"uint256[3]\"},{\"name\":\"xp\",\"type\":\"uint256[3]\"}],\"outputs\":[{\"name\":\"\",\"type\":\"uint256\"}],\"gas\":26582},{\"stateMutability\":\"nonpayable\",\"type\":\"function\",\"name\":\"add_liquidity\",\"inputs\":[{\"name\":\"amounts\",\"type\":\"uint256[3]\"},{\"name\":\"min_mint_amount\",\"type\":\"uint256\"}],\"outputs\":[],\"gas\":738687},{\"stateMutability\":\"nonpayable\",\"type\":\"function\",\"name\":\"remove_liquidity\",\"inputs\":[{\"name\":\"_amount\",\"type\":\"uint256\"},{\"name\":\"min_amounts\",\"type\":\"uint256[3]\"}],\"outputs\":[],\"gas\":233981},{\"stateMutability\":\"view\",\"type\":\"function\",\"name\":\"calc_token_amount\",\"inputs\":[{\"name\":\"amounts\",\"type\":\"uint256[3]\"},{\"name\":\"deposit\",\"type\":\"bool\"}],\"outputs\":[{\"name\":\"\",\"type\":\"uint256\"}],\"gas\":3429},{\"stateMutability\":\"view\",\"type\":\"function\",\"name\":\"calc_withdraw_one_coin\",\"inputs\":[{\"name\":\"token_amount\",\"type\":\"uint256\"},{\"name\":\"i\",\"type\":\"uint256\"}],\"outputs\":[{\"name\":\"\",\"type\":\"uint256\"}],\"gas\":13432},{\"stateMutability\":\"nonpayable\",\"type\":\"function\",\"name\":\"remove_liquidity_one_coin\",\"inputs\":[{\"name\":\"token_amount\",\"type\":\"uint256\"},{\"name\":\"i\",\"type\":\"uint256\"},{\"name\":\"min_amount\",\"type\":\"uint256\"}],\"outputs\":[],\"gas\":648579},{\"stateMutability\":\"nonpayable\",\"type\":\"function\",\"name\":\"claim_admin_fees\",\"inputs\":[],\"outputs\":[],\"gas\":389808},{\"stateMutability\":\"nonpayable\",\"type\":\"function\",\"name\":\"ramp_A_gamma\",\"inputs\":[{\"name\":\"future_A\",\"type\":\"uint256\"},{\"name\":\"future_gamma\",\"type\":\"uint256\"},{\"name\":\"future_time\",\"type\":\"uint256\"}],\"outputs\":[],\"gas\":163102},{\"stateMutability\":\"nonpayable\",\"type\":\"function\",\"name\":\"stop_ramp_A_gamma\",\"inputs\":[],\"outputs\":[],\"gas\":157247},{\"stateMutability\":\"nonpayable\",\"type\":\"function\",\"name\":\"commit_new_parameters\",\"inputs\":[{\"name\":\"_new_mid_fee\",\"type\":\"uint256\"},{\"name\":\"_new_out_fee\",\"type\":\"uint256\"},{\"name\":\"_new_admin_fee\",\"type\":\"uint256\"},{\"name\":\"_new_fee_gamma\",\"type\":\"uint256\"},{\"name\":\"_new_allowed_extra_profit\",\"type\":\"uint256\"},{\"name\":\"_new_adjustment_step\",\"type\":\"uint256\"},{\"name\":\"_new_ma_half_time\",\"type\":\"uint256\"}],\"outputs\":[],\"gas\":306190},{\"stateMutability\":\"nonpayable\",\"type\":\"function\",\"name\":\"apply_new_parameters\",\"inputs\":[],\"outputs\":[],\"gas\":683438},{\"stateMutability\":\"nonpayable\",\"type\":\"function\",\"name\":\"revert_new_parameters\",\"inputs\":[],\"outputs\":[],\"gas\":23222},{\"stateMutability\":\"nonpayable\",\"type\":\"function\",\"name\":\"commit_transfer_ownership\",\"inputs\":[{\"name\":\"_owner\",\"type\":\"address\"}],\"outputs\":[],\"gas\":77260},{\"stateMutability\":\"nonpayable\",\"type\":\"function\",\"name\":\"apply_transfer_ownership\",\"inputs\":[],\"outputs\":[],\"gas\":65937},{\"stateMutability\":\"nonpayable\",\"type\":\"function\",\"name\":\"revert_transfer_ownership\",\"inputs\":[],\"outputs\":[],\"gas\":23312},{\"stateMutability\":\"nonpayable\",\"type\":\"function\",\"name\":\"kill_me\",\"inputs\":[],\"outputs\":[],\"gas\":40535},{\"stateMutability\":\"nonpayable\",\"type\":\"function\",\"name\":\"unkill_me\",\"inputs\":[],\"outputs\":[],\"gas\":23372},{\"stateMutability\":\"nonpayable\",\"type\":\"function\",\"name\":\"set_admin_fee_receiver\",\"inputs\":[{\"name\":\"_admin_fee_receiver\",\"type\":\"address\"}],\"outputs\":[],\"gas\":38505},{\"stateMutability\":\"view\",\"type\":\"function\",\"name\":\"last_prices_timestamp\",\"inputs\":[],\"outputs\":[{\"name\":\"\",\"type\":\"uint256\"}],\"gas\":3378},{\"stateMutability\":\"view\",\"type\":\"function\",\"name\":\"initial_A_gamma\",\"inputs\":[],\"outputs\":[{\"name\":\"\",\"type\":\"uint256\"}],\"gas\":3408},{\"stateMutability\":\"view\",\"type\":\"function\",\"name\":\"future_A_gamma\",\"inputs\":[],\"outputs\":[{\"name\":\"\",\"type\":\"uint256\"}],\"gas\":3438},{\"stateMutability\":\"view\",\"type\":\"function\",\"name\":\"initial_A_gamma_time\",\"inputs\":[],\"outputs\":[{\"name\":\"\",\"type\":\"uint256\"}],\"gas\":3468},{\"stateMutability\":\"view\",\"type\":\"function\",\"name\":\"future_A_gamma_time\",\"inputs\":[],\"outputs\":[{\"name\":\"\",\"type\":\"uint256\"}],\"gas\":3498},{\"stateMutability\":\"view\",\"type\":\"function\",\"name\":\"allowed_extra_profit\",\"inputs\":[],\"outputs\":[{\"name\":\"\",\"type\":\"uint256\"}],\"gas\":3528},{\"stateMutability\":\"view\",\"type\":\"function\",\"name\":\"future_allowed_extra_profit\",\"inputs\":[],\"outputs\":[{\"name\":\"\",\"type\":\"uint256\"}],\"gas\":3558},{\"stateMutability\":\"view\",\"type\":\"function\",\"name\":\"fee_gamma\",\"inputs\":[],\"outputs\":[{\"name\":\"\",\"type\":\"uint256\"}],\"gas\":3588},{\"stateMutability\":\"view\",\"type\":\"function\",\"name\":\"future_fee_gamma\",\"inputs\":[],\"outputs\":[{\"name\":\"\",\"type\":\"uint256\"}],\"gas\":3618},{\"stateMutability\":\"view\",\"type\":\"function\",\"name\":\"adjustment_step\",\"inputs\":[],\"outputs\":[{\"name\":\"\",\"type\":\"uint256\"}],\"gas\":3648},{\"stateMutability\":\"view\",\"type\":\"function\",\"name\":\"future_adjustment_step\",\"inputs\":[],\"outputs\":[{\"name\":\"\",\"type\":\"uint256\"}],\"gas\":3678},{\"stateMutability\":\"view\",\"type\":\"function\",\"name\":\"ma_half_time\",\"inputs\":[],\"outputs\":[{\"name\":\"\",\"type\":\"uint256\"}],\"gas\":3708},{\"stateMutability\":\"view\",\"type\":\"function\",\"name\":\"future_ma_half_time\",\"inputs\":[],\"outputs\":[{\"name\":\"\",\"type\":\"uint256\"}],\"gas\":3738},{\"stateMutability\":\"view\",\"type\":\"function\",\"name\":\"mid_fee\",\"inputs\":[],\"outputs\":[{\"name\":\"\",\"type\":\"uint256\"}],\"gas\":3768},{\"stateMutability\":\"view\",\"type\":\"function\",\"name\":\"out_fee\",\"inputs\":[],\"outputs\":[{\"name\":\"\",\"type\":\"uint256\"}],\"gas\":3798},{\"stateMutability\":\"view\",\"type\":\"function\",\"name\":\"admin_fee\",\"inputs\":[],\"outputs\":[{\"name\":\"\",\"type\":\"uint256\"}],\"gas\":3828},{\"stateMutability\":\"view\",\"type\":\"function\",\"name\":\"future_mid_fee\",\"inputs\":[],\"outputs\":[{\"name\":\"\",\"type\":\"uint256\"}],\"gas\":3858},{\"stateMutability\":\"view\",\"type\":\"function\",\"name\":\"future_out_fee\",\"inputs\":[],\"outputs\":[{\"name\":\"\",\"type\":\"uint256\"}],\"gas\":3888},{\"stateMutability\":\"view\",\"type\":\"function\",\"name\":\"future_admin_fee\",\"inputs\":[],\"outputs\":[{\"name\":\"\",\"type\":\"uint256\"}],\"gas\":3918},{\"stateMutability\":\"view\",\"type\":\"function\",\"name\":\"balances\",\"inputs\":[{\"name\":\"arg0\",\"type\":\"uint256\"}],\"outputs\":[{\"name\":\"\",\"type\":\"uint256\"}],\"gas\":4057},{\"stateMutability\":\"view\",\"type\":\"function\",\"name\":\"D\",\"inputs\":[],\"outputs\":[{\"name\":\"\",\"type\":\"uint256\"}],\"gas\":3978},{\"stateMutability\":\"view\",\"type\":\"function\",\"name\":\"owner\",\"inputs\":[],\"outputs\":[{\"name\":\"\",\"type\":\"address\"}],\"gas\":4008},{\"stateMutability\":\"view\",\"type\":\"function\",\"name\":\"future_owner\",\"inputs\":[],\"outputs\":[{\"name\":\"\",\"type\":\"address\"}],\"gas\":4038},{\"stateMutability\":\"view\",\"type\":\"function\",\"name\":\"xcp_profit\",\"inputs\":[],\"outputs\":[{\"name\":\"\",\"type\":\"uint256\"}],\"gas\":4068},{\"stateMutability\":\"view\",\"type\":\"function\",\"name\":\"xcp_profit_a\",\"inputs\":[],\"outputs\":[{\"name\":\"\",\"type\":\"uint256\"}],\"gas\":4098},{\"stateMutability\":\"view\",\"type\":\"function\",\"name\":\"virtual_price\",\"inputs\":[],\"outputs\":[{\"name\":\"\",\"type\":\"uint256\"}],\"gas\":4128},{\"stateMutability\":\"view\",\"type\":\"function\",\"name\":\"is_killed\",\"inputs\":[],\"outputs\":[{\"name\":\"\",\"type\":\"bool\"}],\"gas\":4158},{\"stateMutability\":\"view\",\"type\":\"function\",\"name\":\"kill_deadline\",\"inputs\":[],\"outputs\":[{\"name\":\"\",\"type\":\"uint256\"}],\"gas\":4188},{\"stateMutability\":\"view\",\"type\":\"function\",\"name\":\"transfer_ownership_deadline\",\"inputs\":[],\"outputs\":[{\"name\":\"\",\"type\":\"uint256\"}],\"gas\":4218},{\"stateMutability\":\"view\",\"type\":\"function\",\"name\":\"admin_actions_deadline\",\"inputs\":[],\"outputs\":[{\"name\":\"\",\"type\":\"uint256\"}],\"gas\":4248},{\"stateMutability\":\"view\",\"type\":\"function\",\"name\":\"admin_fee_receiver\",\"inputs\":[],\"outputs\":[{\"name\":\"\",\"type\":\"address\"}],\"gas\":4278},{\"stateMutability\":\"view\",\"type\":\"function\",\"name\":\"name\",\"inputs\":[],\"outputs\":[{\"name\":\"\",\"type\":\"string\"}],\"gas\":13518},{\"stateMutability\":\"view\",\"type\":\"function\",\"name\":\"symbol\",\"inputs\":[],\"outputs\":[{\"name\":\"\",\"type\":\"string\"}],\"gas\":11271}]'"
   ]
  },
  {
   "cell_type": "code",
   "execution_count": 16,
   "id": "1db14fe4",
   "metadata": {
    "ExecuteTime": {
     "end_time": "2022-04-05T04:41:39.683519Z",
     "start_time": "2022-04-05T04:41:39.677531Z"
    }
   },
   "outputs": [],
   "source": [
    "# ABI for a ERC20 Token\n",
    "TOKEN_CONTRACT_ABI = '[{\"name\":\"Transfer\",\"inputs\":[{\"name\":\"sender\",\"type\":\"address\",\"indexed\":true},{\"name\":\"receiver\",\"type\":\"address\",\"indexed\":true},{\"name\":\"value\",\"type\":\"uint256\",\"indexed\":false}],\"anonymous\":false,\"type\":\"event\"},{\"name\":\"Approval\",\"inputs\":[{\"name\":\"owner\",\"type\":\"address\",\"indexed\":true},{\"name\":\"spender\",\"type\":\"address\",\"indexed\":true},{\"name\":\"value\",\"type\":\"uint256\",\"indexed\":false}],\"anonymous\":false,\"type\":\"event\"},{\"name\":\"TokenExchange\",\"inputs\":[{\"name\":\"buyer\",\"type\":\"address\",\"indexed\":true},{\"name\":\"sold_id\",\"type\":\"int128\",\"indexed\":false},{\"name\":\"tokens_sold\",\"type\":\"uint256\",\"indexed\":false},{\"name\":\"bought_id\",\"type\":\"int128\",\"indexed\":false},{\"name\":\"tokens_bought\",\"type\":\"uint256\",\"indexed\":false}],\"anonymous\":false,\"type\":\"event\"},{\"name\":\"TokenExchangeUnderlying\",\"inputs\":[{\"name\":\"buyer\",\"type\":\"address\",\"indexed\":true},{\"name\":\"sold_id\",\"type\":\"int128\",\"indexed\":false},{\"name\":\"tokens_sold\",\"type\":\"uint256\",\"indexed\":false},{\"name\":\"bought_id\",\"type\":\"int128\",\"indexed\":false},{\"name\":\"tokens_bought\",\"type\":\"uint256\",\"indexed\":false}],\"anonymous\":false,\"type\":\"event\"},{\"name\":\"AddLiquidity\",\"inputs\":[{\"name\":\"provider\",\"type\":\"address\",\"indexed\":true},{\"name\":\"token_amounts\",\"type\":\"uint256[2]\",\"indexed\":false},{\"name\":\"fees\",\"type\":\"uint256[2]\",\"indexed\":false},{\"name\":\"invariant\",\"type\":\"uint256\",\"indexed\":false},{\"name\":\"token_supply\",\"type\":\"uint256\",\"indexed\":false}],\"anonymous\":false,\"type\":\"event\"},{\"name\":\"RemoveLiquidity\",\"inputs\":[{\"name\":\"provider\",\"type\":\"address\",\"indexed\":true},{\"name\":\"token_amounts\",\"type\":\"uint256[2]\",\"indexed\":false},{\"name\":\"fees\",\"type\":\"uint256[2]\",\"indexed\":false},{\"name\":\"token_supply\",\"type\":\"uint256\",\"indexed\":false}],\"anonymous\":false,\"type\":\"event\"},{\"name\":\"RemoveLiquidityOne\",\"inputs\":[{\"name\":\"provider\",\"type\":\"address\",\"indexed\":true},{\"name\":\"token_amount\",\"type\":\"uint256\",\"indexed\":false},{\"name\":\"coin_amount\",\"type\":\"uint256\",\"indexed\":false},{\"name\":\"token_supply\",\"type\":\"uint256\",\"indexed\":false}],\"anonymous\":false,\"type\":\"event\"},{\"name\":\"RemoveLiquidityImbalance\",\"inputs\":[{\"name\":\"provider\",\"type\":\"address\",\"indexed\":true},{\"name\":\"token_amounts\",\"type\":\"uint256[2]\",\"indexed\":false},{\"name\":\"fees\",\"type\":\"uint256[2]\",\"indexed\":false},{\"name\":\"invariant\",\"type\":\"uint256\",\"indexed\":false},{\"name\":\"token_supply\",\"type\":\"uint256\",\"indexed\":false}],\"anonymous\":false,\"type\":\"event\"},{\"name\":\"RampA\",\"inputs\":[{\"name\":\"old_A\",\"type\":\"uint256\",\"indexed\":false},{\"name\":\"new_A\",\"type\":\"uint256\",\"indexed\":false},{\"name\":\"initial_time\",\"type\":\"uint256\",\"indexed\":false},{\"name\":\"future_time\",\"type\":\"uint256\",\"indexed\":false}],\"anonymous\":false,\"type\":\"event\"},{\"name\":\"StopRampA\",\"inputs\":[{\"name\":\"A\",\"type\":\"uint256\",\"indexed\":false},{\"name\":\"t\",\"type\":\"uint256\",\"indexed\":false}],\"anonymous\":false,\"type\":\"event\"},{\"stateMutability\":\"nonpayable\",\"type\":\"constructor\",\"inputs\":[],\"outputs\":[]},{\"stateMutability\":\"nonpayable\",\"type\":\"function\",\"name\":\"initialize\",\"inputs\":[{\"name\":\"_name\",\"type\":\"string\"},{\"name\":\"_symbol\",\"type\":\"string\"},{\"name\":\"_coin\",\"type\":\"address\"},{\"name\":\"_rate_multiplier\",\"type\":\"uint256\"},{\"name\":\"_A\",\"type\":\"uint256\"},{\"name\":\"_fee\",\"type\":\"uint256\"}],\"outputs\":[],\"gas\":539992},{\"stateMutability\":\"view\",\"type\":\"function\",\"name\":\"decimals\",\"inputs\":[],\"outputs\":[{\"name\":\"\",\"type\":\"uint256\"}],\"gas\":318},{\"stateMutability\":\"nonpayable\",\"type\":\"function\",\"name\":\"transfer\",\"inputs\":[{\"name\":\"_to\",\"type\":\"address\"},{\"name\":\"_value\",\"type\":\"uint256\"}],\"outputs\":[{\"name\":\"\",\"type\":\"bool\"}],\"gas\":91298},{\"stateMutability\":\"nonpayable\",\"type\":\"function\",\"name\":\"transferFrom\",\"inputs\":[{\"name\":\"_from\",\"type\":\"address\"},{\"name\":\"_to\",\"type\":\"address\"},{\"name\":\"_value\",\"type\":\"uint256\"}],\"outputs\":[{\"name\":\"\",\"type\":\"bool\"}],\"gas\":129233},{\"stateMutability\":\"nonpayable\",\"type\":\"function\",\"name\":\"approve\",\"inputs\":[{\"name\":\"_spender\",\"type\":\"address\"},{\"name\":\"_value\",\"type\":\"uint256\"}],\"outputs\":[{\"name\":\"\",\"type\":\"bool\"}],\"gas\":39151},{\"stateMutability\":\"view\",\"type\":\"function\",\"name\":\"admin_fee\",\"inputs\":[],\"outputs\":[{\"name\":\"\",\"type\":\"uint256\"}],\"gas\":438},{\"stateMutability\":\"view\",\"type\":\"function\",\"name\":\"A\",\"inputs\":[],\"outputs\":[{\"name\":\"\",\"type\":\"uint256\"}],\"gas\":10704},{\"stateMutability\":\"view\",\"type\":\"function\",\"name\":\"A_precise\",\"inputs\":[],\"outputs\":[{\"name\":\"\",\"type\":\"uint256\"}],\"gas\":10666},{\"stateMutability\":\"view\",\"type\":\"function\",\"name\":\"get_virtual_price\",\"inputs\":[],\"outputs\":[{\"name\":\"\",\"type\":\"uint256\"}],\"gas\":1023280},{\"stateMutability\":\"view\",\"type\":\"function\",\"name\":\"calc_token_amount\",\"inputs\":[{\"name\":\"_amounts\",\"type\":\"uint256[2]\"},{\"name\":\"_is_deposit\",\"type\":\"bool\"}],\"outputs\":[{\"name\":\"\",\"type\":\"uint256\"}],\"gas\":4029742},{\"stateMutability\":\"nonpayable\",\"type\":\"function\",\"name\":\"add_liquidity\",\"inputs\":[{\"name\":\"_amounts\",\"type\":\"uint256[2]\"},{\"name\":\"_min_mint_amount\",\"type\":\"uint256\"}],\"outputs\":[{\"name\":\"\",\"type\":\"uint256\"}]},{\"stateMutability\":\"nonpayable\",\"type\":\"function\",\"name\":\"add_liquidity\",\"inputs\":[{\"name\":\"_amounts\",\"type\":\"uint256[2]\"},{\"name\":\"_min_mint_amount\",\"type\":\"uint256\"},{\"name\":\"_receiver\",\"type\":\"address\"}],\"outputs\":[{\"name\":\"\",\"type\":\"uint256\"}]},{\"stateMutability\":\"view\",\"type\":\"function\",\"name\":\"get_dy\",\"inputs\":[{\"name\":\"i\",\"type\":\"int128\"},{\"name\":\"j\",\"type\":\"int128\"},{\"name\":\"dx\",\"type\":\"uint256\"}],\"outputs\":[{\"name\":\"\",\"type\":\"uint256\"}],\"gas\":2466434},{\"stateMutability\":\"view\",\"type\":\"function\",\"name\":\"get_dy_underlying\",\"inputs\":[{\"name\":\"i\",\"type\":\"int128\"},{\"name\":\"j\",\"type\":\"int128\"},{\"name\":\"dx\",\"type\":\"uint256\"}],\"outputs\":[{\"name\":\"\",\"type\":\"uint256\"}],\"gas\":2474920},{\"stateMutability\":\"nonpayable\",\"type\":\"function\",\"name\":\"exchange\",\"inputs\":[{\"name\":\"i\",\"type\":\"int128\"},{\"name\":\"j\",\"type\":\"int128\"},{\"name\":\"_dx\",\"type\":\"uint256\"},{\"name\":\"_min_dy\",\"type\":\"uint256\"}],\"outputs\":[{\"name\":\"\",\"type\":\"uint256\"}]},{\"stateMutability\":\"nonpayable\",\"type\":\"function\",\"name\":\"exchange\",\"inputs\":[{\"name\":\"i\",\"type\":\"int128\"},{\"name\":\"j\",\"type\":\"int128\"},{\"name\":\"_dx\",\"type\":\"uint256\"},{\"name\":\"_min_dy\",\"type\":\"uint256\"},{\"name\":\"_receiver\",\"type\":\"address\"}],\"outputs\":[{\"name\":\"\",\"type\":\"uint256\"}]},{\"stateMutability\":\"nonpayable\",\"type\":\"function\",\"name\":\"exchange_underlying\",\"inputs\":[{\"name\":\"i\",\"type\":\"int128\"},{\"name\":\"j\",\"type\":\"int128\"},{\"name\":\"_dx\",\"type\":\"uint256\"},{\"name\":\"_min_dy\",\"type\":\"uint256\"}],\"outputs\":[{\"name\":\"\",\"type\":\"uint256\"}]},{\"stateMutability\":\"nonpayable\",\"type\":\"function\",\"name\":\"exchange_underlying\",\"inputs\":[{\"name\":\"i\",\"type\":\"int128\"},{\"name\":\"j\",\"type\":\"int128\"},{\"name\":\"_dx\",\"type\":\"uint256\"},{\"name\":\"_min_dy\",\"type\":\"uint256\"},{\"name\":\"_receiver\",\"type\":\"address\"}],\"outputs\":[{\"name\":\"\",\"type\":\"uint256\"}]},{\"stateMutability\":\"nonpayable\",\"type\":\"function\",\"name\":\"remove_liquidity\",\"inputs\":[{\"name\":\"_burn_amount\",\"type\":\"uint256\"},{\"name\":\"_min_amounts\",\"type\":\"uint256[2]\"}],\"outputs\":[{\"name\":\"\",\"type\":\"uint256[2]\"}]},{\"stateMutability\":\"nonpayable\",\"type\":\"function\",\"name\":\"remove_liquidity\",\"inputs\":[{\"name\":\"_burn_amount\",\"type\":\"uint256\"},{\"name\":\"_min_amounts\",\"type\":\"uint256[2]\"},{\"name\":\"_receiver\",\"type\":\"address\"}],\"outputs\":[{\"name\":\"\",\"type\":\"uint256[2]\"}]},{\"stateMutability\":\"nonpayable\",\"type\":\"function\",\"name\":\"remove_liquidity_imbalance\",\"inputs\":[{\"name\":\"_amounts\",\"type\":\"uint256[2]\"},{\"name\":\"_max_burn_amount\",\"type\":\"uint256\"}],\"outputs\":[{\"name\":\"\",\"type\":\"uint256\"}]},{\"stateMutability\":\"nonpayable\",\"type\":\"function\",\"name\":\"remove_liquidity_imbalance\",\"inputs\":[{\"name\":\"_amounts\",\"type\":\"uint256[2]\"},{\"name\":\"_max_burn_amount\",\"type\":\"uint256\"},{\"name\":\"_receiver\",\"type\":\"address\"}],\"outputs\":[{\"name\":\"\",\"type\":\"uint256\"}]},{\"stateMutability\":\"view\",\"type\":\"function\",\"name\":\"calc_withdraw_one_coin\",\"inputs\":[{\"name\":\"_burn_amount\",\"type\":\"uint256\"},{\"name\":\"i\",\"type\":\"int128\"}],\"outputs\":[{\"name\":\"\",\"type\":\"uint256\"}],\"gas\":1108},{\"stateMutability\":\"nonpayable\",\"type\":\"function\",\"name\":\"remove_liquidity_one_coin\",\"inputs\":[{\"name\":\"_burn_amount\",\"type\":\"uint256\"},{\"name\":\"i\",\"type\":\"int128\"},{\"name\":\"_min_received\",\"type\":\"uint256\"}],\"outputs\":[{\"name\":\"\",\"type\":\"uint256\"}]},{\"stateMutability\":\"nonpayable\",\"type\":\"function\",\"name\":\"remove_liquidity_one_coin\",\"inputs\":[{\"name\":\"_burn_amount\",\"type\":\"uint256\"},{\"name\":\"i\",\"type\":\"int128\"},{\"name\":\"_min_received\",\"type\":\"uint256\"},{\"name\":\"_receiver\",\"type\":\"address\"}],\"outputs\":[{\"name\":\"\",\"type\":\"uint256\"}]},{\"stateMutability\":\"nonpayable\",\"type\":\"function\",\"name\":\"ramp_A\",\"inputs\":[{\"name\":\"_future_A\",\"type\":\"uint256\"},{\"name\":\"_future_time\",\"type\":\"uint256\"}],\"outputs\":[],\"gas\":161967},{\"stateMutability\":\"nonpayable\",\"type\":\"function\",\"name\":\"stop_ramp_A\",\"inputs\":[],\"outputs\":[],\"gas\":157887},{\"stateMutability\":\"view\",\"type\":\"function\",\"name\":\"admin_balances\",\"inputs\":[{\"name\":\"i\",\"type\":\"uint256\"}],\"outputs\":[{\"name\":\"\",\"type\":\"uint256\"}],\"gas\":7855},{\"stateMutability\":\"nonpayable\",\"type\":\"function\",\"name\":\"withdraw_admin_fees\",\"inputs\":[],\"outputs\":[],\"gas\":43650},{\"stateMutability\":\"view\",\"type\":\"function\",\"name\":\"coins\",\"inputs\":[{\"name\":\"arg0\",\"type\":\"uint256\"}],\"outputs\":[{\"name\":\"\",\"type\":\"address\"}],\"gas\":3123},{\"stateMutability\":\"view\",\"type\":\"function\",\"name\":\"balances\",\"inputs\":[{\"name\":\"arg0\",\"type\":\"uint256\"}],\"outputs\":[{\"name\":\"\",\"type\":\"uint256\"}],\"gas\":3153},{\"stateMutability\":\"view\",\"type\":\"function\",\"name\":\"fee\",\"inputs\":[],\"outputs\":[{\"name\":\"\",\"type\":\"uint256\"}],\"gas\":3138},{\"stateMutability\":\"view\",\"type\":\"function\",\"name\":\"initial_A\",\"inputs\":[],\"outputs\":[{\"name\":\"\",\"type\":\"uint256\"}],\"gas\":3168},{\"stateMutability\":\"view\",\"type\":\"function\",\"name\":\"future_A\",\"inputs\":[],\"outputs\":[{\"name\":\"\",\"type\":\"uint256\"}],\"gas\":3198},{\"stateMutability\":\"view\",\"type\":\"function\",\"name\":\"initial_A_time\",\"inputs\":[],\"outputs\":[{\"name\":\"\",\"type\":\"uint256\"}],\"gas\":3228},{\"stateMutability\":\"view\",\"type\":\"function\",\"name\":\"future_A_time\",\"inputs\":[],\"outputs\":[{\"name\":\"\",\"type\":\"uint256\"}],\"gas\":3258},{\"stateMutability\":\"view\",\"type\":\"function\",\"name\":\"name\",\"inputs\":[],\"outputs\":[{\"name\":\"\",\"type\":\"string\"}],\"gas\":13518},{\"stateMutability\":\"view\",\"type\":\"function\",\"name\":\"symbol\",\"inputs\":[],\"outputs\":[{\"name\":\"\",\"type\":\"string\"}],\"gas\":11271},{\"stateMutability\":\"view\",\"type\":\"function\",\"name\":\"balanceOf\",\"inputs\":[{\"name\":\"arg0\",\"type\":\"address\"}],\"outputs\":[{\"name\":\"\",\"type\":\"uint256\"}],\"gas\":3563},{\"stateMutability\":\"view\",\"type\":\"function\",\"name\":\"allowance\",\"inputs\":[{\"name\":\"arg0\",\"type\":\"address\"},{\"name\":\"arg1\",\"type\":\"address\"}],\"outputs\":[{\"name\":\"\",\"type\":\"uint256\"}],\"gas\":3808},{\"stateMutability\":\"view\",\"type\":\"function\",\"name\":\"totalSupply\",\"inputs\":[],\"outputs\":[{\"name\":\"\",\"type\":\"uint256\"}],\"gas\":3408},{\"stateMutability\":\"view\",\"type\":\"function\",\"name\":\"rewards_receiver\",\"inputs\":[],\"outputs\":[{\"name\":\"\",\"type\":\"address\"}],\"gas\":3438}]'"
   ]
  },
  {
   "cell_type": "code",
   "execution_count": 17,
   "id": "6f2a7b0f",
   "metadata": {
    "ExecuteTime": {
     "end_time": "2022-04-05T04:41:40.134766Z",
     "start_time": "2022-04-05T04:41:39.686191Z"
    }
   },
   "outputs": [
    {
     "name": "stdout",
     "output_type": "stream",
     "text": [
      "Connected:  True\n"
     ]
    }
   ],
   "source": [
    "# Web3 Handle\n",
    "w3 = Web3(Web3.HTTPProvider(\"https://mainnet.infura.io/v3/\"+str(PROJECT_ID)))\n",
    "print('Connected: ', str(w3.isConnected()))"
   ]
  },
  {
   "cell_type": "code",
   "execution_count": 18,
   "id": "ebebe28c",
   "metadata": {
    "ExecuteTime": {
     "end_time": "2022-04-05T04:41:40.139981Z",
     "start_time": "2022-04-05T04:41:40.136706Z"
    }
   },
   "outputs": [],
   "source": [
    "# input_token_address = input(\"Enter Token Address: \")\n",
    "\n",
    "# UST\n",
    "input_token_address = '0xa693B19d2931d498c5B318dF961919BB4aee87a5'  \n",
    "\n",
    "# # USDT\n",
    "# input_token_address = '0xdAC17F958D2ee523a2206206994597C13D831ec7'"
   ]
  },
  {
   "cell_type": "code",
   "execution_count": 19,
   "id": "49cc7f3b",
   "metadata": {
    "ExecuteTime": {
     "end_time": "2022-04-05T04:41:42.140472Z",
     "start_time": "2022-04-05T04:41:40.142123Z"
    }
   },
   "outputs": [],
   "source": [
    "input_token_address = web3.toChecksumAddress(input_token_address)\n",
    "\n",
    "token_name, token_symbol, token_balance = ethereum_token_balance_of_address(input_token_address, pool_addresses[0])"
   ]
  },
  {
   "cell_type": "code",
   "execution_count": 20,
   "id": "2e9d33bd",
   "metadata": {
    "ExecuteTime": {
     "end_time": "2022-04-05T04:41:42.149349Z",
     "start_time": "2022-04-05T04:41:42.143422Z"
    }
   },
   "outputs": [
    {
     "data": {
      "text/plain": [
       "('UST (Wormhole)', 'UST', 0.0)"
      ]
     },
     "execution_count": 20,
     "metadata": {},
     "output_type": "execute_result"
    }
   ],
   "source": [
    "token_name, token_symbol, token_balance"
   ]
  },
  {
   "cell_type": "code",
   "execution_count": 21,
   "id": "0a01013c",
   "metadata": {
    "ExecuteTime": {
     "end_time": "2022-04-05T04:41:42.155028Z",
     "start_time": "2022-04-05T04:41:42.151882Z"
    }
   },
   "outputs": [],
   "source": [
    "# List to store the vault details\n",
    "TOKEN_BALANCES = list()"
   ]
  },
  {
   "cell_type": "code",
   "execution_count": 22,
   "id": "2a00b675",
   "metadata": {
    "ExecuteTime": {
     "end_time": "2022-04-05T04:42:18.074713Z",
     "start_time": "2022-04-05T04:41:42.157095Z"
    }
   },
   "outputs": [],
   "source": [
    "# Looping through all the pools on curve to get asset details\n",
    "for pool_address in pool_addresses:\n",
    "    try:\n",
    "        pool_address = w3.toChecksumAddress(pool_address)\n",
    "        _pool_instance = w3.eth.contract(address=pool_address, abi=POOL_CONTRACT_ABI)\n",
    "\n",
    "        # fetching balance of asset in pool\n",
    "        _token_name, _token_symbol, _token_balance = ethereum_token_balance_of_address(input_token_address, pool_address)\n",
    "\n",
    "        if _token_balance > 0:\n",
    "            _pool_name = 'NA'\n",
    "            _pool_token_address = 'NA'\n",
    "\n",
    "            try:\n",
    "                _pool_name = _pool_instance.functions.name().call()\n",
    "            except Exception as err:\n",
    "                print('Name Error in pool: ' + str(pool_address))\n",
    "                print(err)\n",
    "                _pool_token_address = w3.toChecksumAddress(_pool_instance.functions.token().call())\n",
    "                _pool_token_instance = w3.eth.contract(address=_pool_token_address, abi=TOKEN_CONTRACT_ABI)\n",
    "                _pool_name = _pool_token_instance.functions.name().call()\n",
    "            finally:\n",
    "                TOKEN_BALANCES.append({'Balance': _token_balance, 'Pool name': _pool_name, 'Pool Address': pool_address, 'LP Token address': _pool_token_address})\n",
    "        \n",
    "\n",
    "        \n",
    "        # TOKEN_BALANCES.append({'Balance': _token_balance, 'Pool name': _pool_token_name, 'Pool Address': pool_address, 'LP Token address': _pool_token_address})\n",
    "    \n",
    "    except Exception as err:\n",
    "        print('Error in pool: ' + str(pool_address))\n",
    "        print(err)\n"
   ]
  },
  {
   "cell_type": "code",
   "execution_count": 23,
   "id": "352fb930",
   "metadata": {
    "ExecuteTime": {
     "end_time": "2022-04-05T04:42:18.105162Z",
     "start_time": "2022-04-05T04:42:18.077507Z"
    }
   },
   "outputs": [
    {
     "name": "stdout",
     "output_type": "stream",
     "text": [
      "Token Name: UST (Wormhole)\n",
      "Curve Pool Balances: \n"
     ]
    },
    {
     "data": {
      "text/html": [
       "<div>\n",
       "<style scoped>\n",
       "    .dataframe tbody tr th:only-of-type {\n",
       "        vertical-align: middle;\n",
       "    }\n",
       "\n",
       "    .dataframe tbody tr th {\n",
       "        vertical-align: top;\n",
       "    }\n",
       "\n",
       "    .dataframe thead th {\n",
       "        text-align: right;\n",
       "    }\n",
       "</style>\n",
       "<table border=\"1\" class=\"dataframe\">\n",
       "  <thead>\n",
       "    <tr style=\"text-align: right;\">\n",
       "      <th></th>\n",
       "      <th>Balance</th>\n",
       "      <th>Pool name</th>\n",
       "      <th>Pool Address</th>\n",
       "      <th>LP Token address</th>\n",
       "    </tr>\n",
       "  </thead>\n",
       "  <tbody>\n",
       "    <tr>\n",
       "      <th>0</th>\n",
       "      <td>6.610456e+08</td>\n",
       "      <td>Curve.fi Factory USD Metapool: wormhole v2 UST...</td>\n",
       "      <td>0xCEAF7747579696A2F0bb206a14210e3c9e6fB269</td>\n",
       "      <td>NA</td>\n",
       "    </tr>\n",
       "    <tr>\n",
       "      <th>1</th>\n",
       "      <td>2.913346e+05</td>\n",
       "      <td>Curve.fi Factory Plain Pool: UST-FRAX</td>\n",
       "      <td>0x1c65bA665ce39cfe85639227eccf17Be2B167058</td>\n",
       "      <td>NA</td>\n",
       "    </tr>\n",
       "  </tbody>\n",
       "</table>\n",
       "</div>"
      ],
      "text/plain": [
       "        Balance                                          Pool name  \\\n",
       "0  6.610456e+08  Curve.fi Factory USD Metapool: wormhole v2 UST...   \n",
       "1  2.913346e+05              Curve.fi Factory Plain Pool: UST-FRAX   \n",
       "\n",
       "                                 Pool Address LP Token address  \n",
       "0  0xCEAF7747579696A2F0bb206a14210e3c9e6fB269               NA  \n",
       "1  0x1c65bA665ce39cfe85639227eccf17Be2B167058               NA  "
      ]
     },
     "execution_count": 23,
     "metadata": {},
     "output_type": "execute_result"
    }
   ],
   "source": [
    "print('Token Name: ' + str(token_name))\n",
    "print('Curve Pool Balances: ')\n",
    "# print(TOKEN_BALANCES)\n",
    "\n",
    "TOKEN_BALANCES_df = pd.DataFrame(TOKEN_BALANCES)\n",
    "TOKEN_BALANCES_df"
   ]
  },
  {
   "cell_type": "code",
   "execution_count": 24,
   "id": "afd45a8b",
   "metadata": {
    "ExecuteTime": {
     "end_time": "2022-04-05T04:42:18.110483Z",
     "start_time": "2022-04-05T04:42:18.107441Z"
    }
   },
   "outputs": [],
   "source": [
    "POOL_DETAILS = list()"
   ]
  },
  {
   "cell_type": "code",
   "execution_count": 25,
   "id": "8fcb8a90",
   "metadata": {
    "ExecuteTime": {
     "end_time": "2022-04-05T04:42:18.119161Z",
     "start_time": "2022-04-05T04:42:18.113678Z"
    }
   },
   "outputs": [],
   "source": [
    "def try_or(func, default=None, expected_exc=(Exception,)):\n",
    "    try:\n",
    "        return func()\n",
    "    except expected_exc:\n",
    "        return default"
   ]
  },
  {
   "cell_type": "code",
   "execution_count": 26,
   "id": "26a037b3",
   "metadata": {
    "ExecuteTime": {
     "end_time": "2022-04-05T04:43:56.590750Z",
     "start_time": "2022-04-05T04:42:18.121463Z"
    }
   },
   "outputs": [
    {
     "name": "stdout",
     "output_type": "stream",
     "text": [
      "Error in pool: 0xA5407eAE9Ba41422680e2e00537571bcC53efBfD\n",
      "execution reverted\n",
      "Error in pool: 0x45F783CCE6B7FF23B2ab2D70e416cdb7D6055f51\n",
      "execution reverted\n",
      "Error in pool: 0x52EA46506B9CC5Ef470C5bf89f17Dc28bB35D85C\n",
      "execution reverted\n"
     ]
    }
   ],
   "source": [
    "for pool_address in pool_addresses:\n",
    "    try:\n",
    "        pool_address = w3.toChecksumAddress(pool_address)\n",
    "        _pool_instance = w3.eth.contract(address=pool_address, abi=POOL_CONTRACT_ABI)\n",
    "\n",
    "        fee = float(_pool_instance.functions.fee().call()) / pow(10,8)\n",
    "\n",
    "        # initiating token counter and fetching balance of each asset in pool\n",
    "        \n",
    "        token0 = _pool_instance.functions.coins(0).call()\n",
    "        token1 = _pool_instance.functions.coins(1).call()\n",
    "        token2 = try_or(lambda: _pool_instance.functions.coins(2).call())\n",
    "        token3 = try_or(lambda: _pool_instance.functions.coins(3).call())\n",
    "\n",
    "        token0_name, token0_symbol, token0_balance = ethereum_token_balance_of_address(token0, pool_address)\n",
    "        token1_name, token1_symbol, token1_balance = ethereum_token_balance_of_address(token1, pool_address) \n",
    "        \n",
    "        if token2 is None:\n",
    "            token2_name, token2_symbol, token2_balance = (None, None, None)\n",
    "        else:\n",
    "            token2_name, token2_symbol, token2_balance = ethereum_token_balance_of_address(token2, pool_address)\n",
    "\n",
    "        if token3 is None:\n",
    "            token3_name, token3_symbol, token3_balance = (None, None, None)\n",
    "        else:\n",
    "            token3_name, token3_symbol, token3_balance = ethereum_token_balance_of_address(token3, pool_address)\n",
    "\n",
    "        details = {'Pool address': pool_address, 'fee(in %)': fee, 'token0_name': token0_name, 'token0_symbol': token0_symbol, 'token0_balance': token0_balance, 'token0_address': token0, 'token1_name': token1_name, 'token1_symbol': token1_symbol, 'token1_balance': token1_balance, 'token1_address': token1, 'token2_name': token2_name, 'token2_symbol': token2_symbol, 'token2_balance': token2_balance, 'token2_address': token2, 'token3_name': token3_name, 'token3_symbol': token3_symbol, 'token3_balance': token3_balance, 'token3_address': token3}\n",
    "        POOL_DETAILS.append(details)\n",
    "        \n",
    "\n",
    "\n",
    "    except Exception as err:\n",
    "        print('Error in pool: ' + str(pool_address))\n",
    "        print(err)"
   ]
  },
  {
   "cell_type": "code",
   "execution_count": 27,
   "id": "94aee4c2",
   "metadata": {
    "ExecuteTime": {
     "end_time": "2022-04-05T04:43:56.631359Z",
     "start_time": "2022-04-05T04:43:56.594965Z"
    }
   },
   "outputs": [
    {
     "name": "stdout",
     "output_type": "stream",
     "text": [
      "Curve Pool Details: \n"
     ]
    },
    {
     "data": {
      "text/html": [
       "<div>\n",
       "<style scoped>\n",
       "    .dataframe tbody tr th:only-of-type {\n",
       "        vertical-align: middle;\n",
       "    }\n",
       "\n",
       "    .dataframe tbody tr th {\n",
       "        vertical-align: top;\n",
       "    }\n",
       "\n",
       "    .dataframe thead th {\n",
       "        text-align: right;\n",
       "    }\n",
       "</style>\n",
       "<table border=\"1\" class=\"dataframe\">\n",
       "  <thead>\n",
       "    <tr style=\"text-align: right;\">\n",
       "      <th></th>\n",
       "      <th>Pool address</th>\n",
       "      <th>fee(in %)</th>\n",
       "      <th>token0_name</th>\n",
       "      <th>token0_symbol</th>\n",
       "      <th>token0_balance</th>\n",
       "      <th>token0_address</th>\n",
       "      <th>token1_name</th>\n",
       "      <th>token1_symbol</th>\n",
       "      <th>token1_balance</th>\n",
       "      <th>token1_address</th>\n",
       "      <th>token2_name</th>\n",
       "      <th>token2_symbol</th>\n",
       "      <th>token2_balance</th>\n",
       "      <th>token2_address</th>\n",
       "      <th>token3_name</th>\n",
       "      <th>token3_symbol</th>\n",
       "      <th>token3_balance</th>\n",
       "      <th>token3_address</th>\n",
       "    </tr>\n",
       "  </thead>\n",
       "  <tbody>\n",
       "    <tr>\n",
       "      <th>0</th>\n",
       "      <td>0xEd279fDD11cA84bEef15AF5D39BB4d4bEE23F0cA</td>\n",
       "      <td>0.040000</td>\n",
       "      <td>LUSD Stablecoin</td>\n",
       "      <td>LUSD</td>\n",
       "      <td>3.480233e+07</td>\n",
       "      <td>0x5f98805A4E8be255a32880FDeC7F6728C6568bA0</td>\n",
       "      <td>Curve.fi DAI/USDC/USDT</td>\n",
       "      <td>3Crv</td>\n",
       "      <td>6.464522e+07</td>\n",
       "      <td>0x6c3F90f043a72FA612cbac8115EE7e52BDe6E490</td>\n",
       "      <td>None</td>\n",
       "      <td>None</td>\n",
       "      <td>NaN</td>\n",
       "      <td>None</td>\n",
       "      <td>None</td>\n",
       "      <td>None</td>\n",
       "      <td>None</td>\n",
       "      <td>None</td>\n",
       "    </tr>\n",
       "    <tr>\n",
       "      <th>1</th>\n",
       "      <td>0x890f4e345B1dAED0367A877a1612f86A1f86985f</td>\n",
       "      <td>0.040000</td>\n",
       "      <td>Wrapped UST Token</td>\n",
       "      <td>UST</td>\n",
       "      <td>1.811911e+07</td>\n",
       "      <td>0xa47c8bf37f92aBed4A126BDA807A7b7498661acD</td>\n",
       "      <td>Curve.fi DAI/USDC/USDT</td>\n",
       "      <td>3Crv</td>\n",
       "      <td>1.816303e+07</td>\n",
       "      <td>0x6c3F90f043a72FA612cbac8115EE7e52BDe6E490</td>\n",
       "      <td>None</td>\n",
       "      <td>None</td>\n",
       "      <td>NaN</td>\n",
       "      <td>None</td>\n",
       "      <td>None</td>\n",
       "      <td>None</td>\n",
       "      <td>None</td>\n",
       "      <td>None</td>\n",
       "    </tr>\n",
       "    <tr>\n",
       "      <th>2</th>\n",
       "      <td>0xd632f22692FaC7611d2AA1C0D552930D43CAEd3B</td>\n",
       "      <td>0.040000</td>\n",
       "      <td>Frax</td>\n",
       "      <td>FRAX</td>\n",
       "      <td>1.630598e+09</td>\n",
       "      <td>0x853d955aCEf822Db058eb8505911ED77F175b99e</td>\n",
       "      <td>Curve.fi DAI/USDC/USDT</td>\n",
       "      <td>3Crv</td>\n",
       "      <td>1.180542e+09</td>\n",
       "      <td>0x6c3F90f043a72FA612cbac8115EE7e52BDe6E490</td>\n",
       "      <td>None</td>\n",
       "      <td>None</td>\n",
       "      <td>NaN</td>\n",
       "      <td>None</td>\n",
       "      <td>None</td>\n",
       "      <td>None</td>\n",
       "      <td>None</td>\n",
       "      <td>None</td>\n",
       "    </tr>\n",
       "    <tr>\n",
       "      <th>3</th>\n",
       "      <td>0xD51a44d3FaE010294C616388b506AcdA1bfAAE46</td>\n",
       "      <td>0.101321</td>\n",
       "      <td>Tether USD</td>\n",
       "      <td>USDT</td>\n",
       "      <td>2.936432e+08</td>\n",
       "      <td>0xdAC17F958D2ee523a2206206994597C13D831ec7</td>\n",
       "      <td>Wrapped BTC</td>\n",
       "      <td>WBTC</td>\n",
       "      <td>6.234208e+03</td>\n",
       "      <td>0x2260FAC5E5542a773Aa44fBCfeDf7C193bc2C599</td>\n",
       "      <td>Wrapped Ether</td>\n",
       "      <td>WETH</td>\n",
       "      <td>8.286443e+04</td>\n",
       "      <td>0xC02aaA39b223FE8D0A0e5C4F27eAD9083C756Cc2</td>\n",
       "      <td>None</td>\n",
       "      <td>None</td>\n",
       "      <td>None</td>\n",
       "      <td>None</td>\n",
       "    </tr>\n",
       "    <tr>\n",
       "      <th>4</th>\n",
       "      <td>0xCEAF7747579696A2F0bb206a14210e3c9e6fB269</td>\n",
       "      <td>0.040000</td>\n",
       "      <td>UST (Wormhole)</td>\n",
       "      <td>UST</td>\n",
       "      <td>6.610456e+08</td>\n",
       "      <td>0xa693B19d2931d498c5B318dF961919BB4aee87a5</td>\n",
       "      <td>Curve.fi DAI/USDC/USDT</td>\n",
       "      <td>3Crv</td>\n",
       "      <td>6.495427e+08</td>\n",
       "      <td>0x6c3F90f043a72FA612cbac8115EE7e52BDe6E490</td>\n",
       "      <td>None</td>\n",
       "      <td>None</td>\n",
       "      <td>NaN</td>\n",
       "      <td>None</td>\n",
       "      <td>None</td>\n",
       "      <td>None</td>\n",
       "      <td>None</td>\n",
       "      <td>None</td>\n",
       "    </tr>\n",
       "    <tr>\n",
       "      <th>5</th>\n",
       "      <td>0x5a6A4D54456819380173272A5E8E9B9904BdF41B</td>\n",
       "      <td>0.040000</td>\n",
       "      <td>Magic Internet Money</td>\n",
       "      <td>MIM</td>\n",
       "      <td>8.192868e+08</td>\n",
       "      <td>0x99D8a9C45b2ecA8864373A26D1459e3Dff1e17F3</td>\n",
       "      <td>Curve.fi DAI/USDC/USDT</td>\n",
       "      <td>3Crv</td>\n",
       "      <td>2.286518e+08</td>\n",
       "      <td>0x6c3F90f043a72FA612cbac8115EE7e52BDe6E490</td>\n",
       "      <td>None</td>\n",
       "      <td>None</td>\n",
       "      <td>NaN</td>\n",
       "      <td>None</td>\n",
       "      <td>None</td>\n",
       "      <td>None</td>\n",
       "      <td>None</td>\n",
       "      <td>None</td>\n",
       "    </tr>\n",
       "    <tr>\n",
       "      <th>6</th>\n",
       "      <td>0x1c65bA665ce39cfe85639227eccf17Be2B167058</td>\n",
       "      <td>0.040000</td>\n",
       "      <td>UST (Wormhole)</td>\n",
       "      <td>UST</td>\n",
       "      <td>2.913346e+05</td>\n",
       "      <td>0xa693B19d2931d498c5B318dF961919BB4aee87a5</td>\n",
       "      <td>Frax</td>\n",
       "      <td>FRAX</td>\n",
       "      <td>3.096243e+05</td>\n",
       "      <td>0x853d955aCEf822Db058eb8505911ED77F175b99e</td>\n",
       "      <td>None</td>\n",
       "      <td>None</td>\n",
       "      <td>NaN</td>\n",
       "      <td>None</td>\n",
       "      <td>None</td>\n",
       "      <td>None</td>\n",
       "      <td>None</td>\n",
       "      <td>None</td>\n",
       "    </tr>\n",
       "    <tr>\n",
       "      <th>7</th>\n",
       "      <td>0x55A8a39bc9694714E2874c1ce77aa1E599461E18</td>\n",
       "      <td>0.040000</td>\n",
       "      <td>Magic Internet Money</td>\n",
       "      <td>MIM</td>\n",
       "      <td>6.205741e+07</td>\n",
       "      <td>0x99D8a9C45b2ecA8864373A26D1459e3Dff1e17F3</td>\n",
       "      <td>Wrapped UST Token</td>\n",
       "      <td>UST</td>\n",
       "      <td>4.498949e+07</td>\n",
       "      <td>0xa47c8bf37f92aBed4A126BDA807A7b7498661acD</td>\n",
       "      <td>None</td>\n",
       "      <td>None</td>\n",
       "      <td>NaN</td>\n",
       "      <td>None</td>\n",
       "      <td>None</td>\n",
       "      <td>None</td>\n",
       "      <td>None</td>\n",
       "      <td>None</td>\n",
       "    </tr>\n",
       "    <tr>\n",
       "      <th>8</th>\n",
       "      <td>0x752eBeb79963cf0732E9c0fec72a49FD1DEfAEAC</td>\n",
       "      <td>0.392776</td>\n",
       "      <td>Wrapped Ether</td>\n",
       "      <td>WETH</td>\n",
       "      <td>0.000000e+00</td>\n",
       "      <td>0xC02aaA39b223FE8D0A0e5C4F27eAD9083C756Cc2</td>\n",
       "      <td>Threshold Network Token</td>\n",
       "      <td>T</td>\n",
       "      <td>1.830436e+08</td>\n",
       "      <td>0xCdF7028ceAB81fA0C6971208e83fa7872994beE5</td>\n",
       "      <td>None</td>\n",
       "      <td>None</td>\n",
       "      <td>NaN</td>\n",
       "      <td>None</td>\n",
       "      <td>None</td>\n",
       "      <td>None</td>\n",
       "      <td>None</td>\n",
       "      <td>None</td>\n",
       "    </tr>\n",
       "    <tr>\n",
       "      <th>9</th>\n",
       "      <td>0x80466c64868E1ab14a1Ddf27A676C3fcBE638Fe5</td>\n",
       "      <td>0.232497</td>\n",
       "      <td>Tether USD</td>\n",
       "      <td>USDT</td>\n",
       "      <td>5.285205e+05</td>\n",
       "      <td>0xdAC17F958D2ee523a2206206994597C13D831ec7</td>\n",
       "      <td>Wrapped BTC</td>\n",
       "      <td>WBTC</td>\n",
       "      <td>1.116611e+01</td>\n",
       "      <td>0x2260FAC5E5542a773Aa44fBCfeDf7C193bc2C599</td>\n",
       "      <td>Wrapped Ether</td>\n",
       "      <td>WETH</td>\n",
       "      <td>1.454492e+02</td>\n",
       "      <td>0xC02aaA39b223FE8D0A0e5C4F27eAD9083C756Cc2</td>\n",
       "      <td>None</td>\n",
       "      <td>None</td>\n",
       "      <td>None</td>\n",
       "      <td>None</td>\n",
       "    </tr>\n",
       "    <tr>\n",
       "      <th>10</th>\n",
       "      <td>0x8301AE4fc9c624d1D396cbDAa1ed877821D7C511</td>\n",
       "      <td>0.339780</td>\n",
       "      <td>Wrapped Ether</td>\n",
       "      <td>WETH</td>\n",
       "      <td>0.000000e+00</td>\n",
       "      <td>0xC02aaA39b223FE8D0A0e5C4F27eAD9083C756Cc2</td>\n",
       "      <td>Curve DAO Token</td>\n",
       "      <td>CRV</td>\n",
       "      <td>3.688585e+07</td>\n",
       "      <td>0xD533a949740bb3306d119CC777fa900bA034cd52</td>\n",
       "      <td>None</td>\n",
       "      <td>None</td>\n",
       "      <td>NaN</td>\n",
       "      <td>None</td>\n",
       "      <td>None</td>\n",
       "      <td>None</td>\n",
       "      <td>None</td>\n",
       "      <td>None</td>\n",
       "    </tr>\n",
       "    <tr>\n",
       "      <th>11</th>\n",
       "      <td>0xbEbc44782C7dB0a1A60Cb6fe97d0b483032FF1C7</td>\n",
       "      <td>0.030000</td>\n",
       "      <td>Dai Stablecoin</td>\n",
       "      <td>DAI</td>\n",
       "      <td>1.469424e+09</td>\n",
       "      <td>0x6B175474E89094C44Da98b954EedeAC495271d0F</td>\n",
       "      <td>USD Coin</td>\n",
       "      <td>USDC</td>\n",
       "      <td>1.225702e+09</td>\n",
       "      <td>0xA0b86991c6218b36c1d19D4a2e9Eb0cE3606eB48</td>\n",
       "      <td>Tether USD</td>\n",
       "      <td>USDT</td>\n",
       "      <td>5.056652e+08</td>\n",
       "      <td>0xdAC17F958D2ee523a2206206994597C13D831ec7</td>\n",
       "      <td>None</td>\n",
       "      <td>None</td>\n",
       "      <td>None</td>\n",
       "      <td>None</td>\n",
       "    </tr>\n",
       "  </tbody>\n",
       "</table>\n",
       "</div>"
      ],
      "text/plain": [
       "                                  Pool address  fee(in %)  \\\n",
       "0   0xEd279fDD11cA84bEef15AF5D39BB4d4bEE23F0cA   0.040000   \n",
       "1   0x890f4e345B1dAED0367A877a1612f86A1f86985f   0.040000   \n",
       "2   0xd632f22692FaC7611d2AA1C0D552930D43CAEd3B   0.040000   \n",
       "3   0xD51a44d3FaE010294C616388b506AcdA1bfAAE46   0.101321   \n",
       "4   0xCEAF7747579696A2F0bb206a14210e3c9e6fB269   0.040000   \n",
       "5   0x5a6A4D54456819380173272A5E8E9B9904BdF41B   0.040000   \n",
       "6   0x1c65bA665ce39cfe85639227eccf17Be2B167058   0.040000   \n",
       "7   0x55A8a39bc9694714E2874c1ce77aa1E599461E18   0.040000   \n",
       "8   0x752eBeb79963cf0732E9c0fec72a49FD1DEfAEAC   0.392776   \n",
       "9   0x80466c64868E1ab14a1Ddf27A676C3fcBE638Fe5   0.232497   \n",
       "10  0x8301AE4fc9c624d1D396cbDAa1ed877821D7C511   0.339780   \n",
       "11  0xbEbc44782C7dB0a1A60Cb6fe97d0b483032FF1C7   0.030000   \n",
       "\n",
       "             token0_name token0_symbol  token0_balance  \\\n",
       "0        LUSD Stablecoin          LUSD    3.480233e+07   \n",
       "1      Wrapped UST Token           UST    1.811911e+07   \n",
       "2                   Frax          FRAX    1.630598e+09   \n",
       "3             Tether USD          USDT    2.936432e+08   \n",
       "4         UST (Wormhole)           UST    6.610456e+08   \n",
       "5   Magic Internet Money           MIM    8.192868e+08   \n",
       "6         UST (Wormhole)           UST    2.913346e+05   \n",
       "7   Magic Internet Money           MIM    6.205741e+07   \n",
       "8          Wrapped Ether          WETH    0.000000e+00   \n",
       "9             Tether USD          USDT    5.285205e+05   \n",
       "10         Wrapped Ether          WETH    0.000000e+00   \n",
       "11        Dai Stablecoin           DAI    1.469424e+09   \n",
       "\n",
       "                                token0_address              token1_name  \\\n",
       "0   0x5f98805A4E8be255a32880FDeC7F6728C6568bA0   Curve.fi DAI/USDC/USDT   \n",
       "1   0xa47c8bf37f92aBed4A126BDA807A7b7498661acD   Curve.fi DAI/USDC/USDT   \n",
       "2   0x853d955aCEf822Db058eb8505911ED77F175b99e   Curve.fi DAI/USDC/USDT   \n",
       "3   0xdAC17F958D2ee523a2206206994597C13D831ec7              Wrapped BTC   \n",
       "4   0xa693B19d2931d498c5B318dF961919BB4aee87a5   Curve.fi DAI/USDC/USDT   \n",
       "5   0x99D8a9C45b2ecA8864373A26D1459e3Dff1e17F3   Curve.fi DAI/USDC/USDT   \n",
       "6   0xa693B19d2931d498c5B318dF961919BB4aee87a5                     Frax   \n",
       "7   0x99D8a9C45b2ecA8864373A26D1459e3Dff1e17F3        Wrapped UST Token   \n",
       "8   0xC02aaA39b223FE8D0A0e5C4F27eAD9083C756Cc2  Threshold Network Token   \n",
       "9   0xdAC17F958D2ee523a2206206994597C13D831ec7              Wrapped BTC   \n",
       "10  0xC02aaA39b223FE8D0A0e5C4F27eAD9083C756Cc2          Curve DAO Token   \n",
       "11  0x6B175474E89094C44Da98b954EedeAC495271d0F                 USD Coin   \n",
       "\n",
       "   token1_symbol  token1_balance                              token1_address  \\\n",
       "0           3Crv    6.464522e+07  0x6c3F90f043a72FA612cbac8115EE7e52BDe6E490   \n",
       "1           3Crv    1.816303e+07  0x6c3F90f043a72FA612cbac8115EE7e52BDe6E490   \n",
       "2           3Crv    1.180542e+09  0x6c3F90f043a72FA612cbac8115EE7e52BDe6E490   \n",
       "3           WBTC    6.234208e+03  0x2260FAC5E5542a773Aa44fBCfeDf7C193bc2C599   \n",
       "4           3Crv    6.495427e+08  0x6c3F90f043a72FA612cbac8115EE7e52BDe6E490   \n",
       "5           3Crv    2.286518e+08  0x6c3F90f043a72FA612cbac8115EE7e52BDe6E490   \n",
       "6           FRAX    3.096243e+05  0x853d955aCEf822Db058eb8505911ED77F175b99e   \n",
       "7            UST    4.498949e+07  0xa47c8bf37f92aBed4A126BDA807A7b7498661acD   \n",
       "8              T    1.830436e+08  0xCdF7028ceAB81fA0C6971208e83fa7872994beE5   \n",
       "9           WBTC    1.116611e+01  0x2260FAC5E5542a773Aa44fBCfeDf7C193bc2C599   \n",
       "10           CRV    3.688585e+07  0xD533a949740bb3306d119CC777fa900bA034cd52   \n",
       "11          USDC    1.225702e+09  0xA0b86991c6218b36c1d19D4a2e9Eb0cE3606eB48   \n",
       "\n",
       "      token2_name token2_symbol  token2_balance  \\\n",
       "0            None          None             NaN   \n",
       "1            None          None             NaN   \n",
       "2            None          None             NaN   \n",
       "3   Wrapped Ether          WETH    8.286443e+04   \n",
       "4            None          None             NaN   \n",
       "5            None          None             NaN   \n",
       "6            None          None             NaN   \n",
       "7            None          None             NaN   \n",
       "8            None          None             NaN   \n",
       "9   Wrapped Ether          WETH    1.454492e+02   \n",
       "10           None          None             NaN   \n",
       "11     Tether USD          USDT    5.056652e+08   \n",
       "\n",
       "                                token2_address token3_name token3_symbol  \\\n",
       "0                                         None        None          None   \n",
       "1                                         None        None          None   \n",
       "2                                         None        None          None   \n",
       "3   0xC02aaA39b223FE8D0A0e5C4F27eAD9083C756Cc2        None          None   \n",
       "4                                         None        None          None   \n",
       "5                                         None        None          None   \n",
       "6                                         None        None          None   \n",
       "7                                         None        None          None   \n",
       "8                                         None        None          None   \n",
       "9   0xC02aaA39b223FE8D0A0e5C4F27eAD9083C756Cc2        None          None   \n",
       "10                                        None        None          None   \n",
       "11  0xdAC17F958D2ee523a2206206994597C13D831ec7        None          None   \n",
       "\n",
       "   token3_balance token3_address  \n",
       "0            None           None  \n",
       "1            None           None  \n",
       "2            None           None  \n",
       "3            None           None  \n",
       "4            None           None  \n",
       "5            None           None  \n",
       "6            None           None  \n",
       "7            None           None  \n",
       "8            None           None  \n",
       "9            None           None  \n",
       "10           None           None  \n",
       "11           None           None  "
      ]
     },
     "execution_count": 27,
     "metadata": {},
     "output_type": "execute_result"
    }
   ],
   "source": [
    "print('Curve Pool Details: ')\n",
    "# print(TOKEN_BALANCES)\n",
    "\n",
    "POOL_DETAILS_df = pd.DataFrame(POOL_DETAILS)\n",
    "POOL_DETAILS_df"
   ]
  },
  {
   "cell_type": "code",
   "execution_count": null,
   "id": "bb3b0da8",
   "metadata": {},
   "outputs": [],
   "source": []
  },
  {
   "cell_type": "markdown",
   "id": "c8338cea",
   "metadata": {},
   "source": [
    "### Depeg Model Study"
   ]
  },
  {
   "cell_type": "code",
   "execution_count": 28,
   "id": "1688e3a3",
   "metadata": {
    "ExecuteTime": {
     "end_time": "2022-04-05T04:43:56.637205Z",
     "start_time": "2022-04-05T04:43:56.633675Z"
    }
   },
   "outputs": [],
   "source": [
    "# Getting the value of A from the contract and contract methods for mathematical modelling\n"
   ]
  },
  {
   "cell_type": "code",
   "execution_count": null,
   "id": "9b5eae68",
   "metadata": {},
   "outputs": [],
   "source": []
  },
  {
   "cell_type": "code",
   "execution_count": null,
   "id": "f04fd466",
   "metadata": {},
   "outputs": [],
   "source": []
  },
  {
   "cell_type": "code",
   "execution_count": null,
   "id": "c5846ec9",
   "metadata": {},
   "outputs": [],
   "source": []
  },
  {
   "cell_type": "code",
   "execution_count": null,
   "id": "78192489",
   "metadata": {},
   "outputs": [],
   "source": []
  },
  {
   "cell_type": "code",
   "execution_count": null,
   "id": "4c6e6275",
   "metadata": {},
   "outputs": [],
   "source": []
  }
 ],
 "metadata": {
  "kernelspec": {
   "display_name": "Python 3",
   "language": "python",
   "name": "python3"
  },
  "language_info": {
   "codemirror_mode": {
    "name": "ipython",
    "version": 3
   },
   "file_extension": ".py",
   "mimetype": "text/x-python",
   "name": "python",
   "nbconvert_exporter": "python",
   "pygments_lexer": "ipython3",
   "version": "3.6.13"
  }
 },
 "nbformat": 4,
 "nbformat_minor": 5
}
