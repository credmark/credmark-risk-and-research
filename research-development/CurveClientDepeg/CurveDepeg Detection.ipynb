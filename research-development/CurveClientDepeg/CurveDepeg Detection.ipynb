{
 "cells": [
  {
   "cell_type": "code",
   "execution_count": 25,
   "metadata": {
    "ExecuteTime": {
     "end_time": "2022-04-05T09:08:26.808459Z",
     "start_time": "2022-04-05T09:08:26.805909Z"
    }
   },
   "outputs": [],
   "source": [
    "# Import Packages\n",
    "from web3 import Web3\n",
    "import requests"
   ]
  },
  {
   "cell_type": "code",
   "execution_count": 26,
   "metadata": {
    "ExecuteTime": {
     "end_time": "2022-04-05T09:08:26.812721Z",
     "start_time": "2022-04-05T09:08:26.810356Z"
    }
   },
   "outputs": [],
   "source": [
    "# Infura Details\n",
    "PROJECT_ID = \"1b0fc3af1d194e8ea8db248ccf926085\"\n",
    "\n",
    "# Etherscan API Details\n",
    "ETHERSCAN_API_KEY = \"P4XI3P1XKMUFPGIKGDNEJ8RAV6TBE317MW\""
   ]
  },
  {
   "cell_type": "code",
   "execution_count": 27,
   "metadata": {
    "ExecuteTime": {
     "end_time": "2022-04-05T09:08:27.061991Z",
     "start_time": "2022-04-05T09:08:26.814218Z"
    }
   },
   "outputs": [
    {
     "name": "stdout",
     "output_type": "stream",
     "text": [
      "Connected:  True\n"
     ]
    }
   ],
   "source": [
    "# Web3 Handle\n",
    "web3 = Web3(Web3.HTTPProvider(\"https://mainnet.infura.io/v3/\"+str(PROJECT_ID)))\n",
    "print('Connected: ', str(web3.isConnected()))"
   ]
  },
  {
   "cell_type": "code",
   "execution_count": 28,
   "metadata": {
    "ExecuteTime": {
     "end_time": "2022-04-05T09:08:27.066549Z",
     "start_time": "2022-04-05T09:08:27.063388Z"
    }
   },
   "outputs": [],
   "source": [
    "# Fetch ABI from contract address\n",
    "## Needs Contract Address and API Key as an input\n",
    "\n",
    "def etherscan_abi_request(_contractAddress, _apiKey):\n",
    "    '''\n",
    "        Etherscan ABI Request Method\n",
    "        Args::\n",
    "            _contractAddress: Ethereum Address of the contract\n",
    "            _apiKey: Etherscan API Key\n",
    "        Returns::\n",
    "            ethResJS: Etherscan ABI request result in JSON format\n",
    "    '''\n",
    "    ETHERSCAN_ABI_REQUEST = \"https://api.etherscan.io/api?module=contract&action=getabi&address={0}&apikey={1}\".format(_contractAddress, _apiKey)\n",
    "    ethResJS = (requests.get(ETHERSCAN_ABI_REQUEST)).json()['result']\n",
    "#     ethRes = (requests.get(ETHERSCAN_ABI_REQUEST))\n",
    "    return ethResJS"
   ]
  },
  {
   "cell_type": "code",
   "execution_count": 29,
   "metadata": {
    "ExecuteTime": {
     "end_time": "2022-04-05T09:08:27.073611Z",
     "start_time": "2022-04-05T09:08:27.068879Z"
    }
   },
   "outputs": [],
   "source": [
    "# Get token balance of an address on ethereum chain\n",
    "def ethereum_token_balance_of_address(_contractAddress, _accountAddress):\n",
    "    '''\n",
    "            Get token balance of an address method\n",
    "            Args::\n",
    "                _contractAddress: Ethereum Address of the token contract\n",
    "                _accountAddress: Ethereum Address of account whose token balance is to be fetched\n",
    "                _apiKey: Etherscan API Key\n",
    "            Returns::\n",
    "                _name: Name of token\n",
    "                _balance: Token Balance of Account\n",
    "    '''\n",
    "\n",
    "    _contractAddress = web3.toChecksumAddress(_contractAddress)\n",
    "    _contractABI = '[{\"inputs\":[],\"stateMutability\":\"nonpayable\",\"type\":\"constructor\"},{\"anonymous\":false,\"inputs\":[{\"indexed\":true,\"internalType\":\"address\",\"name\":\"owner\",\"type\":\"address\"},{\"indexed\":true,\"internalType\":\"address\",\"name\":\"spender\",\"type\":\"address\"},{\"indexed\":false,\"internalType\":\"uint256\",\"name\":\"value\",\"type\":\"uint256\"}],\"name\":\"Approval\",\"type\":\"event\"},{\"anonymous\":false,\"inputs\":[{\"indexed\":true,\"internalType\":\"bytes32\",\"name\":\"role\",\"type\":\"bytes32\"},{\"indexed\":true,\"internalType\":\"bytes32\",\"name\":\"previousAdminRole\",\"type\":\"bytes32\"},{\"indexed\":true,\"internalType\":\"bytes32\",\"name\":\"newAdminRole\",\"type\":\"bytes32\"}],\"name\":\"RoleAdminChanged\",\"type\":\"event\"},{\"anonymous\":false,\"inputs\":[{\"indexed\":true,\"internalType\":\"bytes32\",\"name\":\"role\",\"type\":\"bytes32\"},{\"indexed\":true,\"internalType\":\"address\",\"name\":\"account\",\"type\":\"address\"},{\"indexed\":true,\"internalType\":\"address\",\"name\":\"sender\",\"type\":\"address\"}],\"name\":\"RoleGranted\",\"type\":\"event\"},{\"anonymous\":false,\"inputs\":[{\"indexed\":true,\"internalType\":\"bytes32\",\"name\":\"role\",\"type\":\"bytes32\"},{\"indexed\":true,\"internalType\":\"address\",\"name\":\"account\",\"type\":\"address\"},{\"indexed\":true,\"internalType\":\"address\",\"name\":\"sender\",\"type\":\"address\"}],\"name\":\"RoleRevoked\",\"type\":\"event\"},{\"anonymous\":false,\"inputs\":[{\"indexed\":true,\"internalType\":\"address\",\"name\":\"from\",\"type\":\"address\"},{\"indexed\":true,\"internalType\":\"address\",\"name\":\"to\",\"type\":\"address\"},{\"indexed\":false,\"internalType\":\"uint256\",\"name\":\"value\",\"type\":\"uint256\"}],\"name\":\"Transfer\",\"type\":\"event\"},{\"inputs\":[],\"name\":\"ADMIN_ROLE\",\"outputs\":[{\"internalType\":\"bytes32\",\"name\":\"\",\"type\":\"bytes32\"}],\"stateMutability\":\"view\",\"type\":\"function\"},{\"inputs\":[],\"name\":\"DEFAULT_ADMIN_ROLE\",\"outputs\":[{\"internalType\":\"bytes32\",\"name\":\"\",\"type\":\"bytes32\"}],\"stateMutability\":\"view\",\"type\":\"function\"},{\"inputs\":[],\"name\":\"MINTER_ROLE\",\"outputs\":[{\"internalType\":\"bytes32\",\"name\":\"\",\"type\":\"bytes32\"}],\"stateMutability\":\"view\",\"type\":\"function\"},{\"inputs\":[{\"internalType\":\"address\",\"name\":\"owner\",\"type\":\"address\"},{\"internalType\":\"address\",\"name\":\"spender\",\"type\":\"address\"}],\"name\":\"allowance\",\"outputs\":[{\"internalType\":\"uint256\",\"name\":\"\",\"type\":\"uint256\"}],\"stateMutability\":\"view\",\"type\":\"function\"},{\"inputs\":[{\"internalType\":\"address\",\"name\":\"spender\",\"type\":\"address\"},{\"internalType\":\"uint256\",\"name\":\"amount\",\"type\":\"uint256\"}],\"name\":\"approve\",\"outputs\":[{\"internalType\":\"bool\",\"name\":\"\",\"type\":\"bool\"}],\"stateMutability\":\"nonpayable\",\"type\":\"function\"},{\"inputs\":[{\"internalType\":\"address\",\"name\":\"account\",\"type\":\"address\"}],\"name\":\"balanceOf\",\"outputs\":[{\"internalType\":\"uint256\",\"name\":\"\",\"type\":\"uint256\"}],\"stateMutability\":\"view\",\"type\":\"function\"},{\"inputs\":[],\"name\":\"decimals\",\"outputs\":[{\"internalType\":\"uint8\",\"name\":\"\",\"type\":\"uint8\"}],\"stateMutability\":\"view\",\"type\":\"function\"},{\"inputs\":[{\"internalType\":\"address\",\"name\":\"spender\",\"type\":\"address\"},{\"internalType\":\"uint256\",\"name\":\"subtractedValue\",\"type\":\"uint256\"}],\"name\":\"decreaseAllowance\",\"outputs\":[{\"internalType\":\"bool\",\"name\":\"\",\"type\":\"bool\"}],\"stateMutability\":\"nonpayable\",\"type\":\"function\"},{\"inputs\":[{\"internalType\":\"bytes32\",\"name\":\"role\",\"type\":\"bytes32\"}],\"name\":\"getRoleAdmin\",\"outputs\":[{\"internalType\":\"bytes32\",\"name\":\"\",\"type\":\"bytes32\"}],\"stateMutability\":\"view\",\"type\":\"function\"},{\"inputs\":[{\"internalType\":\"bytes32\",\"name\":\"role\",\"type\":\"bytes32\"},{\"internalType\":\"uint256\",\"name\":\"index\",\"type\":\"uint256\"}],\"name\":\"getRoleMember\",\"outputs\":[{\"internalType\":\"address\",\"name\":\"\",\"type\":\"address\"}],\"stateMutability\":\"view\",\"type\":\"function\"},{\"inputs\":[{\"internalType\":\"bytes32\",\"name\":\"role\",\"type\":\"bytes32\"}],\"name\":\"getRoleMemberCount\",\"outputs\":[{\"internalType\":\"uint256\",\"name\":\"\",\"type\":\"uint256\"}],\"stateMutability\":\"view\",\"type\":\"function\"},{\"inputs\":[{\"internalType\":\"bytes32\",\"name\":\"role\",\"type\":\"bytes32\"},{\"internalType\":\"address\",\"name\":\"account\",\"type\":\"address\"}],\"name\":\"grantRole\",\"outputs\":[],\"stateMutability\":\"nonpayable\",\"type\":\"function\"},{\"inputs\":[{\"internalType\":\"bytes32\",\"name\":\"role\",\"type\":\"bytes32\"},{\"internalType\":\"address\",\"name\":\"account\",\"type\":\"address\"}],\"name\":\"hasRole\",\"outputs\":[{\"internalType\":\"bool\",\"name\":\"\",\"type\":\"bool\"}],\"stateMutability\":\"view\",\"type\":\"function\"},{\"inputs\":[{\"internalType\":\"address\",\"name\":\"spender\",\"type\":\"address\"},{\"internalType\":\"uint256\",\"name\":\"addedValue\",\"type\":\"uint256\"}],\"name\":\"increaseAllowance\",\"outputs\":[{\"internalType\":\"bool\",\"name\":\"\",\"type\":\"bool\"}],\"stateMutability\":\"nonpayable\",\"type\":\"function\"},{\"inputs\":[{\"internalType\":\"address\",\"name\":\"_recipient\",\"type\":\"address\"},{\"internalType\":\"uint256\",\"name\":\"_amount\",\"type\":\"uint256\"}],\"name\":\"mint\",\"outputs\":[],\"stateMutability\":\"nonpayable\",\"type\":\"function\"},{\"inputs\":[],\"name\":\"name\",\"outputs\":[{\"internalType\":\"string\",\"name\":\"\",\"type\":\"string\"}],\"stateMutability\":\"view\",\"type\":\"function\"},{\"inputs\":[{\"internalType\":\"bytes32\",\"name\":\"role\",\"type\":\"bytes32\"},{\"internalType\":\"address\",\"name\":\"account\",\"type\":\"address\"}],\"name\":\"renounceRole\",\"outputs\":[],\"stateMutability\":\"nonpayable\",\"type\":\"function\"},{\"inputs\":[{\"internalType\":\"bytes32\",\"name\":\"role\",\"type\":\"bytes32\"},{\"internalType\":\"address\",\"name\":\"account\",\"type\":\"address\"}],\"name\":\"revokeRole\",\"outputs\":[],\"stateMutability\":\"nonpayable\",\"type\":\"function\"},{\"inputs\":[],\"name\":\"symbol\",\"outputs\":[{\"internalType\":\"string\",\"name\":\"\",\"type\":\"string\"}],\"stateMutability\":\"view\",\"type\":\"function\"},{\"inputs\":[],\"name\":\"totalSupply\",\"outputs\":[{\"internalType\":\"uint256\",\"name\":\"\",\"type\":\"uint256\"}],\"stateMutability\":\"view\",\"type\":\"function\"},{\"inputs\":[{\"internalType\":\"address\",\"name\":\"recipient\",\"type\":\"address\"},{\"internalType\":\"uint256\",\"name\":\"amount\",\"type\":\"uint256\"}],\"name\":\"transfer\",\"outputs\":[{\"internalType\":\"bool\",\"name\":\"\",\"type\":\"bool\"}],\"stateMutability\":\"nonpayable\",\"type\":\"function\"},{\"inputs\":[{\"internalType\":\"address\",\"name\":\"sender\",\"type\":\"address\"},{\"internalType\":\"address\",\"name\":\"recipient\",\"type\":\"address\"},{\"internalType\":\"uint256\",\"name\":\"amount\",\"type\":\"uint256\"}],\"name\":\"transferFrom\",\"outputs\":[{\"internalType\":\"bool\",\"name\":\"\",\"type\":\"bool\"}],\"stateMutability\":\"nonpayable\",\"type\":\"function\"}]'\n",
    "    \n",
    "    _contract = web3.eth.contract(address=_contractAddress, abi= _contractABI)\n",
    "\n",
    "    _name = _contract.functions.name().call()\n",
    "    _balance = _contract.functions.balanceOf(_accountAddress).call()\n",
    "    _decimals = _contract.functions.decimals().call()\n",
    "    _symbol = _contract.functions.symbol().call()\n",
    "\n",
    "    _balance = float(_balance)/pow(10,_decimals)\n",
    "\n",
    "    return (_name, _symbol, _balance)"
   ]
  },
  {
   "cell_type": "code",
   "execution_count": 30,
   "metadata": {
    "ExecuteTime": {
     "end_time": "2022-04-05T09:08:27.079587Z",
     "start_time": "2022-04-05T09:08:27.075319Z"
    }
   },
   "outputs": [],
   "source": [
    "# Function to catch naming error while fetching mandatory data\n",
    "def try_or(func, default=None, expected_exc=(Exception,)):\n",
    "    try:\n",
    "        return func()\n",
    "    except expected_exc:\n",
    "        return default"
   ]
  },
  {
   "cell_type": "code",
   "execution_count": 31,
   "metadata": {
    "ExecuteTime": {
     "end_time": "2022-04-05T09:08:27.084698Z",
     "start_time": "2022-04-05T09:08:27.082032Z"
    }
   },
   "outputs": [],
   "source": [
    "# ABI for a ERC20 Token\n",
    "TOKEN_CONTRACT_ABI = '[{\"name\":\"Transfer\",\"inputs\":[{\"name\":\"sender\",\"type\":\"address\",\"indexed\":true},{\"name\":\"receiver\",\"type\":\"address\",\"indexed\":true},{\"name\":\"value\",\"type\":\"uint256\",\"indexed\":false}],\"anonymous\":false,\"type\":\"event\"},{\"name\":\"Approval\",\"inputs\":[{\"name\":\"owner\",\"type\":\"address\",\"indexed\":true},{\"name\":\"spender\",\"type\":\"address\",\"indexed\":true},{\"name\":\"value\",\"type\":\"uint256\",\"indexed\":false}],\"anonymous\":false,\"type\":\"event\"},{\"name\":\"TokenExchange\",\"inputs\":[{\"name\":\"buyer\",\"type\":\"address\",\"indexed\":true},{\"name\":\"sold_id\",\"type\":\"int128\",\"indexed\":false},{\"name\":\"tokens_sold\",\"type\":\"uint256\",\"indexed\":false},{\"name\":\"bought_id\",\"type\":\"int128\",\"indexed\":false},{\"name\":\"tokens_bought\",\"type\":\"uint256\",\"indexed\":false}],\"anonymous\":false,\"type\":\"event\"},{\"name\":\"TokenExchangeUnderlying\",\"inputs\":[{\"name\":\"buyer\",\"type\":\"address\",\"indexed\":true},{\"name\":\"sold_id\",\"type\":\"int128\",\"indexed\":false},{\"name\":\"tokens_sold\",\"type\":\"uint256\",\"indexed\":false},{\"name\":\"bought_id\",\"type\":\"int128\",\"indexed\":false},{\"name\":\"tokens_bought\",\"type\":\"uint256\",\"indexed\":false}],\"anonymous\":false,\"type\":\"event\"},{\"name\":\"AddLiquidity\",\"inputs\":[{\"name\":\"provider\",\"type\":\"address\",\"indexed\":true},{\"name\":\"token_amounts\",\"type\":\"uint256[2]\",\"indexed\":false},{\"name\":\"fees\",\"type\":\"uint256[2]\",\"indexed\":false},{\"name\":\"invariant\",\"type\":\"uint256\",\"indexed\":false},{\"name\":\"token_supply\",\"type\":\"uint256\",\"indexed\":false}],\"anonymous\":false,\"type\":\"event\"},{\"name\":\"RemoveLiquidity\",\"inputs\":[{\"name\":\"provider\",\"type\":\"address\",\"indexed\":true},{\"name\":\"token_amounts\",\"type\":\"uint256[2]\",\"indexed\":false},{\"name\":\"fees\",\"type\":\"uint256[2]\",\"indexed\":false},{\"name\":\"token_supply\",\"type\":\"uint256\",\"indexed\":false}],\"anonymous\":false,\"type\":\"event\"},{\"name\":\"RemoveLiquidityOne\",\"inputs\":[{\"name\":\"provider\",\"type\":\"address\",\"indexed\":true},{\"name\":\"token_amount\",\"type\":\"uint256\",\"indexed\":false},{\"name\":\"coin_amount\",\"type\":\"uint256\",\"indexed\":false},{\"name\":\"token_supply\",\"type\":\"uint256\",\"indexed\":false}],\"anonymous\":false,\"type\":\"event\"},{\"name\":\"RemoveLiquidityImbalance\",\"inputs\":[{\"name\":\"provider\",\"type\":\"address\",\"indexed\":true},{\"name\":\"token_amounts\",\"type\":\"uint256[2]\",\"indexed\":false},{\"name\":\"fees\",\"type\":\"uint256[2]\",\"indexed\":false},{\"name\":\"invariant\",\"type\":\"uint256\",\"indexed\":false},{\"name\":\"token_supply\",\"type\":\"uint256\",\"indexed\":false}],\"anonymous\":false,\"type\":\"event\"},{\"name\":\"RampA\",\"inputs\":[{\"name\":\"old_A\",\"type\":\"uint256\",\"indexed\":false},{\"name\":\"new_A\",\"type\":\"uint256\",\"indexed\":false},{\"name\":\"initial_time\",\"type\":\"uint256\",\"indexed\":false},{\"name\":\"future_time\",\"type\":\"uint256\",\"indexed\":false}],\"anonymous\":false,\"type\":\"event\"},{\"name\":\"StopRampA\",\"inputs\":[{\"name\":\"A\",\"type\":\"uint256\",\"indexed\":false},{\"name\":\"t\",\"type\":\"uint256\",\"indexed\":false}],\"anonymous\":false,\"type\":\"event\"},{\"stateMutability\":\"nonpayable\",\"type\":\"constructor\",\"inputs\":[],\"outputs\":[]},{\"stateMutability\":\"nonpayable\",\"type\":\"function\",\"name\":\"initialize\",\"inputs\":[{\"name\":\"_name\",\"type\":\"string\"},{\"name\":\"_symbol\",\"type\":\"string\"},{\"name\":\"_coin\",\"type\":\"address\"},{\"name\":\"_rate_multiplier\",\"type\":\"uint256\"},{\"name\":\"_A\",\"type\":\"uint256\"},{\"name\":\"_fee\",\"type\":\"uint256\"}],\"outputs\":[],\"gas\":539992},{\"stateMutability\":\"view\",\"type\":\"function\",\"name\":\"decimals\",\"inputs\":[],\"outputs\":[{\"name\":\"\",\"type\":\"uint256\"}],\"gas\":318},{\"stateMutability\":\"nonpayable\",\"type\":\"function\",\"name\":\"transfer\",\"inputs\":[{\"name\":\"_to\",\"type\":\"address\"},{\"name\":\"_value\",\"type\":\"uint256\"}],\"outputs\":[{\"name\":\"\",\"type\":\"bool\"}],\"gas\":91298},{\"stateMutability\":\"nonpayable\",\"type\":\"function\",\"name\":\"transferFrom\",\"inputs\":[{\"name\":\"_from\",\"type\":\"address\"},{\"name\":\"_to\",\"type\":\"address\"},{\"name\":\"_value\",\"type\":\"uint256\"}],\"outputs\":[{\"name\":\"\",\"type\":\"bool\"}],\"gas\":129233},{\"stateMutability\":\"nonpayable\",\"type\":\"function\",\"name\":\"approve\",\"inputs\":[{\"name\":\"_spender\",\"type\":\"address\"},{\"name\":\"_value\",\"type\":\"uint256\"}],\"outputs\":[{\"name\":\"\",\"type\":\"bool\"}],\"gas\":39151},{\"stateMutability\":\"view\",\"type\":\"function\",\"name\":\"admin_fee\",\"inputs\":[],\"outputs\":[{\"name\":\"\",\"type\":\"uint256\"}],\"gas\":438},{\"stateMutability\":\"view\",\"type\":\"function\",\"name\":\"A\",\"inputs\":[],\"outputs\":[{\"name\":\"\",\"type\":\"uint256\"}],\"gas\":10704},{\"stateMutability\":\"view\",\"type\":\"function\",\"name\":\"A_precise\",\"inputs\":[],\"outputs\":[{\"name\":\"\",\"type\":\"uint256\"}],\"gas\":10666},{\"stateMutability\":\"view\",\"type\":\"function\",\"name\":\"get_virtual_price\",\"inputs\":[],\"outputs\":[{\"name\":\"\",\"type\":\"uint256\"}],\"gas\":1023280},{\"stateMutability\":\"view\",\"type\":\"function\",\"name\":\"calc_token_amount\",\"inputs\":[{\"name\":\"_amounts\",\"type\":\"uint256[2]\"},{\"name\":\"_is_deposit\",\"type\":\"bool\"}],\"outputs\":[{\"name\":\"\",\"type\":\"uint256\"}],\"gas\":4029742},{\"stateMutability\":\"nonpayable\",\"type\":\"function\",\"name\":\"add_liquidity\",\"inputs\":[{\"name\":\"_amounts\",\"type\":\"uint256[2]\"},{\"name\":\"_min_mint_amount\",\"type\":\"uint256\"}],\"outputs\":[{\"name\":\"\",\"type\":\"uint256\"}]},{\"stateMutability\":\"nonpayable\",\"type\":\"function\",\"name\":\"add_liquidity\",\"inputs\":[{\"name\":\"_amounts\",\"type\":\"uint256[2]\"},{\"name\":\"_min_mint_amount\",\"type\":\"uint256\"},{\"name\":\"_receiver\",\"type\":\"address\"}],\"outputs\":[{\"name\":\"\",\"type\":\"uint256\"}]},{\"stateMutability\":\"view\",\"type\":\"function\",\"name\":\"get_dy\",\"inputs\":[{\"name\":\"i\",\"type\":\"int128\"},{\"name\":\"j\",\"type\":\"int128\"},{\"name\":\"dx\",\"type\":\"uint256\"}],\"outputs\":[{\"name\":\"\",\"type\":\"uint256\"}],\"gas\":2466434},{\"stateMutability\":\"view\",\"type\":\"function\",\"name\":\"get_dy_underlying\",\"inputs\":[{\"name\":\"i\",\"type\":\"int128\"},{\"name\":\"j\",\"type\":\"int128\"},{\"name\":\"dx\",\"type\":\"uint256\"}],\"outputs\":[{\"name\":\"\",\"type\":\"uint256\"}],\"gas\":2474920},{\"stateMutability\":\"nonpayable\",\"type\":\"function\",\"name\":\"exchange\",\"inputs\":[{\"name\":\"i\",\"type\":\"int128\"},{\"name\":\"j\",\"type\":\"int128\"},{\"name\":\"_dx\",\"type\":\"uint256\"},{\"name\":\"_min_dy\",\"type\":\"uint256\"}],\"outputs\":[{\"name\":\"\",\"type\":\"uint256\"}]},{\"stateMutability\":\"nonpayable\",\"type\":\"function\",\"name\":\"exchange\",\"inputs\":[{\"name\":\"i\",\"type\":\"int128\"},{\"name\":\"j\",\"type\":\"int128\"},{\"name\":\"_dx\",\"type\":\"uint256\"},{\"name\":\"_min_dy\",\"type\":\"uint256\"},{\"name\":\"_receiver\",\"type\":\"address\"}],\"outputs\":[{\"name\":\"\",\"type\":\"uint256\"}]},{\"stateMutability\":\"nonpayable\",\"type\":\"function\",\"name\":\"exchange_underlying\",\"inputs\":[{\"name\":\"i\",\"type\":\"int128\"},{\"name\":\"j\",\"type\":\"int128\"},{\"name\":\"_dx\",\"type\":\"uint256\"},{\"name\":\"_min_dy\",\"type\":\"uint256\"}],\"outputs\":[{\"name\":\"\",\"type\":\"uint256\"}]},{\"stateMutability\":\"nonpayable\",\"type\":\"function\",\"name\":\"exchange_underlying\",\"inputs\":[{\"name\":\"i\",\"type\":\"int128\"},{\"name\":\"j\",\"type\":\"int128\"},{\"name\":\"_dx\",\"type\":\"uint256\"},{\"name\":\"_min_dy\",\"type\":\"uint256\"},{\"name\":\"_receiver\",\"type\":\"address\"}],\"outputs\":[{\"name\":\"\",\"type\":\"uint256\"}]},{\"stateMutability\":\"nonpayable\",\"type\":\"function\",\"name\":\"remove_liquidity\",\"inputs\":[{\"name\":\"_burn_amount\",\"type\":\"uint256\"},{\"name\":\"_min_amounts\",\"type\":\"uint256[2]\"}],\"outputs\":[{\"name\":\"\",\"type\":\"uint256[2]\"}]},{\"stateMutability\":\"nonpayable\",\"type\":\"function\",\"name\":\"remove_liquidity\",\"inputs\":[{\"name\":\"_burn_amount\",\"type\":\"uint256\"},{\"name\":\"_min_amounts\",\"type\":\"uint256[2]\"},{\"name\":\"_receiver\",\"type\":\"address\"}],\"outputs\":[{\"name\":\"\",\"type\":\"uint256[2]\"}]},{\"stateMutability\":\"nonpayable\",\"type\":\"function\",\"name\":\"remove_liquidity_imbalance\",\"inputs\":[{\"name\":\"_amounts\",\"type\":\"uint256[2]\"},{\"name\":\"_max_burn_amount\",\"type\":\"uint256\"}],\"outputs\":[{\"name\":\"\",\"type\":\"uint256\"}]},{\"stateMutability\":\"nonpayable\",\"type\":\"function\",\"name\":\"remove_liquidity_imbalance\",\"inputs\":[{\"name\":\"_amounts\",\"type\":\"uint256[2]\"},{\"name\":\"_max_burn_amount\",\"type\":\"uint256\"},{\"name\":\"_receiver\",\"type\":\"address\"}],\"outputs\":[{\"name\":\"\",\"type\":\"uint256\"}]},{\"stateMutability\":\"view\",\"type\":\"function\",\"name\":\"calc_withdraw_one_coin\",\"inputs\":[{\"name\":\"_burn_amount\",\"type\":\"uint256\"},{\"name\":\"i\",\"type\":\"int128\"}],\"outputs\":[{\"name\":\"\",\"type\":\"uint256\"}],\"gas\":1108},{\"stateMutability\":\"nonpayable\",\"type\":\"function\",\"name\":\"remove_liquidity_one_coin\",\"inputs\":[{\"name\":\"_burn_amount\",\"type\":\"uint256\"},{\"name\":\"i\",\"type\":\"int128\"},{\"name\":\"_min_received\",\"type\":\"uint256\"}],\"outputs\":[{\"name\":\"\",\"type\":\"uint256\"}]},{\"stateMutability\":\"nonpayable\",\"type\":\"function\",\"name\":\"remove_liquidity_one_coin\",\"inputs\":[{\"name\":\"_burn_amount\",\"type\":\"uint256\"},{\"name\":\"i\",\"type\":\"int128\"},{\"name\":\"_min_received\",\"type\":\"uint256\"},{\"name\":\"_receiver\",\"type\":\"address\"}],\"outputs\":[{\"name\":\"\",\"type\":\"uint256\"}]},{\"stateMutability\":\"nonpayable\",\"type\":\"function\",\"name\":\"ramp_A\",\"inputs\":[{\"name\":\"_future_A\",\"type\":\"uint256\"},{\"name\":\"_future_time\",\"type\":\"uint256\"}],\"outputs\":[],\"gas\":161967},{\"stateMutability\":\"nonpayable\",\"type\":\"function\",\"name\":\"stop_ramp_A\",\"inputs\":[],\"outputs\":[],\"gas\":157887},{\"stateMutability\":\"view\",\"type\":\"function\",\"name\":\"admin_balances\",\"inputs\":[{\"name\":\"i\",\"type\":\"uint256\"}],\"outputs\":[{\"name\":\"\",\"type\":\"uint256\"}],\"gas\":7855},{\"stateMutability\":\"nonpayable\",\"type\":\"function\",\"name\":\"withdraw_admin_fees\",\"inputs\":[],\"outputs\":[],\"gas\":43650},{\"stateMutability\":\"view\",\"type\":\"function\",\"name\":\"coins\",\"inputs\":[{\"name\":\"arg0\",\"type\":\"uint256\"}],\"outputs\":[{\"name\":\"\",\"type\":\"address\"}],\"gas\":3123},{\"stateMutability\":\"view\",\"type\":\"function\",\"name\":\"balances\",\"inputs\":[{\"name\":\"arg0\",\"type\":\"uint256\"}],\"outputs\":[{\"name\":\"\",\"type\":\"uint256\"}],\"gas\":3153},{\"stateMutability\":\"view\",\"type\":\"function\",\"name\":\"fee\",\"inputs\":[],\"outputs\":[{\"name\":\"\",\"type\":\"uint256\"}],\"gas\":3138},{\"stateMutability\":\"view\",\"type\":\"function\",\"name\":\"initial_A\",\"inputs\":[],\"outputs\":[{\"name\":\"\",\"type\":\"uint256\"}],\"gas\":3168},{\"stateMutability\":\"view\",\"type\":\"function\",\"name\":\"future_A\",\"inputs\":[],\"outputs\":[{\"name\":\"\",\"type\":\"uint256\"}],\"gas\":3198},{\"stateMutability\":\"view\",\"type\":\"function\",\"name\":\"initial_A_time\",\"inputs\":[],\"outputs\":[{\"name\":\"\",\"type\":\"uint256\"}],\"gas\":3228},{\"stateMutability\":\"view\",\"type\":\"function\",\"name\":\"future_A_time\",\"inputs\":[],\"outputs\":[{\"name\":\"\",\"type\":\"uint256\"}],\"gas\":3258},{\"stateMutability\":\"view\",\"type\":\"function\",\"name\":\"name\",\"inputs\":[],\"outputs\":[{\"name\":\"\",\"type\":\"string\"}],\"gas\":13518},{\"stateMutability\":\"view\",\"type\":\"function\",\"name\":\"symbol\",\"inputs\":[],\"outputs\":[{\"name\":\"\",\"type\":\"string\"}],\"gas\":11271},{\"stateMutability\":\"view\",\"type\":\"function\",\"name\":\"balanceOf\",\"inputs\":[{\"name\":\"arg0\",\"type\":\"address\"}],\"outputs\":[{\"name\":\"\",\"type\":\"uint256\"}],\"gas\":3563},{\"stateMutability\":\"view\",\"type\":\"function\",\"name\":\"allowance\",\"inputs\":[{\"name\":\"arg0\",\"type\":\"address\"},{\"name\":\"arg1\",\"type\":\"address\"}],\"outputs\":[{\"name\":\"\",\"type\":\"uint256\"}],\"gas\":3808},{\"stateMutability\":\"view\",\"type\":\"function\",\"name\":\"totalSupply\",\"inputs\":[],\"outputs\":[{\"name\":\"\",\"type\":\"uint256\"}],\"gas\":3408},{\"stateMutability\":\"view\",\"type\":\"function\",\"name\":\"rewards_receiver\",\"inputs\":[],\"outputs\":[{\"name\":\"\",\"type\":\"address\"}],\"gas\":3438}]'"
   ]
  },
  {
   "cell_type": "code",
   "execution_count": 32,
   "metadata": {
    "ExecuteTime": {
     "end_time": "2022-04-05T09:08:27.089887Z",
     "start_time": "2022-04-05T09:08:27.086551Z"
    }
   },
   "outputs": [],
   "source": [
    "# sample_contract = web3.toChecksumAddress('0xbEbc44782C7dB0a1A60Cb6fe97d0b483032FF1C7')\n",
    "\n",
    "# sample_contract_instance = web3.eth.contract(address=sample_contract, abi=POOL_CONTRACT_ABI)\n",
    "\n",
    "# # A\n",
    "# A = sample_contract_instance.functions.A().call()\n",
    "\n",
    "# # Number of tokens in pool\n",
    "# n = 2\n",
    "\n",
    "\n",
    "# # initiating token counter and fetching balance of each asset in pool\n",
    "        \n",
    "# token0 = sample_contract_instance.functions.coins(0).call()\n",
    "# token1 = sample_contract_instance.functions.coins(1).call()\n",
    "# token2 = try_or(lambda: sample_contract_instance.functions.coins(2).call())\n",
    "# token3 = try_or(lambda: sample_contract_instance.functions.coins(3).call())\n",
    "\n",
    "# token0_name, token0_symbol, token0_balance = ethereum_token_balance_of_address(token0, sample_contract)\n",
    "# token1_name, token1_symbol, token1_balance = ethereum_token_balance_of_address(token1, sample_contract) \n",
    "\n",
    "# # D\n",
    "# D = 0\n",
    "# D_present = False\n",
    "\n",
    "# try:\n",
    "#     D = sample_contract_instance.functions.D().call()/pow(10,18)\n",
    "#     D_present = True\n",
    "# except Exception as err:\n",
    "#     D = token0_balance + token1_balance\n",
    "\n",
    "# # Product of tokens' quantity\n",
    "# product = token0_balance * token1_balance\n",
    "\n",
    "# if token2 is None:\n",
    "#     token2_name, token2_symbol, token2_balance = (None, None, None)\n",
    "# else:\n",
    "#     token2_name, token2_symbol, token2_balance = ethereum_token_balance_of_address(token2, sample_contract)\n",
    "#     n += 1\n",
    "#     product *= token2_balance\n",
    "#     if not D_present:\n",
    "#         D += token2_balance\n",
    "\n",
    "# if token3 is None:\n",
    "#     token3_name, token3_symbol, token3_balance = (None, None, None)\n",
    "# else:\n",
    "#     token3_name, token3_symbol, token3_balance = ethereum_token_balance_of_address(token3, sample_contract)\n",
    "#     n += 1\n",
    "#     product *= token3_balance\n",
    "#     if not D_present:\n",
    "#         D += token3_balance\n",
    "\n",
    "# ratio = product / pow((D/n), n)\n",
    "# chi = A * ratio\n",
    "\n",
    "# ratio, chi"
   ]
  },
  {
   "cell_type": "code",
   "execution_count": 33,
   "metadata": {
    "ExecuteTime": {
     "end_time": "2022-04-05T09:08:27.095113Z",
     "start_time": "2022-04-05T09:08:27.091563Z"
    }
   },
   "outputs": [],
   "source": [
    "# sample_contract = web3.toChecksumAddress('0xbEbc44782C7dB0a1A60Cb6fe97d0b483032FF1C7')\n",
    "\n",
    "# sample_contract_instance = web3.eth.contract(address=sample_contract, abi=POOL_CONTRACT_ABI)\n",
    "\n",
    "# # A\n",
    "# A = sample_contract_instance.functions.A().call()\n",
    "\n",
    "# # Number of tokens in pool\n",
    "# n = 2\n",
    "\n",
    "\n",
    "# # initiating token counter and fetching balance of each asset in pool\n",
    "        \n",
    "# token0 = sample_contract_instance.functions.coins(0).call()\n",
    "# token1 = sample_contract_instance.functions.coins(1).call()\n",
    "# token2 = try_or(lambda: sample_contract_instance.functions.coins(2).call())\n",
    "# token3 = try_or(lambda: sample_contract_instance.functions.coins(3).call())\n",
    "\n",
    "# token0_name, token0_symbol, token0_balance = ethereum_token_balance_of_address(token0, sample_contract)\n",
    "# token1_name, token1_symbol, token1_balance = ethereum_token_balance_of_address(token1, sample_contract) \n",
    "\n",
    "# # D\n",
    "# D = token0_balance + token1_balance\n",
    "\n",
    "# # Product of tokens' quantity\n",
    "# product = token0_balance * token1_balance\n",
    "\n",
    "# if token2 is None:\n",
    "#     token2_name, token2_symbol, token2_balance = (None, None, None)\n",
    "# else:\n",
    "#     token2_name, token2_symbol, token2_balance = ethereum_token_balance_of_address(token2, sample_contract)\n",
    "#     n += 1\n",
    "#     product *= token2_balance\n",
    "#     D += token2_balance\n",
    "\n",
    "# if token3 is None:\n",
    "#     token3_name, token3_symbol, token3_balance = (None, None, None)\n",
    "# else:\n",
    "#     token3_name, token3_symbol, token3_balance = ethereum_token_balance_of_address(token3, sample_contract)\n",
    "#     n += 1\n",
    "#     product *= token3_balance\n",
    "#     D += token3_balance\n",
    "\n",
    "# ratio = product / pow((D/n), n)\n",
    "# chi = A * ratio\n",
    "\n",
    "# ratio, chi"
   ]
  },
  {
   "cell_type": "code",
   "execution_count": 34,
   "metadata": {
    "ExecuteTime": {
     "end_time": "2022-04-05T09:08:27.101603Z",
     "start_time": "2022-04-05T09:08:27.097186Z"
    }
   },
   "outputs": [],
   "source": [
    "pool_addresses = ['0xD51a44d3FaE010294C616388b506AcdA1bfAAE46',\n",
    " '0xbEbc44782C7dB0a1A60Cb6fe97d0b483032FF1C7',\n",
    " '0xCEAF7747579696A2F0bb206a14210e3c9e6fB269',\n",
    " '0xd632f22692FaC7611d2AA1C0D552930D43CAEd3B',\n",
    " '0x5a6A4D54456819380173272A5E8E9B9904BdF41B',\n",
    " '0x890f4e345B1dAED0367A877a1612f86A1f86985f',\n",
    " '0xEd279fDD11cA84bEef15AF5D39BB4d4bEE23F0cA',\n",
    " '0x752eBeb79963cf0732E9c0fec72a49FD1DEfAEAC',\n",
    " '0x8301AE4fc9c624d1D396cbDAa1ed877821D7C511',\n",
    " '0x45F783CCE6B7FF23B2ab2D70e416cdb7D6055f51',\n",
    " '0x55A8a39bc9694714E2874c1ce77aa1E599461E18',\n",
    " '0xA5407eAE9Ba41422680e2e00537571bcC53efBfD',\n",
    " '0x80466c64868E1ab14a1Ddf27A676C3fcBE638Fe5',\n",
    " '0x1c65bA665ce39cfe85639227eccf17Be2B167058',\n",
    " '0x52EA46506B9CC5Ef470C5bf89f17Dc28bB35D85C']"
   ]
  },
  {
   "cell_type": "code",
   "execution_count": null,
   "metadata": {
    "ExecuteTime": {
     "start_time": "2022-04-05T09:06:27.587Z"
    }
   },
   "outputs": [
    {
     "name": "stdout",
     "output_type": "stream",
     "text": [
      "https://www.etherscan.io/address/0xD51a44d3FaE010294C616388b506AcdA1bfAAE46/#readContract\n",
      "Chi: 0.27736735544126745\n",
      "Ratio: 1.6242834681377948e-07\n",
      "\n",
      "https://www.etherscan.io/address/0xbEbc44782C7dB0a1A60Cb6fe97d0b483032FF1C7/#readContract\n",
      "Chi: 3758.3551881592784\n",
      "Ratio: 0.7516710376318557\n",
      "\n",
      "https://www.etherscan.io/address/0xCEAF7747579696A2F0bb206a14210e3c9e6fB269/#readContract\n",
      "Chi: 199.97470062182526\n",
      "Ratio: 0.9998735031091263\n",
      "\n",
      "https://www.etherscan.io/address/0xd632f22692FaC7611d2AA1C0D552930D43CAEd3B/#readContract\n",
      "Chi: 1462.6270341640181\n",
      "Ratio: 0.9750846894426788\n",
      "\n",
      "https://www.etherscan.io/address/0x5a6A4D54456819380173272A5E8E9B9904BdF41B/#readContract\n",
      "Chi: 1368.2811758868365\n",
      "Ratio: 0.6841405879434183\n",
      "\n",
      "https://www.etherscan.io/address/0x890f4e345B1dAED0367A877a1612f86A1f86985f/#readContract\n",
      "Chi: 99.94504614212026\n",
      "Ratio: 0.9994504614212026\n",
      "\n",
      "https://www.etherscan.io/address/0xEd279fDD11cA84bEef15AF5D39BB4d4bEE23F0cA/#readContract\n",
      "Chi: 455.33492491173666\n",
      "Ratio: 0.9106698498234733\n",
      "\n",
      "https://www.etherscan.io/address/0x752eBeb79963cf0732E9c0fec72a49FD1DEfAEAC/#readContract\n",
      "Chi: 0.0\n",
      "Ratio: 0.0\n",
      "\n",
      "https://www.etherscan.io/address/0x8301AE4fc9c624d1D396cbDAa1ed877821D7C511/#readContract\n",
      "Chi: 0.0\n",
      "Ratio: 0.0\n",
      "\n",
      "https://www.etherscan.io/address/0x45F783CCE6B7FF23B2ab2D70e416cdb7D6055f51/#readContract\n",
      "Chi: 1829.3642054056959\n",
      "Ratio: 0.8932442409207499\n",
      "\n",
      "https://www.etherscan.io/address/0x55A8a39bc9694714E2874c1ce77aa1E599461E18/#readContract\n",
      "Chi: 970.9929147170506\n",
      "Ratio: 0.9709929147170505\n",
      "\n"
     ]
    }
   ],
   "source": [
    "# Variable to track no. of error\n",
    "error_count = 0\n",
    "\n",
    "# Looping through all poolls in curve\n",
    "for pool in pool_addresses:\n",
    "    try:\n",
    "        # COnverting to CheckSum Address\n",
    "        pool = web3.toChecksumAddress(pool)\n",
    "\n",
    "        # Fetching ABI from etherscan, as ABI differs from pool to pool\n",
    "        POOL_CONTRACT_ABI = etherscan_abi_request(_contractAddress=pool, _apiKey=ETHERSCAN_API_KEY)\n",
    "\n",
    "        # Initiating the contract instance\n",
    "        pool_contract_instance = web3.eth.contract(address=pool, abi=POOL_CONTRACT_ABI)\n",
    "\n",
    "        # Fetching A for Pool\n",
    "        A = pool_contract_instance.functions.A().call()\n",
    "\n",
    "\n",
    "        # Number of tokens in pool (Initial no. of tokens=2)\n",
    "        n = 2\n",
    "\n",
    "\n",
    "        # initiating token counter and fetching balance of each asset in pool\n",
    "        token0 = pool_contract_instance.functions.coins(0).call()\n",
    "        token1 = pool_contract_instance.functions.coins(1).call()\n",
    "        # If third token present\n",
    "        token2 = try_or(lambda: pool_contract_instance.functions.coins(2).call())\n",
    "        # If fourth token present\n",
    "        token3 = try_or(lambda: pool_contract_instance.functions.coins(3).call())\n",
    "\n",
    "        token0_name, token0_symbol, token0_balance = ethereum_token_balance_of_address(token0, pool)\n",
    "        token1_name, token1_symbol, token1_balance = ethereum_token_balance_of_address(token1, pool) \n",
    "\n",
    "        # Calculating D\n",
    "        D = token0_balance + token1_balance\n",
    "        \n",
    "        # Product of tokens' quantity\n",
    "        product = token0_balance * token1_balance\n",
    "\n",
    "        if token2 is None:\n",
    "            token2_name, token2_symbol, token2_balance = (None, None, None)\n",
    "        else:\n",
    "            token2_name, token2_symbol, token2_balance = ethereum_token_balance_of_address(token2, pool)\n",
    "            # Updating number of tokens present\n",
    "            n += 1\n",
    "            # Updating quantity product\n",
    "            product *= token2_balance\n",
    "            # Updating D\n",
    "            D += token2_balance\n",
    "\n",
    "        if token3 is None:\n",
    "            token3_name, token3_symbol, token3_balance = (None, None, None)\n",
    "        else:\n",
    "            token3_name, token3_symbol, token3_balance = ethereum_token_balance_of_address(token3, pool)\n",
    "            # Updating number of tokens present\n",
    "            n += 1\n",
    "            # Updating quantity product\n",
    "            product *= token3_balance\n",
    "            # Updating D\n",
    "            D += token3_balance\n",
    "\n",
    "        # Calculating ratio\n",
    "        ratio = product / pow((D/n), n)\n",
    "\n",
    "        # Calculating 'chi'\n",
    "        chi = A * ratio\n",
    "\n",
    "        link = 'https://www.etherscan.io/address/' + pool + '/#readContract'\n",
    "        print(link)\n",
    "        print('Chi: ' + str(chi))\n",
    "        print('Ratio: ' + str(ratio))\n",
    "        print()\n",
    "\n",
    "    except Exception as err:\n",
    "        link = 'https://www.etherscan.io/address/' + pool + '/#readContract'\n",
    "        error_count += 1\n",
    "        print('Error in pool: ' + str(link))\n",
    "        print(err)\n",
    "\n",
    "print('Error Count: ' + str(error_count))"
   ]
  },
  {
   "cell_type": "code",
   "execution_count": null,
   "metadata": {},
   "outputs": [],
   "source": []
  }
 ],
 "metadata": {
  "interpreter": {
   "hash": "f57e7e74871ecd89a077d2a776a53e9eceabd5729ccce2c5de09d5a91e273d10"
  },
  "kernelspec": {
   "display_name": "Python 3",
   "language": "python",
   "name": "python3"
  },
  "language_info": {
   "codemirror_mode": {
    "name": "ipython",
    "version": 3
   },
   "file_extension": ".py",
   "mimetype": "text/x-python",
   "name": "python",
   "nbconvert_exporter": "python",
   "pygments_lexer": "ipython3",
   "version": "3.6.13"
  }
 },
 "nbformat": 4,
 "nbformat_minor": 2
}
