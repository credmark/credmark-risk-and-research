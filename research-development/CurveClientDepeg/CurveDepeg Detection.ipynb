{
 "cells": [
  {
   "cell_type": "code",
   "execution_count": 13,
   "metadata": {
    "ExecuteTime": {
     "end_time": "2022-04-12T04:31:02.445231Z",
     "start_time": "2022-04-12T04:31:02.443121Z"
    }
   },
   "outputs": [],
   "source": [
    "# Import Packages\n",
    "from web3 import Web3\n",
    "import requests"
   ]
  },
  {
   "cell_type": "code",
   "execution_count": 14,
   "metadata": {
    "ExecuteTime": {
     "end_time": "2022-04-12T04:31:02.449286Z",
     "start_time": "2022-04-12T04:31:02.447162Z"
    }
   },
   "outputs": [],
   "source": [
    "# Infura Details\n",
    "PROJECT_ID = \"1b0fc3af1d194e8ea8db248ccf926085\"\n",
    "\n",
    "# Etherscan API Details\n",
    "ETHERSCAN_API_KEY = \"P4XI3P1XKMUFPGIKGDNEJ8RAV6TBE317MW\""
   ]
  },
  {
   "cell_type": "code",
   "execution_count": 15,
   "metadata": {
    "ExecuteTime": {
     "end_time": "2022-04-12T04:31:02.685321Z",
     "start_time": "2022-04-12T04:31:02.450658Z"
    }
   },
   "outputs": [
    {
     "name": "stdout",
     "output_type": "stream",
     "text": [
      "Connected:  True\n"
     ]
    }
   ],
   "source": [
    "# Web3 Handle\n",
    "web3 = Web3(Web3.HTTPProvider(\"https://mainnet.infura.io/v3/\"+str(PROJECT_ID)))\n",
    "print('Connected: ', str(web3.isConnected()))"
   ]
  },
  {
   "cell_type": "code",
   "execution_count": 16,
   "metadata": {
    "ExecuteTime": {
     "end_time": "2022-04-12T04:31:02.689761Z",
     "start_time": "2022-04-12T04:31:02.687039Z"
    }
   },
   "outputs": [],
   "source": [
    "# Fetch ABI from contract address\n",
    "## Needs Contract Address and API Key as an input\n",
    "\n",
    "def etherscan_abi_request(_contractAddress, _apiKey):\n",
    "    '''\n",
    "        Etherscan ABI Request Method\n",
    "        Args::\n",
    "            _contractAddress: Ethereum Address of the contract\n",
    "            _apiKey: Etherscan API Key\n",
    "        Returns::\n",
    "            ethResJS: Etherscan ABI request result in JSON format\n",
    "    '''\n",
    "    ETHERSCAN_ABI_REQUEST = \"https://api.etherscan.io/api?module=contract&action=getabi&address={0}&apikey={1}\".format(_contractAddress, _apiKey)\n",
    "    ethResJS = (requests.get(ETHERSCAN_ABI_REQUEST)).json()['result']\n",
    "#     ethRes = (requests.get(ETHERSCAN_ABI_REQUEST))\n",
    "    return ethResJS"
   ]
  },
  {
   "cell_type": "code",
   "execution_count": 17,
   "metadata": {
    "ExecuteTime": {
     "end_time": "2022-04-12T04:31:02.695196Z",
     "start_time": "2022-04-12T04:31:02.691427Z"
    }
   },
   "outputs": [],
   "source": [
    "# Get token balance of an address on ethereum chain\n",
    "def ethereum_token_balance_of_address(_contractAddress, _accountAddress):\n",
    "    '''\n",
    "            Get token balance of an address method\n",
    "            Args::\n",
    "                _contractAddress: Ethereum Address of the token contract\n",
    "                _accountAddress: Ethereum Address of account whose token balance is to be fetched\n",
    "                _apiKey: Etherscan API Key\n",
    "            Returns::\n",
    "                _name: Name of token\n",
    "                _balance: Token Balance of Account\n",
    "    '''\n",
    "\n",
    "    _contractAddress = web3.toChecksumAddress(_contractAddress)\n",
    "    _contractABI = '[{\"inputs\":[],\"stateMutability\":\"nonpayable\",\"type\":\"constructor\"},{\"anonymous\":false,\"inputs\":[{\"indexed\":true,\"internalType\":\"address\",\"name\":\"owner\",\"type\":\"address\"},{\"indexed\":true,\"internalType\":\"address\",\"name\":\"spender\",\"type\":\"address\"},{\"indexed\":false,\"internalType\":\"uint256\",\"name\":\"value\",\"type\":\"uint256\"}],\"name\":\"Approval\",\"type\":\"event\"},{\"anonymous\":false,\"inputs\":[{\"indexed\":true,\"internalType\":\"bytes32\",\"name\":\"role\",\"type\":\"bytes32\"},{\"indexed\":true,\"internalType\":\"bytes32\",\"name\":\"previousAdminRole\",\"type\":\"bytes32\"},{\"indexed\":true,\"internalType\":\"bytes32\",\"name\":\"newAdminRole\",\"type\":\"bytes32\"}],\"name\":\"RoleAdminChanged\",\"type\":\"event\"},{\"anonymous\":false,\"inputs\":[{\"indexed\":true,\"internalType\":\"bytes32\",\"name\":\"role\",\"type\":\"bytes32\"},{\"indexed\":true,\"internalType\":\"address\",\"name\":\"account\",\"type\":\"address\"},{\"indexed\":true,\"internalType\":\"address\",\"name\":\"sender\",\"type\":\"address\"}],\"name\":\"RoleGranted\",\"type\":\"event\"},{\"anonymous\":false,\"inputs\":[{\"indexed\":true,\"internalType\":\"bytes32\",\"name\":\"role\",\"type\":\"bytes32\"},{\"indexed\":true,\"internalType\":\"address\",\"name\":\"account\",\"type\":\"address\"},{\"indexed\":true,\"internalType\":\"address\",\"name\":\"sender\",\"type\":\"address\"}],\"name\":\"RoleRevoked\",\"type\":\"event\"},{\"anonymous\":false,\"inputs\":[{\"indexed\":true,\"internalType\":\"address\",\"name\":\"from\",\"type\":\"address\"},{\"indexed\":true,\"internalType\":\"address\",\"name\":\"to\",\"type\":\"address\"},{\"indexed\":false,\"internalType\":\"uint256\",\"name\":\"value\",\"type\":\"uint256\"}],\"name\":\"Transfer\",\"type\":\"event\"},{\"inputs\":[],\"name\":\"ADMIN_ROLE\",\"outputs\":[{\"internalType\":\"bytes32\",\"name\":\"\",\"type\":\"bytes32\"}],\"stateMutability\":\"view\",\"type\":\"function\"},{\"inputs\":[],\"name\":\"DEFAULT_ADMIN_ROLE\",\"outputs\":[{\"internalType\":\"bytes32\",\"name\":\"\",\"type\":\"bytes32\"}],\"stateMutability\":\"view\",\"type\":\"function\"},{\"inputs\":[],\"name\":\"MINTER_ROLE\",\"outputs\":[{\"internalType\":\"bytes32\",\"name\":\"\",\"type\":\"bytes32\"}],\"stateMutability\":\"view\",\"type\":\"function\"},{\"inputs\":[{\"internalType\":\"address\",\"name\":\"owner\",\"type\":\"address\"},{\"internalType\":\"address\",\"name\":\"spender\",\"type\":\"address\"}],\"name\":\"allowance\",\"outputs\":[{\"internalType\":\"uint256\",\"name\":\"\",\"type\":\"uint256\"}],\"stateMutability\":\"view\",\"type\":\"function\"},{\"inputs\":[{\"internalType\":\"address\",\"name\":\"spender\",\"type\":\"address\"},{\"internalType\":\"uint256\",\"name\":\"amount\",\"type\":\"uint256\"}],\"name\":\"approve\",\"outputs\":[{\"internalType\":\"bool\",\"name\":\"\",\"type\":\"bool\"}],\"stateMutability\":\"nonpayable\",\"type\":\"function\"},{\"inputs\":[{\"internalType\":\"address\",\"name\":\"account\",\"type\":\"address\"}],\"name\":\"balanceOf\",\"outputs\":[{\"internalType\":\"uint256\",\"name\":\"\",\"type\":\"uint256\"}],\"stateMutability\":\"view\",\"type\":\"function\"},{\"inputs\":[],\"name\":\"decimals\",\"outputs\":[{\"internalType\":\"uint8\",\"name\":\"\",\"type\":\"uint8\"}],\"stateMutability\":\"view\",\"type\":\"function\"},{\"inputs\":[{\"internalType\":\"address\",\"name\":\"spender\",\"type\":\"address\"},{\"internalType\":\"uint256\",\"name\":\"subtractedValue\",\"type\":\"uint256\"}],\"name\":\"decreaseAllowance\",\"outputs\":[{\"internalType\":\"bool\",\"name\":\"\",\"type\":\"bool\"}],\"stateMutability\":\"nonpayable\",\"type\":\"function\"},{\"inputs\":[{\"internalType\":\"bytes32\",\"name\":\"role\",\"type\":\"bytes32\"}],\"name\":\"getRoleAdmin\",\"outputs\":[{\"internalType\":\"bytes32\",\"name\":\"\",\"type\":\"bytes32\"}],\"stateMutability\":\"view\",\"type\":\"function\"},{\"inputs\":[{\"internalType\":\"bytes32\",\"name\":\"role\",\"type\":\"bytes32\"},{\"internalType\":\"uint256\",\"name\":\"index\",\"type\":\"uint256\"}],\"name\":\"getRoleMember\",\"outputs\":[{\"internalType\":\"address\",\"name\":\"\",\"type\":\"address\"}],\"stateMutability\":\"view\",\"type\":\"function\"},{\"inputs\":[{\"internalType\":\"bytes32\",\"name\":\"role\",\"type\":\"bytes32\"}],\"name\":\"getRoleMemberCount\",\"outputs\":[{\"internalType\":\"uint256\",\"name\":\"\",\"type\":\"uint256\"}],\"stateMutability\":\"view\",\"type\":\"function\"},{\"inputs\":[{\"internalType\":\"bytes32\",\"name\":\"role\",\"type\":\"bytes32\"},{\"internalType\":\"address\",\"name\":\"account\",\"type\":\"address\"}],\"name\":\"grantRole\",\"outputs\":[],\"stateMutability\":\"nonpayable\",\"type\":\"function\"},{\"inputs\":[{\"internalType\":\"bytes32\",\"name\":\"role\",\"type\":\"bytes32\"},{\"internalType\":\"address\",\"name\":\"account\",\"type\":\"address\"}],\"name\":\"hasRole\",\"outputs\":[{\"internalType\":\"bool\",\"name\":\"\",\"type\":\"bool\"}],\"stateMutability\":\"view\",\"type\":\"function\"},{\"inputs\":[{\"internalType\":\"address\",\"name\":\"spender\",\"type\":\"address\"},{\"internalType\":\"uint256\",\"name\":\"addedValue\",\"type\":\"uint256\"}],\"name\":\"increaseAllowance\",\"outputs\":[{\"internalType\":\"bool\",\"name\":\"\",\"type\":\"bool\"}],\"stateMutability\":\"nonpayable\",\"type\":\"function\"},{\"inputs\":[{\"internalType\":\"address\",\"name\":\"_recipient\",\"type\":\"address\"},{\"internalType\":\"uint256\",\"name\":\"_amount\",\"type\":\"uint256\"}],\"name\":\"mint\",\"outputs\":[],\"stateMutability\":\"nonpayable\",\"type\":\"function\"},{\"inputs\":[],\"name\":\"name\",\"outputs\":[{\"internalType\":\"string\",\"name\":\"\",\"type\":\"string\"}],\"stateMutability\":\"view\",\"type\":\"function\"},{\"inputs\":[{\"internalType\":\"bytes32\",\"name\":\"role\",\"type\":\"bytes32\"},{\"internalType\":\"address\",\"name\":\"account\",\"type\":\"address\"}],\"name\":\"renounceRole\",\"outputs\":[],\"stateMutability\":\"nonpayable\",\"type\":\"function\"},{\"inputs\":[{\"internalType\":\"bytes32\",\"name\":\"role\",\"type\":\"bytes32\"},{\"internalType\":\"address\",\"name\":\"account\",\"type\":\"address\"}],\"name\":\"revokeRole\",\"outputs\":[],\"stateMutability\":\"nonpayable\",\"type\":\"function\"},{\"inputs\":[],\"name\":\"symbol\",\"outputs\":[{\"internalType\":\"string\",\"name\":\"\",\"type\":\"string\"}],\"stateMutability\":\"view\",\"type\":\"function\"},{\"inputs\":[],\"name\":\"totalSupply\",\"outputs\":[{\"internalType\":\"uint256\",\"name\":\"\",\"type\":\"uint256\"}],\"stateMutability\":\"view\",\"type\":\"function\"},{\"inputs\":[{\"internalType\":\"address\",\"name\":\"recipient\",\"type\":\"address\"},{\"internalType\":\"uint256\",\"name\":\"amount\",\"type\":\"uint256\"}],\"name\":\"transfer\",\"outputs\":[{\"internalType\":\"bool\",\"name\":\"\",\"type\":\"bool\"}],\"stateMutability\":\"nonpayable\",\"type\":\"function\"},{\"inputs\":[{\"internalType\":\"address\",\"name\":\"sender\",\"type\":\"address\"},{\"internalType\":\"address\",\"name\":\"recipient\",\"type\":\"address\"},{\"internalType\":\"uint256\",\"name\":\"amount\",\"type\":\"uint256\"}],\"name\":\"transferFrom\",\"outputs\":[{\"internalType\":\"bool\",\"name\":\"\",\"type\":\"bool\"}],\"stateMutability\":\"nonpayable\",\"type\":\"function\"}]'\n",
    "    \n",
    "    _contract = web3.eth.contract(address=_contractAddress, abi= _contractABI)\n",
    "\n",
    "    _name = _contract.functions.name().call()\n",
    "    _balance = _contract.functions.balanceOf(_accountAddress).call()\n",
    "    _decimals = _contract.functions.decimals().call()\n",
    "    _symbol = _contract.functions.symbol().call()\n",
    "\n",
    "    _balance = float(_balance)/pow(10,_decimals)\n",
    "\n",
    "    return (_name, _symbol, _balance)"
   ]
  },
  {
   "cell_type": "code",
   "execution_count": 18,
   "metadata": {
    "ExecuteTime": {
     "end_time": "2022-04-12T04:31:02.699582Z",
     "start_time": "2022-04-12T04:31:02.696423Z"
    }
   },
   "outputs": [],
   "source": [
    "# Function to catch naming error while fetching mandatory data\n",
    "def try_or(func, default=None, expected_exc=(Exception,)):\n",
    "    try:\n",
    "        return func()\n",
    "    except expected_exc:\n",
    "        return default"
   ]
  },
  {
   "cell_type": "code",
   "execution_count": 19,
   "metadata": {
    "ExecuteTime": {
     "end_time": "2022-04-12T04:31:02.704604Z",
     "start_time": "2022-04-12T04:31:02.701800Z"
    }
   },
   "outputs": [],
   "source": [
    "# ABI for a ERC20 Token\n",
    "TOKEN_CONTRACT_ABI = '[{\"name\":\"Transfer\",\"inputs\":[{\"name\":\"sender\",\"type\":\"address\",\"indexed\":true},{\"name\":\"receiver\",\"type\":\"address\",\"indexed\":true},{\"name\":\"value\",\"type\":\"uint256\",\"indexed\":false}],\"anonymous\":false,\"type\":\"event\"},{\"name\":\"Approval\",\"inputs\":[{\"name\":\"owner\",\"type\":\"address\",\"indexed\":true},{\"name\":\"spender\",\"type\":\"address\",\"indexed\":true},{\"name\":\"value\",\"type\":\"uint256\",\"indexed\":false}],\"anonymous\":false,\"type\":\"event\"},{\"name\":\"TokenExchange\",\"inputs\":[{\"name\":\"buyer\",\"type\":\"address\",\"indexed\":true},{\"name\":\"sold_id\",\"type\":\"int128\",\"indexed\":false},{\"name\":\"tokens_sold\",\"type\":\"uint256\",\"indexed\":false},{\"name\":\"bought_id\",\"type\":\"int128\",\"indexed\":false},{\"name\":\"tokens_bought\",\"type\":\"uint256\",\"indexed\":false}],\"anonymous\":false,\"type\":\"event\"},{\"name\":\"TokenExchangeUnderlying\",\"inputs\":[{\"name\":\"buyer\",\"type\":\"address\",\"indexed\":true},{\"name\":\"sold_id\",\"type\":\"int128\",\"indexed\":false},{\"name\":\"tokens_sold\",\"type\":\"uint256\",\"indexed\":false},{\"name\":\"bought_id\",\"type\":\"int128\",\"indexed\":false},{\"name\":\"tokens_bought\",\"type\":\"uint256\",\"indexed\":false}],\"anonymous\":false,\"type\":\"event\"},{\"name\":\"AddLiquidity\",\"inputs\":[{\"name\":\"provider\",\"type\":\"address\",\"indexed\":true},{\"name\":\"token_amounts\",\"type\":\"uint256[2]\",\"indexed\":false},{\"name\":\"fees\",\"type\":\"uint256[2]\",\"indexed\":false},{\"name\":\"invariant\",\"type\":\"uint256\",\"indexed\":false},{\"name\":\"token_supply\",\"type\":\"uint256\",\"indexed\":false}],\"anonymous\":false,\"type\":\"event\"},{\"name\":\"RemoveLiquidity\",\"inputs\":[{\"name\":\"provider\",\"type\":\"address\",\"indexed\":true},{\"name\":\"token_amounts\",\"type\":\"uint256[2]\",\"indexed\":false},{\"name\":\"fees\",\"type\":\"uint256[2]\",\"indexed\":false},{\"name\":\"token_supply\",\"type\":\"uint256\",\"indexed\":false}],\"anonymous\":false,\"type\":\"event\"},{\"name\":\"RemoveLiquidityOne\",\"inputs\":[{\"name\":\"provider\",\"type\":\"address\",\"indexed\":true},{\"name\":\"token_amount\",\"type\":\"uint256\",\"indexed\":false},{\"name\":\"coin_amount\",\"type\":\"uint256\",\"indexed\":false},{\"name\":\"token_supply\",\"type\":\"uint256\",\"indexed\":false}],\"anonymous\":false,\"type\":\"event\"},{\"name\":\"RemoveLiquidityImbalance\",\"inputs\":[{\"name\":\"provider\",\"type\":\"address\",\"indexed\":true},{\"name\":\"token_amounts\",\"type\":\"uint256[2]\",\"indexed\":false},{\"name\":\"fees\",\"type\":\"uint256[2]\",\"indexed\":false},{\"name\":\"invariant\",\"type\":\"uint256\",\"indexed\":false},{\"name\":\"token_supply\",\"type\":\"uint256\",\"indexed\":false}],\"anonymous\":false,\"type\":\"event\"},{\"name\":\"RampA\",\"inputs\":[{\"name\":\"old_A\",\"type\":\"uint256\",\"indexed\":false},{\"name\":\"new_A\",\"type\":\"uint256\",\"indexed\":false},{\"name\":\"initial_time\",\"type\":\"uint256\",\"indexed\":false},{\"name\":\"future_time\",\"type\":\"uint256\",\"indexed\":false}],\"anonymous\":false,\"type\":\"event\"},{\"name\":\"StopRampA\",\"inputs\":[{\"name\":\"A\",\"type\":\"uint256\",\"indexed\":false},{\"name\":\"t\",\"type\":\"uint256\",\"indexed\":false}],\"anonymous\":false,\"type\":\"event\"},{\"stateMutability\":\"nonpayable\",\"type\":\"constructor\",\"inputs\":[],\"outputs\":[]},{\"stateMutability\":\"nonpayable\",\"type\":\"function\",\"name\":\"initialize\",\"inputs\":[{\"name\":\"_name\",\"type\":\"string\"},{\"name\":\"_symbol\",\"type\":\"string\"},{\"name\":\"_coin\",\"type\":\"address\"},{\"name\":\"_rate_multiplier\",\"type\":\"uint256\"},{\"name\":\"_A\",\"type\":\"uint256\"},{\"name\":\"_fee\",\"type\":\"uint256\"}],\"outputs\":[],\"gas\":539992},{\"stateMutability\":\"view\",\"type\":\"function\",\"name\":\"decimals\",\"inputs\":[],\"outputs\":[{\"name\":\"\",\"type\":\"uint256\"}],\"gas\":318},{\"stateMutability\":\"nonpayable\",\"type\":\"function\",\"name\":\"transfer\",\"inputs\":[{\"name\":\"_to\",\"type\":\"address\"},{\"name\":\"_value\",\"type\":\"uint256\"}],\"outputs\":[{\"name\":\"\",\"type\":\"bool\"}],\"gas\":91298},{\"stateMutability\":\"nonpayable\",\"type\":\"function\",\"name\":\"transferFrom\",\"inputs\":[{\"name\":\"_from\",\"type\":\"address\"},{\"name\":\"_to\",\"type\":\"address\"},{\"name\":\"_value\",\"type\":\"uint256\"}],\"outputs\":[{\"name\":\"\",\"type\":\"bool\"}],\"gas\":129233},{\"stateMutability\":\"nonpayable\",\"type\":\"function\",\"name\":\"approve\",\"inputs\":[{\"name\":\"_spender\",\"type\":\"address\"},{\"name\":\"_value\",\"type\":\"uint256\"}],\"outputs\":[{\"name\":\"\",\"type\":\"bool\"}],\"gas\":39151},{\"stateMutability\":\"view\",\"type\":\"function\",\"name\":\"admin_fee\",\"inputs\":[],\"outputs\":[{\"name\":\"\",\"type\":\"uint256\"}],\"gas\":438},{\"stateMutability\":\"view\",\"type\":\"function\",\"name\":\"A\",\"inputs\":[],\"outputs\":[{\"name\":\"\",\"type\":\"uint256\"}],\"gas\":10704},{\"stateMutability\":\"view\",\"type\":\"function\",\"name\":\"A_precise\",\"inputs\":[],\"outputs\":[{\"name\":\"\",\"type\":\"uint256\"}],\"gas\":10666},{\"stateMutability\":\"view\",\"type\":\"function\",\"name\":\"get_virtual_price\",\"inputs\":[],\"outputs\":[{\"name\":\"\",\"type\":\"uint256\"}],\"gas\":1023280},{\"stateMutability\":\"view\",\"type\":\"function\",\"name\":\"calc_token_amount\",\"inputs\":[{\"name\":\"_amounts\",\"type\":\"uint256[2]\"},{\"name\":\"_is_deposit\",\"type\":\"bool\"}],\"outputs\":[{\"name\":\"\",\"type\":\"uint256\"}],\"gas\":4029742},{\"stateMutability\":\"nonpayable\",\"type\":\"function\",\"name\":\"add_liquidity\",\"inputs\":[{\"name\":\"_amounts\",\"type\":\"uint256[2]\"},{\"name\":\"_min_mint_amount\",\"type\":\"uint256\"}],\"outputs\":[{\"name\":\"\",\"type\":\"uint256\"}]},{\"stateMutability\":\"nonpayable\",\"type\":\"function\",\"name\":\"add_liquidity\",\"inputs\":[{\"name\":\"_amounts\",\"type\":\"uint256[2]\"},{\"name\":\"_min_mint_amount\",\"type\":\"uint256\"},{\"name\":\"_receiver\",\"type\":\"address\"}],\"outputs\":[{\"name\":\"\",\"type\":\"uint256\"}]},{\"stateMutability\":\"view\",\"type\":\"function\",\"name\":\"get_dy\",\"inputs\":[{\"name\":\"i\",\"type\":\"int128\"},{\"name\":\"j\",\"type\":\"int128\"},{\"name\":\"dx\",\"type\":\"uint256\"}],\"outputs\":[{\"name\":\"\",\"type\":\"uint256\"}],\"gas\":2466434},{\"stateMutability\":\"view\",\"type\":\"function\",\"name\":\"get_dy_underlying\",\"inputs\":[{\"name\":\"i\",\"type\":\"int128\"},{\"name\":\"j\",\"type\":\"int128\"},{\"name\":\"dx\",\"type\":\"uint256\"}],\"outputs\":[{\"name\":\"\",\"type\":\"uint256\"}],\"gas\":2474920},{\"stateMutability\":\"nonpayable\",\"type\":\"function\",\"name\":\"exchange\",\"inputs\":[{\"name\":\"i\",\"type\":\"int128\"},{\"name\":\"j\",\"type\":\"int128\"},{\"name\":\"_dx\",\"type\":\"uint256\"},{\"name\":\"_min_dy\",\"type\":\"uint256\"}],\"outputs\":[{\"name\":\"\",\"type\":\"uint256\"}]},{\"stateMutability\":\"nonpayable\",\"type\":\"function\",\"name\":\"exchange\",\"inputs\":[{\"name\":\"i\",\"type\":\"int128\"},{\"name\":\"j\",\"type\":\"int128\"},{\"name\":\"_dx\",\"type\":\"uint256\"},{\"name\":\"_min_dy\",\"type\":\"uint256\"},{\"name\":\"_receiver\",\"type\":\"address\"}],\"outputs\":[{\"name\":\"\",\"type\":\"uint256\"}]},{\"stateMutability\":\"nonpayable\",\"type\":\"function\",\"name\":\"exchange_underlying\",\"inputs\":[{\"name\":\"i\",\"type\":\"int128\"},{\"name\":\"j\",\"type\":\"int128\"},{\"name\":\"_dx\",\"type\":\"uint256\"},{\"name\":\"_min_dy\",\"type\":\"uint256\"}],\"outputs\":[{\"name\":\"\",\"type\":\"uint256\"}]},{\"stateMutability\":\"nonpayable\",\"type\":\"function\",\"name\":\"exchange_underlying\",\"inputs\":[{\"name\":\"i\",\"type\":\"int128\"},{\"name\":\"j\",\"type\":\"int128\"},{\"name\":\"_dx\",\"type\":\"uint256\"},{\"name\":\"_min_dy\",\"type\":\"uint256\"},{\"name\":\"_receiver\",\"type\":\"address\"}],\"outputs\":[{\"name\":\"\",\"type\":\"uint256\"}]},{\"stateMutability\":\"nonpayable\",\"type\":\"function\",\"name\":\"remove_liquidity\",\"inputs\":[{\"name\":\"_burn_amount\",\"type\":\"uint256\"},{\"name\":\"_min_amounts\",\"type\":\"uint256[2]\"}],\"outputs\":[{\"name\":\"\",\"type\":\"uint256[2]\"}]},{\"stateMutability\":\"nonpayable\",\"type\":\"function\",\"name\":\"remove_liquidity\",\"inputs\":[{\"name\":\"_burn_amount\",\"type\":\"uint256\"},{\"name\":\"_min_amounts\",\"type\":\"uint256[2]\"},{\"name\":\"_receiver\",\"type\":\"address\"}],\"outputs\":[{\"name\":\"\",\"type\":\"uint256[2]\"}]},{\"stateMutability\":\"nonpayable\",\"type\":\"function\",\"name\":\"remove_liquidity_imbalance\",\"inputs\":[{\"name\":\"_amounts\",\"type\":\"uint256[2]\"},{\"name\":\"_max_burn_amount\",\"type\":\"uint256\"}],\"outputs\":[{\"name\":\"\",\"type\":\"uint256\"}]},{\"stateMutability\":\"nonpayable\",\"type\":\"function\",\"name\":\"remove_liquidity_imbalance\",\"inputs\":[{\"name\":\"_amounts\",\"type\":\"uint256[2]\"},{\"name\":\"_max_burn_amount\",\"type\":\"uint256\"},{\"name\":\"_receiver\",\"type\":\"address\"}],\"outputs\":[{\"name\":\"\",\"type\":\"uint256\"}]},{\"stateMutability\":\"view\",\"type\":\"function\",\"name\":\"calc_withdraw_one_coin\",\"inputs\":[{\"name\":\"_burn_amount\",\"type\":\"uint256\"},{\"name\":\"i\",\"type\":\"int128\"}],\"outputs\":[{\"name\":\"\",\"type\":\"uint256\"}],\"gas\":1108},{\"stateMutability\":\"nonpayable\",\"type\":\"function\",\"name\":\"remove_liquidity_one_coin\",\"inputs\":[{\"name\":\"_burn_amount\",\"type\":\"uint256\"},{\"name\":\"i\",\"type\":\"int128\"},{\"name\":\"_min_received\",\"type\":\"uint256\"}],\"outputs\":[{\"name\":\"\",\"type\":\"uint256\"}]},{\"stateMutability\":\"nonpayable\",\"type\":\"function\",\"name\":\"remove_liquidity_one_coin\",\"inputs\":[{\"name\":\"_burn_amount\",\"type\":\"uint256\"},{\"name\":\"i\",\"type\":\"int128\"},{\"name\":\"_min_received\",\"type\":\"uint256\"},{\"name\":\"_receiver\",\"type\":\"address\"}],\"outputs\":[{\"name\":\"\",\"type\":\"uint256\"}]},{\"stateMutability\":\"nonpayable\",\"type\":\"function\",\"name\":\"ramp_A\",\"inputs\":[{\"name\":\"_future_A\",\"type\":\"uint256\"},{\"name\":\"_future_time\",\"type\":\"uint256\"}],\"outputs\":[],\"gas\":161967},{\"stateMutability\":\"nonpayable\",\"type\":\"function\",\"name\":\"stop_ramp_A\",\"inputs\":[],\"outputs\":[],\"gas\":157887},{\"stateMutability\":\"view\",\"type\":\"function\",\"name\":\"admin_balances\",\"inputs\":[{\"name\":\"i\",\"type\":\"uint256\"}],\"outputs\":[{\"name\":\"\",\"type\":\"uint256\"}],\"gas\":7855},{\"stateMutability\":\"nonpayable\",\"type\":\"function\",\"name\":\"withdraw_admin_fees\",\"inputs\":[],\"outputs\":[],\"gas\":43650},{\"stateMutability\":\"view\",\"type\":\"function\",\"name\":\"coins\",\"inputs\":[{\"name\":\"arg0\",\"type\":\"uint256\"}],\"outputs\":[{\"name\":\"\",\"type\":\"address\"}],\"gas\":3123},{\"stateMutability\":\"view\",\"type\":\"function\",\"name\":\"balances\",\"inputs\":[{\"name\":\"arg0\",\"type\":\"uint256\"}],\"outputs\":[{\"name\":\"\",\"type\":\"uint256\"}],\"gas\":3153},{\"stateMutability\":\"view\",\"type\":\"function\",\"name\":\"fee\",\"inputs\":[],\"outputs\":[{\"name\":\"\",\"type\":\"uint256\"}],\"gas\":3138},{\"stateMutability\":\"view\",\"type\":\"function\",\"name\":\"initial_A\",\"inputs\":[],\"outputs\":[{\"name\":\"\",\"type\":\"uint256\"}],\"gas\":3168},{\"stateMutability\":\"view\",\"type\":\"function\",\"name\":\"future_A\",\"inputs\":[],\"outputs\":[{\"name\":\"\",\"type\":\"uint256\"}],\"gas\":3198},{\"stateMutability\":\"view\",\"type\":\"function\",\"name\":\"initial_A_time\",\"inputs\":[],\"outputs\":[{\"name\":\"\",\"type\":\"uint256\"}],\"gas\":3228},{\"stateMutability\":\"view\",\"type\":\"function\",\"name\":\"future_A_time\",\"inputs\":[],\"outputs\":[{\"name\":\"\",\"type\":\"uint256\"}],\"gas\":3258},{\"stateMutability\":\"view\",\"type\":\"function\",\"name\":\"name\",\"inputs\":[],\"outputs\":[{\"name\":\"\",\"type\":\"string\"}],\"gas\":13518},{\"stateMutability\":\"view\",\"type\":\"function\",\"name\":\"symbol\",\"inputs\":[],\"outputs\":[{\"name\":\"\",\"type\":\"string\"}],\"gas\":11271},{\"stateMutability\":\"view\",\"type\":\"function\",\"name\":\"balanceOf\",\"inputs\":[{\"name\":\"arg0\",\"type\":\"address\"}],\"outputs\":[{\"name\":\"\",\"type\":\"uint256\"}],\"gas\":3563},{\"stateMutability\":\"view\",\"type\":\"function\",\"name\":\"allowance\",\"inputs\":[{\"name\":\"arg0\",\"type\":\"address\"},{\"name\":\"arg1\",\"type\":\"address\"}],\"outputs\":[{\"name\":\"\",\"type\":\"uint256\"}],\"gas\":3808},{\"stateMutability\":\"view\",\"type\":\"function\",\"name\":\"totalSupply\",\"inputs\":[],\"outputs\":[{\"name\":\"\",\"type\":\"uint256\"}],\"gas\":3408},{\"stateMutability\":\"view\",\"type\":\"function\",\"name\":\"rewards_receiver\",\"inputs\":[],\"outputs\":[{\"name\":\"\",\"type\":\"address\"}],\"gas\":3438}]'"
   ]
  },
  {
   "cell_type": "code",
   "execution_count": 20,
   "metadata": {
    "ExecuteTime": {
     "end_time": "2022-04-12T04:31:02.708745Z",
     "start_time": "2022-04-12T04:31:02.706154Z"
    }
   },
   "outputs": [],
   "source": [
    "# sample_contract = web3.toChecksumAddress('0xbEbc44782C7dB0a1A60Cb6fe97d0b483032FF1C7')\n",
    "\n",
    "# sample_contract_instance = web3.eth.contract(address=sample_contract, abi=POOL_CONTRACT_ABI)\n",
    "\n",
    "# # A\n",
    "# A = sample_contract_instance.functions.A().call()\n",
    "\n",
    "# # Number of tokens in pool\n",
    "# n = 2\n",
    "\n",
    "\n",
    "# # initiating token counter and fetching balance of each asset in pool\n",
    "        \n",
    "# token0 = sample_contract_instance.functions.coins(0).call()\n",
    "# token1 = sample_contract_instance.functions.coins(1).call()\n",
    "# token2 = try_or(lambda: sample_contract_instance.functions.coins(2).call())\n",
    "# token3 = try_or(lambda: sample_contract_instance.functions.coins(3).call())\n",
    "\n",
    "# token0_name, token0_symbol, token0_balance = ethereum_token_balance_of_address(token0, sample_contract)\n",
    "# token1_name, token1_symbol, token1_balance = ethereum_token_balance_of_address(token1, sample_contract) \n",
    "\n",
    "# # D\n",
    "# D = 0\n",
    "# D_present = False\n",
    "\n",
    "# try:\n",
    "#     D = sample_contract_instance.functions.D().call()/pow(10,18)\n",
    "#     D_present = True\n",
    "# except Exception as err:\n",
    "#     D = token0_balance + token1_balance\n",
    "\n",
    "# # Product of tokens' quantity\n",
    "# product = token0_balance * token1_balance\n",
    "\n",
    "# if token2 is None:\n",
    "#     token2_name, token2_symbol, token2_balance = (None, None, None)\n",
    "# else:\n",
    "#     token2_name, token2_symbol, token2_balance = ethereum_token_balance_of_address(token2, sample_contract)\n",
    "#     n += 1\n",
    "#     product *= token2_balance\n",
    "#     if not D_present:\n",
    "#         D += token2_balance\n",
    "\n",
    "# if token3 is None:\n",
    "#     token3_name, token3_symbol, token3_balance = (None, None, None)\n",
    "# else:\n",
    "#     token3_name, token3_symbol, token3_balance = ethereum_token_balance_of_address(token3, sample_contract)\n",
    "#     n += 1\n",
    "#     product *= token3_balance\n",
    "#     if not D_present:\n",
    "#         D += token3_balance\n",
    "\n",
    "# ratio = product / pow((D/n), n)\n",
    "# chi = A * ratio\n",
    "\n",
    "# ratio, chi"
   ]
  },
  {
   "cell_type": "code",
   "execution_count": 21,
   "metadata": {
    "ExecuteTime": {
     "end_time": "2022-04-12T04:31:02.712574Z",
     "start_time": "2022-04-12T04:31:02.709893Z"
    }
   },
   "outputs": [],
   "source": [
    "# sample_contract = web3.toChecksumAddress('0xbEbc44782C7dB0a1A60Cb6fe97d0b483032FF1C7')\n",
    "\n",
    "# sample_contract_instance = web3.eth.contract(address=sample_contract, abi=POOL_CONTRACT_ABI)\n",
    "\n",
    "# # A\n",
    "# A = sample_contract_instance.functions.A().call()\n",
    "\n",
    "# # Number of tokens in pool\n",
    "# n = 2\n",
    "\n",
    "\n",
    "# # initiating token counter and fetching balance of each asset in pool\n",
    "        \n",
    "# token0 = sample_contract_instance.functions.coins(0).call()\n",
    "# token1 = sample_contract_instance.functions.coins(1).call()\n",
    "# token2 = try_or(lambda: sample_contract_instance.functions.coins(2).call())\n",
    "# token3 = try_or(lambda: sample_contract_instance.functions.coins(3).call())\n",
    "\n",
    "# token0_name, token0_symbol, token0_balance = ethereum_token_balance_of_address(token0, sample_contract)\n",
    "# token1_name, token1_symbol, token1_balance = ethereum_token_balance_of_address(token1, sample_contract) \n",
    "\n",
    "# # D\n",
    "# D = token0_balance + token1_balance\n",
    "\n",
    "# # Product of tokens' quantity\n",
    "# product = token0_balance * token1_balance\n",
    "\n",
    "# if token2 is None:\n",
    "#     token2_name, token2_symbol, token2_balance = (None, None, None)\n",
    "# else:\n",
    "#     token2_name, token2_symbol, token2_balance = ethereum_token_balance_of_address(token2, sample_contract)\n",
    "#     n += 1\n",
    "#     product *= token2_balance\n",
    "#     D += token2_balance\n",
    "\n",
    "# if token3 is None:\n",
    "#     token3_name, token3_symbol, token3_balance = (None, None, None)\n",
    "# else:\n",
    "#     token3_name, token3_symbol, token3_balance = ethereum_token_balance_of_address(token3, sample_contract)\n",
    "#     n += 1\n",
    "#     product *= token3_balance\n",
    "#     D += token3_balance\n",
    "\n",
    "# ratio = product / pow((D/n), n)\n",
    "# chi = A * ratio\n",
    "\n",
    "# ratio, chi"
   ]
  },
  {
   "cell_type": "code",
   "execution_count": 22,
   "metadata": {
    "ExecuteTime": {
     "end_time": "2022-04-12T04:31:02.717032Z",
     "start_time": "2022-04-12T04:31:02.714255Z"
    }
   },
   "outputs": [],
   "source": [
    "pool_addresses = ['0xD51a44d3FaE010294C616388b506AcdA1bfAAE46',\n",
    " '0xbEbc44782C7dB0a1A60Cb6fe97d0b483032FF1C7',\n",
    " '0xCEAF7747579696A2F0bb206a14210e3c9e6fB269',\n",
    " '0xd632f22692FaC7611d2AA1C0D552930D43CAEd3B',\n",
    " '0x5a6A4D54456819380173272A5E8E9B9904BdF41B',\n",
    " '0x890f4e345B1dAED0367A877a1612f86A1f86985f',\n",
    " '0xEd279fDD11cA84bEef15AF5D39BB4d4bEE23F0cA',\n",
    " '0x752eBeb79963cf0732E9c0fec72a49FD1DEfAEAC',\n",
    " '0x8301AE4fc9c624d1D396cbDAa1ed877821D7C511',\n",
    " '0x45F783CCE6B7FF23B2ab2D70e416cdb7D6055f51',\n",
    " '0x55A8a39bc9694714E2874c1ce77aa1E599461E18',\n",
    " '0xA5407eAE9Ba41422680e2e00537571bcC53efBfD',\n",
    " '0x80466c64868E1ab14a1Ddf27A676C3fcBE638Fe5',\n",
    " '0x1c65bA665ce39cfe85639227eccf17Be2B167058',\n",
    " '0x52EA46506B9CC5Ef470C5bf89f17Dc28bB35D85C']"
   ]
  },
  {
   "cell_type": "code",
   "execution_count": 25,
   "metadata": {
    "ExecuteTime": {
     "end_time": "2022-04-12T04:33:56.264074Z",
     "start_time": "2022-04-12T04:31:53.971126Z"
    }
   },
   "outputs": [
    {
     "name": "stdout",
     "output_type": "stream",
     "text": [
      "https://www.etherscan.io/address/0xD51a44d3FaE010294C616388b506AcdA1bfAAE46/#readContract\n",
      "Compound Dai-Compound USD Coin-Wrapped Ether Pool\n",
      "Chi: 0.3751604737725552\n",
      "Ratio: 2.19696710334947e-07\n",
      "\n",
      "https://www.etherscan.io/address/0xbEbc44782C7dB0a1A60Cb6fe97d0b483032FF1C7/#readContract\n",
      "Tether USD-Wrapped BTC-Tether USD Pool\n",
      "Chi: 4428.2308347723565\n",
      "Ratio: 0.8856461669544713\n",
      "\n",
      "https://www.etherscan.io/address/0xCEAF7747579696A2F0bb206a14210e3c9e6fB269/#readContract\n",
      "Dai Stablecoin-USD Coin Pool\n",
      "Chi: 198.77400854986217\n",
      "Ratio: 0.9938700427493109\n",
      "\n",
      "https://www.etherscan.io/address/0xd632f22692FaC7611d2AA1C0D552930D43CAEd3B/#readContract\n",
      "UST (Wormhole)-Curve.fi DAI/USDC/USDT Pool\n",
      "Chi: 1473.3297386315792\n",
      "Ratio: 0.9822198257543862\n",
      "\n",
      "https://www.etherscan.io/address/0x5a6A4D54456819380173272A5E8E9B9904BdF41B/#readContract\n",
      "Frax-Curve.fi DAI/USDC/USDT Pool\n",
      "Chi: 1728.0823244994692\n",
      "Ratio: 0.8640411622497346\n",
      "\n",
      "https://www.etherscan.io/address/0x890f4e345B1dAED0367A877a1612f86A1f86985f/#readContract\n",
      "Magic Internet Money-Curve.fi DAI/USDC/USDT Pool\n",
      "Chi: 99.88005929582395\n",
      "Ratio: 0.9988005929582395\n",
      "\n",
      "https://www.etherscan.io/address/0xEd279fDD11cA84bEef15AF5D39BB4d4bEE23F0cA/#readContract\n",
      "Wrapped UST Token-Curve.fi DAI/USDC/USDT Pool\n",
      "Chi: 456.7708337736421\n",
      "Ratio: 0.9135416675472842\n",
      "\n",
      "https://www.etherscan.io/address/0x752eBeb79963cf0732E9c0fec72a49FD1DEfAEAC/#readContract\n",
      "LUSD Stablecoin-Curve.fi DAI/USDC/USDT Pool\n",
      "Chi: 0.0\n",
      "Ratio: 0.0\n",
      "\n",
      "https://www.etherscan.io/address/0x8301AE4fc9c624d1D396cbDAa1ed877821D7C511/#readContract\n",
      "Wrapped Ether-Threshold Network Token Pool\n",
      "Chi: 0.0\n",
      "Ratio: 0.0\n",
      "\n",
      "https://www.etherscan.io/address/0x45F783CCE6B7FF23B2ab2D70e416cdb7D6055f51/#readContract\n",
      "Wrapped Ether-Curve DAO Token-iearn USDT-iearn TUSD Pool\n",
      "Chi: 1824.0330326894698\n",
      "Ratio: 0.8906411292429052\n",
      "\n",
      "https://www.etherscan.io/address/0x55A8a39bc9694714E2874c1ce77aa1E599461E18/#readContract\n",
      "iearn DAI-iearn USDC Pool\n",
      "Chi: 999.7814371725473\n",
      "Ratio: 0.9997814371725473\n",
      "\n",
      "https://www.etherscan.io/address/0xA5407eAE9Ba41422680e2e00537571bcC53efBfD/#readContract\n",
      "Magic Internet Money-Wrapped UST Token-Tether USD-Synth sUSD Pool\n",
      "Chi: 99.98001641666089\n",
      "Ratio: 0.9998001641666089\n",
      "\n",
      "https://www.etherscan.io/address/0x80466c64868E1ab14a1Ddf27A676C3fcBE638Fe5/#readContract\n",
      "Dai Stablecoin-USD Coin-Wrapped Ether Pool\n",
      "Chi: 0.0008433945624396728\n",
      "Ratio: 2.313839677475097e-07\n",
      "\n",
      "https://www.etherscan.io/address/0x1c65bA665ce39cfe85639227eccf17Be2B167058/#readContract\n",
      "Tether USD-Wrapped BTC Pool\n",
      "Chi: 199.0486054417179\n",
      "Ratio: 0.9952430272085896\n",
      "\n",
      "https://www.etherscan.io/address/0x52EA46506B9CC5Ef470C5bf89f17Dc28bB35D85C/#readContract\n",
      "UST (Wormhole)-Frax-Tether USD Pool\n",
      "Chi: 84.32383418053949\n",
      "Ratio: 0.04216191709026974\n",
      "\n",
      "Error Count: 0\n"
     ]
    }
   ],
   "source": [
    "# Variable to track no. of error\n",
    "error_count = 0\n",
    "\n",
    "# Looping through all poolls in curve\n",
    "for pool in pool_addresses:\n",
    "    try:\n",
    "        # COnverting to CheckSum Address\n",
    "        pool = web3.toChecksumAddress(pool)\n",
    "        # Fetching ABI from etherscan, as ABI differs from pool to pool\n",
    "        POOL_CONTRACT_ABI = etherscan_abi_request(_contractAddress=pool, _apiKey=ETHERSCAN_API_KEY)\n",
    "\n",
    "        # Initiating the contract instance\n",
    "        pool_contract_instance = web3.eth.contract(address=pool, abi=POOL_CONTRACT_ABI)\n",
    "\n",
    "        # Fetching A for Pool\n",
    "        A = pool_contract_instance.functions.A().call()\n",
    "\n",
    "\n",
    "        # Number of tokens in pool (Initial no. of tokens=2)\n",
    "        n = 2\n",
    "\n",
    "\n",
    "        # initiating token counter and fetching balance of each asset in pool\n",
    "        token0 = pool_contract_instance.functions.coins(0).call()\n",
    "        token1 = pool_contract_instance.functions.coins(1).call()\n",
    "        master_name = str(token0_name)+\"-\"+str(token1_name)\n",
    "        # If third token present\n",
    "        token2 = try_or(lambda: pool_contract_instance.functions.coins(2).call())\n",
    "        # If fourth token present\n",
    "        token3 = try_or(lambda: pool_contract_instance.functions.coins(3).call())\n",
    "\n",
    "        token0_name, token0_symbol, token0_balance = ethereum_token_balance_of_address(token0, pool)\n",
    "        token1_name, token1_symbol, token1_balance = ethereum_token_balance_of_address(token1, pool) \n",
    "\n",
    "        # Calculating D\n",
    "        D = token0_balance + token1_balance\n",
    "        \n",
    "        # Product of tokens' quantity\n",
    "        product = token0_balance * token1_balance\n",
    "\n",
    "        if token2 is None:\n",
    "            token2_name, token2_symbol, token2_balance = (None, None, None)\n",
    "        else:\n",
    "            token2_name, token2_symbol, token2_balance = ethereum_token_balance_of_address(token2, pool)\n",
    "            # Updating number of tokens present\n",
    "            n += 1\n",
    "            # Updating quantity product\n",
    "            product *= token2_balance\n",
    "            # Updating D\n",
    "            D += token2_balance\n",
    "            master_name += \"-\"+str(token2_name)\n",
    "\n",
    "        if token3 is None:\n",
    "            token3_name, token3_symbol, token3_balance = (None, None, None)\n",
    "        else:\n",
    "            token3_name, token3_symbol, token3_balance = ethereum_token_balance_of_address(token3, pool)\n",
    "            # Updating number of tokens present\n",
    "            n += 1\n",
    "            # Updating quantity product\n",
    "            product *= token3_balance\n",
    "            # Updating D\n",
    "            D += token3_balance\n",
    "            master_name += \"-\"+str(token3_name)\n",
    "\n",
    "        # Calculating ratio\n",
    "        ratio = product / pow((D/n), n)\n",
    "\n",
    "        # Calculating 'chi'\n",
    "        chi = A * ratio\n",
    "\n",
    "                                      \n",
    "        master_name+=\" Pool\"\n",
    "        link = 'https://www.etherscan.io/address/' + pool + '/#readContract'\n",
    "        print(link)\n",
    "        print(master_name)\n",
    "        print('Chi: ' + str(chi))\n",
    "        print('Ratio: ' + str(ratio))\n",
    "        print()\n",
    "\n",
    "    except Exception as err:\n",
    "        link = 'https://www.etherscan.io/address/' + pool + '/#readContract'\n",
    "        error_count += 1\n",
    "        print('Error in pool: ' + str(link))\n",
    "        print(err)\n",
    "\n",
    "print('Error Count: ' + str(error_count))"
   ]
  },
  {
   "cell_type": "code",
   "execution_count": null,
   "metadata": {},
   "outputs": [],
   "source": []
  },
  {
   "cell_type": "markdown",
   "metadata": {},
   "source": [
    "### Depeg amount study"
   ]
  },
  {
   "cell_type": "code",
   "execution_count": 34,
   "metadata": {
    "ExecuteTime": {
     "end_time": "2022-04-12T04:39:08.658771Z",
     "start_time": "2022-04-12T04:39:08.656842Z"
    }
   },
   "outputs": [],
   "source": [
    "# DAI-USDC Pool\n",
    "pool = \"0xCEAF7747579696A2F0bb206a14210e3c9e6fB269\""
   ]
  },
  {
   "cell_type": "code",
   "execution_count": 53,
   "metadata": {
    "ExecuteTime": {
     "end_time": "2022-04-12T04:44:56.325127Z",
     "start_time": "2022-04-12T04:44:49.049513Z"
    }
   },
   "outputs": [
    {
     "name": "stdout",
     "output_type": "stream",
     "text": [
      "https://www.etherscan.io/address/0xCEAF7747579696A2F0bb206a14210e3c9e6fB269/#readContract\n",
      "Chi: 198.65624808556396\n",
      "Ratio: 0.9932812404278198\n",
      "A: 200\n",
      "D: 1328016861.2534406\n",
      "Token0 Balance: 609580961.062285\n",
      "Token1 Balance: 718435900.1911557\n",
      "\n"
     ]
    }
   ],
   "source": [
    "try:\n",
    "    # COnverting to CheckSum Address\n",
    "    pool = web3.toChecksumAddress(pool)\n",
    "    # Fetching ABI from etherscan, as ABI differs from pool to pool\n",
    "    POOL_CONTRACT_ABI = etherscan_abi_request(_contractAddress=pool, _apiKey=ETHERSCAN_API_KEY)\n",
    "\n",
    "    # Initiating the contract instance\n",
    "    pool_contract_instance = web3.eth.contract(address=pool, abi=POOL_CONTRACT_ABI)\n",
    "\n",
    "    # Fetching A for Pool\n",
    "    A = pool_contract_instance.functions.A().call()\n",
    "\n",
    "\n",
    "    # Number of tokens in pool (Initial no. of tokens=2)\n",
    "    n = 2\n",
    "\n",
    "\n",
    "    # initiating token counter and fetching balance of each asset in pool\n",
    "    token0 = pool_contract_instance.functions.coins(0).call()\n",
    "    token1 = pool_contract_instance.functions.coins(1).call()\n",
    "    master_name = str(token0_name)+\"-\"+str(token1_name)\n",
    "    # If third token present\n",
    "    token2 = try_or(lambda: pool_contract_instance.functions.coins(2).call())\n",
    "    # If fourth token present\n",
    "    token3 = try_or(lambda: pool_contract_instance.functions.coins(3).call())\n",
    "\n",
    "    token0_name, token0_symbol, token0_balance = ethereum_token_balance_of_address(token0, pool)\n",
    "    token1_name, token1_symbol, token1_balance = ethereum_token_balance_of_address(token1, pool) \n",
    "\n",
    "    # Calculating D\n",
    "    D = token0_balance + token1_balance\n",
    "\n",
    "    # Product of tokens' quantity\n",
    "    product = token0_balance * token1_balance\n",
    "\n",
    "    if token2 is None:\n",
    "        token2_name, token2_symbol, token2_balance = (None, None, None)\n",
    "    else:\n",
    "        token2_name, token2_symbol, token2_balance = ethereum_token_balance_of_address(token2, pool)\n",
    "        # Updating number of tokens present\n",
    "        n += 1\n",
    "        # Updating quantity product\n",
    "        product *= token2_balance\n",
    "        # Updating D\n",
    "        D += token2_balance\n",
    "        master_name += \"-\"+str(token2_name)\n",
    "\n",
    "    if token3 is None:\n",
    "        token3_name, token3_symbol, token3_balance = (None, None, None)\n",
    "    else:\n",
    "        token3_name, token3_symbol, token3_balance = ethereum_token_balance_of_address(token3, pool)\n",
    "        # Updating number of tokens present\n",
    "        n += 1\n",
    "        # Updating quantity product\n",
    "        product *= token3_balance\n",
    "        # Updating D\n",
    "        D += token3_balance\n",
    "        master_name += \"-\"+str(token3_name)\n",
    "\n",
    "    # Calculating ratio\n",
    "    ratio = product / pow((D/n), n)\n",
    "\n",
    "    # Calculating 'chi'\n",
    "    chi = A * ratio\n",
    "\n",
    "\n",
    "    master_name+=\" Pool\"\n",
    "    link = 'https://www.etherscan.io/address/' + pool + '/#readContract'\n",
    "    print(link)\n",
    "#     print(master_name)\n",
    "    print('Chi: ' + str(chi))\n",
    "    print('Ratio: ' + str(ratio))\n",
    "    print('A: '+ str(A))\n",
    "    print('D: '+str(D))\n",
    "    print('Token0 Balance: '+str(token0_balance))\n",
    "    print('Token1 Balance: '+str(token1_balance))\n",
    "#     print(token2_balance)\n",
    "    print()\n",
    "\n",
    "except Exception as err:\n",
    "    link = 'https://www.etherscan.io/address/' + pool + '/#readContract'\n",
    "    error_count += 1\n",
    "    print('Error in pool: ' + str(link))\n",
    "    print(err)\n",
    "\n",
    "    print('Error Count: ' + str(error_count))"
   ]
  },
  {
   "cell_type": "code",
   "execution_count": 54,
   "metadata": {
    "ExecuteTime": {
     "end_time": "2022-04-12T04:44:56.328529Z",
     "start_time": "2022-04-12T04:44:56.326486Z"
    }
   },
   "outputs": [],
   "source": [
    "original_ratio = ratio"
   ]
  },
  {
   "cell_type": "code",
   "execution_count": null,
   "metadata": {},
   "outputs": [],
   "source": [
    "# ratio = product / pow((D/n), n)\n",
    "# Calculating D\n",
    "# D = token0_balance + token1_balance\n",
    "\n",
    "# # Product of tokens' quantity\n",
    "# product = token0_balance * token1_balance"
   ]
  },
  {
   "cell_type": "code",
   "execution_count": 55,
   "metadata": {
    "ExecuteTime": {
     "end_time": "2022-04-12T04:44:56.332054Z",
     "start_time": "2022-04-12T04:44:56.329935Z"
    }
   },
   "outputs": [],
   "source": [
    "# If we move the balance of DAI by 1M, keeping the USDC constant the ratio will change to:\n",
    "token0_balance -= 10000000"
   ]
  },
  {
   "cell_type": "code",
   "execution_count": 56,
   "metadata": {
    "ExecuteTime": {
     "end_time": "2022-04-12T04:44:56.335574Z",
     "start_time": "2022-04-12T04:44:56.333497Z"
    }
   },
   "outputs": [],
   "source": [
    "D = token0_balance + token1_balance"
   ]
  },
  {
   "cell_type": "code",
   "execution_count": 57,
   "metadata": {
    "ExecuteTime": {
     "end_time": "2022-04-12T04:44:56.338761Z",
     "start_time": "2022-04-12T04:44:56.336716Z"
    }
   },
   "outputs": [],
   "source": [
    "product = token0_balance * token1_balance\n",
    "ratio = product / pow((D/n), n)"
   ]
  },
  {
   "cell_type": "code",
   "execution_count": null,
   "metadata": {},
   "outputs": [],
   "source": []
  },
  {
   "cell_type": "code",
   "execution_count": 58,
   "metadata": {
    "ExecuteTime": {
     "end_time": "2022-04-12T04:44:56.877412Z",
     "start_time": "2022-04-12T04:44:56.875260Z"
    }
   },
   "outputs": [],
   "source": [
    "updated_ratio = ratio"
   ]
  },
  {
   "cell_type": "code",
   "execution_count": 59,
   "metadata": {
    "ExecuteTime": {
     "end_time": "2022-04-12T04:44:57.909740Z",
     "start_time": "2022-04-12T04:44:57.906767Z"
    }
   },
   "outputs": [
    {
     "name": "stdout",
     "output_type": "stream",
     "text": [
      "The ratio will be updated by: \n",
      "Old Ratio: 0.9932812404278198\n",
      "Updated Ratio: 0.9918680905220238\n",
      "Difference: 0.0014131499057959962\n"
     ]
    }
   ],
   "source": [
    "print(\"The ratio will be updated by: \")\n",
    "print(\"Old Ratio: \"+str(original_ratio))\n",
    "print(\"Updated Ratio: \"+str(updated_ratio))\n",
    "print(\"Difference: \"+str(abs(original_ratio - updated_ratio)))"
   ]
  },
  {
   "cell_type": "code",
   "execution_count": null,
   "metadata": {},
   "outputs": [],
   "source": []
  },
  {
   "cell_type": "code",
   "execution_count": null,
   "metadata": {},
   "outputs": [],
   "source": []
  }
 ],
 "metadata": {
  "interpreter": {
   "hash": "f57e7e74871ecd89a077d2a776a53e9eceabd5729ccce2c5de09d5a91e273d10"
  },
  "kernelspec": {
   "display_name": "Python 3",
   "language": "python",
   "name": "python3"
  },
  "language_info": {
   "codemirror_mode": {
    "name": "ipython",
    "version": 3
   },
   "file_extension": ".py",
   "mimetype": "text/x-python",
   "name": "python",
   "nbconvert_exporter": "python",
   "pygments_lexer": "ipython3",
   "version": "3.6.13"
  }
 },
 "nbformat": 4,
 "nbformat_minor": 2
}
