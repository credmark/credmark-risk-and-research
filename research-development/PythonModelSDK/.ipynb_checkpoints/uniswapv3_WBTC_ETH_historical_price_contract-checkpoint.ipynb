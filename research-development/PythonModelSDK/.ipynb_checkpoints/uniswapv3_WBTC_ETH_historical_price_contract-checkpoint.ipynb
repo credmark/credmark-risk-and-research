{
 "cells": [
  {
   "cell_type": "code",
   "execution_count": null,
   "id": "5213f81e",
   "metadata": {},
   "outputs": [],
   "source": [
    "# !pip install eth_tester\n",
    "# !pip install eth-keys==0.3.4"
   ]
  },
  {
   "cell_type": "code",
   "execution_count": 7,
   "id": "670eb8ef",
   "metadata": {
    "ExecuteTime": {
     "end_time": "2022-02-02T16:15:07.495544Z",
     "start_time": "2022-02-02T16:14:43.880247Z"
    }
   },
   "outputs": [
    {
     "name": "stdout",
     "output_type": "stream",
     "text": [
      "Collecting web3\n",
      "  Downloading web3-5.27.0-py3-none-any.whl (495 kB)\n",
      "\u001b[K     |████████████████████████████████| 495 kB 9.5 MB/s eta 0:00:01\n",
      "\u001b[?25hCollecting protobuf<4,>=3.10.0\n",
      "  Downloading protobuf-3.19.4-cp36-cp36m-manylinux_2_17_x86_64.manylinux2014_x86_64.whl (1.1 MB)\n",
      "\u001b[K     |████████████████████████████████| 1.1 MB 51.6 MB/s eta 0:00:01\n",
      "\u001b[?25hCollecting aiohttp<4,>=3.7.4.post0\n",
      "  Using cached aiohttp-3.8.1-cp36-cp36m-manylinux_2_5_x86_64.manylinux1_x86_64.manylinux_2_12_x86_64.manylinux2010_x86_64.whl (1.1 MB)\n",
      "Collecting jsonschema<4.0.0,>=3.2.0\n",
      "  Using cached jsonschema-3.2.0-py2.py3-none-any.whl (56 kB)\n",
      "Collecting eth-account<0.6.0,>=0.5.7\n",
      "  Downloading eth_account-0.5.7-py3-none-any.whl (101 kB)\n",
      "\u001b[K     |████████████████████████████████| 101 kB 17.4 MB/s ta 0:00:01\n",
      "\u001b[?25hRequirement already satisfied: requests<3.0.0,>=2.16.0 in /home/nishgaba/anaconda3/envs/cred-model-engine/lib/python3.6/site-packages (from web3) (2.27.1)\n",
      "Collecting ipfshttpclient==0.8.0a2\n",
      "  Using cached ipfshttpclient-0.8.0a2-py3-none-any.whl (82 kB)\n",
      "Collecting typing-extensions<5,>=3.7.4.1\n",
      "  Downloading typing_extensions-4.0.1-py3-none-any.whl (22 kB)\n",
      "Collecting hexbytes<1.0.0,>=0.1.0\n",
      "  Using cached hexbytes-0.2.2-py3-none-any.whl (6.1 kB)\n",
      "Collecting eth-typing<3.0.0,>=2.0.0\n",
      "  Downloading eth_typing-2.3.0-py3-none-any.whl (6.2 kB)\n",
      "Collecting lru-dict<2.0.0,>=1.1.6\n",
      "  Using cached lru_dict-1.1.7-cp36-cp36m-linux_x86_64.whl\n",
      "Collecting eth-abi<3.0.0,>=2.0.0b6\n",
      "  Using cached eth_abi-2.1.1-py3-none-any.whl (27 kB)\n",
      "Collecting websockets<10,>=9.1\n",
      "  Using cached websockets-9.1-cp36-cp36m-manylinux2010_x86_64.whl (102 kB)\n",
      "Collecting eth-hash[pycryptodome]<1.0.0,>=0.2.0\n",
      "  Using cached eth_hash-0.3.2-py3-none-any.whl (8.8 kB)\n",
      "Collecting eth-utils<2.0.0,>=1.9.5\n",
      "  Using cached eth_utils-1.10.0-py3-none-any.whl (24 kB)\n",
      "Collecting multiaddr>=0.0.7\n",
      "  Using cached multiaddr-0.0.9-py2.py3-none-any.whl (16 kB)\n",
      "Collecting aiosignal>=1.1.2\n",
      "  Using cached aiosignal-1.2.0-py3-none-any.whl (8.2 kB)\n",
      "Collecting yarl<2.0,>=1.0\n",
      "  Downloading yarl-1.7.2-cp36-cp36m-manylinux_2_5_x86_64.manylinux1_x86_64.manylinux_2_12_x86_64.manylinux2010_x86_64.whl (270 kB)\n",
      "\u001b[K     |████████████████████████████████| 270 kB 57.9 MB/s eta 0:00:01\n",
      "\u001b[?25hRequirement already satisfied: charset-normalizer<3.0,>=2.0 in /home/nishgaba/anaconda3/envs/cred-model-engine/lib/python3.6/site-packages (from aiohttp<4,>=3.7.4.post0->web3) (2.0.11)\n",
      "Requirement already satisfied: attrs>=17.3.0 in /home/nishgaba/anaconda3/envs/cred-model-engine/lib/python3.6/site-packages (from aiohttp<4,>=3.7.4.post0->web3) (21.4.0)\n",
      "Collecting asynctest==0.13.0\n",
      "  Using cached asynctest-0.13.0-py3-none-any.whl (26 kB)\n",
      "Collecting frozenlist>=1.1.1\n",
      "  Downloading frozenlist-1.2.0-cp36-cp36m-manylinux_2_5_x86_64.manylinux1_x86_64.manylinux_2_12_x86_64.manylinux2010_x86_64.whl (191 kB)\n",
      "\u001b[K     |████████████████████████████████| 191 kB 42.7 MB/s eta 0:00:01\n",
      "\u001b[?25hCollecting async-timeout<5.0,>=4.0.0a3\n",
      "  Using cached async_timeout-4.0.2-py3-none-any.whl (5.8 kB)\n",
      "Collecting multidict<7.0,>=4.5\n",
      "  Downloading multidict-5.2.0-cp36-cp36m-manylinux_2_5_x86_64.manylinux1_x86_64.manylinux_2_12_x86_64.manylinux2010_x86_64.whl (159 kB)\n",
      "\u001b[K     |████████████████████████████████| 159 kB 45.0 MB/s eta 0:00:01\n",
      "\u001b[?25hCollecting idna-ssl>=1.0\n",
      "  Using cached idna_ssl-1.1.0-py3-none-any.whl\n",
      "Collecting parsimonious<0.9.0,>=0.8.0\n",
      "  Using cached parsimonious-0.8.1-py3-none-any.whl\n",
      "Collecting rlp<3,>=1.0.0\n",
      "  Using cached rlp-2.0.1-py2.py3-none-any.whl (20 kB)\n",
      "Collecting eth-keys<0.4.0,>=0.3.4\n",
      "  Downloading eth_keys-0.3.4-py3-none-any.whl (21 kB)\n",
      "Collecting eth-rlp<2,>=0.1.2\n",
      "  Using cached eth_rlp-0.2.1-py3-none-any.whl (5.0 kB)\n",
      "Collecting eth-keyfile<0.6.0,>=0.5.0\n",
      "  Using cached eth_keyfile-0.5.1-py3-none-any.whl (8.3 kB)\n",
      "Collecting bitarray<1.3.0,>=1.2.1\n",
      "  Using cached bitarray-1.2.2-cp36-cp36m-linux_x86_64.whl\n",
      "Collecting pycryptodome<4,>=3.6.6\n",
      "  Downloading pycryptodome-3.14.0-cp35-abi3-manylinux2010_x86_64.whl (2.0 MB)\n",
      "\u001b[K     |████████████████████████████████| 2.0 MB 49.7 MB/s eta 0:00:01\n",
      "\u001b[?25hCollecting cytoolz<1.0.0,>=0.9.0\n",
      "  Using cached cytoolz-0.11.2.tar.gz (481 kB)\n",
      "Collecting toolz>=0.8.0\n",
      "  Downloading toolz-0.11.2-py3-none-any.whl (55 kB)\n",
      "\u001b[K     |████████████████████████████████| 55 kB 10.6 MB/s eta 0:00:01\n",
      "\u001b[?25hRequirement already satisfied: idna>=2.0 in /home/nishgaba/anaconda3/envs/cred-model-engine/lib/python3.6/site-packages (from idna-ssl>=1.0->aiohttp<4,>=3.7.4.post0->web3) (3.3)\n",
      "Requirement already satisfied: setuptools in /home/nishgaba/anaconda3/envs/cred-model-engine/lib/python3.6/site-packages (from jsonschema<4.0.0,>=3.2.0->web3) (58.0.4)\n",
      "Requirement already satisfied: pyrsistent>=0.14.0 in /home/nishgaba/anaconda3/envs/cred-model-engine/lib/python3.6/site-packages (from jsonschema<4.0.0,>=3.2.0->web3) (0.17.3)\n",
      "Collecting importlib-metadata\n",
      "  Downloading importlib_metadata-4.8.3-py3-none-any.whl (17 kB)\n",
      "Requirement already satisfied: six>=1.11.0 in /home/nishgaba/anaconda3/envs/cred-model-engine/lib/python3.6/site-packages (from jsonschema<4.0.0,>=3.2.0->web3) (1.16.0)\n",
      "Collecting varint\n",
      "  Using cached varint-1.0.2-py3-none-any.whl\n",
      "Collecting base58\n",
      "  Using cached base58-2.1.1-py3-none-any.whl (5.6 kB)\n",
      "Collecting netaddr\n",
      "  Using cached netaddr-0.8.0-py2.py3-none-any.whl (1.9 MB)\n",
      "Requirement already satisfied: certifi>=2017.4.17 in /home/nishgaba/anaconda3/envs/cred-model-engine/lib/python3.6/site-packages (from requests<3.0.0,>=2.16.0->web3) (2021.5.30)\n",
      "Requirement already satisfied: urllib3<1.27,>=1.21.1 in /home/nishgaba/anaconda3/envs/cred-model-engine/lib/python3.6/site-packages (from requests<3.0.0,>=2.16.0->web3) (1.26.8)\n",
      "Collecting zipp>=0.5\n",
      "  Using cached zipp-3.6.0-py3-none-any.whl (5.3 kB)\n",
      "Collecting importlib-resources\n",
      "  Using cached importlib_resources-5.4.0-py3-none-any.whl (28 kB)\n",
      "Building wheels for collected packages: cytoolz\n",
      "  Building wheel for cytoolz (setup.py) ... \u001b[?25ldone\n",
      "\u001b[?25h  Created wheel for cytoolz: filename=cytoolz-0.11.2-cp36-cp36m-linux_x86_64.whl size=1654525 sha256=ad6e488f5dfdc7b51d546fa7df4c5bf55ab45ce508a6fee1ac3d43ac97fc90f6\n",
      "  Stored in directory: /home/nishgaba/.cache/pip/wheels/83/c8/80/3663b26cb65ea0add681ebbf422874089a085bd2bff6d97b25\n",
      "Successfully built cytoolz\n",
      "Installing collected packages: toolz, zipp, eth-typing, eth-hash, cytoolz, importlib-resources, eth-utils, varint, typing-extensions, rlp, pycryptodome, parsimonious, netaddr, multidict, hexbytes, frozenlist, eth-keys, base58, yarl, multiaddr, importlib-metadata, idna-ssl, eth-rlp, eth-keyfile, eth-abi, bitarray, asynctest, async-timeout, aiosignal, websockets, protobuf, lru-dict, jsonschema, ipfshttpclient, eth-account, aiohttp, web3\n",
      "  Attempting uninstall: jsonschema\n",
      "    Found existing installation: jsonschema 3.0.2\n",
      "    Uninstalling jsonschema-3.0.2:\n",
      "      Successfully uninstalled jsonschema-3.0.2\n",
      "\u001b[31mERROR: pip's dependency resolver does not currently take into account all the packages that are installed. This behaviour is the source of the following dependency conflicts.\n",
      "pipx 0.16.4 requires argcomplete<2.0,>=1.9.4, which is not installed.\u001b[0m\n",
      "Successfully installed aiohttp-3.8.1 aiosignal-1.2.0 async-timeout-4.0.2 asynctest-0.13.0 base58-2.1.1 bitarray-1.2.2 cytoolz-0.11.2 eth-abi-2.1.1 eth-account-0.5.7 eth-hash-0.3.2 eth-keyfile-0.5.1 eth-keys-0.3.4 eth-rlp-0.2.1 eth-typing-2.3.0 eth-utils-1.10.0 frozenlist-1.2.0 hexbytes-0.2.2 idna-ssl-1.1.0 importlib-metadata-4.8.3 importlib-resources-5.4.0 ipfshttpclient-0.8.0a2 jsonschema-3.2.0 lru-dict-1.1.7 multiaddr-0.0.9 multidict-5.2.0 netaddr-0.8.0 parsimonious-0.8.1 protobuf-3.19.4 pycryptodome-3.14.0 rlp-2.0.1 toolz-0.11.2 typing-extensions-4.0.1 varint-1.0.2 web3-5.27.0 websockets-9.1 yarl-1.7.2 zipp-3.6.0\n"
     ]
    }
   ],
   "source": [
    "!pip install web3"
   ]
  },
  {
   "cell_type": "code",
   "execution_count": 8,
   "id": "9a69a780",
   "metadata": {
    "ExecuteTime": {
     "end_time": "2022-02-02T16:15:07.845745Z",
     "start_time": "2022-02-02T16:15:07.496940Z"
    }
   },
   "outputs": [],
   "source": [
    "# Import Packages\n",
    "import os\n",
    "import time\n",
    "import json\n",
    "import pickle\n",
    "import requests\n",
    "\n",
    "import pandas as pd\n",
    "from web3 import Web3"
   ]
  },
  {
   "cell_type": "code",
   "execution_count": 9,
   "id": "3fbf1475",
   "metadata": {
    "ExecuteTime": {
     "end_time": "2022-02-02T16:15:07.849064Z",
     "start_time": "2022-02-02T16:15:07.847038Z"
    }
   },
   "outputs": [],
   "source": [
    "WBTC_ETH_ADDRESS = \"0xcbcdf9626bc03e24f779434178a73a0b4bad62ed\""
   ]
  },
  {
   "cell_type": "code",
   "execution_count": null,
   "id": "225fdbcc",
   "metadata": {},
   "outputs": [],
   "source": [
    "print(web3.toChecksumAddress(WBTC_ETH_ADDRESS))"
   ]
  },
  {
   "cell_type": "code",
   "execution_count": 2,
   "id": "bffd77f5",
   "metadata": {},
   "outputs": [],
   "source": [
    "ETHERSCAN_API_KEY = \"P4XI3P1XKMUFPGIKGDNEJ8RAV6TBE317MW\"\n",
    "ETH_MAINNET       = \"https://api.etherscan.io/\"\n",
    "WBTC_ETH_POOL     = \"0xcbcdf9626bc03e24f779434178a73a0b4bad62ed\""
   ]
  },
  {
   "cell_type": "code",
   "execution_count": 3,
   "id": "bc40f5e5",
   "metadata": {
    "code_folding": [
     3
    ]
   },
   "outputs": [],
   "source": [
    "# Fetch ABI from contract address\n",
    "## Needs Contract Address and API Key as an input\n",
    "\n",
    "def etherscan_abi_request(_contractAddress, _apiKey):\n",
    "    '''\n",
    "        Etherscan ABI Request Method\n",
    "        Args::\n",
    "            _contractAddress: Ethereum Address of the contract\n",
    "            _apiKey: Etherscan API Key\n",
    "        Returns::\n",
    "            ethResJS: Etherscan ABI request result in JSON format\n",
    "    '''\n",
    "    ETHERSCAN_ABI_REQUEST = \"https://api.etherscan.io/api?module=contract&action=getabi&address={0}&apikey={1}\".format(_contractAddress, _apiKey)\n",
    "    ethResJS = (requests.get(ETHERSCAN_ABI_REQUEST)).json()['result']\n",
    "    return ethResJS"
   ]
  },
  {
   "cell_type": "code",
   "execution_count": 35,
   "id": "35b8be5c",
   "metadata": {},
   "outputs": [],
   "source": [
    "web3              = Web3(Web3.HTTPProvider('https://mainnet.infura.io/v3/8977aae7711040c7a7e43001eeddfacf'))"
   ]
  },
  {
   "cell_type": "code",
   "execution_count": 36,
   "id": "986a89c7",
   "metadata": {},
   "outputs": [
    {
     "data": {
      "text/plain": [
       "'latest'"
      ]
     },
     "execution_count": 36,
     "metadata": {},
     "output_type": "execute_result"
    }
   ],
   "source": [
    "web3.eth.defaultBlock"
   ]
  },
  {
   "cell_type": "code",
   "execution_count": null,
   "id": "f7a01ebf",
   "metadata": {},
   "outputs": [],
   "source": []
  },
  {
   "cell_type": "code",
   "execution_count": null,
   "id": "5cefca91",
   "metadata": {},
   "outputs": [],
   "source": []
  },
  {
   "cell_type": "code",
   "execution_count": 39,
   "id": "c2392d1c",
   "metadata": {},
   "outputs": [],
   "source": [
    "web3.eth.default_block = 13226441"
   ]
  },
  {
   "cell_type": "code",
   "execution_count": 50,
   "id": "c4b12264",
   "metadata": {},
   "outputs": [
    {
     "data": {
      "text/plain": [
       "(14126470, 13226441)"
      ]
     },
     "execution_count": 50,
     "metadata": {},
     "output_type": "execute_result"
    }
   ],
   "source": [
    "web3.eth.block_number, web3.eth.defaultBlock"
   ]
  },
  {
   "cell_type": "code",
   "execution_count": 59,
   "id": "7929ed02",
   "metadata": {},
   "outputs": [],
   "source": [
    "WBTC_ETH_POOL_ABI = etherscan_abi_request(WBTC_ETH_POOL, ETHERSCAN_API_KEY)\n",
    "WBTC_ETH_POOL     = web3.toChecksumAddress(WBTC_ETH_POOL)\n",
    "POOL_INSTANCE     = web3.eth.contract(address=WBTC_ETH_POOL, abi=WBTC_ETH_POOL_ABI)"
   ]
  },
  {
   "cell_type": "code",
   "execution_count": 60,
   "id": "2ce9755c",
   "metadata": {},
   "outputs": [
    {
     "data": {
      "text/plain": [
       "{'address': '0xCBCdF9626bC03E24f779434178A73a0B4bad62eD',\n",
       " 'functions': <web3.contract.ContractFunctions at 0x7f9e905f9fd0>,\n",
       " 'caller': <web3.contract.ContractCaller at 0x7f9e921bc890>,\n",
       " 'events': <web3.contract.ContractEvents at 0x7f9e921c1f10>,\n",
       " 'fallback': <web3.contract.NonExistentFallbackFunction at 0x7f9e921bcf50>,\n",
       " 'receive': <web3.contract.NonExistentReceiveFunction at 0x7f9e921bcc10>}"
      ]
     },
     "execution_count": 60,
     "metadata": {},
     "output_type": "execute_result"
    }
   ],
   "source": [
    "vars(POOL_INSTANCE)"
   ]
  },
  {
   "cell_type": "code",
   "execution_count": 63,
   "id": "75e3f6db",
   "metadata": {},
   "outputs": [
    {
     "data": {
      "text/plain": [
       "[<Function burn(int24,int24,uint128)>,\n",
       " <Function collect(address,int24,int24,uint128,uint128)>,\n",
       " <Function collectProtocol(address,uint128,uint128)>,\n",
       " <Function factory()>,\n",
       " <Function fee()>,\n",
       " <Function feeGrowthGlobal0X128()>,\n",
       " <Function feeGrowthGlobal1X128()>,\n",
       " <Function flash(address,uint256,uint256,bytes)>,\n",
       " <Function increaseObservationCardinalityNext(uint16)>,\n",
       " <Function initialize(uint160)>,\n",
       " <Function liquidity()>,\n",
       " <Function maxLiquidityPerTick()>,\n",
       " <Function mint(address,int24,int24,uint128,bytes)>,\n",
       " <Function observations(uint256)>,\n",
       " <Function observe(uint32[])>,\n",
       " <Function positions(bytes32)>,\n",
       " <Function protocolFees()>,\n",
       " <Function setFeeProtocol(uint8,uint8)>,\n",
       " <Function slot0()>,\n",
       " <Function snapshotCumulativesInside(int24,int24)>,\n",
       " <Function swap(address,bool,int256,uint160,bytes)>,\n",
       " <Function tickBitmap(int16)>,\n",
       " <Function tickSpacing()>,\n",
       " <Function ticks(int24)>,\n",
       " <Function token0()>,\n",
       " <Function token1()>]"
      ]
     },
     "execution_count": 63,
     "metadata": {},
     "output_type": "execute_result"
    }
   ],
   "source": [
    "POOL_INSTANCE.all_functions()"
   ]
  },
  {
   "cell_type": "code",
   "execution_count": 13,
   "id": "2a40d947",
   "metadata": {},
   "outputs": [],
   "source": [
    "USD_DECIMALS = 6\n",
    "ETH_DECIMALS = 18\n",
    "ABS_DECIMALS = 12"
   ]
  },
  {
   "cell_type": "code",
   "execution_count": 56,
   "id": "716db837",
   "metadata": {},
   "outputs": [
    {
     "data": {
      "text/plain": [
       "14126477"
      ]
     },
     "execution_count": 56,
     "metadata": {},
     "output_type": "execute_result"
    }
   ],
   "source": [
    "web3.eth.blockNumber"
   ]
  },
  {
   "cell_type": "code",
   "execution_count": 57,
   "id": "2db1e655",
   "metadata": {},
   "outputs": [],
   "source": [
    "POOL_INSTANCE.defaultBlock = 13226441"
   ]
  },
  {
   "cell_type": "code",
   "execution_count": 31,
   "id": "b06fc5a1",
   "metadata": {},
   "outputs": [
    {
     "data": {
      "text/plain": [
       "256608"
      ]
     },
     "execution_count": 31,
     "metadata": {},
     "output_type": "execute_result"
    }
   ],
   "source": [
    "CURRENT_TICK = POOL_INSTANCE.functions.slot0().call()[1]\n",
    "print(CURRENT_TICK)\n",
    "POOL_INSTANCE.\n",
    "CURRENT_TICK = POOL_INSTANCE.functions.slot0().call()[1]\n",
    "print(CURRENT_TICK)"
   ]
  },
  {
   "cell_type": "code",
   "execution_count": null,
   "id": "d5a5f154",
   "metadata": {},
   "outputs": [],
   "source": []
  },
  {
   "cell_type": "code",
   "execution_count": null,
   "id": "7f6a8628",
   "metadata": {},
   "outputs": [],
   "source": [
    "TICK_SPACING = POOL_INSTANCE.functions.tickSpacing().call()\n",
    "MIN_TICK     = CURRENT_TICK -  CURRENT_TICK% TICK_SPACING \n",
    "MAX_TICK     = MIN_TICK +  TICK_SPACING \n",
    "MIN_PRICE    = 1 / (pow(1.0001, MAX_TICK) * pow(10,(USD_DECIMALS - ETH_DECIMALS )))\n",
    "MAX_PRICE    = 1 / (pow(1.0001, MIN_TICK) * pow(10,(USD_DECIMALS - ETH_DECIMALS )))"
   ]
  },
  {
   "cell_type": "code",
   "execution_count": 24,
   "id": "9460f7e9",
   "metadata": {},
   "outputs": [
    {
     "data": {
      "text/plain": [
       "(7.172857640699987, 7.216021991929774)"
      ]
     },
     "execution_count": 24,
     "metadata": {},
     "output_type": "execute_result"
    }
   ],
   "source": [
    "MIN_PRICE, MAX_PRICE"
   ]
  },
  {
   "cell_type": "code",
   "execution_count": 21,
   "id": "ec1158d0",
   "metadata": {},
   "outputs": [],
   "source": [
    "POOL_INSTANCE#.web3.eth.default_block = 13124356"
   ]
  },
  {
   "cell_type": "code",
   "execution_count": null,
   "id": "dc10eaa0",
   "metadata": {},
   "outputs": [],
   "source": []
  },
  {
   "cell_type": "code",
   "execution_count": null,
   "id": "62e4f756",
   "metadata": {},
   "outputs": [],
   "source": []
  },
  {
   "cell_type": "code",
   "execution_count": null,
   "id": "c3e5af60",
   "metadata": {},
   "outputs": [],
   "source": []
  },
  {
   "cell_type": "code",
   "execution_count": null,
   "id": "7de7e66a",
   "metadata": {},
   "outputs": [],
   "source": []
  },
  {
   "cell_type": "code",
   "execution_count": null,
   "id": "84cf989c",
   "metadata": {},
   "outputs": [],
   "source": []
  },
  {
   "cell_type": "code",
   "execution_count": null,
   "id": "e4a39ef0",
   "metadata": {},
   "outputs": [],
   "source": []
  },
  {
   "cell_type": "code",
   "execution_count": null,
   "id": "837de022",
   "metadata": {},
   "outputs": [],
   "source": []
  },
  {
   "cell_type": "code",
   "execution_count": null,
   "id": "26f0b1ff",
   "metadata": {},
   "outputs": [],
   "source": [
    "CURRENT_BLOCK = 14123754\n",
    "for i in range(10):\n",
    "    for transaction  in web3.eth.get_block(CURRENT_BLOCK - i)['transactions']:\n",
    "        transaction_details = web3.eth.get_transaction(transaction)\n",
    "        sender = web3.eth.get_transaction(transaction)['from']\n",
    "        receiver = web3.eth.get_transaction(transaction)['to']\n",
    "        if sender == WBTC_ETH_POOL:\n",
    "            \n",
    "            \n",
    "        break\n",
    "    break\n",
    "    \n",
    "    "
   ]
  },
  {
   "cell_type": "code",
   "execution_count": null,
   "id": "d74c6700",
   "metadata": {},
   "outputs": [],
   "source": []
  },
  {
   "cell_type": "code",
   "execution_count": null,
   "id": "040a7525",
   "metadata": {},
   "outputs": [],
   "source": []
  },
  {
   "cell_type": "code",
   "execution_count": null,
   "id": "39bd151d",
   "metadata": {},
   "outputs": [],
   "source": [
    "requests.get(\"https://api.etherscan.io/api?module=transaction&action=getstatus&txhash=0xfc314b9942f1e9d564a44e48e2e05d36e893b4855d41696e456d05c322d26801&apikey=P4XI3P1XKMUFPGIKGDNEJ8RAV6TBE317MW\").json()     "
   ]
  },
  {
   "cell_type": "code",
   "execution_count": null,
   "id": "e5061190",
   "metadata": {},
   "outputs": [],
   "source": []
  },
  {
   "cell_type": "code",
   "execution_count": null,
   "id": "12fc5d56",
   "metadata": {},
   "outputs": [],
   "source": []
  },
  {
   "cell_type": "code",
   "execution_count": null,
   "id": "15955807",
   "metadata": {},
   "outputs": [],
   "source": []
  },
  {
   "cell_type": "code",
   "execution_count": null,
   "id": "4b32d6b0",
   "metadata": {},
   "outputs": [],
   "source": [
    "df = pd.DataFrame(columns=['timestamp','date', 'min_price($)', 'max_price($)','min_tick','max_tick'])\n",
    "for _ in range(100):\n",
    "    CURRENT_TICK = contract_instance.functions.slot0().call()[1]\n",
    "    TICK_SPACING = contract_instance.functions.tickSpacing().call()\n",
    "    MIN_TICK = CURRENT_TICK -  CURRENT_TICK% TICK_SPACING \n",
    "    MAX_TICK = MIN_TICK +  TICK_SPACING \n",
    "    MIN_PRICE = 1 / (pow(1.0001, MAX_TICK) * pow(10,(USD_DECIMALS - ETH_DECIMALS )))\n",
    "    MAX_PRICE = 1 / (pow(1.0001, MIN_TICK) * pow(10,(USD_DECIMALS - ETH_DECIMALS )))\n",
    "    df.loc[_] = [datetime.now().timestamp()] + [datetime.now()] + [MIN_PRICE] + [MAX_PRICE] + [MIN_TICK] + [MAX_TICK]\n",
    "    time.sleep(60)\n",
    "    if _ % 10 ==0 :\n",
    "        print(_)"
   ]
  }
 ],
 "metadata": {
  "kernelspec": {
   "display_name": "Python 3",
   "language": "python",
   "name": "python3"
  },
  "language_info": {
   "codemirror_mode": {
    "name": "ipython",
    "version": 3
   },
   "file_extension": ".py",
   "mimetype": "text/x-python",
   "name": "python",
   "nbconvert_exporter": "python",
   "pygments_lexer": "ipython3",
   "version": "3.6.13"
  }
 },
 "nbformat": 4,
 "nbformat_minor": 5
}
