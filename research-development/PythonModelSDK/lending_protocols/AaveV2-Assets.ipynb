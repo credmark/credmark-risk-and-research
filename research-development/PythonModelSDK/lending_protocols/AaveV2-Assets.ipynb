{
 "cells": [
  {
   "cell_type": "code",
   "execution_count": 1,
   "id": "124f714f",
   "metadata": {
    "ExecuteTime": {
     "end_time": "2022-02-11T12:24:21.791566Z",
     "start_time": "2022-02-11T12:24:17.886314Z"
    }
   },
   "outputs": [],
   "source": [
    "# Import Packages\n",
    "import os\n",
    "import sys\n",
    "import time\n",
    "\n",
    "\n",
    "import matplotlib\n",
    "import matplotlib.pyplot as plt\n",
    "import json\n",
    "from web3 import Web3\n",
    "import requests\n",
    "import pickle\n",
    "import logging\n",
    "\n",
    "%matplotlib inline"
   ]
  },
  {
   "cell_type": "markdown",
   "id": "c50a1e4f",
   "metadata": {},
   "source": [
    "### Fetching pool data"
   ]
  },
  {
   "cell_type": "code",
   "execution_count": 9,
   "id": "2fc0eb61",
   "metadata": {
    "ExecuteTime": {
     "end_time": "2022-02-11T12:32:04.593326Z",
     "start_time": "2022-02-11T12:32:04.587948Z"
    }
   },
   "outputs": [],
   "source": [
    "# Infura Details\n",
    "PROJECT_ID = \"1b0fc3af1d194e8ea8db248ccf926085\"\n",
    "\n",
    "\n",
    "# Etherscan API Details\n",
    "ETHERSCAN_API_KEY = \"P4XI3P1XKMUFPGIKGDNEJ8RAV6TBE317MW\"\n",
    "ETH_MAINNET = \"https://api.etherscan.io/\""
   ]
  },
  {
   "cell_type": "code",
   "execution_count": 10,
   "id": "45e5252e",
   "metadata": {
    "ExecuteTime": {
     "end_time": "2022-02-11T12:32:06.470631Z",
     "start_time": "2022-02-11T12:32:06.466645Z"
    }
   },
   "outputs": [],
   "source": [
    "# Web3 Handle\n",
    "w3 = Web3(Web3.HTTPProvider(\"https://mainnet.infura.io/v3/\"+str(PROJECT_ID)))"
   ]
  },
  {
   "cell_type": "code",
   "execution_count": null,
   "id": "2bc6626f",
   "metadata": {},
   "outputs": [],
   "source": []
  },
  {
   "cell_type": "code",
   "execution_count": 4,
   "id": "79af600f",
   "metadata": {
    "ExecuteTime": {
     "end_time": "2022-02-11T12:24:39.660590Z",
     "start_time": "2022-02-11T12:24:39.656586Z"
    }
   },
   "outputs": [],
   "source": [
    "# Fetch ABI from contract address\n",
    "## Needs Contract Address and API Key as an input\n",
    "\n",
    "def etherscan_abi_request(_contractAddress, _apiKey):\n",
    "    '''\n",
    "        Etherscan ABI Request Method\n",
    "        Args::\n",
    "            _contractAddress: Ethereum Address of the contract\n",
    "            _apiKey: Etherscan API Key\n",
    "        Returns::\n",
    "            ethResJS: Etherscan ABI request result in JSON format\n",
    "    '''\n",
    "    ETHERSCAN_ABI_REQUEST = \"https://api.etherscan.io/api?module=contract&action=getabi&address={0}&apikey={1}\".format(_contractAddress, _apiKey)\n",
    "    ethResJS = (requests.get(ETHERSCAN_ABI_REQUEST)).json()['result']\n",
    "#     ethRes = (requests.get(ETHERSCAN_ABI_REQUEST))\n",
    "    return ethResJS"
   ]
  },
  {
   "cell_type": "code",
   "execution_count": 5,
   "id": "18652d44",
   "metadata": {
    "ExecuteTime": {
     "end_time": "2022-02-11T12:24:46.848870Z",
     "start_time": "2022-02-11T12:24:46.843780Z"
    }
   },
   "outputs": [],
   "source": [
    "# Fetch transactions history from contract address\n",
    "## Needs Contract Address and API Key as an input\n",
    "\n",
    "def etherscan_transaction_history(_contractAddress, _apiKey):\n",
    "    '''\n",
    "    \n",
    "        Etherscan Transaction History Method\n",
    "        Args::\n",
    "            _contractAddress: Ethereum Address of the contract\n",
    "            _apiKey: Etherscan API Key\n",
    "        Returns::\n",
    "            ethResJS: Etherscan ABI request result in JSON format\n",
    "    '''\n",
    "#     ETHERSCAN_ABI_REQUEST = ETHERSCAN_TRANSACTION_HISTORY = \"https://api.etherscan.io/api?module=account&action=txlist&address={0}&startblock=0&endblock=99999999&page=1&offset=100&sort=asc&apikey={1}\".format(_contractAddress, _apiKey)\n",
    "    ETHERSCAN_TRANSACTION_HISTORY = \"https://api.etherscan.io/api?module=account&action=txlist&address={0}&sort=asc&apikey={1}\".format(_contractAddress, _apiKey)\n",
    "    ethResJS = (requests.get(ETHERSCAN_TRANSACTION_HISTORY)).json()['result']\n",
    "#     ethRes = (requests.get(ETHERSCAN_ABI_REQUEST))\n",
    "    return ethResJS"
   ]
  },
  {
   "cell_type": "code",
   "execution_count": 6,
   "id": "b05d2165",
   "metadata": {
    "ExecuteTime": {
     "end_time": "2022-02-11T12:24:54.216270Z",
     "start_time": "2022-02-11T12:24:54.212465Z"
    }
   },
   "outputs": [],
   "source": [
    "# Fetch transactions history from contract address\n",
    "## Needs Contract Address and API Key as an input\n",
    "\n",
    "def etherscan_erc20_transaction_history(_contractAddress, _apiKey):\n",
    "    '''\n",
    "    \n",
    "        Etherscan ERC20 Token Transaction History Method\n",
    "        Args::\n",
    "            _contractAddress: Ethereum Address of the contract\n",
    "            _apiKey: Etherscan API Key\n",
    "        Returns::\n",
    "            ethResJS: Etherscan ABI request result in JSON format\n",
    "    '''\n",
    "#     ETHERSCAN_ABI_REQUEST = ETHERSCAN_TRANSACTION_HISTORY = \"https://api.etherscan.io/api?module=account&action=tokentx&address={0}&startblock=0&endblock=99999999&page=1&sort=asc&apikey={1}\".format(_contractAddress, _apiKey)\n",
    "    ETHERSCAN_TRANSACTION_HISTORY = \"https://api.etherscan.io/api?module=account&action=tokentx&address={0}&sort=asc&apikey={1}\".format(_contractAddress, _apiKey)\n",
    "    ethResJS = (requests.get(ETHERSCAN_TRANSACTION_HISTORY)).json()['result']\n",
    "#     ethRes = (requests.get(ETHERSCAN_ABI_REQUEST))\n",
    "    return ethResJS"
   ]
  },
  {
   "cell_type": "code",
   "execution_count": 7,
   "id": "1fbd319c",
   "metadata": {
    "ExecuteTime": {
     "end_time": "2022-02-11T12:25:02.295039Z",
     "start_time": "2022-02-11T12:25:02.290325Z"
    }
   },
   "outputs": [],
   "source": [
    "# Fetch transactions details from transaction hash\n",
    "## Needs transaction hash and API Key as an input\n",
    "\n",
    "def etherscan_get_transaction_receipt(_transactionHash, _apiKey):\n",
    "    '''\n",
    "        Etherscan Get Transaction Receipt Method\n",
    "        Args::\n",
    "            _transactionHash: Transaction hash of the transaction\n",
    "            _apiKey: Etherscan API Key\n",
    "        Returns::\n",
    "            etherResJS: Etherscan Transaction Receipt in JSON Format\n",
    "    '''\n",
    "    ETHERSCAN_TRANSACTION_RECEIPT = \"https://api.etherscan.io/api?module=proxy&action=eth_getTransactionReceipt&txhash={0}&apikey={1}\".format(_transactionHash, _apiKey)\n",
    "#     ETHERSCAN_TRANSACTION_HISTORY = \"https://api.etherscan.io/api?module=account&action=txlist&address={0}&sort=asc&apikey={1}\".format(_contractAddress, _apiKey)\n",
    "    ethResJS = (requests.get(ETHERSCAN_TRANSACTION_RECEIPT)).json()['result']\n",
    "#     ethRes = (requests.get(ETHERSCAN_ABI_REQUEST))\n",
    "    return ethResJS\n",
    "    \n",
    "    "
   ]
  },
  {
   "cell_type": "code",
   "execution_count": 13,
   "id": "f5a0a5ea",
   "metadata": {
    "ExecuteTime": {
     "end_time": "2022-02-11T12:53:00.515231Z",
     "start_time": "2022-02-11T12:53:00.510530Z"
    }
   },
   "outputs": [],
   "source": [
    "## The addresses are taken from:\n",
    "## https://docs.aave.com/developers/v/2.0/deployed-contracts/deployed-contracts\n",
    "aave_lending_protocol_address = \"0x7d2768dE32b0b80b7a3454c06BdAc94A69DDc7A9\"\n",
    "aave_lending_protocol_implementation_address = \"0xC6845a5C768BF8D7681249f8927877Efda425baf\"\n",
    "\n",
    "# This ABI is from Implementation Address\n",
    "aave_abi = '[{\"anonymous\":false,\"inputs\":[{\"indexed\":true,\"internalType\":\"address\",\"name\":\"reserve\",\"type\":\"address\"},{\"indexed\":false,\"internalType\":\"address\",\"name\":\"user\",\"type\":\"address\"},{\"indexed\":true,\"internalType\":\"address\",\"name\":\"onBehalfOf\",\"type\":\"address\"},{\"indexed\":false,\"internalType\":\"uint256\",\"name\":\"amount\",\"type\":\"uint256\"},{\"indexed\":false,\"internalType\":\"uint256\",\"name\":\"borrowRateMode\",\"type\":\"uint256\"},{\"indexed\":false,\"internalType\":\"uint256\",\"name\":\"borrowRate\",\"type\":\"uint256\"},{\"indexed\":true,\"internalType\":\"uint16\",\"name\":\"referral\",\"type\":\"uint16\"}],\"name\":\"Borrow\",\"type\":\"event\"},{\"anonymous\":false,\"inputs\":[{\"indexed\":true,\"internalType\":\"address\",\"name\":\"reserve\",\"type\":\"address\"},{\"indexed\":false,\"internalType\":\"address\",\"name\":\"user\",\"type\":\"address\"},{\"indexed\":true,\"internalType\":\"address\",\"name\":\"onBehalfOf\",\"type\":\"address\"},{\"indexed\":false,\"internalType\":\"uint256\",\"name\":\"amount\",\"type\":\"uint256\"},{\"indexed\":true,\"internalType\":\"uint16\",\"name\":\"referral\",\"type\":\"uint16\"}],\"name\":\"Deposit\",\"type\":\"event\"},{\"anonymous\":false,\"inputs\":[{\"indexed\":true,\"internalType\":\"address\",\"name\":\"target\",\"type\":\"address\"},{\"indexed\":true,\"internalType\":\"address\",\"name\":\"initiator\",\"type\":\"address\"},{\"indexed\":true,\"internalType\":\"address\",\"name\":\"asset\",\"type\":\"address\"},{\"indexed\":false,\"internalType\":\"uint256\",\"name\":\"amount\",\"type\":\"uint256\"},{\"indexed\":false,\"internalType\":\"uint256\",\"name\":\"premium\",\"type\":\"uint256\"},{\"indexed\":false,\"internalType\":\"uint16\",\"name\":\"referralCode\",\"type\":\"uint16\"}],\"name\":\"FlashLoan\",\"type\":\"event\"},{\"anonymous\":false,\"inputs\":[{\"indexed\":true,\"internalType\":\"address\",\"name\":\"collateralAsset\",\"type\":\"address\"},{\"indexed\":true,\"internalType\":\"address\",\"name\":\"debtAsset\",\"type\":\"address\"},{\"indexed\":true,\"internalType\":\"address\",\"name\":\"user\",\"type\":\"address\"},{\"indexed\":false,\"internalType\":\"uint256\",\"name\":\"debtToCover\",\"type\":\"uint256\"},{\"indexed\":false,\"internalType\":\"uint256\",\"name\":\"liquidatedCollateralAmount\",\"type\":\"uint256\"},{\"indexed\":false,\"internalType\":\"address\",\"name\":\"liquidator\",\"type\":\"address\"},{\"indexed\":false,\"internalType\":\"bool\",\"name\":\"receiveAToken\",\"type\":\"bool\"}],\"name\":\"LiquidationCall\",\"type\":\"event\"},{\"anonymous\":false,\"inputs\":[],\"name\":\"Paused\",\"type\":\"event\"},{\"anonymous\":false,\"inputs\":[{\"indexed\":true,\"internalType\":\"address\",\"name\":\"reserve\",\"type\":\"address\"},{\"indexed\":true,\"internalType\":\"address\",\"name\":\"user\",\"type\":\"address\"}],\"name\":\"RebalanceStableBorrowRate\",\"type\":\"event\"},{\"anonymous\":false,\"inputs\":[{\"indexed\":true,\"internalType\":\"address\",\"name\":\"reserve\",\"type\":\"address\"},{\"indexed\":true,\"internalType\":\"address\",\"name\":\"user\",\"type\":\"address\"},{\"indexed\":true,\"internalType\":\"address\",\"name\":\"repayer\",\"type\":\"address\"},{\"indexed\":false,\"internalType\":\"uint256\",\"name\":\"amount\",\"type\":\"uint256\"}],\"name\":\"Repay\",\"type\":\"event\"},{\"anonymous\":false,\"inputs\":[{\"indexed\":true,\"internalType\":\"address\",\"name\":\"reserve\",\"type\":\"address\"},{\"indexed\":false,\"internalType\":\"uint256\",\"name\":\"liquidityRate\",\"type\":\"uint256\"},{\"indexed\":false,\"internalType\":\"uint256\",\"name\":\"stableBorrowRate\",\"type\":\"uint256\"},{\"indexed\":false,\"internalType\":\"uint256\",\"name\":\"variableBorrowRate\",\"type\":\"uint256\"},{\"indexed\":false,\"internalType\":\"uint256\",\"name\":\"liquidityIndex\",\"type\":\"uint256\"},{\"indexed\":false,\"internalType\":\"uint256\",\"name\":\"variableBorrowIndex\",\"type\":\"uint256\"}],\"name\":\"ReserveDataUpdated\",\"type\":\"event\"},{\"anonymous\":false,\"inputs\":[{\"indexed\":true,\"internalType\":\"address\",\"name\":\"reserve\",\"type\":\"address\"},{\"indexed\":true,\"internalType\":\"address\",\"name\":\"user\",\"type\":\"address\"}],\"name\":\"ReserveUsedAsCollateralDisabled\",\"type\":\"event\"},{\"anonymous\":false,\"inputs\":[{\"indexed\":true,\"internalType\":\"address\",\"name\":\"reserve\",\"type\":\"address\"},{\"indexed\":true,\"internalType\":\"address\",\"name\":\"user\",\"type\":\"address\"}],\"name\":\"ReserveUsedAsCollateralEnabled\",\"type\":\"event\"},{\"anonymous\":false,\"inputs\":[{\"indexed\":true,\"internalType\":\"address\",\"name\":\"reserve\",\"type\":\"address\"},{\"indexed\":true,\"internalType\":\"address\",\"name\":\"user\",\"type\":\"address\"},{\"indexed\":false,\"internalType\":\"uint256\",\"name\":\"rateMode\",\"type\":\"uint256\"}],\"name\":\"Swap\",\"type\":\"event\"},{\"anonymous\":false,\"inputs\":[],\"name\":\"Unpaused\",\"type\":\"event\"},{\"anonymous\":false,\"inputs\":[{\"indexed\":true,\"internalType\":\"address\",\"name\":\"reserve\",\"type\":\"address\"},{\"indexed\":true,\"internalType\":\"address\",\"name\":\"user\",\"type\":\"address\"},{\"indexed\":true,\"internalType\":\"address\",\"name\":\"to\",\"type\":\"address\"},{\"indexed\":false,\"internalType\":\"uint256\",\"name\":\"amount\",\"type\":\"uint256\"}],\"name\":\"Withdraw\",\"type\":\"event\"},{\"inputs\":[],\"name\":\"FLASHLOAN_PREMIUM_TOTAL\",\"outputs\":[{\"internalType\":\"uint256\",\"name\":\"\",\"type\":\"uint256\"}],\"stateMutability\":\"view\",\"type\":\"function\"},{\"inputs\":[],\"name\":\"LENDINGPOOL_REVISION\",\"outputs\":[{\"internalType\":\"uint256\",\"name\":\"\",\"type\":\"uint256\"}],\"stateMutability\":\"view\",\"type\":\"function\"},{\"inputs\":[],\"name\":\"MAX_NUMBER_RESERVES\",\"outputs\":[{\"internalType\":\"uint256\",\"name\":\"\",\"type\":\"uint256\"}],\"stateMutability\":\"view\",\"type\":\"function\"},{\"inputs\":[],\"name\":\"MAX_STABLE_RATE_BORROW_SIZE_PERCENT\",\"outputs\":[{\"internalType\":\"uint256\",\"name\":\"\",\"type\":\"uint256\"}],\"stateMutability\":\"view\",\"type\":\"function\"},{\"inputs\":[{\"internalType\":\"address\",\"name\":\"asset\",\"type\":\"address\"},{\"internalType\":\"uint256\",\"name\":\"amount\",\"type\":\"uint256\"},{\"internalType\":\"uint256\",\"name\":\"interestRateMode\",\"type\":\"uint256\"},{\"internalType\":\"uint16\",\"name\":\"referralCode\",\"type\":\"uint16\"},{\"internalType\":\"address\",\"name\":\"onBehalfOf\",\"type\":\"address\"}],\"name\":\"borrow\",\"outputs\":[],\"stateMutability\":\"nonpayable\",\"type\":\"function\"},{\"inputs\":[{\"internalType\":\"address\",\"name\":\"asset\",\"type\":\"address\"},{\"internalType\":\"uint256\",\"name\":\"amount\",\"type\":\"uint256\"},{\"internalType\":\"address\",\"name\":\"onBehalfOf\",\"type\":\"address\"},{\"internalType\":\"uint16\",\"name\":\"referralCode\",\"type\":\"uint16\"}],\"name\":\"deposit\",\"outputs\":[],\"stateMutability\":\"nonpayable\",\"type\":\"function\"},{\"inputs\":[{\"internalType\":\"address\",\"name\":\"asset\",\"type\":\"address\"},{\"internalType\":\"address\",\"name\":\"from\",\"type\":\"address\"},{\"internalType\":\"address\",\"name\":\"to\",\"type\":\"address\"},{\"internalType\":\"uint256\",\"name\":\"amount\",\"type\":\"uint256\"},{\"internalType\":\"uint256\",\"name\":\"balanceFromBefore\",\"type\":\"uint256\"},{\"internalType\":\"uint256\",\"name\":\"balanceToBefore\",\"type\":\"uint256\"}],\"name\":\"finalizeTransfer\",\"outputs\":[],\"stateMutability\":\"nonpayable\",\"type\":\"function\"},{\"inputs\":[{\"internalType\":\"address\",\"name\":\"receiverAddress\",\"type\":\"address\"},{\"internalType\":\"address[]\",\"name\":\"assets\",\"type\":\"address[]\"},{\"internalType\":\"uint256[]\",\"name\":\"amounts\",\"type\":\"uint256[]\"},{\"internalType\":\"uint256[]\",\"name\":\"modes\",\"type\":\"uint256[]\"},{\"internalType\":\"address\",\"name\":\"onBehalfOf\",\"type\":\"address\"},{\"internalType\":\"bytes\",\"name\":\"params\",\"type\":\"bytes\"},{\"internalType\":\"uint16\",\"name\":\"referralCode\",\"type\":\"uint16\"}],\"name\":\"flashLoan\",\"outputs\":[],\"stateMutability\":\"nonpayable\",\"type\":\"function\"},{\"inputs\":[],\"name\":\"getAddressesProvider\",\"outputs\":[{\"internalType\":\"contract ILendingPoolAddressesProvider\",\"name\":\"\",\"type\":\"address\"}],\"stateMutability\":\"view\",\"type\":\"function\"},{\"inputs\":[{\"internalType\":\"address\",\"name\":\"asset\",\"type\":\"address\"}],\"name\":\"getConfiguration\",\"outputs\":[{\"components\":[{\"internalType\":\"uint256\",\"name\":\"data\",\"type\":\"uint256\"}],\"internalType\":\"struct DataTypes.ReserveConfigurationMap\",\"name\":\"\",\"type\":\"tuple\"}],\"stateMutability\":\"view\",\"type\":\"function\"},{\"inputs\":[{\"internalType\":\"address\",\"name\":\"asset\",\"type\":\"address\"}],\"name\":\"getReserveData\",\"outputs\":[{\"components\":[{\"components\":[{\"internalType\":\"uint256\",\"name\":\"data\",\"type\":\"uint256\"}],\"internalType\":\"struct DataTypes.ReserveConfigurationMap\",\"name\":\"configuration\",\"type\":\"tuple\"},{\"internalType\":\"uint128\",\"name\":\"liquidityIndex\",\"type\":\"uint128\"},{\"internalType\":\"uint128\",\"name\":\"variableBorrowIndex\",\"type\":\"uint128\"},{\"internalType\":\"uint128\",\"name\":\"currentLiquidityRate\",\"type\":\"uint128\"},{\"internalType\":\"uint128\",\"name\":\"currentVariableBorrowRate\",\"type\":\"uint128\"},{\"internalType\":\"uint128\",\"name\":\"currentStableBorrowRate\",\"type\":\"uint128\"},{\"internalType\":\"uint40\",\"name\":\"lastUpdateTimestamp\",\"type\":\"uint40\"},{\"internalType\":\"address\",\"name\":\"aTokenAddress\",\"type\":\"address\"},{\"internalType\":\"address\",\"name\":\"stableDebtTokenAddress\",\"type\":\"address\"},{\"internalType\":\"address\",\"name\":\"variableDebtTokenAddress\",\"type\":\"address\"},{\"internalType\":\"address\",\"name\":\"interestRateStrategyAddress\",\"type\":\"address\"},{\"internalType\":\"uint8\",\"name\":\"id\",\"type\":\"uint8\"}],\"internalType\":\"struct DataTypes.ReserveData\",\"name\":\"\",\"type\":\"tuple\"}],\"stateMutability\":\"view\",\"type\":\"function\"},{\"inputs\":[{\"internalType\":\"address\",\"name\":\"asset\",\"type\":\"address\"}],\"name\":\"getReserveNormalizedIncome\",\"outputs\":[{\"internalType\":\"uint256\",\"name\":\"\",\"type\":\"uint256\"}],\"stateMutability\":\"view\",\"type\":\"function\"},{\"inputs\":[{\"internalType\":\"address\",\"name\":\"asset\",\"type\":\"address\"}],\"name\":\"getReserveNormalizedVariableDebt\",\"outputs\":[{\"internalType\":\"uint256\",\"name\":\"\",\"type\":\"uint256\"}],\"stateMutability\":\"view\",\"type\":\"function\"},{\"inputs\":[],\"name\":\"getReservesList\",\"outputs\":[{\"internalType\":\"address[]\",\"name\":\"\",\"type\":\"address[]\"}],\"stateMutability\":\"view\",\"type\":\"function\"},{\"inputs\":[{\"internalType\":\"address\",\"name\":\"user\",\"type\":\"address\"}],\"name\":\"getUserAccountData\",\"outputs\":[{\"internalType\":\"uint256\",\"name\":\"totalCollateralETH\",\"type\":\"uint256\"},{\"internalType\":\"uint256\",\"name\":\"totalDebtETH\",\"type\":\"uint256\"},{\"internalType\":\"uint256\",\"name\":\"availableBorrowsETH\",\"type\":\"uint256\"},{\"internalType\":\"uint256\",\"name\":\"currentLiquidationThreshold\",\"type\":\"uint256\"},{\"internalType\":\"uint256\",\"name\":\"ltv\",\"type\":\"uint256\"},{\"internalType\":\"uint256\",\"name\":\"healthFactor\",\"type\":\"uint256\"}],\"stateMutability\":\"view\",\"type\":\"function\"},{\"inputs\":[{\"internalType\":\"address\",\"name\":\"user\",\"type\":\"address\"}],\"name\":\"getUserConfiguration\",\"outputs\":[{\"components\":[{\"internalType\":\"uint256\",\"name\":\"data\",\"type\":\"uint256\"}],\"internalType\":\"struct DataTypes.UserConfigurationMap\",\"name\":\"\",\"type\":\"tuple\"}],\"stateMutability\":\"view\",\"type\":\"function\"},{\"inputs\":[{\"internalType\":\"address\",\"name\":\"asset\",\"type\":\"address\"},{\"internalType\":\"address\",\"name\":\"aTokenAddress\",\"type\":\"address\"},{\"internalType\":\"address\",\"name\":\"stableDebtAddress\",\"type\":\"address\"},{\"internalType\":\"address\",\"name\":\"variableDebtAddress\",\"type\":\"address\"},{\"internalType\":\"address\",\"name\":\"interestRateStrategyAddress\",\"type\":\"address\"}],\"name\":\"initReserve\",\"outputs\":[],\"stateMutability\":\"nonpayable\",\"type\":\"function\"},{\"inputs\":[{\"internalType\":\"contract ILendingPoolAddressesProvider\",\"name\":\"provider\",\"type\":\"address\"}],\"name\":\"initialize\",\"outputs\":[],\"stateMutability\":\"nonpayable\",\"type\":\"function\"},{\"inputs\":[{\"internalType\":\"address\",\"name\":\"collateralAsset\",\"type\":\"address\"},{\"internalType\":\"address\",\"name\":\"debtAsset\",\"type\":\"address\"},{\"internalType\":\"address\",\"name\":\"user\",\"type\":\"address\"},{\"internalType\":\"uint256\",\"name\":\"debtToCover\",\"type\":\"uint256\"},{\"internalType\":\"bool\",\"name\":\"receiveAToken\",\"type\":\"bool\"}],\"name\":\"liquidationCall\",\"outputs\":[],\"stateMutability\":\"nonpayable\",\"type\":\"function\"},{\"inputs\":[],\"name\":\"paused\",\"outputs\":[{\"internalType\":\"bool\",\"name\":\"\",\"type\":\"bool\"}],\"stateMutability\":\"view\",\"type\":\"function\"},{\"inputs\":[{\"internalType\":\"address\",\"name\":\"asset\",\"type\":\"address\"},{\"internalType\":\"address\",\"name\":\"user\",\"type\":\"address\"}],\"name\":\"rebalanceStableBorrowRate\",\"outputs\":[],\"stateMutability\":\"nonpayable\",\"type\":\"function\"},{\"inputs\":[{\"internalType\":\"address\",\"name\":\"asset\",\"type\":\"address\"},{\"internalType\":\"uint256\",\"name\":\"amount\",\"type\":\"uint256\"},{\"internalType\":\"uint256\",\"name\":\"rateMode\",\"type\":\"uint256\"},{\"internalType\":\"address\",\"name\":\"onBehalfOf\",\"type\":\"address\"}],\"name\":\"repay\",\"outputs\":[{\"internalType\":\"uint256\",\"name\":\"\",\"type\":\"uint256\"}],\"stateMutability\":\"nonpayable\",\"type\":\"function\"},{\"inputs\":[{\"internalType\":\"address\",\"name\":\"asset\",\"type\":\"address\"},{\"internalType\":\"uint256\",\"name\":\"configuration\",\"type\":\"uint256\"}],\"name\":\"setConfiguration\",\"outputs\":[],\"stateMutability\":\"nonpayable\",\"type\":\"function\"},{\"inputs\":[{\"internalType\":\"bool\",\"name\":\"val\",\"type\":\"bool\"}],\"name\":\"setPause\",\"outputs\":[],\"stateMutability\":\"nonpayable\",\"type\":\"function\"},{\"inputs\":[{\"internalType\":\"address\",\"name\":\"asset\",\"type\":\"address\"},{\"internalType\":\"address\",\"name\":\"rateStrategyAddress\",\"type\":\"address\"}],\"name\":\"setReserveInterestRateStrategyAddress\",\"outputs\":[],\"stateMutability\":\"nonpayable\",\"type\":\"function\"},{\"inputs\":[{\"internalType\":\"address\",\"name\":\"asset\",\"type\":\"address\"},{\"internalType\":\"bool\",\"name\":\"useAsCollateral\",\"type\":\"bool\"}],\"name\":\"setUserUseReserveAsCollateral\",\"outputs\":[],\"stateMutability\":\"nonpayable\",\"type\":\"function\"},{\"inputs\":[{\"internalType\":\"address\",\"name\":\"asset\",\"type\":\"address\"},{\"internalType\":\"uint256\",\"name\":\"rateMode\",\"type\":\"uint256\"}],\"name\":\"swapBorrowRateMode\",\"outputs\":[],\"stateMutability\":\"nonpayable\",\"type\":\"function\"},{\"inputs\":[{\"internalType\":\"address\",\"name\":\"asset\",\"type\":\"address\"},{\"internalType\":\"uint256\",\"name\":\"amount\",\"type\":\"uint256\"},{\"internalType\":\"address\",\"name\":\"to\",\"type\":\"address\"}],\"name\":\"withdraw\",\"outputs\":[{\"internalType\":\"uint256\",\"name\":\"\",\"type\":\"uint256\"}],\"stateMutability\":\"nonpayable\",\"type\":\"function\"}]'"
   ]
  },
  {
   "cell_type": "code",
   "execution_count": 21,
   "id": "62cfa6bb",
   "metadata": {
    "ExecuteTime": {
     "end_time": "2022-02-11T13:07:04.234168Z",
     "start_time": "2022-02-11T13:07:04.231320Z"
    }
   },
   "outputs": [],
   "source": [
    "erc_20_abi = '[{\"constant\":true,\"inputs\":[],\"name\":\"name\",\"outputs\":[{\"name\":\"\",\"type\":\"string\"}],\"payable\":false,\"stateMutability\":\"view\",\"type\":\"function\"},{\"constant\":false,\"inputs\":[{\"name\":\"_upgradedAddress\",\"type\":\"address\"}],\"name\":\"deprecate\",\"outputs\":[],\"payable\":false,\"stateMutability\":\"nonpayable\",\"type\":\"function\"},{\"constant\":false,\"inputs\":[{\"name\":\"_spender\",\"type\":\"address\"},{\"name\":\"_value\",\"type\":\"uint256\"}],\"name\":\"approve\",\"outputs\":[],\"payable\":false,\"stateMutability\":\"nonpayable\",\"type\":\"function\"},{\"constant\":true,\"inputs\":[],\"name\":\"deprecated\",\"outputs\":[{\"name\":\"\",\"type\":\"bool\"}],\"payable\":false,\"stateMutability\":\"view\",\"type\":\"function\"},{\"constant\":false,\"inputs\":[{\"name\":\"_evilUser\",\"type\":\"address\"}],\"name\":\"addBlackList\",\"outputs\":[],\"payable\":false,\"stateMutability\":\"nonpayable\",\"type\":\"function\"},{\"constant\":true,\"inputs\":[],\"name\":\"totalSupply\",\"outputs\":[{\"name\":\"\",\"type\":\"uint256\"}],\"payable\":false,\"stateMutability\":\"view\",\"type\":\"function\"},{\"constant\":false,\"inputs\":[{\"name\":\"_from\",\"type\":\"address\"},{\"name\":\"_to\",\"type\":\"address\"},{\"name\":\"_value\",\"type\":\"uint256\"}],\"name\":\"transferFrom\",\"outputs\":[],\"payable\":false,\"stateMutability\":\"nonpayable\",\"type\":\"function\"},{\"constant\":true,\"inputs\":[],\"name\":\"upgradedAddress\",\"outputs\":[{\"name\":\"\",\"type\":\"address\"}],\"payable\":false,\"stateMutability\":\"view\",\"type\":\"function\"},{\"constant\":true,\"inputs\":[{\"name\":\"\",\"type\":\"address\"}],\"name\":\"balances\",\"outputs\":[{\"name\":\"\",\"type\":\"uint256\"}],\"payable\":false,\"stateMutability\":\"view\",\"type\":\"function\"},{\"constant\":true,\"inputs\":[],\"name\":\"decimals\",\"outputs\":[{\"name\":\"\",\"type\":\"uint256\"}],\"payable\":false,\"stateMutability\":\"view\",\"type\":\"function\"},{\"constant\":true,\"inputs\":[],\"name\":\"maximumFee\",\"outputs\":[{\"name\":\"\",\"type\":\"uint256\"}],\"payable\":false,\"stateMutability\":\"view\",\"type\":\"function\"},{\"constant\":true,\"inputs\":[],\"name\":\"_totalSupply\",\"outputs\":[{\"name\":\"\",\"type\":\"uint256\"}],\"payable\":false,\"stateMutability\":\"view\",\"type\":\"function\"},{\"constant\":false,\"inputs\":[],\"name\":\"unpause\",\"outputs\":[],\"payable\":false,\"stateMutability\":\"nonpayable\",\"type\":\"function\"},{\"constant\":true,\"inputs\":[{\"name\":\"_maker\",\"type\":\"address\"}],\"name\":\"getBlackListStatus\",\"outputs\":[{\"name\":\"\",\"type\":\"bool\"}],\"payable\":false,\"stateMutability\":\"view\",\"type\":\"function\"},{\"constant\":true,\"inputs\":[{\"name\":\"\",\"type\":\"address\"},{\"name\":\"\",\"type\":\"address\"}],\"name\":\"allowed\",\"outputs\":[{\"name\":\"\",\"type\":\"uint256\"}],\"payable\":false,\"stateMutability\":\"view\",\"type\":\"function\"},{\"constant\":true,\"inputs\":[],\"name\":\"paused\",\"outputs\":[{\"name\":\"\",\"type\":\"bool\"}],\"payable\":false,\"stateMutability\":\"view\",\"type\":\"function\"},{\"constant\":true,\"inputs\":[{\"name\":\"who\",\"type\":\"address\"}],\"name\":\"balanceOf\",\"outputs\":[{\"name\":\"\",\"type\":\"uint256\"}],\"payable\":false,\"stateMutability\":\"view\",\"type\":\"function\"},{\"constant\":false,\"inputs\":[],\"name\":\"pause\",\"outputs\":[],\"payable\":false,\"stateMutability\":\"nonpayable\",\"type\":\"function\"},{\"constant\":true,\"inputs\":[],\"name\":\"getOwner\",\"outputs\":[{\"name\":\"\",\"type\":\"address\"}],\"payable\":false,\"stateMutability\":\"view\",\"type\":\"function\"},{\"constant\":true,\"inputs\":[],\"name\":\"owner\",\"outputs\":[{\"name\":\"\",\"type\":\"address\"}],\"payable\":false,\"stateMutability\":\"view\",\"type\":\"function\"},{\"constant\":true,\"inputs\":[],\"name\":\"symbol\",\"outputs\":[{\"name\":\"\",\"type\":\"string\"}],\"payable\":false,\"stateMutability\":\"view\",\"type\":\"function\"},{\"constant\":false,\"inputs\":[{\"name\":\"_to\",\"type\":\"address\"},{\"name\":\"_value\",\"type\":\"uint256\"}],\"name\":\"transfer\",\"outputs\":[],\"payable\":false,\"stateMutability\":\"nonpayable\",\"type\":\"function\"},{\"constant\":false,\"inputs\":[{\"name\":\"newBasisPoints\",\"type\":\"uint256\"},{\"name\":\"newMaxFee\",\"type\":\"uint256\"}],\"name\":\"setParams\",\"outputs\":[],\"payable\":false,\"stateMutability\":\"nonpayable\",\"type\":\"function\"},{\"constant\":false,\"inputs\":[{\"name\":\"amount\",\"type\":\"uint256\"}],\"name\":\"issue\",\"outputs\":[],\"payable\":false,\"stateMutability\":\"nonpayable\",\"type\":\"function\"},{\"constant\":false,\"inputs\":[{\"name\":\"amount\",\"type\":\"uint256\"}],\"name\":\"redeem\",\"outputs\":[],\"payable\":false,\"stateMutability\":\"nonpayable\",\"type\":\"function\"},{\"constant\":true,\"inputs\":[{\"name\":\"_owner\",\"type\":\"address\"},{\"name\":\"_spender\",\"type\":\"address\"}],\"name\":\"allowance\",\"outputs\":[{\"name\":\"remaining\",\"type\":\"uint256\"}],\"payable\":false,\"stateMutability\":\"view\",\"type\":\"function\"},{\"constant\":true,\"inputs\":[],\"name\":\"basisPointsRate\",\"outputs\":[{\"name\":\"\",\"type\":\"uint256\"}],\"payable\":false,\"stateMutability\":\"view\",\"type\":\"function\"},{\"constant\":true,\"inputs\":[{\"name\":\"\",\"type\":\"address\"}],\"name\":\"isBlackListed\",\"outputs\":[{\"name\":\"\",\"type\":\"bool\"}],\"payable\":false,\"stateMutability\":\"view\",\"type\":\"function\"},{\"constant\":false,\"inputs\":[{\"name\":\"_clearedUser\",\"type\":\"address\"}],\"name\":\"removeBlackList\",\"outputs\":[],\"payable\":false,\"stateMutability\":\"nonpayable\",\"type\":\"function\"},{\"constant\":true,\"inputs\":[],\"name\":\"MAX_UINT\",\"outputs\":[{\"name\":\"\",\"type\":\"uint256\"}],\"payable\":false,\"stateMutability\":\"view\",\"type\":\"function\"},{\"constant\":false,\"inputs\":[{\"name\":\"newOwner\",\"type\":\"address\"}],\"name\":\"transferOwnership\",\"outputs\":[],\"payable\":false,\"stateMutability\":\"nonpayable\",\"type\":\"function\"},{\"constant\":false,\"inputs\":[{\"name\":\"_blackListedUser\",\"type\":\"address\"}],\"name\":\"destroyBlackFunds\",\"outputs\":[],\"payable\":false,\"stateMutability\":\"nonpayable\",\"type\":\"function\"},{\"inputs\":[{\"name\":\"_initialSupply\",\"type\":\"uint256\"},{\"name\":\"_name\",\"type\":\"string\"},{\"name\":\"_symbol\",\"type\":\"string\"},{\"name\":\"_decimals\",\"type\":\"uint256\"}],\"payable\":false,\"stateMutability\":\"nonpayable\",\"type\":\"constructor\"},{\"anonymous\":false,\"inputs\":[{\"indexed\":false,\"name\":\"amount\",\"type\":\"uint256\"}],\"name\":\"Issue\",\"type\":\"event\"},{\"anonymous\":false,\"inputs\":[{\"indexed\":false,\"name\":\"amount\",\"type\":\"uint256\"}],\"name\":\"Redeem\",\"type\":\"event\"},{\"anonymous\":false,\"inputs\":[{\"indexed\":false,\"name\":\"newAddress\",\"type\":\"address\"}],\"name\":\"Deprecate\",\"type\":\"event\"},{\"anonymous\":false,\"inputs\":[{\"indexed\":false,\"name\":\"feeBasisPoints\",\"type\":\"uint256\"},{\"indexed\":false,\"name\":\"maxFee\",\"type\":\"uint256\"}],\"name\":\"Params\",\"type\":\"event\"},{\"anonymous\":false,\"inputs\":[{\"indexed\":false,\"name\":\"_blackListedUser\",\"type\":\"address\"},{\"indexed\":false,\"name\":\"_balance\",\"type\":\"uint256\"}],\"name\":\"DestroyedBlackFunds\",\"type\":\"event\"},{\"anonymous\":false,\"inputs\":[{\"indexed\":false,\"name\":\"_user\",\"type\":\"address\"}],\"name\":\"AddedBlackList\",\"type\":\"event\"},{\"anonymous\":false,\"inputs\":[{\"indexed\":false,\"name\":\"_user\",\"type\":\"address\"}],\"name\":\"RemovedBlackList\",\"type\":\"event\"},{\"anonymous\":false,\"inputs\":[{\"indexed\":true,\"name\":\"owner\",\"type\":\"address\"},{\"indexed\":true,\"name\":\"spender\",\"type\":\"address\"},{\"indexed\":false,\"name\":\"value\",\"type\":\"uint256\"}],\"name\":\"Approval\",\"type\":\"event\"},{\"anonymous\":false,\"inputs\":[{\"indexed\":true,\"name\":\"from\",\"type\":\"address\"},{\"indexed\":true,\"name\":\"to\",\"type\":\"address\"},{\"indexed\":false,\"name\":\"value\",\"type\":\"uint256\"}],\"name\":\"Transfer\",\"type\":\"event\"},{\"anonymous\":false,\"inputs\":[],\"name\":\"Pause\",\"type\":\"event\"},{\"anonymous\":false,\"inputs\":[],\"name\":\"Unpause\",\"type\":\"event\"}]'"
   ]
  },
  {
   "cell_type": "code",
   "execution_count": 14,
   "id": "79751453",
   "metadata": {
    "ExecuteTime": {
     "end_time": "2022-02-11T12:53:02.485292Z",
     "start_time": "2022-02-11T12:53:02.265604Z"
    }
   },
   "outputs": [],
   "source": [
    "aave_contract = w3.eth.contract(\n",
    "address=w3.toChecksumAddress(aave_lending_protocol_address),\n",
    "abi=aave_abi\n",
    ")"
   ]
  },
  {
   "cell_type": "code",
   "execution_count": 17,
   "id": "89ac9ccb",
   "metadata": {
    "ExecuteTime": {
     "end_time": "2022-02-11T12:55:26.952548Z",
     "start_time": "2022-02-11T12:55:26.597255Z"
    }
   },
   "outputs": [],
   "source": [
    "# Getting list of assets from Aave Contract\n",
    "assets_list = aave_contract.functions.getReservesList().call()"
   ]
  },
  {
   "cell_type": "code",
   "execution_count": 18,
   "id": "76c66c73",
   "metadata": {
    "ExecuteTime": {
     "end_time": "2022-02-11T12:55:49.993600Z",
     "start_time": "2022-02-11T12:55:49.988566Z"
    }
   },
   "outputs": [
    {
     "name": "stdout",
     "output_type": "stream",
     "text": [
      "['0xdAC17F958D2ee523a2206206994597C13D831ec7', '0x2260FAC5E5542a773Aa44fBCfeDf7C193bc2C599', '0xC02aaA39b223FE8D0A0e5C4F27eAD9083C756Cc2', '0x0bc529c00C6401aEF6D220BE8C6Ea1667F6Ad93e', '0xE41d2489571d322189246DaFA5ebDe1F4699F498', '0x1f9840a85d5aF5bf1D1762F925BDADdC4201F984', '0x7Fc66500c84A76Ad7e9c93437bFc5Ac33E2DDaE9', '0x0D8775F648430679A709E98d2b0Cb6250d2887EF', '0x4Fabb145d64652a948d72533023f6E7A623C7C53', '0x6B175474E89094C44Da98b954EedeAC495271d0F', '0xF629cBd94d3791C9250152BD8dfBDF380E2a3B9c', '0xdd974D5C2e2928deA5F71b9825b8b646686BD200', '0x514910771AF9Ca656af840dff83E8264EcF986CA', '0x0F5D2fB29fb7d3CFeE444a200298f468908cC942', '0x9f8F72aA9304c8B593d555F12eF6589cC3A579A2', '0x408e41876cCCDC0F92210600ef50372656052a38', '0xC011a73ee8576Fb46F5E1c5751cA3B9Fe0af2a6F', '0x57Ab1ec28D129707052df4dF418D58a2D46d5f51', '0x0000000000085d4780B73119b644AE5ecd22b376', '0xA0b86991c6218b36c1d19D4a2e9Eb0cE3606eB48', '0xD533a949740bb3306d119CC777fa900bA034cd52', '0x056Fd409E1d7A124BD7017459dFEa2F387b6d5Cd', '0xba100000625a3754423978a60c9317c58a424e3D', '0x8798249c2E607446EfB7Ad49eC89dD1865Ff4272', '0xD5147bc8e386d91Cc5DBE72099DAC6C9b99276F5', '0x03ab458634910AaD20eF5f1C8ee96F1D6ac54919', '0xD46bA6D942050d489DBd938a2C909A5d5039A161', '0x8E870D67F660D95d5be530380D0eC0bd388289E1', '0x1494CA1F11D487c2bBe4543E90080AeBa4BA3C2b', '0x853d955aCEf822Db058eb8505911ED77F175b99e', '0x956F47F50A910163D8BF957Cf5846D573E7f87CA']\n"
     ]
    }
   ],
   "source": [
    "# List of assets\n",
    "print(assets_list)"
   ]
  },
  {
   "cell_type": "code",
   "execution_count": 19,
   "id": "0e025fa2",
   "metadata": {
    "ExecuteTime": {
     "end_time": "2022-02-11T12:56:53.959644Z",
     "start_time": "2022-02-11T12:56:53.955471Z"
    }
   },
   "outputs": [
    {
     "name": "stdout",
     "output_type": "stream",
     "text": [
      "0xdAC17F958D2ee523a2206206994597C13D831ec7\n"
     ]
    }
   ],
   "source": [
    "# First Asset\n",
    "print(assets_list[0])"
   ]
  },
  {
   "cell_type": "code",
   "execution_count": null,
   "id": "e3b8fed5",
   "metadata": {},
   "outputs": [],
   "source": [
    "## Aave Rserve Data Variables\n",
    "## Located at: https://github.com/aave/aave-protocol/blob/master/contracts/lendingpool/LendingPoolDataProvider.sol\n",
    "# function getReserveData(address _reserve)\n",
    "# external\n",
    "# view\n",
    "# returns (\n",
    "#     uint256 totalLiquidity,\n",
    "#     uint256 availableLiquidity,\n",
    "#     uint256 totalBorrowsStable,\n",
    "#     uint256 totalBorrowsVariable,\n",
    "#     uint256 liquidityRate,\n",
    "#     uint256 variableBorrowRate,\n",
    "#     uint256 stableBorrowRate,\n",
    "#     uint256 averageStableBorrowRate,\n",
    "#     uint256 utilizationRate,\n",
    "#     uint256 liquidityIndex,\n",
    "#     uint256 variableBorrowIndex,\n",
    "#     address aTokenAddress,\n",
    "#     uint40 lastUpdateTimestamp\n",
    "# )"
   ]
  },
  {
   "cell_type": "code",
   "execution_count": 43,
   "id": "84f5daec",
   "metadata": {
    "ExecuteTime": {
     "end_time": "2022-02-11T13:32:40.654881Z",
     "start_time": "2022-02-11T13:32:19.873772Z"
    }
   },
   "outputs": [
    {
     "name": "stdout",
     "output_type": "stream",
     "text": [
      "Current Asset Address: 1\n",
      "0xdAC17F958D2ee523a2206206994597C13D831ec7\n",
      "USDT\n",
      "6\n",
      "\n",
      "Current Asset Address: 2\n",
      "0x2260FAC5E5542a773Aa44fBCfeDf7C193bc2C599\n",
      "WBTC\n",
      "8\n",
      "\n",
      "Current Asset Address: 3\n",
      "0xC02aaA39b223FE8D0A0e5C4F27eAD9083C756Cc2\n",
      "WETH\n",
      "18\n",
      "\n",
      "Current Asset Address: 4\n",
      "0x0bc529c00C6401aEF6D220BE8C6Ea1667F6Ad93e\n",
      "YFI\n",
      "18\n",
      "\n",
      "Current Asset Address: 5\n",
      "0xE41d2489571d322189246DaFA5ebDe1F4699F498\n",
      "ZRX\n",
      "18\n",
      "\n",
      "Current Asset Address: 6\n",
      "0x1f9840a85d5aF5bf1D1762F925BDADdC4201F984\n",
      "UNI\n",
      "18\n",
      "\n",
      "Current Asset Address: 7\n",
      "0x7Fc66500c84A76Ad7e9c93437bFc5Ac33E2DDaE9\n",
      "AAVE\n",
      "18\n",
      "\n",
      "Current Asset Address: 8\n",
      "0x0D8775F648430679A709E98d2b0Cb6250d2887EF\n",
      "BAT\n",
      "18\n",
      "\n",
      "Current Asset Address: 9\n",
      "0x4Fabb145d64652a948d72533023f6E7A623C7C53\n",
      "BUSD\n",
      "18\n",
      "\n",
      "Current Asset Address: 10\n",
      "0x6B175474E89094C44Da98b954EedeAC495271d0F\n",
      "DAI\n",
      "18\n",
      "\n",
      "Current Asset Address: 11\n",
      "0xF629cBd94d3791C9250152BD8dfBDF380E2a3B9c\n",
      "ENJ\n",
      "18\n",
      "\n",
      "Current Asset Address: 12\n",
      "0xdd974D5C2e2928deA5F71b9825b8b646686BD200\n",
      "KNC\n",
      "18\n",
      "\n",
      "Current Asset Address: 13\n",
      "0x514910771AF9Ca656af840dff83E8264EcF986CA\n",
      "LINK\n",
      "18\n",
      "\n",
      "Current Asset Address: 14\n",
      "0x0F5D2fB29fb7d3CFeE444a200298f468908cC942\n",
      "MANA\n",
      "18\n",
      "\n",
      "Current Asset Address: 15\n",
      "0x9f8F72aA9304c8B593d555F12eF6589cC3A579A2\n",
      "Exception Occured\n",
      "Python int too large to convert to C ssize_t\n",
      "Current Asset Address: 16\n",
      "0x408e41876cCCDC0F92210600ef50372656052a38\n",
      "REN\n",
      "18\n",
      "\n",
      "Current Asset Address: 17\n",
      "0xC011a73ee8576Fb46F5E1c5751cA3B9Fe0af2a6F\n",
      "SNX\n",
      "18\n",
      "\n",
      "Current Asset Address: 18\n",
      "0x57Ab1ec28D129707052df4dF418D58a2D46d5f51\n",
      "sUSD\n",
      "18\n",
      "\n",
      "Current Asset Address: 19\n",
      "0x0000000000085d4780B73119b644AE5ecd22b376\n",
      "TUSD\n",
      "18\n",
      "\n",
      "Current Asset Address: 20\n",
      "0xA0b86991c6218b36c1d19D4a2e9Eb0cE3606eB48\n",
      "USDC\n",
      "6\n",
      "\n",
      "Current Asset Address: 21\n",
      "0xD533a949740bb3306d119CC777fa900bA034cd52\n",
      "CRV\n",
      "18\n",
      "\n",
      "Current Asset Address: 22\n",
      "0x056Fd409E1d7A124BD7017459dFEa2F387b6d5Cd\n",
      "GUSD\n",
      "2\n",
      "\n",
      "Current Asset Address: 23\n",
      "0xba100000625a3754423978a60c9317c58a424e3D\n",
      "BAL\n",
      "18\n",
      "\n",
      "Current Asset Address: 24\n",
      "0x8798249c2E607446EfB7Ad49eC89dD1865Ff4272\n",
      "xSUSHI\n",
      "18\n",
      "\n",
      "Current Asset Address: 25\n",
      "0xD5147bc8e386d91Cc5DBE72099DAC6C9b99276F5\n",
      "renFIL\n",
      "18\n",
      "\n",
      "Current Asset Address: 26\n",
      "0x03ab458634910AaD20eF5f1C8ee96F1D6ac54919\n",
      "RAI\n",
      "18\n",
      "\n",
      "Current Asset Address: 27\n",
      "0xD46bA6D942050d489DBd938a2C909A5d5039A161\n",
      "AMPL\n",
      "9\n",
      "\n",
      "Current Asset Address: 28\n",
      "0x8E870D67F660D95d5be530380D0eC0bd388289E1\n",
      "USDP\n",
      "18\n",
      "\n",
      "Current Asset Address: 29\n",
      "0x1494CA1F11D487c2bBe4543E90080AeBa4BA3C2b\n",
      "DPI\n",
      "18\n",
      "\n",
      "Current Asset Address: 30\n",
      "0x853d955aCEf822Db058eb8505911ED77F175b99e\n",
      "FRAX\n",
      "18\n",
      "\n",
      "Current Asset Address: 31\n",
      "0x956F47F50A910163D8BF957Cf5846D573E7f87CA\n",
      "FEI\n",
      "18\n",
      "\n"
     ]
    }
   ],
   "source": [
    "# Asset symbols and reserves \n",
    "aave_assets_list = {}\n",
    "# Asset symbols and addresses\n",
    "aave_assets_address = {}\n",
    "# Looping through the assets and getting their symbols and reserves\n",
    "counter = 0\n",
    "for currentAsset in assets_list:\n",
    "    counter += 1\n",
    "    try:\n",
    "        print(\"Current Asset Address: \"+str(counter))\n",
    "        \n",
    "        print(currentAsset)\n",
    "        asset_contract = w3.eth.contract(\n",
    "        address=w3.toChecksumAddress(currentAsset),\n",
    "        abi=erc_20_abi\n",
    "        )\n",
    "        symbol = asset_contract.functions.symbol().call()\n",
    "        decimals = asset_contract.functions.decimals().call()\n",
    "        print(symbol)\n",
    "        print(decimals)\n",
    "        print()\n",
    "        \n",
    "    except Exception as e:\n",
    "        print(\"Exception Occured\")\n",
    "        print(e)"
   ]
  },
  {
   "cell_type": "code",
   "execution_count": 32,
   "id": "755da3d6",
   "metadata": {
    "ExecuteTime": {
     "end_time": "2022-02-11T13:14:48.674419Z",
     "start_time": "2022-02-11T13:14:48.330058Z"
    }
   },
   "outputs": [],
   "source": [
    "assets_reserves_list = aave_contract.functions.getReserveData(assets_list[0]).call()"
   ]
  },
  {
   "cell_type": "code",
   "execution_count": 33,
   "id": "92d78870",
   "metadata": {
    "ExecuteTime": {
     "end_time": "2022-02-11T13:14:53.237940Z",
     "start_time": "2022-02-11T13:14:53.234825Z"
    }
   },
   "outputs": [
    {
     "data": {
      "text/plain": [
       "((18447682511281904943104,),\n",
       " 1079648877148964595514283880,\n",
       " 1120411989987272995935928784,\n",
       " 20189229043505455811417447,\n",
       " 31023423026036504497323838,\n",
       " 115511711513018252248661919,\n",
       " 1644583717,\n",
       " '0x3Ed3B47Dd13EC9a98b44e6204A523E766B225811',\n",
       " '0xe91D55AB2240594855aBd11b3faAE801Fd4c4687',\n",
       " '0x531842cEbbdD378f8ee36D171d6cC9C4fcf475Ec',\n",
       " '0x515E87cb3fec986050F202a2bbfa362A2188bc3F',\n",
       " 0)"
      ]
     },
     "execution_count": 33,
     "metadata": {},
     "output_type": "execute_result"
    }
   ],
   "source": [
    "assets_reserves_list"
   ]
  },
  {
   "cell_type": "code",
   "execution_count": null,
   "id": "a9d70220",
   "metadata": {},
   "outputs": [],
   "source": [
    "# returns (\n",
    "#     uint256 totalLiquidity,\n",
    "#     uint256 availableLiquidity,\n",
    "#     uint256 totalBorrowsStable,\n",
    "#     uint256 totalBorrowsVariable,\n",
    "#     uint256 liquidityRate,\n",
    "#     uint256 variableBorrowRate,\n",
    "#     uint256 stableBorrowRate,\n",
    "#     uint256 averageStableBorrowRate,\n",
    "#     uint256 utilizationRate,\n",
    "#     uint256 liquidityIndex,\n",
    "#     uint256 variableBorrowIndex,\n",
    "#     address aTokenAddress,\n",
    "#     uint40 lastUpdateTimestamp\n",
    "# )"
   ]
  },
  {
   "cell_type": "code",
   "execution_count": 46,
   "id": "651e1b7f",
   "metadata": {
    "ExecuteTime": {
     "end_time": "2022-02-11T13:36:44.140751Z",
     "start_time": "2022-02-11T13:36:44.136613Z"
    }
   },
   "outputs": [
    {
     "data": {
      "text/plain": [
       "1.0796488771489645"
      ]
     },
     "execution_count": 46,
     "metadata": {},
     "output_type": "execute_result"
    }
   ],
   "source": [
    "assets_reserves_list[1]/pow(10, 27)"
   ]
  },
  {
   "cell_type": "code",
   "execution_count": null,
   "id": "9540b433",
   "metadata": {},
   "outputs": [],
   "source": [
    "1057684701"
   ]
  },
  {
   "cell_type": "code",
   "execution_count": null,
   "id": "44d58226",
   "metadata": {},
   "outputs": [],
   "source": []
  },
  {
   "cell_type": "code",
   "execution_count": null,
   "id": "ade92a8e",
   "metadata": {},
   "outputs": [],
   "source": []
  },
  {
   "cell_type": "code",
   "execution_count": null,
   "id": "c39ec75c",
   "metadata": {},
   "outputs": [],
   "source": []
  },
  {
   "cell_type": "code",
   "execution_count": null,
   "id": "a49435c6",
   "metadata": {},
   "outputs": [],
   "source": []
  },
  {
   "cell_type": "code",
   "execution_count": null,
   "id": "53beca4f",
   "metadata": {},
   "outputs": [],
   "source": []
  },
  {
   "cell_type": "code",
   "execution_count": null,
   "id": "ba82a579",
   "metadata": {},
   "outputs": [],
   "source": []
  },
  {
   "cell_type": "code",
   "execution_count": null,
   "id": "5b7b911b",
   "metadata": {},
   "outputs": [],
   "source": []
  },
  {
   "cell_type": "code",
   "execution_count": null,
   "id": "e7b72150",
   "metadata": {},
   "outputs": [],
   "source": []
  },
  {
   "cell_type": "code",
   "execution_count": null,
   "id": "ada1b6d7",
   "metadata": {},
   "outputs": [],
   "source": []
  },
  {
   "cell_type": "code",
   "execution_count": null,
   "id": "dfd1bd86",
   "metadata": {},
   "outputs": [],
   "source": []
  },
  {
   "cell_type": "code",
   "execution_count": null,
   "id": "fe5717b6",
   "metadata": {},
   "outputs": [],
   "source": []
  }
 ],
 "metadata": {
  "kernelspec": {
   "display_name": "Python 3",
   "language": "python",
   "name": "python3"
  },
  "language_info": {
   "codemirror_mode": {
    "name": "ipython",
    "version": 3
   },
   "file_extension": ".py",
   "mimetype": "text/x-python",
   "name": "python",
   "nbconvert_exporter": "python",
   "pygments_lexer": "ipython3",
   "version": "3.6.13"
  }
 },
 "nbformat": 4,
 "nbformat_minor": 5
}
