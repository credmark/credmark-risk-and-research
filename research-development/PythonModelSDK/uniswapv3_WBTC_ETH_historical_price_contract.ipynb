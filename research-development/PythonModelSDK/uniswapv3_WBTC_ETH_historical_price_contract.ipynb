{
 "cells": [
  {
   "cell_type": "code",
   "execution_count": 2,
   "id": "5213f81e",
   "metadata": {},
   "outputs": [],
   "source": [
    "# !pip install eth_tester\n",
    "# !pip install eth-keys==0.3.4"
   ]
  },
  {
   "cell_type": "code",
   "execution_count": 5,
   "id": "9a69a780",
   "metadata": {
    "ExecuteTime": {
     "end_time": "2022-02-02T16:25:40.289218Z",
     "start_time": "2022-02-02T16:25:39.679122Z"
    }
   },
   "outputs": [],
   "source": [
    "# Import Packages\n",
    "import os\n",
    "import time\n",
    "import json\n",
    "import pickle\n",
    "import requests\n",
    "\n",
    "import pandas as pd\n",
    "from web3 import Web3"
   ]
  },
  {
   "cell_type": "code",
   "execution_count": 6,
   "id": "bffd77f5",
   "metadata": {
    "ExecuteTime": {
     "end_time": "2022-02-02T16:25:40.468125Z",
     "start_time": "2022-02-02T16:25:40.466006Z"
    }
   },
   "outputs": [],
   "source": [
    "ETHERSCAN_API_KEY = \"P4XI3P1XKMUFPGIKGDNEJ8RAV6TBE317MW\"\n",
    "ETH_MAINNET       = \"https://api.etherscan.io/\"\n",
    "WBTC_ETH_POOL     = \"0xcbcdf9626bc03e24f779434178a73a0b4bad62ed\""
   ]
  },
  {
   "cell_type": "code",
   "execution_count": 7,
   "id": "bc40f5e5",
   "metadata": {
    "ExecuteTime": {
     "end_time": "2022-02-02T16:25:40.959329Z",
     "start_time": "2022-02-02T16:25:40.956220Z"
    },
    "code_folding": [
     3
    ]
   },
   "outputs": [],
   "source": [
    "# Fetch ABI from contract address\n",
    "## Needs Contract Address and API Key as an input\n",
    "\n",
    "def etherscan_abi_request(_contractAddress, _apiKey):\n",
    "    '''\n",
    "        Etherscan ABI Request Method\n",
    "        Args::\n",
    "            _contractAddress: Ethereum Address of the contract\n",
    "            _apiKey: Etherscan API Key\n",
    "        Returns::\n",
    "            ethResJS: Etherscan ABI request result in JSON format\n",
    "    '''\n",
    "    ETHERSCAN_ABI_REQUEST = \"https://api.etherscan.io/api?module=contract&action=getabi&address={0}&apikey={1}\".format(_contractAddress, _apiKey)\n",
    "    ethResJS = (requests.get(ETHERSCAN_ABI_REQUEST)).json()['result']\n",
    "    return ethResJS"
   ]
  },
  {
   "cell_type": "code",
   "execution_count": 8,
   "id": "35b8be5c",
   "metadata": {
    "ExecuteTime": {
     "end_time": "2022-02-02T16:25:41.348489Z",
     "start_time": "2022-02-02T16:25:41.344063Z"
    }
   },
   "outputs": [],
   "source": [
    "web3              = Web3(Web3.HTTPProvider('https://mainnet.infura.io/v3/8977aae7711040c7a7e43001eeddfacf'))"
   ]
  },
  {
   "cell_type": "code",
   "execution_count": 9,
   "id": "986a89c7",
   "metadata": {
    "ExecuteTime": {
     "end_time": "2022-02-02T16:25:42.756666Z",
     "start_time": "2022-02-02T16:25:42.750545Z"
    }
   },
   "outputs": [
    {
     "data": {
      "text/plain": [
       "'latest'"
      ]
     },
     "execution_count": 9,
     "metadata": {},
     "output_type": "execute_result"
    }
   ],
   "source": [
    "web3.eth.defaultBlock"
   ]
  },
  {
   "cell_type": "code",
   "execution_count": 10,
   "id": "c2392d1c",
   "metadata": {
    "ExecuteTime": {
     "end_time": "2022-02-02T16:25:43.455383Z",
     "start_time": "2022-02-02T16:25:43.453045Z"
    }
   },
   "outputs": [],
   "source": [
    "web3.eth.default_block = 13226441"
   ]
  },
  {
   "cell_type": "code",
   "execution_count": 11,
   "id": "c4b12264",
   "metadata": {
    "ExecuteTime": {
     "end_time": "2022-02-02T16:25:47.184961Z",
     "start_time": "2022-02-02T16:25:45.860636Z"
    }
   },
   "outputs": [
    {
     "data": {
      "text/plain": [
       "(14127678, 13226441)"
      ]
     },
     "execution_count": 11,
     "metadata": {},
     "output_type": "execute_result"
    }
   ],
   "source": [
    "web3.eth.blockNumber, web3.eth.defaultBlock"
   ]
  },
  {
   "cell_type": "code",
   "execution_count": 12,
   "id": "7929ed02",
   "metadata": {
    "ExecuteTime": {
     "end_time": "2022-02-02T16:25:52.647080Z",
     "start_time": "2022-02-02T16:25:48.138429Z"
    }
   },
   "outputs": [],
   "source": [
    "WBTC_ETH_POOL_ABI = etherscan_abi_request(WBTC_ETH_POOL, ETHERSCAN_API_KEY)\n",
    "WBTC_ETH_POOL     = web3.toChecksumAddress(WBTC_ETH_POOL)\n",
    "POOL_INSTANCE     = web3.eth.contract(address=WBTC_ETH_POOL, abi=WBTC_ETH_POOL_ABI)"
   ]
  },
  {
   "cell_type": "code",
   "execution_count": 22,
   "id": "2ce9755c",
   "metadata": {
    "ExecuteTime": {
     "end_time": "2022-02-02T16:35:43.732449Z",
     "start_time": "2022-02-02T16:35:43.728553Z"
    }
   },
   "outputs": [
    {
     "data": {
      "text/plain": [
       "{'address': '0xCBCdF9626bC03E24f779434178A73a0B4bad62eD',\n",
       " 'functions': <web3.contract.ContractFunctions at 0x7fcb37546358>,\n",
       " 'caller': <web3.contract.ContractCaller at 0x7fcb372f8320>,\n",
       " 'events': <web3.contract.ContractEvents at 0x7fcb3730d128>,\n",
       " 'fallback': <web3.contract.NonExistentFallbackFunction at 0x7fcb37314278>,\n",
       " 'receive': <web3.contract.NonExistentReceiveFunction at 0x7fcb373144e0>,\n",
       " 'defaultBlock': 13226441}"
      ]
     },
     "execution_count": 22,
     "metadata": {},
     "output_type": "execute_result"
    }
   ],
   "source": [
    "vars(POOL_INSTANCE)"
   ]
  },
  {
   "cell_type": "code",
   "execution_count": 23,
   "id": "75e3f6db",
   "metadata": {
    "ExecuteTime": {
     "end_time": "2022-02-02T16:35:44.315951Z",
     "start_time": "2022-02-02T16:35:44.311743Z"
    }
   },
   "outputs": [
    {
     "data": {
      "text/plain": [
       "[<Function burn(int24,int24,uint128)>,\n",
       " <Function collect(address,int24,int24,uint128,uint128)>,\n",
       " <Function collectProtocol(address,uint128,uint128)>,\n",
       " <Function factory()>,\n",
       " <Function fee()>,\n",
       " <Function feeGrowthGlobal0X128()>,\n",
       " <Function feeGrowthGlobal1X128()>,\n",
       " <Function flash(address,uint256,uint256,bytes)>,\n",
       " <Function increaseObservationCardinalityNext(uint16)>,\n",
       " <Function initialize(uint160)>,\n",
       " <Function liquidity()>,\n",
       " <Function maxLiquidityPerTick()>,\n",
       " <Function mint(address,int24,int24,uint128,bytes)>,\n",
       " <Function observations(uint256)>,\n",
       " <Function observe(uint32[])>,\n",
       " <Function positions(bytes32)>,\n",
       " <Function protocolFees()>,\n",
       " <Function setFeeProtocol(uint8,uint8)>,\n",
       " <Function slot0()>,\n",
       " <Function snapshotCumulativesInside(int24,int24)>,\n",
       " <Function swap(address,bool,int256,uint160,bytes)>,\n",
       " <Function tickBitmap(int16)>,\n",
       " <Function tickSpacing()>,\n",
       " <Function ticks(int24)>,\n",
       " <Function token0()>,\n",
       " <Function token1()>]"
      ]
     },
     "execution_count": 23,
     "metadata": {},
     "output_type": "execute_result"
    }
   ],
   "source": [
    "POOL_INSTANCE.all_functions()"
   ]
  },
  {
   "cell_type": "code",
   "execution_count": 15,
   "id": "2a40d947",
   "metadata": {
    "ExecuteTime": {
     "end_time": "2022-02-02T16:25:53.792787Z",
     "start_time": "2022-02-02T16:25:53.790723Z"
    }
   },
   "outputs": [],
   "source": [
    "USD_DECIMALS = 6\n",
    "ETH_DECIMALS = 18\n",
    "ABS_DECIMALS = 12"
   ]
  },
  {
   "cell_type": "code",
   "execution_count": 24,
   "id": "716db837",
   "metadata": {
    "ExecuteTime": {
     "end_time": "2022-02-02T16:36:02.801607Z",
     "start_time": "2022-02-02T16:35:51.449132Z"
    }
   },
   "outputs": [
    {
     "data": {
      "text/plain": [
       "14127725"
      ]
     },
     "execution_count": 24,
     "metadata": {},
     "output_type": "execute_result"
    }
   ],
   "source": [
    "web3.eth.blockNumber"
   ]
  },
  {
   "cell_type": "code",
   "execution_count": 17,
   "id": "2db1e655",
   "metadata": {
    "ExecuteTime": {
     "end_time": "2022-02-02T16:26:04.167664Z",
     "start_time": "2022-02-02T16:26:04.165253Z"
    }
   },
   "outputs": [],
   "source": [
    "POOL_INSTANCE.defaultBlock = 13226441"
   ]
  },
  {
   "cell_type": "code",
   "execution_count": 18,
   "id": "b06fc5a1",
   "metadata": {
    "ExecuteTime": {
     "end_time": "2022-02-02T16:26:06.390476Z",
     "start_time": "2022-02-02T16:26:05.715967Z"
    }
   },
   "outputs": [
    {
     "name": "stdout",
     "output_type": "stream",
     "text": [
      "256692\n",
      "256692\n"
     ]
    }
   ],
   "source": [
    "CURRENT_TICK = POOL_INSTANCE.functions.slot0().call()[1]\n",
    "print(CURRENT_TICK)\n",
    "\n",
    "CURRENT_TICK = POOL_INSTANCE.functions.slot0().call()[1]\n",
    "print(CURRENT_TICK)"
   ]
  },
  {
   "cell_type": "code",
   "execution_count": null,
   "id": "d5a5f154",
   "metadata": {},
   "outputs": [],
   "source": []
  },
  {
   "cell_type": "code",
   "execution_count": 19,
   "id": "7f6a8628",
   "metadata": {
    "ExecuteTime": {
     "end_time": "2022-02-02T16:26:11.808486Z",
     "start_time": "2022-02-02T16:26:11.473580Z"
    }
   },
   "outputs": [],
   "source": [
    "TICK_SPACING = POOL_INSTANCE.functions.tickSpacing().call()\n",
    "MIN_TICK     = CURRENT_TICK -  CURRENT_TICK% TICK_SPACING \n",
    "MAX_TICK     = MIN_TICK +  TICK_SPACING \n",
    "MIN_PRICE    = 1 / (pow(1.0001, MAX_TICK) * pow(10,(USD_DECIMALS - ETH_DECIMALS )))\n",
    "MAX_PRICE    = 1 / (pow(1.0001, MIN_TICK) * pow(10,(USD_DECIMALS - ETH_DECIMALS )))"
   ]
  },
  {
   "cell_type": "code",
   "execution_count": 20,
   "id": "9460f7e9",
   "metadata": {
    "ExecuteTime": {
     "end_time": "2022-02-02T16:26:14.017630Z",
     "start_time": "2022-02-02T16:26:14.014459Z"
    }
   },
   "outputs": [
    {
     "data": {
      "text/plain": [
       "(7.087301987257677, 7.129951487299856)"
      ]
     },
     "execution_count": 20,
     "metadata": {},
     "output_type": "execute_result"
    }
   ],
   "source": [
    "MIN_PRICE, MAX_PRICE"
   ]
  },
  {
   "cell_type": "code",
   "execution_count": 21,
   "id": "ec1158d0",
   "metadata": {
    "ExecuteTime": {
     "end_time": "2022-02-02T16:26:15.455779Z",
     "start_time": "2022-02-02T16:26:15.452633Z"
    }
   },
   "outputs": [
    {
     "data": {
      "text/plain": [
       "<web3._utils.datatypes.Contract at 0x7fcb375b8f98>"
      ]
     },
     "execution_count": 21,
     "metadata": {},
     "output_type": "execute_result"
    }
   ],
   "source": [
    "POOL_INSTANCE#.web3.eth.default_block = 13124356"
   ]
  },
  {
   "cell_type": "code",
   "execution_count": null,
   "id": "dc10eaa0",
   "metadata": {},
   "outputs": [],
   "source": []
  },
  {
   "cell_type": "code",
   "execution_count": 29,
   "id": "62e4f756",
   "metadata": {},
   "outputs": [],
   "source": [
    "latest_block = web3.eth.getBlock('latest')"
   ]
  },
  {
   "cell_type": "code",
   "execution_count": 30,
   "id": "c3e5af60",
   "metadata": {},
   "outputs": [],
   "source": [
    "# latest_block"
   ]
  },
  {
   "cell_type": "code",
   "execution_count": 31,
   "id": "7de7e66a",
   "metadata": {},
   "outputs": [],
   "source": [
    "latest_block_number = latest_block['number']"
   ]
  },
  {
   "cell_type": "code",
   "execution_count": 32,
   "id": "84cf989c",
   "metadata": {},
   "outputs": [
    {
     "data": {
      "text/plain": [
       "14127596"
      ]
     },
     "execution_count": 32,
     "metadata": {},
     "output_type": "execute_result"
    }
   ],
   "source": [
    "latest_block_number"
   ]
  },
  {
   "cell_type": "code",
   "execution_count": 33,
   "id": "8dba7d84",
   "metadata": {},
   "outputs": [],
   "source": [
    "TICKS = list()"
   ]
  },
  {
   "cell_type": "code",
   "execution_count": 37,
   "id": "e4a39ef0",
   "metadata": {},
   "outputs": [],
   "source": [
    "for i in range(100):\n",
    "    CURRENT_TICK = POOL_INSTANCE.functions.slot0().call(block_identifier=latest_block_number-i)[1]\n",
    "    # print(\"Block number: {}, Tick: {}\".format(latest_block_number-i, CURRENT_TICK))\n",
    "    # print(CURRENT_TICK)\n",
    "    TICKS.append(CURRENT_TICK)"
   ]
  },
  {
   "cell_type": "code",
   "execution_count": 38,
   "id": "837de022",
   "metadata": {},
   "outputs": [
    {
     "data": {
      "text/plain": [
       "[256692,\n",
       " 256692,\n",
       " 256692,\n",
       " 256692,\n",
       " 256692,\n",
       " 256692,\n",
       " 256692,\n",
       " 256692,\n",
       " 256692,\n",
       " 256692,\n",
       " 256692,\n",
       " 256692,\n",
       " 256692,\n",
       " 256692,\n",
       " 256692,\n",
       " 256692,\n",
       " 256692,\n",
       " 256692,\n",
       " 256692,\n",
       " 256692,\n",
       " 256692,\n",
       " 256692,\n",
       " 256692,\n",
       " 256692,\n",
       " 256692,\n",
       " 256692,\n",
       " 256692,\n",
       " 256692,\n",
       " 256692,\n",
       " 256692,\n",
       " 256692,\n",
       " 256692,\n",
       " 256692,\n",
       " 256692,\n",
       " 256692,\n",
       " 256692,\n",
       " 256692,\n",
       " 256692,\n",
       " 256692,\n",
       " 256692,\n",
       " 256692,\n",
       " 256692,\n",
       " 256692,\n",
       " 256692,\n",
       " 256692,\n",
       " 256692,\n",
       " 256692,\n",
       " 256692,\n",
       " 256692,\n",
       " 256692,\n",
       " 256692,\n",
       " 256692,\n",
       " 256692,\n",
       " 256692,\n",
       " 256692,\n",
       " 256692,\n",
       " 256692,\n",
       " 256692,\n",
       " 256692,\n",
       " 256692,\n",
       " 256692,\n",
       " 256692,\n",
       " 256692,\n",
       " 256692,\n",
       " 256692,\n",
       " 256692,\n",
       " 256692,\n",
       " 256692,\n",
       " 256692,\n",
       " 256692,\n",
       " 256692,\n",
       " 256692,\n",
       " 256692,\n",
       " 256692,\n",
       " 256692,\n",
       " 256692,\n",
       " 256692,\n",
       " 256692,\n",
       " 256692,\n",
       " 256692,\n",
       " 256692,\n",
       " 256692,\n",
       " 256692,\n",
       " 256692,\n",
       " 256692,\n",
       " 256692,\n",
       " 256692,\n",
       " 256692,\n",
       " 256692,\n",
       " 256692,\n",
       " 256692,\n",
       " 256692,\n",
       " 256692,\n",
       " 256692,\n",
       " 256692,\n",
       " 256692,\n",
       " 256692,\n",
       " 256692,\n",
       " 256692,\n",
       " 256692]"
      ]
     },
     "execution_count": 38,
     "metadata": {},
     "output_type": "execute_result"
    }
   ],
   "source": [
    "TICKS"
   ]
  },
  {
   "cell_type": "code",
   "execution_count": null,
   "id": "4ffb7ac9",
   "metadata": {},
   "outputs": [],
   "source": []
  },
  {
   "cell_type": "code",
   "execution_count": null,
   "id": "98649cba",
   "metadata": {},
   "outputs": [],
   "source": []
  },
  {
   "cell_type": "code",
   "execution_count": 25,
   "id": "26f0b1ff",
   "metadata": {},
   "outputs": [
    {
     "ename": "AttributeError",
     "evalue": "'Eth' object has no attribute 'get_block'",
     "output_type": "error",
     "traceback": [
      "\u001b[1;31m---------------------------------------------------------------------------\u001b[0m",
      "\u001b[1;31mAttributeError\u001b[0m                            Traceback (most recent call last)",
      "\u001b[1;32m~\\AppData\\Local\\Temp/ipykernel_13180/446567074.py\u001b[0m in \u001b[0;36m<module>\u001b[1;34m\u001b[0m\n\u001b[0;32m      1\u001b[0m \u001b[0mCURRENT_BLOCK\u001b[0m \u001b[1;33m=\u001b[0m \u001b[1;36m14123754\u001b[0m\u001b[1;33m\u001b[0m\u001b[1;33m\u001b[0m\u001b[0m\n\u001b[0;32m      2\u001b[0m \u001b[1;32mfor\u001b[0m \u001b[0mi\u001b[0m \u001b[1;32min\u001b[0m \u001b[0mrange\u001b[0m\u001b[1;33m(\u001b[0m\u001b[1;36m10\u001b[0m\u001b[1;33m)\u001b[0m\u001b[1;33m:\u001b[0m\u001b[1;33m\u001b[0m\u001b[1;33m\u001b[0m\u001b[0m\n\u001b[1;32m----> 3\u001b[1;33m     \u001b[1;32mfor\u001b[0m \u001b[0mtransaction\u001b[0m  \u001b[1;32min\u001b[0m \u001b[0mweb3\u001b[0m\u001b[1;33m.\u001b[0m\u001b[0meth\u001b[0m\u001b[1;33m.\u001b[0m\u001b[0mget_block\u001b[0m\u001b[1;33m(\u001b[0m\u001b[0mCURRENT_BLOCK\u001b[0m \u001b[1;33m-\u001b[0m \u001b[0mi\u001b[0m\u001b[1;33m)\u001b[0m\u001b[1;33m[\u001b[0m\u001b[1;34m'transactions'\u001b[0m\u001b[1;33m]\u001b[0m\u001b[1;33m:\u001b[0m\u001b[1;33m\u001b[0m\u001b[1;33m\u001b[0m\u001b[0m\n\u001b[0m\u001b[0;32m      4\u001b[0m         \u001b[0mtransaction_details\u001b[0m \u001b[1;33m=\u001b[0m \u001b[0mweb3\u001b[0m\u001b[1;33m.\u001b[0m\u001b[0meth\u001b[0m\u001b[1;33m.\u001b[0m\u001b[0mget_transaction\u001b[0m\u001b[1;33m(\u001b[0m\u001b[0mtransaction\u001b[0m\u001b[1;33m)\u001b[0m\u001b[1;33m\u001b[0m\u001b[1;33m\u001b[0m\u001b[0m\n\u001b[0;32m      5\u001b[0m         \u001b[0msender\u001b[0m \u001b[1;33m=\u001b[0m \u001b[0mweb3\u001b[0m\u001b[1;33m.\u001b[0m\u001b[0meth\u001b[0m\u001b[1;33m.\u001b[0m\u001b[0mget_transaction\u001b[0m\u001b[1;33m(\u001b[0m\u001b[0mtransaction\u001b[0m\u001b[1;33m)\u001b[0m\u001b[1;33m[\u001b[0m\u001b[1;34m'from'\u001b[0m\u001b[1;33m]\u001b[0m\u001b[1;33m\u001b[0m\u001b[1;33m\u001b[0m\u001b[0m\n",
      "\u001b[1;31mAttributeError\u001b[0m: 'Eth' object has no attribute 'get_block'"
     ]
    }
   ],
   "source": [
    "CURRENT_BLOCK = 14123754\n",
    "for i in range(10):\n",
    "    for transaction  in web3.eth.get_block(CURRENT_BLOCK - i)['transactions']:\n",
    "        transaction_details = web3.eth.get_transaction(transaction)\n",
    "        sender = web3.eth.get_transaction(transaction)['from']\n",
    "        receiver = web3.eth.get_transaction(transaction)['to']\n",
    "        if sender == WBTC_ETH_POOL:\n",
    "            break\n",
    "    break\n",
    "    \n",
    "    "
   ]
  },
  {
   "cell_type": "code",
   "execution_count": null,
   "id": "d74c6700",
   "metadata": {},
   "outputs": [],
   "source": []
  },
  {
   "cell_type": "code",
   "execution_count": null,
   "id": "040a7525",
   "metadata": {},
   "outputs": [],
   "source": []
  },
  {
   "cell_type": "code",
   "execution_count": null,
   "id": "39bd151d",
   "metadata": {},
   "outputs": [],
   "source": [
    "requests.get(\"https://api.etherscan.io/api?module=transaction&action=getstatus&txhash=0xfc314b9942f1e9d564a44e48e2e05d36e893b4855d41696e456d05c322d26801&apikey=P4XI3P1XKMUFPGIKGDNEJ8RAV6TBE317MW\").json()     "
   ]
  },
  {
   "cell_type": "code",
   "execution_count": null,
   "id": "e5061190",
   "metadata": {},
   "outputs": [],
   "source": []
  },
  {
   "cell_type": "code",
   "execution_count": null,
   "id": "12fc5d56",
   "metadata": {},
   "outputs": [],
   "source": []
  },
  {
   "cell_type": "code",
   "execution_count": null,
   "id": "15955807",
   "metadata": {},
   "outputs": [],
   "source": []
  },
  {
   "cell_type": "code",
   "execution_count": null,
   "id": "4b32d6b0",
   "metadata": {},
   "outputs": [],
   "source": [
    "df = pd.DataFrame(columns=['timestamp','date', 'min_price($)', 'max_price($)','min_tick','max_tick'])\n",
    "for _ in range(100):\n",
    "    CURRENT_TICK = contract_instance.functions.slot0().call()[1]\n",
    "    TICK_SPACING = contract_instance.functions.tickSpacing().call()\n",
    "    MIN_TICK = CURRENT_TICK -  CURRENT_TICK% TICK_SPACING \n",
    "    MAX_TICK = MIN_TICK +  TICK_SPACING \n",
    "    MIN_PRICE = 1 / (pow(1.0001, MAX_TICK) * pow(10,(USD_DECIMALS - ETH_DECIMALS )))\n",
    "    MAX_PRICE = 1 / (pow(1.0001, MIN_TICK) * pow(10,(USD_DECIMALS - ETH_DECIMALS )))\n",
    "    df.loc[_] = [datetime.now().timestamp()] + [datetime.now()] + [MIN_PRICE] + [MAX_PRICE] + [MIN_TICK] + [MAX_TICK]\n",
    "    time.sleep(60)\n",
    "    if _ % 10 ==0 :\n",
    "        print(_)"
   ]
  }
 ],
 "metadata": {
  "kernelspec": {
   "display_name": "Python 3",
   "language": "python",
   "name": "python3"
  },
  "language_info": {
   "codemirror_mode": {
    "name": "ipython",
    "version": 3
   },
   "file_extension": ".py",
   "mimetype": "text/x-python",
   "name": "python",
   "nbconvert_exporter": "python",
   "pygments_lexer": "ipython3",
   "version": "3.6.13"
  }
 },
 "nbformat": 4,
 "nbformat_minor": 5
}
