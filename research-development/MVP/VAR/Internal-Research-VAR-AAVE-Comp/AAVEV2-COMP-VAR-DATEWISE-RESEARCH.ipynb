{
 "cells": [
  {
   "cell_type": "markdown",
   "id": "ab9163e8",
   "metadata": {},
   "source": [
    "#### VAR Automation\n",
    "\n",
    "#### Description:\n",
    "###### This file contains the code for VAR automation, along with csv's for intermediate results such as portfolio holdings, price changes for BOTH AAVE AND COMP\n",
    "\n",
    "###### Author: Nishchal Gaba\n",
    "###### Created on: January 13, 2022"
   ]
  },
  {
   "cell_type": "code",
   "execution_count": null,
   "id": "434b197e",
   "metadata": {
    "ExecuteTime": {
     "end_time": "2022-01-13T09:14:52.088319Z",
     "start_time": "2022-01-13T09:14:52.084696Z"
    },
    "code_folding": [
     0
    ]
   },
   "outputs": [],
   "source": [
    "# Import packages\n",
    "import os\n",
    "import time\n",
    "import sys\n",
    "import random\n",
    "from datetime import datetime, timedelta\n",
    "\n",
    "import json\n",
    "import requests\n",
    "import pandas as pd\n",
    "import matplotlib\n",
    "import matplotlib.pyplot as plt\n",
    "\n",
    "%matplotlib inline"
   ]
  },
  {
   "cell_type": "code",
   "execution_count": 1,
   "id": "31c07cb9",
   "metadata": {
    "ExecuteTime": {
     "end_time": "2022-01-13T09:14:52.093838Z",
     "start_time": "2022-01-13T09:14:52.090162Z"
    }
   },
   "outputs": [],
   "source": [
    "import os\n",
    "import json\n",
    "import boto3\n",
    "import requests\n",
    "import numpy as np\n",
    "import pandas as pd\n",
    "from io import StringIO\n",
    "from datetime import timedelta\n",
    "from datetime import datetime\n",
    "from gql import gql, Client\n",
    "from gql.transport.requests import RequestsHTTPTransport\n",
    "\n",
    "\n",
    "import matplotlib.pyplot as plt"
   ]
  },
  {
   "cell_type": "code",
   "execution_count": 2,
   "id": "75e82c6d",
   "metadata": {
    "ExecuteTime": {
     "end_time": "2022-01-13T09:14:52.098856Z",
     "start_time": "2022-01-13T09:14:52.095183Z"
    },
    "code_folding": [
     1
    ]
   },
   "outputs": [],
   "source": [
    "# Coingecko data fetcher\n",
    "def getCoinGeckoHistoricalData(_token):\n",
    "    '''\n",
    "        Fetches the histroical data from Coingecko for a particular token\n",
    "        \n",
    "        \n",
    "        Args::\n",
    "            _token(str): Token Symbol (actual token will be fetched from token_names dictionary)\n",
    "            \n",
    "        Returns::\n",
    "            _resDf(pandas dataframe): Returns the dates (yyyy-mm-dd) and prices (USD) in a dataframe\n",
    "    '''\n",
    "    try:\n",
    "        # Making the coingecko historical API request\n",
    "        coinGeckoTokenCall = token_names[_token]\n",
    "        request   = requests.get(\"https://api.coingecko.com/api/v3/coins/\"+ str(coinGeckoTokenCall)+ \"/market_chart?vs_currency=usd&days=max&interval=daily\")\n",
    "        \n",
    "        # Converting the result to JSON\n",
    "        resJSON = request.json()\n",
    "        \n",
    "        # Creating empty dataframe\n",
    "        resDf = pd.DataFrame(resJSON['prices'], columns = [\"timestamp\", \"price\"])\n",
    "        \n",
    "        # We divide by 1000 to convert the default milliseconds from CoinGecko to seconds\n",
    "        # Get the human readable date from timestamp\n",
    "        resDf['timestamp'] = resDf['timestamp'].apply(lambda x: str(datetime.fromtimestamp(x/1000).date()))\n",
    "        \n",
    "        # Return the resultant dataframe\n",
    "        return resDf\n",
    "        \n",
    "        \n",
    "    except Exception as e:\n",
    "        print(\"Exception occured while fetching Coingecko Data\")\n",
    "        return str(e)"
   ]
  },
  {
   "cell_type": "code",
   "execution_count": 3,
   "id": "4bdccb62",
   "metadata": {
    "ExecuteTime": {
     "end_time": "2022-01-13T09:14:52.106604Z",
     "start_time": "2022-01-13T09:14:52.100477Z"
    },
    "code_folding": [
     1
    ]
   },
   "outputs": [],
   "source": [
    "# AAVE V2 data for a particular date\n",
    "def aaveV2HistoricalData(_date):\n",
    "    '''\n",
    "        Fetches the histroical data from Coingecko for a particular token\n",
    "        \n",
    "        \n",
    "        Args::\n",
    "            _date(str): date for which data is needed in (%m-%d-%Y) format\n",
    "            \n",
    "        Returns::\n",
    "            _resDf(pandas dataframe): Token, CurrentPrice, availableLiquidity, decimals,\n",
    "                                        totalLiquidity, utilizationRate, Assets\n",
    "    '''\n",
    "    \n",
    "    try:\n",
    "        # Starting Index\n",
    "        ind = 0\n",
    "        \n",
    "        # Calling the Aave V2\n",
    "        aaveV2res = requests.get('https://aave-api-v2.aave.com/data/liquidity/v2?poolId=0xb53c1a33016b2dc2ff3653530bff1848a515c8c5&date='+_date).json()\n",
    "        resDf = pd.DataFrame(columns=['Token', 'CurrentPrice', 'availableLiquidity','decimals', 'totalLiquidity','utilizationRate','Assets'])\n",
    "        \n",
    "        # Iterating through tokens in AaveV2 API\n",
    "        for token in aaveV2res:\n",
    "            try:\n",
    "                resDf.loc[ind] = [token['symbol']] + [float(token['referenceItem']['priceInUsd'])] + \\\n",
    "                                [float(token['availableLiquidity'])] + [float(token['decimals'])]+ \\\n",
    "                                [float(token['totalLiquidity'])]+ [float(token['referenceItem']['utilizationRate'])] + \\\n",
    "                                [float(token['totalDebt'])]\n",
    "\n",
    "                ind += 1\n",
    "\n",
    "            except Exception as e:\n",
    "                print(\"**\", token, e) #str(asset), str(price_mean), str(price_std), str(cap_mean),str(cap_std), str(vol_mean) , str(vol_std))  \n",
    "    #             errors.append(token)\n",
    "                # transactionResponse[\"error\"] = True\n",
    "                print(\"Exception occured while fetching Aave V2 Token wise Data\")\n",
    "                return str(e)\n",
    "\n",
    "\n",
    "        # totalLiquidity == Market\n",
    "        resDf['totalLiquidity']       = resDf['totalLiquidity'] * resDf['CurrentPrice']\n",
    "        resDf['Assets']               = resDf['Assets'] * resDf['CurrentPrice']\n",
    "        resDf['Position']             = resDf['Assets'] - resDf['totalLiquidity']\n",
    "        resDf['Position($,Billion)']  = resDf['Position'] / pow(10, 9)\n",
    "\n",
    "\n",
    "        # Return the resultant dataframe\n",
    "        return resDf\n",
    "        \n",
    "    except Exception as e:\n",
    "        print(\"Exception occured while fetching Aave V2 API Data\")\n",
    "        return str(e)"
   ]
  },
  {
   "cell_type": "code",
   "execution_count": null,
   "id": "cc12c074",
   "metadata": {
    "ExecuteTime": {
     "end_time": "2022-01-13T09:14:52.111184Z",
     "start_time": "2022-01-13T09:14:52.107870Z"
    },
    "code_folding": [
     0
    ]
   },
   "outputs": [],
   "source": [
    "# def change():\n",
    "#     query = '''\n",
    "#                 {\n",
    "#                 reserves\n",
    "#                 (where:{\n",
    "#                     symbol:\"WBTC\"\n",
    "#                     })\n",
    "#                 {\n",
    "#                     id\n",
    "#                     symbol\n",
    "#                     name\n",
    "#                     usageAsCollateralEnabled\n",
    "#                         borrowingEnabled\n",
    "#                     baseLTVasCollateral\n",
    "#                     totalDeposits\n",
    "#                     totalLiquidity\n",
    "#                     totalATokenSupply\n",
    "#                     reserveFactor\n",
    "                    \n",
    "#                 }\n",
    "#                 }\n",
    "#             '''\n",
    "\n",
    "#     V2_sample_transport       = RequestsHTTPTransport(\n",
    "#         url='https://api.thegraph.com/subgraphs/name/aave/protocol-v2',\n",
    "#         verify=True,\n",
    "#         retries=5)\n",
    "#     V2_client                 = Client(transport=V2_sample_transport)\n",
    "#     response                  = V2_client.execute(gql(query))\n",
    "\n",
    "#     # Coingecko Mapping for each token name to fetch historical prices\n",
    "#     names = {\"DAI\"  : 'dai',\n",
    "#         \"GUSD\"  : 'gemini-dollar',\n",
    "#         \"SUSD\"  : 'susd',\n",
    "#         \"TUSD\"  : 'true-usd',\n",
    "#         \"USDC\"  : 'usd-coin',\n",
    "#         \"USDP\"  : 'usdp',\n",
    "#         \"USDT\"  : \"tether\",\n",
    "#         \"BAL\"   : \"balancer\",\n",
    "#         \"WETH\"   : \"ethereum\",\n",
    "#         \"LINK\"  : \"chainlink\",\n",
    "#         \"MKR\"   : \"maker\",\n",
    "#         \"RAI\"   : \"rai\",\n",
    "#         \"UNI\"   : \"uniswap\",\n",
    "#         \"WBTC\"  : \"wrapped-bitcoin\",\n",
    "#         \"XSUSHI\": \"xsushi\",\n",
    "#         \"YFI\"   : \"yearn-finance\",\n",
    "#         \"BUSD\"  : \"binance-usd\",\n",
    "#         \"FEI\"   : \"fei-usd\",\n",
    "#         \"FRAX\"  : \"frax\",\n",
    "#         \"AAVE\"  : \"aave\",\n",
    "#         \"AMPL\"  : \"ampleforth\",\n",
    "#         \"BAT\"   : \"basic-attention-token\",\n",
    "#         \"CRV\"   : \"curve-dao-token\",\n",
    "#         \"DPI\"   : \"defipulse-index\",\n",
    "#         \"ENJ\"   : \"enjin-coin\",\n",
    "#         \"KNC\"   : \"kyber-network-crystal\",\n",
    "#         \"MANA\"  : \"decentraland\",\n",
    "#         \"REN\"   : \"ren\",\n",
    "#         \"RENFIL\": \"renfil\",\n",
    "#         \"SNX\"   :\"synthetix-network-token\",\n",
    "#         \"ZRX\"   : \"0x\"\n",
    "#         }\n",
    "    \n",
    "    \n",
    "#     columns = []\n",
    "#     columns.append('timestamp')\n",
    "#     for key in list(names.keys()):\n",
    "#         columns.append(key+'_price')\n",
    "#         columns.append(key+'_%change(10)')\n",
    "\n",
    "\n",
    "#     df        = pd.DataFrame(columns = columns)\n",
    "#     LOOK_BACK = 375\n",
    "#     LIMIT     = 5\n",
    "#     WBTC      = []\n",
    "\n",
    "#     request   = requests.get(\"https://api.coingecko.com/api/v3/coins/\"+ str(names['WBTC'])+ \"/market_chart?vs_currency=usd&days=max&interval=daily\")\n",
    "#     data      = request.json()\n",
    "#     WBTC      = data['prices']\n",
    "#     tt        = []\n",
    "#     P         = []\n",
    "#     for day in data['prices'][-LOOK_BACK:]:\n",
    "#         tt.append(day[0]/1000)\n",
    "#         P.append(day[1])\n",
    "#     df['WBTC_price'] = P\n",
    "#     df['timestamp']  = tt\n",
    "\n",
    "#     track = {}\n",
    "#     for asset in list(names.keys()):#[:LIMIT]:\n",
    "#         if asset == 'WBTC':\n",
    "#             continue\n",
    "#         request = requests.get(\"https://api.coingecko.com/api/v3/coins/\"+ str(names[asset])+ \"/market_chart?vs_currency=usd&days=max&interval=daily\")\n",
    "#         data = request.json()\n",
    "#         tt = []\n",
    "#         P = []\n",
    "        \n",
    "#         if len(data['prices']) < LOOK_BACK:\n",
    "#             req = LOOK_BACK - len(data['prices'])\n",
    "#             addition = WBTC[-LOOK_BACK:  -LOOK_BACK + req ]\n",
    "#             data['prices'] = addition + data['prices']\n",
    "#             track[asset] = req\n",
    "#         else:\n",
    "#             data['prices'] = data['prices'][-LOOK_BACK:]\n",
    "        \n",
    "#         for day in data['prices']:\n",
    "#             tt.append(day[0]/1000)\n",
    "#             P.append(day[1])\n",
    "#         df[asset+'_price'] = P\n",
    "#         df['timestamp']  = tt\n",
    "\n",
    "#     df['timestamp'] = tt\n",
    "\n",
    "#     for asset in list(names.keys()):#[:LIMIT]:\n",
    "        \n",
    "#         diff_10 = pd.DataFrame(df[asset+'_price'].diff(periods=10) )\n",
    "#         change = []\n",
    "#         for i in range(10):\n",
    "#             change.append('Nan')\n",
    "#         for i in range(10,df.shape[0]):\n",
    "#             change.append((diff_10.iloc[i][asset+'_price'] / df.iloc[i-10][asset+'_price']) * 100)\n",
    "#         df[asset+'_%change(10)'] = change\n",
    "        \n",
    "#         diff_1 = pd.DataFrame(df[asset+'_price'].diff(periods=1) )\n",
    "#         change = []\n",
    "#         for i in range(10):\n",
    "#             change.append('Nan')\n",
    "#         for i in range(10,df.shape[0]):\n",
    "#             change.append((diff_1.iloc[i][asset+'_price'] / df.iloc[i-10][asset+'_price']) * 100)\n",
    "#         df[asset+'_%change(1)'] = change\n",
    "        \n",
    "#     for key in track.keys():\n",
    "#         df[key+'_%change(10)'][:track[key]] = df['WBTC_%change(10)'][:track[key]]\n",
    "\n",
    "#     df['date'] = df['timestamp'].apply(lambda x : str(datetime.fromtimestamp(x).date()))\n",
    "#     df  = df.iloc[::-1]\n",
    "#     df  = df.reset_index()\n",
    "#     df = df.drop(['index'], axis=1)\n",
    "\n",
    "        \n",
    "#     return df"
   ]
  },
  {
   "cell_type": "code",
   "execution_count": null,
   "id": "05d5f58f",
   "metadata": {
    "ExecuteTime": {
     "end_time": "2022-01-13T09:14:52.116059Z",
     "start_time": "2022-01-13T09:14:52.112341Z"
    },
    "code_folding": [
     1
    ]
   },
   "outputs": [],
   "source": [
    "# # Coingecko Mapping for each token name to fetch historical prices\n",
    "# names = {\"DAI\"  : 'dai',\n",
    "#         \"GUSD\"  : 'gemini-dollar',\n",
    "#         \"SUSD\"  : 'susd',\n",
    "#         \"TUSD\"  : 'true-usd',\n",
    "#         \"USDC\"  : 'usd-coin',\n",
    "#         \"USDP\"  : 'usdp',\n",
    "#         \"USDT\"  : \"tether\",\n",
    "#         \"BAL\"   : \"balancer\",\n",
    "#         \"WETH\"   : \"ethereum\",\n",
    "#         \"LINK\"  : \"chainlink\",\n",
    "#         \"MKR\"   : \"maker\",\n",
    "#         \"RAI\"   : \"rai\",\n",
    "#         \"UNI\"   : \"uniswap\",\n",
    "#         \"WBTC\"  : \"wrapped-bitcoin\",\n",
    "#         \"XSUSHI\": \"xsushi\",\n",
    "#         \"YFI\"   : \"yearn-finance\",\n",
    "#         \"BUSD\"  : \"binance-usd\",\n",
    "#         \"FEI\"   : \"fei-usd\",\n",
    "#         \"FRAX\"  : \"frax\",\n",
    "#         \"AAVE\"  : \"aave\",\n",
    "#         \"AMPL\"  : \"ampleforth\",\n",
    "#         \"BAT\"   : \"basic-attention-token\",\n",
    "#         \"CRV\"   : \"curve-dao-token\",\n",
    "#         \"DPI\"   : \"defipulse-index\",\n",
    "#         \"ENJ\"   : \"enjin-coin\",\n",
    "#         \"KNC\"   : \"kyber-network-crystal\",\n",
    "#         \"MANA\"  : \"decentraland\",\n",
    "#         \"REN\"   : \"ren\",\n",
    "#         \"RENFIL\": \"renfil\",\n",
    "#         \"SNX\"   :\"synthetix-network-token\",\n",
    "#         \"ZRX\"   : \"0x\"\n",
    "#         }"
   ]
  },
  {
   "cell_type": "code",
   "execution_count": null,
   "id": "cac85c0b",
   "metadata": {
    "ExecuteTime": {
     "end_time": "2022-01-13T09:15:25.093568Z",
     "start_time": "2022-01-13T09:14:52.117170Z"
    },
    "code_folding": [
     1
    ]
   },
   "outputs": [],
   "source": [
    "# # Funtion to give historical price changes for each token mentioned in Names Dictionary\n",
    "# def change():\n",
    "#     columns = []\n",
    "#     columns.append('timestamp')\n",
    "#     for key in list(names.keys()):\n",
    "#         columns.append(key+'_price')\n",
    "#         columns.append(key+'_%change(10)')\n",
    "#     df        = pd.DataFrame(columns = columns)\n",
    "#     LOOK_BACK = 375 * 2\n",
    "#     #LIMIT     = 5\n",
    "#     WBTC      = []\n",
    "#     request   = requests.get(\"https://api.coingecko.com/api/v3/coins/\"+ str(names['WBTC'])+ \"/market_chart?vs_currency=usd&days=max&interval=daily\")\n",
    "#     data      = request.json()\n",
    "#     WBTC      = data['prices']\n",
    "#     tt        = []\n",
    "#     P         = []\n",
    "#     for day in data['prices'][-LOOK_BACK:]:\n",
    "#         tt.append(day[0]/1000)\n",
    "#         P.append(day[1])\n",
    "#     df['WBTC_price'] = P\n",
    "#     df['timestamp']  = tt\n",
    "#     track = {}\n",
    "#     for asset in list(names.keys()):#[:LIMIT]:\n",
    "#         if asset == 'WBTC':\n",
    "#             continue\n",
    "#         request = requests.get(\"https://api.coingecko.com/api/v3/coins/\"+ str(names[asset])+ \"/market_chart?vs_currency=usd&days=max&interval=daily\")\n",
    "#         P    = []\n",
    "#         if request.status_code != 200:\n",
    "#             data = {}\n",
    "#             data['prices'] = WBTC[ -LOOK_BACK: ]\n",
    "#             for day in data['prices']:\n",
    "#                 P.append(day)\n",
    "#         else:   \n",
    "#             data = request.json()\n",
    "#             tt   = []\n",
    "            \n",
    "\n",
    "#             if len(data['prices']) < LOOK_BACK:\n",
    "#                 req = LOOK_BACK - len(data['prices'])\n",
    "#                 addition = WBTC[-LOOK_BACK:  -LOOK_BACK + req ]\n",
    "#                 data['prices'] = addition + data['prices']\n",
    "#                 track[asset] = req\n",
    "#             else:\n",
    "#                 data['prices'] = data['prices'][-LOOK_BACK:]\n",
    "\n",
    "#             for day in data['prices']:\n",
    "#                 tt.append(day[0]/1000)\n",
    "#                 P.append(day[1])\n",
    "                \n",
    "#         df[asset+'_price'] = P\n",
    "#         df['timestamp']  = tt\n",
    "#     df['timestamp'] = tt\n",
    "    \n",
    "#     print(\"PRICES FETECHED\")\n",
    "    \n",
    "#     unknown_assets = ['PAX']\n",
    "#     for asset in list(names.keys()):#[:LIMIT]:\n",
    "#         try:\n",
    "#             change = []\n",
    "#             diff_10 = pd.DataFrame(df[asset+'_price'].diff(periods=10) )\n",
    "            \n",
    "#             for i in range(10):\n",
    "#                 change.append('Nan')\n",
    "#             for i in range(10,df.shape[0]):\n",
    "#                 change.append((diff_10.iloc[i][asset+'_price'] / df.iloc[i-10][asset+'_price']) * 100)\n",
    "#             df[asset+'_%change(10)'] = change\n",
    "\n",
    "#             diff_1 = pd.DataFrame(df[asset+'_price'].diff(periods=1) )\n",
    "#             change = []\n",
    "#             for i in range(10):\n",
    "#                 change.append('Nan')\n",
    "#             for i in range(10,df.shape[0]):\n",
    "#                 change.append((diff_1.iloc[i][asset+'_price'] / df.iloc[i-10][asset+'_price']) * 100)\n",
    "#             df[asset+'_%change(1)'] = change  \n",
    "            \n",
    "#         except Exception as e:\n",
    "#             unknown_assets.append(asset)\n",
    "#             print(\"Error \", asset, e)\n",
    "    \n",
    "#     for asset in unknown_assets:\n",
    "#         df[asset+'_%change(1)']  = df['WBTC_%change(1)'] \n",
    "#         df[asset+'_%change(10)'] = df['WBTC_%change(10)'] \n",
    "#     df['PAX_%change(10)'] = df['WBTC_%change(10)'] \n",
    "#     df['PAX_%change(1)'] = df['WBTC_%change(1)'] \n",
    "        \n",
    "#     for key in track.keys():\n",
    "#         df[key+'_%change(10)'][:track[key]] = df['WBTC_%change(10)'][:track[key]]\n",
    "\n",
    "#     df['date'] = df['timestamp'].apply(lambda x : str(datetime.fromtimestamp(x).date()))\n",
    "#     df  = df.iloc[::-1]\n",
    "#     df  = df.reset_index()\n",
    "#     df = df.drop(['index'], axis=1)\n",
    "\n",
    "#     df = df[:-10]\n",
    "\n",
    "#     print(\"CHECK POINT \")\n",
    "#     return df\n",
    "# change_df = change()"
   ]
  },
  {
   "cell_type": "code",
   "execution_count": null,
   "id": "d26a2b38",
   "metadata": {},
   "outputs": [],
   "source": []
  },
  {
   "cell_type": "code",
   "execution_count": 4,
   "id": "5d5cd863",
   "metadata": {
    "code_folding": [
     1,
     34
    ]
   },
   "outputs": [],
   "source": [
    "# Coingecko Mapping for each token name to fetch historical prices\n",
    "names = {\"DAI\"  : 'dai',\n",
    "        \"GUSD\"  : 'gemini-dollar',\n",
    "        \"SUSD\"  : 'susd',\n",
    "        \"TUSD\"  : 'true-usd',\n",
    "        \"USDC\"  : 'usd-coin',\n",
    "        \"USDP\"  : 'usdp',\n",
    "        \"USDT\"  : \"tether\",\n",
    "        \"BAL\"   : \"balancer\",\n",
    "        \"WETH\"   : \"ethereum\",\n",
    "        \"LINK\"  : \"chainlink\",\n",
    "        \"MKR\"   : \"maker\",\n",
    "        \"RAI\"   : \"rai\",\n",
    "        \"UNI\"   : \"uniswap\",\n",
    "        \"WBTC\"  : \"wrapped-bitcoin\",\n",
    "        \"XSUSHI\": \"xsushi\",\n",
    "        \"YFI\"   : \"yearn-finance\",\n",
    "        \"BUSD\"  : \"binance-usd\",\n",
    "        \"FEI\"   : \"fei-usd\",\n",
    "        \"FRAX\"  : \"frax\",\n",
    "        \"AAVE\"  : \"aave\",\n",
    "        \"AMPL\"  : \"ampleforth\",\n",
    "        \"BAT\"   : \"basic-attention-token\",\n",
    "        \"CRV\"   : \"curve-dao-token\",\n",
    "        \"DPI\"   : \"defipulse-index\",\n",
    "        \"ENJ\"   : \"enjin-coin\",\n",
    "        \"KNC\"   : \"kyber-network-crystal\",\n",
    "        \"MANA\"  : \"decentraland\",\n",
    "        \"REN\"   : \"ren\",\n",
    "        \"RENFIL\": \"renfil\",\n",
    "        \"SNX\"   :\"synthetix-network-token\",\n",
    "        \"ZRX\"   : \"0x\"\n",
    "        }\n",
    "# Funtion to give historical price changes for each token mentioned in Names Dictionary\n",
    "def change():\n",
    "    columns = []\n",
    "    columns.append('timestamp')\n",
    "    for key in list(names.keys()):\n",
    "        columns.append(key+'_price')\n",
    "        columns.append(key+'_%change(10)')\n",
    "    df        = pd.DataFrame(columns = columns)\n",
    "    LOOK_BACK = 375 * 2\n",
    "    #LIMIT     = 5\n",
    "    WBTC      = []\n",
    "    request   = requests.get(\"https://api.coingecko.com/api/v3/coins/\"+ str(names['WBTC'])+ \"/market_chart?vs_currency=usd&days=max&interval=daily\")\n",
    "    data      = request.json()\n",
    "    WBTC      = data['prices']\n",
    "    tt        = []\n",
    "    P         = []\n",
    "    for day in data['prices'][-LOOK_BACK:]:\n",
    "        tt.append(day[0]/1000)\n",
    "        P.append(day[1])\n",
    "    df['WBTC_price'] = P\n",
    "    df['timestamp']  = tt\n",
    "    track = {}\n",
    "    for asset in list(names.keys()):#[:LIMIT]:\n",
    "        if asset == 'WBTC':\n",
    "            continue\n",
    "        request = requests.get(\"https://api.coingecko.com/api/v3/coins/\"+ str(names[asset])+ \"/market_chart?vs_currency=usd&days=max&interval=daily\")\n",
    "        P    = []\n",
    "        if request.status_code != 200:\n",
    "            data = {}\n",
    "            data['prices'] = WBTC[ -LOOK_BACK: ]\n",
    "            for day in data['prices']:\n",
    "                P.append(day)\n",
    "        else:   \n",
    "            data = request.json()\n",
    "            tt   = []\n",
    "            \n",
    "\n",
    "            if len(data['prices']) < LOOK_BACK:\n",
    "                req = LOOK_BACK - len(data['prices'])\n",
    "                addition = WBTC[-LOOK_BACK:  -LOOK_BACK + req ]\n",
    "                data['prices'] = addition + data['prices']\n",
    "                track[asset] = req\n",
    "            else:\n",
    "                data['prices'] = data['prices'][-LOOK_BACK:]\n",
    "\n",
    "            for day in data['prices']:\n",
    "                tt.append(day[0]/1000)\n",
    "                P.append(day[1])\n",
    "                \n",
    "        df[asset+'_price'] = P\n",
    "        df['timestamp']  = tt\n",
    "    df['timestamp'] = tt\n",
    "    \n",
    "    print(\"PRICES FETECHED\")\n",
    "    \n",
    "    unknown_assets = ['PAX']\n",
    "    for asset in list(names.keys()):#[:LIMIT]:\n",
    "        try:\n",
    "            change = []\n",
    "            diff_10 = pd.DataFrame(df[asset+'_price'].diff(periods=10) )\n",
    "            \n",
    "            for i in range(10):\n",
    "                change.append('Nan')\n",
    "            for i in range(10,df.shape[0]):\n",
    "                change.append((diff_10.iloc[i][asset+'_price'] / df.iloc[i-10][asset+'_price']) * 100)\n",
    "            df[asset+'_%change(10)'] = change\n",
    "\n",
    "            diff_1 = pd.DataFrame(df[asset+'_price'].diff(periods=1) )\n",
    "            change = []\n",
    "            for i in range(10):\n",
    "                change.append('Nan')\n",
    "            for i in range(10,df.shape[0]):\n",
    "                change.append((diff_1.iloc[i][asset+'_price'] / df.iloc[i-10][asset+'_price']) * 100)\n",
    "            df[asset+'_%change(1)'] = change  \n",
    "            \n",
    "        except Exception as e:\n",
    "            unknown_assets.append(asset)\n",
    "            print(\"Error \", asset, e)\n",
    "    \n",
    "    for asset in unknown_assets:\n",
    "        df[asset+'_%change(1)']  = df['WBTC_%change(1)'] \n",
    "        df[asset+'_%change(10)'] = df['WBTC_%change(10)'] \n",
    "    df['PAX_%change(10)'] = df['WBTC_%change(10)'] \n",
    "    df['PAX_%change(1)'] = df['WBTC_%change(1)'] \n",
    "        \n",
    "    for key in track.keys():\n",
    "        df[key+'_%change(10)'][:track[key]] = df['WBTC_%change(10)'][:track[key]]\n",
    "\n",
    "    df['date'] = df['timestamp'].apply(lambda x : str(datetime.fromtimestamp(x).date()))\n",
    "    df  = df.iloc[::-1]\n",
    "    df  = df.reset_index()\n",
    "    df = df.drop(['index'], axis=1)\n",
    "\n",
    "    df = df[:-10]\n",
    "\n",
    "    print(\"CHECK POINT \")\n",
    "    return df\n",
    "# change_df = change()"
   ]
  },
  {
   "cell_type": "code",
   "execution_count": null,
   "id": "6ade93fa",
   "metadata": {},
   "outputs": [],
   "source": []
  },
  {
   "cell_type": "code",
   "execution_count": null,
   "id": "9583f7ee",
   "metadata": {
    "ExecuteTime": {
     "end_time": "2022-01-13T09:15:25.098786Z",
     "start_time": "2022-01-13T09:15:25.095638Z"
    }
   },
   "outputs": [],
   "source": [
    "from gql import gql, Client\n",
    "from gql.transport.requests import RequestsHTTPTransport"
   ]
  },
  {
   "cell_type": "code",
   "execution_count": null,
   "id": "0178c523",
   "metadata": {
    "ExecuteTime": {
     "end_time": "2022-01-13T09:15:25.102431Z",
     "start_time": "2022-01-13T09:15:25.100265Z"
    },
    "code_folding": [
     0
    ]
   },
   "outputs": [],
   "source": [
    "# query = '''\n",
    "#                 {\n",
    "#                 reserves\n",
    "#                 (where:{\n",
    "#                     symbol:\"WBTC\"\n",
    "#                     })\n",
    "#                 {\n",
    "#                     id\n",
    "#                     symbol\n",
    "#                     name\n",
    "#                     usageAsCollateralEnabled\n",
    "#                         borrowingEnabled\n",
    "#                     baseLTVasCollateral\n",
    "#                     totalDeposits\n",
    "#                     totalLiquidity\n",
    "#                     totalATokenSupply\n",
    "#                     reserveFactor\n",
    "                    \n",
    "#                 }\n",
    "#                 }\n",
    "#             '''"
   ]
  },
  {
   "cell_type": "code",
   "execution_count": null,
   "id": "bd59dcd8",
   "metadata": {
    "ExecuteTime": {
     "end_time": "2022-01-13T09:15:25.106530Z",
     "start_time": "2022-01-13T09:15:25.104238Z"
    }
   },
   "outputs": [],
   "source": [
    "# V2_sample_transport       = RequestsHTTPTransport(\n",
    "#         url='https://api.thegraph.com/subgraphs/name/aave/protocol-v2',\n",
    "#         verify=True,\n",
    "#         retries=5)"
   ]
  },
  {
   "cell_type": "code",
   "execution_count": 5,
   "id": "b5beb83f",
   "metadata": {
    "ExecuteTime": {
     "end_time": "2022-01-13T09:15:25.111946Z",
     "start_time": "2022-01-13T09:15:25.108759Z"
    }
   },
   "outputs": [],
   "source": [
    "# Required Date\n",
    "# By default set to current date\n",
    "# requiredDate     = str((datetime.now() - timedelta(1)).date().strftime(\"%m-%d-%Y\"))\n",
    "requiredDate     = str((datetime.now() - timedelta(1)).date().strftime(\"%m-%d-%Y\"))\n",
    "requiredDate = '12-16-2021' #\"01-10-2022\" #mm-dd-yyyy"
   ]
  },
  {
   "cell_type": "code",
   "execution_count": 10,
   "id": "649079c8",
   "metadata": {
    "ExecuteTime": {
     "end_time": "2022-01-13T09:15:25.126325Z",
     "start_time": "2022-01-13T09:15:25.114395Z"
    },
    "code_folding": []
   },
   "outputs": [],
   "source": [
    "def VARDate(_date):\n",
    "    '''\n",
    "        Gets the VAR results, AaveV2 for a particular position and price change dataframe\n",
    "        \n",
    "        Args::\n",
    "            _date(str): Date in \"%m-%d-%Y\" format\n",
    "        \n",
    "        Returns::\n",
    "            aaveV2Res(pandas dataframe): AaveV2 Historical Data for the given date\n",
    "            df (pandas dataframe): Price change dataframe\n",
    "    '''\n",
    "    # Aave V2 Data for particular date\n",
    "    aaveV2Res = aaveV2HistoricalData(_date)\n",
    "    \n",
    "    # Price Change Dataframe\n",
    "    df = change()\n",
    "    \n",
    "    # Flipping the date format\n",
    "    reqDate = datetime.strptime(_date, '%m-%d-%Y').strftime('%Y-%m-%d')\n",
    "    \n",
    "    # Converting str to datetime\n",
    "    df['date']= pd.to_datetime(df['date'])\n",
    "    # Remove dates above the required date\n",
    "    mask = (df['date'] <= reqDate)\n",
    "    df = df.loc[mask]\n",
    "    # Converting the date column back to str\n",
    "    df['date']=df['date'].astype(str)\n",
    "    \n",
    "    REQUIRED_1 = []\n",
    "    REQUIRED_10 = []\n",
    "    historicalVAR = pd.DataFrame(columns=['date', 'VAR_10', 'VAR_1'])\n",
    "    hist_ind = 0\n",
    "    \n",
    "    cols     = aaveV2Res['Token']\n",
    "    FINAL_DF = aaveV2Res[['Position($,Billion)']].T\n",
    "    FINAL_DF.columns = cols\n",
    "    # Sliding Window Var Calculator\n",
    "    VAR      = []\n",
    "    VAR_DATE = []\n",
    "    errors   = []\n",
    "    for ind, ROW in enumerate(FINAL_DF.iterrows()):\n",
    "        REQUIRED_10 = []\n",
    "        for required_row in df[ind:ind+365].iterrows():\n",
    "            SUM_10  = []\n",
    "            for key in ROW[1].keys():\n",
    "                if isinstance(ROW[1][key], list):\n",
    "                    ROW[1][key] = 0\n",
    "                SUM_10.append((float(ROW[1][key]) * required_row[1][key+'_%change(10)'])/100)\n",
    "            REQUIRED_10.append(sum(SUM_10))\n",
    "        VAR.append(sorted(REQUIRED_10, key=float)[3])\n",
    "        VAR_DATE.append(df[ind:ind+365].at[REQUIRED_10.index(sorted(REQUIRED_10, key=float)[3]) + ind, 'date'])\n",
    "    \n",
    "    testdf = pd.DataFrame(columns=['SYMBOL', 'totalLiquidity', 'totalDebt'])\n",
    "    ind = 0\n",
    "    \n",
    "    AAVE_API_RESULT  = requests.get('https://aave-api-v2.aave.com/data/liquidity/v2?poolId=0xb53c1a33016b2dc2ff3653530bff1848a515c8c5&date='+_date).json()\n",
    "    \n",
    "    for i in AAVE_API_RESULT:\n",
    "        testdf.loc[ind] = [i['symbol']] + [float(i['totalLiquidity']) * float(i['referenceItem']['priceInUsd']) ]\\\n",
    "                    + [float(i['totalDebt']) * float(i['referenceItem']['priceInUsd'] )] #+ [i['referenceItem']['priceInUsd'] * ]\n",
    "        ind += 1\n",
    "\n",
    "    TOTAL_LIABILITIES    = aaveV2Res['totalLiquidity'].sum()\n",
    "    TOTAL_ASSETS         = aaveV2Res['Assets'].sum()\n",
    "    VAR_10_DAY_99_P      = VAR\n",
    "    VAR_DATE_10_DAY_99_P = VAR_DATE\n",
    "\n",
    "#     RELATIVE_VAR_ASSETS = str(VAR * pow(10,9) / TOTAL_ASSETS)\n",
    "#     RELATIVE_VAR_LIABILITIES = str(VAR * pow(10,9) / TOTAL_LIABILITIES)\n",
    "    #TOTAL_ASSETS\n",
    "    #TOTAL_LIABILITIES\n",
    "    return aaveV2Res, df, TOTAL_ASSETS, TOTAL_LIABILITIES, VAR_10_DAY_99_P, VAR_DATE_10_DAY_99_P"
   ]
  },
  {
   "cell_type": "code",
   "execution_count": 11,
   "id": "4239fbee",
   "metadata": {
    "ExecuteTime": {
     "end_time": "2022-01-13T09:16:10.520909Z",
     "start_time": "2022-01-13T09:15:28.372629Z"
    },
    "scrolled": true
   },
   "outputs": [
    {
     "name": "stdout",
     "output_type": "stream",
     "text": [
      "PRICES FETECHED\n",
      "Error  SUSD unsupported operand type(s) for -: 'list' and 'list'\n",
      "Error  ENJ unsupported operand type(s) for -: 'list' and 'list'\n",
      "Error  REN unsupported operand type(s) for -: 'list' and 'list'\n",
      "Error  SNX unsupported operand type(s) for -: 'list' and 'list'\n"
     ]
    },
    {
     "name": "stderr",
     "output_type": "stream",
     "text": [
      "/Users/rahulkanojia/miniconda3/envs/env/lib/python3.7/site-packages/ipykernel_launcher.py:120: SettingWithCopyWarning: \n",
      "A value is trying to be set on a copy of a slice from a DataFrame\n",
      "\n",
      "See the caveats in the documentation: https://pandas.pydata.org/pandas-docs/stable/user_guide/indexing.html#returning-a-view-versus-a-copy\n"
     ]
    },
    {
     "name": "stdout",
     "output_type": "stream",
     "text": [
      "CHECK POINT \n"
     ]
    }
   ],
   "source": [
    "# aaveV2Res, priceChangeDf, TOTAL_ASSETS, TOTAL_LIABILITIES, VAR_10_DAY_99_P, VAR_DATE_10_DAY_99_P = VARDate(requiredDate)\n",
    "# Date in %m-%d-%Y format\n",
    "aaveV2Res, priceChangeDf, TOTAL_ASSETS, TOTAL_LIABILITIES, VAR_10_DAY_99_P, VAR_DATE_10_DAY_99_P = VARDate(requiredDate)"
   ]
  },
  {
   "cell_type": "code",
   "execution_count": 12,
   "id": "d11b1c60",
   "metadata": {
    "ExecuteTime": {
     "end_time": "2022-01-13T09:16:10.549123Z",
     "start_time": "2022-01-13T09:16:10.544388Z"
    }
   },
   "outputs": [
    {
     "data": {
      "text/plain": [
       "[-4.450595218045071]"
      ]
     },
     "execution_count": 12,
     "metadata": {},
     "output_type": "execute_result"
    }
   ],
   "source": [
    "VAR_10_DAY_99_P"
   ]
  },
  {
   "cell_type": "code",
   "execution_count": 13,
   "id": "84d828c0",
   "metadata": {
    "ExecuteTime": {
     "end_time": "2022-01-13T09:16:10.553854Z",
     "start_time": "2022-01-13T09:16:10.550296Z"
    }
   },
   "outputs": [
    {
     "data": {
      "text/plain": [
       "['2021-02-06']"
      ]
     },
     "execution_count": 13,
     "metadata": {},
     "output_type": "execute_result"
    }
   ],
   "source": [
    "VAR_DATE_10_DAY_99_P"
   ]
  },
  {
   "cell_type": "code",
   "execution_count": null,
   "id": "57150c42",
   "metadata": {
    "ExecuteTime": {
     "end_time": "2022-01-13T09:16:10.561097Z",
     "start_time": "2022-01-13T09:16:10.555862Z"
    }
   },
   "outputs": [],
   "source": [
    "type(priceChangeDf['date'])"
   ]
  },
  {
   "cell_type": "code",
   "execution_count": null,
   "id": "d3b67968",
   "metadata": {
    "ExecuteTime": {
     "end_time": "2022-01-13T09:16:10.565157Z",
     "start_time": "2022-01-13T09:16:10.562232Z"
    }
   },
   "outputs": [],
   "source": [
    "# Token change in price for AAVE VAR Date\n",
    "idx = priceChangeDf.index[priceChangeDf['date'] == VAR_DATE_10_DAY_99_P].tolist()\n",
    "priceChangeVARDATE = priceChangeDf.loc[idx]\n",
    "# _index = priceChangeDf.index[mask]\n",
    "# priceChangeDf[_index]"
   ]
  },
  {
   "cell_type": "code",
   "execution_count": null,
   "id": "9b35b86f",
   "metadata": {},
   "outputs": [],
   "source": []
  },
  {
   "cell_type": "code",
   "execution_count": null,
   "id": "9b4a80e9",
   "metadata": {
    "ExecuteTime": {
     "end_time": "2022-01-13T09:16:10.572187Z",
     "start_time": "2022-01-13T09:16:10.567205Z"
    }
   },
   "outputs": [],
   "source": [
    "aaveV2Res = aaveV2HistoricalData(requiredDate)"
   ]
  },
  {
   "cell_type": "code",
   "execution_count": null,
   "id": "beccf1ba",
   "metadata": {},
   "outputs": [],
   "source": [
    "# Price Change Dataframe\n",
    "df = change()"
   ]
  },
  {
   "cell_type": "code",
   "execution_count": null,
   "id": "44582785",
   "metadata": {},
   "outputs": [],
   "source": [
    "# Flipping the date format\n",
    "reqDate = datetime.strptime(requiredDate, '%m-%d-%Y').strftime('%Y-%m-%d')\n",
    "# Converting str to datetime\n",
    "df['date']= pd.to_datetime(df['date'])\n",
    "# Remove dates above the required date\n",
    "mask = (df['date'] <= reqDate)\n",
    "df = df.loc[mask]\n",
    "# Converting the date column back to str\n",
    "df['date']=df['date'].astype(str)"
   ]
  },
  {
   "cell_type": "code",
   "execution_count": null,
   "id": "31aa7510",
   "metadata": {},
   "outputs": [],
   "source": [
    "for name in aaveV2Res['Token']:\n",
    "    print(name, \": \", df[:365][name+'_%change(10)'].sum() )"
   ]
  },
  {
   "cell_type": "code",
   "execution_count": null,
   "id": "143e89ec",
   "metadata": {},
   "outputs": [],
   "source": [
    "REQUIRED_1 = []\n",
    "REQUIRED_10 = []\n",
    "historicalVAR = pd.DataFrame(columns=['date', 'VAR_10', 'VAR_1'])\n",
    "hist_ind = 0"
   ]
  },
  {
   "cell_type": "code",
   "execution_count": null,
   "id": "5c6e4e1d",
   "metadata": {},
   "outputs": [],
   "source": []
  },
  {
   "cell_type": "code",
   "execution_count": null,
   "id": "17d6e562",
   "metadata": {},
   "outputs": [],
   "source": [
    "for i in FINAL_DF.iterrows():\n",
    "    break"
   ]
  },
  {
   "cell_type": "code",
   "execution_count": null,
   "id": "7a718be4",
   "metadata": {},
   "outputs": [],
   "source": [
    "df.shape"
   ]
  },
  {
   "cell_type": "code",
   "execution_count": null,
   "id": "579bb658",
   "metadata": {},
   "outputs": [],
   "source": []
  },
  {
   "cell_type": "code",
   "execution_count": null,
   "id": "4599cf54",
   "metadata": {},
   "outputs": [],
   "source": []
  },
  {
   "cell_type": "code",
   "execution_count": null,
   "id": "76d71299",
   "metadata": {},
   "outputs": [],
   "source": [
    "VAR_DATE"
   ]
  },
  {
   "cell_type": "code",
   "execution_count": null,
   "id": "bc39bfcd",
   "metadata": {},
   "outputs": [],
   "source": []
  },
  {
   "cell_type": "code",
   "execution_count": null,
   "id": "5ff11031",
   "metadata": {},
   "outputs": [],
   "source": []
  },
  {
   "cell_type": "code",
   "execution_count": null,
   "id": "4befcac7",
   "metadata": {},
   "outputs": [],
   "source": [
    "\n",
    "\n",
    "for required_row in df[:365].iterrows():\n",
    "    required_row = required_row[1]\n",
    "    SUM_10 = []\n",
    "    SUM_1 = []\n",
    "\n",
    "    for row in aaveV2Res.iterrows():\n",
    "        try:\n",
    "            SUM_10.append((row[1]['Position($,Billion)'] * float(required_row[ row[1]['Token'] +'_%change(10)'])/100))\n",
    "            SUM_1.append((row[1]['Position($,Billion)'] * float(required_row[ row[1]['Token'] +'_%change(1)'])/100))\n",
    "        except Exception as e:\n",
    "            print(\"ERROR\", e)\n",
    "            pass\n",
    "\n",
    "    REQUIRED_1.append(sum(SUM_1))\n",
    "    REQUIRED_10.append(sum(SUM_10))\n",
    "\n",
    "    historicalVAR.loc[hist_ind] = [required_row['date']] + [sum(SUM_10)] + [sum(SUM_1)]\n",
    "    hist_ind += 1 \n",
    "\n",
    "# Historical VAR for past 362 days    \n",
    "historicalVAR = historicalVAR[:365]\n",
    "\n",
    "\n",
    "\n",
    "REQUIRED_10 = historicalVAR.sort_values('VAR_10').iloc[3]\n",
    "REQUIRED_1 = historicalVAR.sort_values('VAR_1').iloc[3]\n",
    "\n",
    "REQUIRED_10_95 = historicalVAR.sort_values('VAR_10').iloc[9]\n",
    "REQUIRED_1_95 = historicalVAR.sort_values('VAR_1').iloc[9]\n",
    "\n",
    "var_date_10_99p = REQUIRED_10['date']\n",
    "var_date_10_95p = REQUIRED_10_95['date']\n",
    "var_date_1_99p = REQUIRED_1['date']\n",
    "var_date_1_95p = REQUIRED_1_95['date']\n",
    "\n",
    "#     print(historicalVAR)\n",
    "\n",
    "testdf = pd.DataFrame(columns=['SYMBOL', 'totalLiquidity', 'totalDebt'])\n",
    "ind = 0\n",
    "\n",
    "AAVE_API_RESULT  = requests.get('https://aave-api-v2.aave.com/data/liquidity/v2?poolId=0xb53c1a33016b2dc2ff3653530bff1848a515c8c5&date='+_date).json()\n",
    "\n",
    "for i in AAVE_API_RESULT:\n",
    "    testdf.loc[ind] = [i['symbol']] + [float(i['totalLiquidity']) * float(i['referenceItem']['priceInUsd']) ]\\\n",
    "                + [float(i['totalDebt']) * float(i['referenceItem']['priceInUsd'] )] #+ [i['referenceItem']['priceInUsd'] * ]\n",
    "    ind += 1\n",
    "\n",
    "TOTAL_LIABILITIES = aaveV2Res['totalLiquidity'].sum()\n",
    "TOTAL_ASSETS      = aaveV2Res['Assets'].sum()\n",
    "VAR_10_DAY_99_P = str(REQUIRED_10['VAR_10'])\n",
    "VAR_DATE_10_DAY_99_P = var_date_10_99p\n",
    "\n",
    "#     transactionResponse[\"result\"][\"AAVEV2\"][\"data\"]['10_day_95p'] = str(REQUIRED_10_95['VAR_10'])\n",
    "#     transactionResponse[\"result\"][\"AAVEV2\"][\"data\"]['var_date_10_day_95p'] = var_date_10_95p\n",
    "\n",
    "#     # transactionResponse[\"result\"][\"AAVEV2\"][\"data\"]['1_day_99p'] = str(REQUIRED_1[5])\n",
    "#     transactionResponse[\"result\"][\"AAVEV2\"][\"data\"]['1_day_99p'] = str(REQUIRED_1['VAR_1'])\n",
    "#     transactionResponse[\"result\"][\"AAVEV2\"][\"data\"]['var_date_1_day_99p'] = var_date_1_99p\n",
    "\n",
    "#     transactionResponse[\"result\"][\"AAVEV2\"][\"data\"]['1_day_95p'] = str(REQUIRED_1_95['VAR_1'])\n",
    "#     transactionResponse[\"result\"][\"AAVEV2\"][\"data\"]['var_date_1_day_95p'] = var_date_1_95p\n",
    "\n",
    "RELATIVE_VAR_ASSETS = str(REQUIRED_10['VAR_10'] * pow(10,9) / TOTAL_ASSETS)\n",
    "RELATIVE_VAR_LIABILITIES = str(REQUIRED_10['VAR_10'] * pow(10,9) / TOTAL_LIABILITIES)\n",
    "#TOTAL_ASSETS\n",
    "#TOTAL_LIABILITIES\n",
    "return aaveV2Res, df, TOTAL_ASSETS, TOTAL_LIABILITIES, VAR_10_DAY_99_P, VAR_DATE_10_DAY_99_P"
   ]
  },
  {
   "cell_type": "code",
   "execution_count": null,
   "id": "eb59ea4e",
   "metadata": {},
   "outputs": [],
   "source": []
  },
  {
   "cell_type": "code",
   "execution_count": null,
   "id": "b4dca0b5",
   "metadata": {},
   "outputs": [],
   "source": []
  },
  {
   "cell_type": "code",
   "execution_count": null,
   "id": "21038190",
   "metadata": {},
   "outputs": [],
   "source": []
  },
  {
   "cell_type": "code",
   "execution_count": null,
   "id": "436f516b",
   "metadata": {},
   "outputs": [],
   "source": []
  },
  {
   "cell_type": "code",
   "execution_count": null,
   "id": "820f1dfe",
   "metadata": {},
   "outputs": [],
   "source": []
  },
  {
   "cell_type": "code",
   "execution_count": null,
   "id": "8eab9bfa",
   "metadata": {},
   "outputs": [],
   "source": []
  },
  {
   "cell_type": "code",
   "execution_count": null,
   "id": "15ca1303",
   "metadata": {},
   "outputs": [],
   "source": []
  },
  {
   "cell_type": "code",
   "execution_count": null,
   "id": "a244288b",
   "metadata": {
    "ExecuteTime": {
     "end_time": "2022-01-13T09:16:10.581570Z",
     "start_time": "2022-01-13T09:16:10.574503Z"
    }
   },
   "outputs": [],
   "source": []
  },
  {
   "cell_type": "code",
   "execution_count": null,
   "id": "86cbb6ee",
   "metadata": {
    "ExecuteTime": {
     "end_time": "2022-01-13T09:16:10.584727Z",
     "start_time": "2022-01-13T09:16:10.582968Z"
    }
   },
   "outputs": [],
   "source": [
    "# Contribution to VAR\n",
    "# -1 * (TOKEN_PRICE * TOKEN_POSITION * TOKEN%CHANGE)"
   ]
  },
  {
   "cell_type": "code",
   "execution_count": null,
   "id": "2f69c698",
   "metadata": {
    "ExecuteTime": {
     "end_time": "2022-01-13T09:16:10.589317Z",
     "start_time": "2022-01-13T09:16:10.586447Z"
    }
   },
   "outputs": [],
   "source": [
    "# PLATFORM, TOKEN, POSITION_ON_INPUT_DATE, POSITION_in_B_ON_INPUT_DATE, TOKEN_%_CHANGE_ON_VAR_DATE, CONTRIBTION TO VAR"
   ]
  },
  {
   "cell_type": "code",
   "execution_count": null,
   "id": "82153279",
   "metadata": {
    "ExecuteTime": {
     "end_time": "2022-01-13T09:16:10.596875Z",
     "start_time": "2022-01-13T09:16:10.592441Z"
    }
   },
   "outputs": [],
   "source": [
    "column_names = [\"PLATFORM\", \"TOKEN\", \"POSITION_ON_INPUT_DATE\", \"POSITION_ON_INPUT_DATE_BILLIONS\",\n",
    "               \"TOKEN_%_CHANGE_ON_VAR_DATE\", \"CONTRIBUTION_TO_VAR\"]\n",
    "resultDf = pd.DataFrame(columns = column_names)"
   ]
  },
  {
   "cell_type": "code",
   "execution_count": null,
   "id": "eaa70488",
   "metadata": {
    "ExecuteTime": {
     "end_time": "2022-01-13T09:16:10.697183Z",
     "start_time": "2022-01-13T09:16:10.598765Z"
    },
    "code_folding": [
     3
    ]
   },
   "outputs": [],
   "source": [
    "# Itearing through the position in Aave\n",
    "\n",
    "# for token in aaveV2Res[\"Token\"]:\n",
    "for idx, row in aaveV2Res.iterrows():\n",
    "    try:\n",
    "        temp = []\n",
    "        \n",
    "        temp.append(\"AAVE\")\n",
    "        temp.append(str(aaveV2Res[\"Token\"][idx]))\n",
    "        temp.append(aaveV2Res[\"Position\"][idx])\n",
    "        temp.append(aaveV2Res[\"Position($,Billion)\"][idx])\n",
    "        temp.append(priceChangeVARDATE[str(aaveV2Res[\"Token\"][idx])+\"_%change(10)\"].iloc[0])\n",
    "        temp.append(float(-1 * float(aaveV2Res[\"Position($,Billion)\"][idx]) * float(priceChangeVARDATE[str(aaveV2Res[\"Token\"][idx])+\"_%change(10)\"].iloc[0])))\n",
    "        \n",
    "        \n",
    "        \n",
    "        # Add the values to the latest row\n",
    "        df_length = len(resultDf)\n",
    "        resultDf.loc[df_length] = temp\n",
    "        \n",
    "    except:\n",
    "        print(\"Exception occured for the token: \"+str(token))\n",
    "\n",
    "# print(temp)"
   ]
  },
  {
   "cell_type": "code",
   "execution_count": null,
   "id": "0439f2c7",
   "metadata": {
    "ExecuteTime": {
     "end_time": "2022-01-13T09:16:10.711835Z",
     "start_time": "2022-01-13T09:16:10.699127Z"
    },
    "code_folding": [
     0
    ]
   },
   "outputs": [],
   "source": [
    "# Sample Final Res\n",
    "resultDf"
   ]
  },
  {
   "cell_type": "code",
   "execution_count": null,
   "id": "575156b1",
   "metadata": {
    "ExecuteTime": {
     "end_time": "2022-01-13T06:56:06.555454Z",
     "start_time": "2022-01-13T06:56:06.551807Z"
    }
   },
   "outputs": [],
   "source": []
  },
  {
   "cell_type": "code",
   "execution_count": null,
   "id": "34192cf0",
   "metadata": {},
   "outputs": [],
   "source": []
  },
  {
   "cell_type": "code",
   "execution_count": null,
   "id": "44588ea1",
   "metadata": {},
   "outputs": [],
   "source": []
  },
  {
   "cell_type": "code",
   "execution_count": null,
   "id": "58674b85",
   "metadata": {},
   "outputs": [],
   "source": []
  },
  {
   "cell_type": "code",
   "execution_count": null,
   "id": "f4b72ddc",
   "metadata": {},
   "outputs": [],
   "source": []
  },
  {
   "cell_type": "markdown",
   "id": "065c4d78",
   "metadata": {},
   "source": [
    "### Compound Code"
   ]
  },
  {
   "cell_type": "code",
   "execution_count": null,
   "id": "c0a01b0d",
   "metadata": {
    "ExecuteTime": {
     "end_time": "2022-01-13T09:16:10.795218Z",
     "start_time": "2022-01-13T09:16:10.713425Z"
    }
   },
   "outputs": [],
   "source": [
    "def change():\n",
    "\n",
    "    names = {\"DAI\"  : 'dai',\n",
    "        \"GUSD\"  : 'gemini-dollar',\n",
    "        # \"SUSD\"  : 'susd',\n",
    "        \"TUSD\"  : 'true-usd',\n",
    "        \"USDC\"  : 'usd-coin',\n",
    "        \"USDP\"  : 'usdp',\n",
    "        \"USDT\"  : \"tether\",\n",
    "        \"BAL\"   : \"balancer\",\n",
    "        \"WETH\"   : \"ethereum\",\n",
    "        \"LINK\"  : \"chainlink\",\n",
    "        \"MKR\"   : \"maker\",\n",
    "        \"RAI\"   : \"rai\",\n",
    "        \"UNI\"   : \"uniswap\",\n",
    "        \"WBTC\"  : \"wrapped-bitcoin\",\n",
    "        \"XSUSHI\": \"xsushi\",\n",
    "        \"YFI\"   : \"yearn-finance\",\n",
    "        \"BUSD\"  : \"binance-usd\",\n",
    "        \"FEI\"   : \"fei-usd\",\n",
    "        \"FRAX\"  : \"frax\",\n",
    "        \"AAVE\"  : \"aave\",\n",
    "        \"AMPL\"  : \"ampleforth\",\n",
    "        \"BAT\"   : \"basic-attention-token\",\n",
    "        \"CRV\"   : \"curve-dao-token\",\n",
    "        \"DPI\"   : \"defipulse-index\",\n",
    "        # \"ENJ\"   : \"enjin-coin\",\n",
    "        \"KNC\"   : \"kyber-network-crystal\",\n",
    "        \"MANA\"  : \"decentraland\",\n",
    "        # \"REN\"   : \"ren\",\n",
    "        \"RENFIL\": \"renfil\",\n",
    "        # \"SNX\"   :\"synthetix-network-token\",\n",
    "        \"ZRX\"   : \"0x\"\n",
    "        }\n",
    "    columns = []\n",
    "    columns.append('timestamp')\n",
    "    for key in list(names.keys()):\n",
    "        columns.append(key+'_price')\n",
    "        columns.append(key+'_%change(10)')\n",
    "    df        = pd.DataFrame(columns = columns)\n",
    "    LOOK_BACK = 375 * 2\n",
    "    #LIMIT     = 5\n",
    "    WBTC      = []\n",
    "    request   = requests.get(\"https://api.coingecko.com/api/v3/coins/\"+ str(names['WBTC'])+ \"/market_chart?vs_currency=usd&days=max&interval=daily\")\n",
    "    data      = request.json()\n",
    "    WBTC      = data['prices']\n",
    "    tt        = []\n",
    "    P         = []\n",
    "    for day in data['prices'][-LOOK_BACK:]:\n",
    "        tt.append(day[0]/1000)\n",
    "        P.append(day[1])\n",
    "    df['WBTC_price'] = P\n",
    "    df['timestamp']  = tt\n",
    "    track = {}\n",
    "    for asset in list(names.keys()):#[:LIMIT]:\n",
    "        if asset == 'WBTC':\n",
    "            continue\n",
    "        request = requests.get(\"https://api.coingecko.com/api/v3/coins/\"+ str(names[asset])+ \"/market_chart?vs_currency=usd&days=max&interval=daily\")\n",
    "        data = request.json()\n",
    "        tt = []\n",
    "        P = []\n",
    "        \n",
    "        if len(data['prices']) < LOOK_BACK:\n",
    "            req = LOOK_BACK - len(data['prices'])\n",
    "            addition = WBTC[-LOOK_BACK:  -LOOK_BACK + req ]\n",
    "            data['prices'] = addition + data['prices']\n",
    "            track[asset] = req\n",
    "        else:\n",
    "            data['prices'] = data['prices'][-LOOK_BACK:]\n",
    "        \n",
    "        for day in data['prices']:\n",
    "            tt.append(day[0]/1000)\n",
    "            P.append(day[1])\n",
    "        df[asset+'_price'] = P\n",
    "        df['timestamp']  = tt\n",
    "    df['timestamp'] = tt\n",
    "    for asset in list(names.keys()):#[:LIMIT]:\n",
    "        \n",
    "        diff_10 = pd.DataFrame(df[asset+'_price'].diff(periods=10) )\n",
    "        change = []\n",
    "        for i in range(10):\n",
    "            change.append('Nan')\n",
    "        for i in range(10,df.shape[0]):\n",
    "            change.append((diff_10.iloc[i][asset+'_price'] / df.iloc[i-10][asset+'_price']) * 100)\n",
    "        df[asset+'_%change(10)'] = change\n",
    "        \n",
    "        diff_1 = pd.DataFrame(df[asset+'_price'].diff(periods=1) )\n",
    "        change = []\n",
    "        for i in range(10):\n",
    "            change.append('Nan')\n",
    "        for i in range(10,df.shape[0]):\n",
    "            change.append((diff_1.iloc[i][asset+'_price'] / df.iloc[i-10][asset+'_price']) * 100)\n",
    "        df[asset+'_%change(1)'] = change        \n",
    "    for key in track.keys():\n",
    "        df[key+'_%change(10)'][:track[key]] = df['WBTC_%change(10)'][:track[key]]\n",
    "\n",
    "    df['date'] = df['timestamp'].apply(lambda x : str(datetime.fromtimestamp(x).date()))\n",
    "    df  = df.iloc[::-1]\n",
    "    df  = df.reset_index()\n",
    "    df = df.drop(['index'], axis=1)\n",
    "\n",
    "    df = df[:-10]\n",
    "\n",
    "    print(\"CHECK POINT \")\n",
    "    return df"
   ]
  },
  {
   "cell_type": "code",
   "execution_count": null,
   "id": "c6e060c8",
   "metadata": {
    "ExecuteTime": {
     "end_time": "2022-01-13T09:16:34.170962Z",
     "start_time": "2022-01-13T09:16:10.798382Z"
    }
   },
   "outputs": [],
   "source": [
    "names = {\"DAI\"  : 'dai',\n",
    "        \"TUSD\"  : 'true-usd',\n",
    "        \"USDC\"  : 'usd-coin',\n",
    "        \"USDT\"  : \"tether\",\n",
    "        \"ETH\"   : \"ethereum\",\n",
    "        \"LINK\"  : \"chainlink\",\n",
    "        \"MKR\"   : \"maker\",\n",
    "        \"UNI\"   : \"uniswap\",\n",
    "        \"WBTC\"  : \"wrapped-bitcoin\",\n",
    "        \"WBTC2\"  : \"wrapped-bitcoin\",\n",
    "        \"SUSHI\" :\"sushi\",  \n",
    "        \"YFI\"   : \"yearn-finance\",\n",
    "        \"AAVE\"  : \"aave\",\n",
    "        \"BAT\"   : \"basic-attention-token\",\n",
    "        \"ZRX\"   : \"0x\",\n",
    "        \"REP\"   : \"augur\",\n",
    "        \"SAI\"   : \"sai\",\n",
    "        }\n",
    "\n",
    "def change():    \n",
    "    columns = []\n",
    "    columns.append('timestamp')\n",
    "    print(names)\n",
    "    for key in list(names.keys()):\n",
    "        columns.append(key+'_price')\n",
    "        columns.append(key+'_%change(10)')\n",
    "    df        = pd.DataFrame(columns = columns)\n",
    "    LOOK_BACK = 375 * 2\n",
    "    #LIMIT     = 5\n",
    "    WBTC      = []\n",
    "    request   = requests.get(\"https://api.coingecko.com/api/v3/coins/\"+ str(names['WBTC'])+ \"/market_chart?vs_currency=usd&days=max&interval=daily\")\n",
    "    data      = request.json()\n",
    "    WBTC      = data['prices']\n",
    "    tt        = []\n",
    "    P         = []\n",
    "    for day in data['prices'][-LOOK_BACK:]:\n",
    "        tt.append(day[0]/1000)\n",
    "        P.append(day[1])\n",
    "    df['WBTC_price'] = P\n",
    "    df['timestamp']  = tt\n",
    "    track = {}\n",
    "    for asset in list(names.keys()):#[:LIMIT]:\n",
    "        if asset == 'WBTC':\n",
    "            continue\n",
    "        print(\"DEBUG 1 \", asset)\n",
    "        request = requests.get(\"https://api.coingecko.com/api/v3/coins/\"+ str(names[asset])+ \"/market_chart?vs_currency=usd&days=max&interval=daily\")\n",
    "        data = request.json()\n",
    "        tt = []\n",
    "        P = []\n",
    "        # print(\"DEBUG 1 \", data)\n",
    "        if len(data['prices']) < LOOK_BACK:\n",
    "            req = LOOK_BACK - len(data['prices'])\n",
    "            addition = WBTC[-LOOK_BACK:  -LOOK_BACK + req ]\n",
    "            data['prices'] = addition + data['prices']\n",
    "            track[asset] = req\n",
    "        else:\n",
    "            data['prices'] = data['prices'][-LOOK_BACK:]\n",
    "\n",
    "        for day in data['prices']:\n",
    "            tt.append(day[0]/1000)\n",
    "            P.append(day[1])\n",
    "        df[asset+'_price'] = P\n",
    "#         df['timestamp']  = tt\n",
    "#     df['timestamp'] = tt\n",
    "    for asset in list(names.keys()):#[:LIMIT]:\n",
    "\n",
    "        diff_10 = pd.DataFrame(df[asset+'_price'].diff(periods=10) )\n",
    "        change = []\n",
    "        for i in range(10):\n",
    "            change.append('Nan')\n",
    "        for i in range(10,df.shape[0]):\n",
    "            change.append((diff_10.iloc[i][asset+'_price'] / df.iloc[i-10][asset+'_price']) * 100)\n",
    "        df[asset+'_%change(10)'] = change\n",
    "\n",
    "        diff_1 = pd.DataFrame(df[asset+'_price'].diff(periods=1) )\n",
    "        change = []\n",
    "        for i in range(10):\n",
    "            change.append('Nan')\n",
    "        for i in range(10,df.shape[0]):\n",
    "            change.append((diff_1.iloc[i][asset+'_price'] / df.iloc[i-10][asset+'_price']) * 100)\n",
    "        df[asset+'_%change(1)'] = change        \n",
    "    for key in track.keys():\n",
    "        df[key+'_%change(10)'][:track[key]] = df['WBTC_%change(10)'][:track[key]]\n",
    "\n",
    "    df['date'] = df['timestamp'].apply(lambda x : str(datetime.fromtimestamp(x).date()))\n",
    "    df  = df.iloc[::-1]\n",
    "    df  = df.reset_index()\n",
    "    df = df.drop(['index'], axis=1)\n",
    "    df = df[:-10]\n",
    "    print(\"CHECK POINT \")\n",
    "    return df[1:]\n",
    "\n",
    "change_df = change()\n",
    "\n",
    "# min_var = 9999999"
   ]
  },
  {
   "cell_type": "code",
   "execution_count": null,
   "id": "9a6a2b48",
   "metadata": {
    "ExecuteTime": {
     "end_time": "2022-01-13T09:16:34.200939Z",
     "start_time": "2022-01-13T09:16:34.172369Z"
    }
   },
   "outputs": [],
   "source": [
    "change_df.head()"
   ]
  },
  {
   "cell_type": "code",
   "execution_count": null,
   "id": "fad72f9d",
   "metadata": {},
   "outputs": [],
   "source": []
  },
  {
   "cell_type": "code",
   "execution_count": null,
   "id": "69c69fa7",
   "metadata": {},
   "outputs": [],
   "source": []
  },
  {
   "cell_type": "code",
   "execution_count": null,
   "id": "d9924716",
   "metadata": {},
   "outputs": [],
   "source": []
  },
  {
   "cell_type": "code",
   "execution_count": null,
   "id": "1a452f15",
   "metadata": {
    "ExecuteTime": {
     "end_time": "2022-01-13T09:16:34.332699Z",
     "start_time": "2022-01-13T09:16:34.202573Z"
    }
   },
   "outputs": [],
   "source": [
    "# !mkdir AAVE_COMPOUND_DATA\n",
    "!mkdir COMPOUND_DATA"
   ]
  },
  {
   "cell_type": "code",
   "execution_count": null,
   "id": "c9fb6a94",
   "metadata": {
    "ExecuteTime": {
     "end_time": "2022-01-13T09:16:34.336380Z",
     "start_time": "2022-01-13T09:16:34.334119Z"
    }
   },
   "outputs": [],
   "source": [
    "# names = {\"DAI\"  : 'dai',\n",
    "#         \"GUSD\"  : 'gemini-dollar',\n",
    "#         # \"SUSD\"  : 'susd',\n",
    "#         \"TUSD\"  : 'true-usd',\n",
    "#         \"USDC\"  : 'usd-coin',\n",
    "#         # \"USDP\"  : 'usdp',\n",
    "#         \"USDT\"  : \"tether\",\n",
    "#         \"BAL\"   : \"balancer\",\n",
    "#         \"WETH\"   : \"ethereum\",\n",
    "#         \"LINK\"  : \"chainlink\",\n",
    "#         \"MKR\"   : \"maker\",\n",
    "#         \"RAI\"   : \"rai\",\n",
    "#         \"UNI\"   : \"uniswap\",\n",
    "#         \"WBTC\"  : \"wrapped-bitcoin\",\n",
    "#         \"XSUSHI\": \"xsushi\",\n",
    "#         \"YFI\"   : \"yearn-finance\",\n",
    "#         \"BUSD\"  : \"binance-usd\",\n",
    "#         \"FEI\"   : \"fei-usd\",\n",
    "#         \"FRAX\"  : \"frax\",\n",
    "#         \"AAVE\"  : \"aave\",\n",
    "#         \"AMPL\"  : \"ampleforth\",\n",
    "#         \"BAT\"   : \"basic-attention-token\",\n",
    "#         \"CRV\"   : \"curve-dao-token\",\n",
    "#         \"DPI\"   : \"defipulse-index\",\n",
    "#         # # \"ENJ\"   : \"enjin-coin\",\n",
    "#         \"KNC\"   : \"kyber-network-crystal\",\n",
    "#         \"MANA\"  : \"decentraland\",\n",
    "#         # \"REN\"   : \"ren\",\n",
    "#         \"RENFIL\": \"renfil\",\n",
    "#         # \"SNX\"   :\"synthetix-network-token\",\n",
    "#         \"ZRX\"   : \"0x\"\n",
    "#         }"
   ]
  },
  {
   "cell_type": "code",
   "execution_count": null,
   "id": "2e8a5402",
   "metadata": {
    "ExecuteTime": {
     "end_time": "2022-01-13T09:16:34.340348Z",
     "start_time": "2022-01-13T09:16:34.337523Z"
    }
   },
   "outputs": [],
   "source": [
    "# requiredDate"
   ]
  },
  {
   "cell_type": "code",
   "execution_count": null,
   "id": "015bd38a",
   "metadata": {
    "ExecuteTime": {
     "end_time": "2022-01-13T09:16:34.345289Z",
     "start_time": "2022-01-13T09:16:34.341553Z"
    }
   },
   "outputs": [],
   "source": [
    "# Compound Tokens\n",
    "names = {\"DAI\"  : 'dai',\n",
    "        \"TUSD\"  : 'true-usd',\n",
    "        \"USDC\"  : 'usd-coin',\n",
    "        \"USDT\"  : \"tether\",\n",
    "        \"ETH\"   : \"ethereum\",\n",
    "        \"LINK\"  : \"chainlink\",\n",
    "        \"MKR\"   : \"maker\",\n",
    "        \"UNI\"   : \"uniswap\",\n",
    "        \"WBTC\"  : \"wrapped-bitcoin\",\n",
    "        \"WBTC2\"  : \"wrapped-bitcoin\",\n",
    "        \"SUSHI\" :\"sushi\", # check -- - - - - -- \n",
    "        \"YFI\"   : \"yearn-finance\",\n",
    "        \"AAVE\"  : \"aave\",\n",
    "        \"BAT\"   : \"basic-attention-token\",\n",
    "        \"ZRX\"   : \"0x\",\n",
    "        \"REP\"   : \"augur\",\n",
    "        \"SAI\"   : \"sai\",\n",
    "        }"
   ]
  },
  {
   "cell_type": "code",
   "execution_count": null,
   "id": "aa661207",
   "metadata": {
    "ExecuteTime": {
     "end_time": "2022-01-13T09:16:45.978627Z",
     "start_time": "2022-01-13T09:16:34.347369Z"
    }
   },
   "outputs": [],
   "source": [
    "ind  = 0 \n",
    "res  = requests.get(\"https://api.compound.finance/api/v2/ctoken\")\n",
    "df   = pd.DataFrame(columns = list(res.json()['cToken'][0].keys()))\n",
    "for ctoken in res.json()['cToken'][3:]:\n",
    "    \n",
    "    print(ctoken['symbol'])\n",
    "    if ctoken['symbol'] == 'cCOMP':\n",
    "        continue\n",
    "\n",
    "    ind += 1\n",
    "    for key in ctoken.keys():\n",
    "        try:\n",
    "            df.at[ind,key ] = ctoken[key]['value']\n",
    "        except:\n",
    "            df.at[ind,key ] = ctoken[key]\n",
    "\n",
    "    \n",
    "\n",
    "    address   = ctoken['token_address']\n",
    "\n",
    "    request   = requests.get(\"https://api.coingecko.com/api/v3/coins/\"+ str(names[ctoken['symbol'][1:]])+ \"/market_chart?vs_currency=usd&days=max&interval=daily\")\n",
    "    prices_df = pd.DataFrame(columns=['timestamp', 'price'])\n",
    "    timestamp = []\n",
    "    prices    = []\n",
    "\n",
    "    for req in request.json()['prices']:\n",
    "        timestamp.append(int(float(req[0])/1000))\n",
    "        prices.append(req[1])\n",
    "\n",
    "    prices_df['timestamp'] = timestamp\n",
    "    prices_df['price']     = prices\n",
    "\n",
    "    date= []\n",
    "    for time in timestamp:\n",
    "        date.append(datetime.fromtimestamp(time).strftime('%Y-%m-%d'))\n",
    "    prices_df['date']  = date"
   ]
  },
  {
   "cell_type": "code",
   "execution_count": null,
   "id": "f0bb3cb3",
   "metadata": {
    "ExecuteTime": {
     "end_time": "2022-01-13T09:16:45.991558Z",
     "start_time": "2022-01-13T09:16:45.980803Z"
    }
   },
   "outputs": [],
   "source": [
    "prices_df"
   ]
  },
  {
   "cell_type": "code",
   "execution_count": null,
   "id": "227f8100",
   "metadata": {
    "ExecuteTime": {
     "end_time": "2022-01-13T09:16:45.997215Z",
     "start_time": "2022-01-13T09:16:45.993078Z"
    }
   },
   "outputs": [],
   "source": [
    "requiredDate\n",
    "datetime.strptime(requiredDate, '%m-%d-%Y').strftime('%Y-%m-%d')"
   ]
  },
  {
   "cell_type": "code",
   "execution_count": null,
   "id": "92a4f2b8",
   "metadata": {
    "ExecuteTime": {
     "end_time": "2022-01-13T09:16:46.991679Z",
     "start_time": "2022-01-13T09:16:45.999263Z"
    }
   },
   "outputs": [],
   "source": [
    "res  = requests.get(\"https://api.compound.finance/api/v2/ctoken\")\n",
    "list(res.json()['cToken'][0])"
   ]
  },
  {
   "cell_type": "code",
   "execution_count": null,
   "id": "e3f96b2d",
   "metadata": {
    "ExecuteTime": {
     "end_time": "2022-01-13T09:18:59.159802Z",
     "start_time": "2022-01-13T09:16:46.993124Z"
    }
   },
   "outputs": [],
   "source": [
    "ind  = 0 \n",
    "res  = requests.get(\"https://api.compound.finance/api/v2/ctoken\")\n",
    "df   = pd.DataFrame(columns = list(res.json()['cToken'][0].keys()))\n",
    "# MASTER_DATE = '2021-12-20'\n",
    "MASTER_DATE = datetime.strptime(requiredDate, '%m-%d-%Y').strftime('%Y-%m-%d')\n",
    "for ctoken in res.json()['cToken']:\n",
    "    try:\n",
    "        ind += 1\n",
    "        for key in ctoken.keys():\n",
    "            try:\n",
    "                df.at[ind,key ] = ctoken[key]['value']\n",
    "            except:\n",
    "                df.at[ind,key ] = ctoken[key]\n",
    "\n",
    "\n",
    "        address   = ctoken['token_address']\n",
    "\n",
    "        request   = requests.get(\"https://api.coingecko.com/api/v3/coins/\"+ str(names[ctoken['symbol'][1:]])+ \"/market_chart?vs_currency=usd&days=max&interval=daily\")\n",
    "        prices_df = pd.DataFrame(columns=['timestamp', 'price'])\n",
    "        timestamp = []\n",
    "        prices    = []\n",
    "\n",
    "        for req in request.json()['prices']:\n",
    "            timestamp.append(int(float(req[0])/1000))\n",
    "            prices.append(req[1])\n",
    "\n",
    "        prices_df['timestamp'] = timestamp\n",
    "        prices_df['price']     = prices\n",
    "\n",
    "        date= []\n",
    "        for time in timestamp:\n",
    "            date.append(datetime.fromtimestamp(time).strftime('%Y-%m-%d'))\n",
    "        prices_df['date']  = date\n",
    "\n",
    "#         datestamp = '2021-12-14'\n",
    "        datestamp = MASTER_DATE\n",
    "        max_timstamp = int(datetime.strptime(datestamp, '%Y-%m-%d').timestamp()) + 86400\n",
    "        SUPPLY_DF = pd.DataFrame(columns=['block_number', 'block_timestamp','value'])\n",
    "        BORROW_DF = pd.DataFrame(columns=['block_number', 'block_timestamp','value'])\n",
    "        DF = pd.DataFrame()\n",
    "        BIND = 0\n",
    "        SIND = 0\n",
    "        for _ in range(5):\n",
    "            min_timestamp = max_timstamp  -  30 * 86400 \n",
    "            res = requests.get(\"https://api.compound.finance/api/v2/market_history/graph?asset=%s&min_block_timestamp=%s&max_block_timestamp=%s&num_buckets=50\" % ( address,min_timestamp, max_timstamp));    \n",
    "            max_timstamp = max_timstamp   - 30 * 86400 \n",
    "            temp = res.json()\n",
    "\n",
    "\n",
    "            for tem in temp['total_borrows_history']:\n",
    "                BORROW_DF.loc[BIND] = [tem['block_number']] + [tem['block_timestamp']] + [tem['total']['value']]                     \n",
    "                BIND += 1\n",
    "\n",
    "\n",
    "            for tem in temp['total_supply_history']:\n",
    "                SUPPLY_DF.loc[SIND] = [tem['block_number']] + [tem['block_timestamp']] + [tem['total']['value']]\n",
    "                SIND += 1                      \n",
    "\n",
    "\n",
    "            print(\"***\")\n",
    "\n",
    "        BORROW_DF = BORROW_DF.sort_values(['block_timestamp'])\n",
    "        BORROW_DF['DATE'] = BORROW_DF['block_timestamp'].apply(lambda x: datetime.fromtimestamp(x).date())\n",
    "        BORROW_DF.drop_duplicates(subset = ['DATE'], keep = 'first', inplace = True)\n",
    "        SUPPLY_DF = SUPPLY_DF.sort_values(['block_timestamp'])\n",
    "        SUPPLY_DF['DATE'] = SUPPLY_DF['block_timestamp'].apply(lambda x: datetime.fromtimestamp(x).date())\n",
    "        SUPPLY_DF.drop_duplicates(subset = ['DATE'], keep = 'first', inplace = True)\n",
    "\n",
    "        SUPPLY_DF['supply_tokens'] = pd.to_numeric(SUPPLY_DF['value']) *  float(temp['exchange_rates'][-1]['rate'])\n",
    "\n",
    "\n",
    "        BORROW_DF = BORROW_DF[::-1]\n",
    "        SUPPLY_DF = SUPPLY_DF[::-1]\n",
    "        DF['timestamp']    = BORROW_DF['block_timestamp']\n",
    "        DF['BORROW']       = BORROW_DF['value']\n",
    "        DF['SUPPLY']       = SUPPLY_DF['supply_tokens']\n",
    "        DF['DATE']         = BORROW_DF['DATE']\n",
    "        DF['SUPPLY_VALUE'] = SUPPLY_DF['value']\n",
    "\n",
    "\n",
    "        assigned_price = []\n",
    "        for indW in DF['DATE'] :\n",
    "            a = prices_df[prices_df['date']==str(indW)]\n",
    "            assigned_price.append(a['price'].values[0])\n",
    "\n",
    "        DF['prices'] = assigned_price\n",
    "\n",
    "        DF['total_supply'] =  DF['SUPPLY'] * DF['prices']\n",
    "        DF['total_borrow'] =  pd.to_numeric(DF['BORROW']) * pd.to_numeric(DF['prices'])\n",
    "        DF['POSITION']     =  DF['total_borrow'] - DF['total_supply']\n",
    "        DF['POSITION($)']  =  DF['POSITION'] / pow(10,9)\n",
    "        DF.to_csv('COMPOUND_DATA/DF_'+ctoken['symbol'][1:] + '.csv')\n",
    "\n",
    "\n",
    "\n",
    "        print(\"**********************\", DF.shape)\n",
    "    except Exception as e:\n",
    "        print(\"ERROR \", e, ctoken['symbol'])\n",
    "    "
   ]
  },
  {
   "cell_type": "code",
   "execution_count": null,
   "id": "b6354cec",
   "metadata": {
    "ExecuteTime": {
     "end_time": "2022-01-13T09:18:59.166665Z",
     "start_time": "2022-01-13T09:18:59.161570Z"
    }
   },
   "outputs": [],
   "source": [
    "fils = os.listdir('COMPOUND_DATA/')"
   ]
  },
  {
   "cell_type": "code",
   "execution_count": null,
   "id": "17f41c80",
   "metadata": {
    "ExecuteTime": {
     "end_time": "2022-01-13T09:18:59.175825Z",
     "start_time": "2022-01-13T09:18:59.170012Z"
    }
   },
   "outputs": [],
   "source": [
    "cols = []\n",
    "for fil in fils:\n",
    "    try:\n",
    "        aa = fil.split('.')[0].split('_')\n",
    "    #     print(aa[1])\n",
    "        cols.append(aa[1])\n",
    "    except:\n",
    "        pass"
   ]
  },
  {
   "cell_type": "code",
   "execution_count": null,
   "id": "addc2fe0",
   "metadata": {
    "ExecuteTime": {
     "end_time": "2022-01-13T09:18:59.260518Z",
     "start_time": "2022-01-13T09:18:59.177843Z"
    }
   },
   "outputs": [],
   "source": [
    "FINAL ={}\n",
    "for key in cols:\n",
    "    try:\n",
    "        df = pd.read_csv('COMPOUND_DATA/'+'DF_'+key+'.csv')\n",
    "        df = df.sort_values(['timestamp'])\n",
    "#         print(df.head())\n",
    "        df = df[::-1]\n",
    "        FINAL[key] = {'Assets': df['POSITION($)'],\n",
    "                      'date':df['DATE'],\n",
    "                      'MARKET':df['total_supply'],\n",
    "                      'BORROW':df['total_borrow']\n",
    "                     }\n",
    "    \n",
    "    except Exception as e:\n",
    "        print(e, key)\n"
   ]
  },
  {
   "cell_type": "code",
   "execution_count": null,
   "id": "b6efbb17",
   "metadata": {
    "ExecuteTime": {
     "end_time": "2022-01-13T09:18:59.263946Z",
     "start_time": "2022-01-13T09:18:59.261716Z"
    }
   },
   "outputs": [],
   "source": [
    "ff = []\n",
    "for f in FINAL['ETH']['date']:\n",
    "    ff.append(f)"
   ]
  },
  {
   "cell_type": "code",
   "execution_count": null,
   "id": "da4eb32c",
   "metadata": {
    "ExecuteTime": {
     "end_time": "2022-01-13T09:18:59.272162Z",
     "start_time": "2022-01-13T09:18:59.265578Z"
    }
   },
   "outputs": [],
   "source": [
    "FINAL[\"AAVE\"][\"date\"]"
   ]
  },
  {
   "cell_type": "code",
   "execution_count": null,
   "id": "248c0f07",
   "metadata": {
    "ExecuteTime": {
     "end_time": "2022-01-13T09:18:59.489093Z",
     "start_time": "2022-01-13T09:18:59.273801Z"
    }
   },
   "outputs": [],
   "source": [
    "FINAL_DF = pd.DataFrame(columns= cols)\n",
    "ind = 0\n",
    "for i in range(100):\n",
    "    assets = []\n",
    "    for col in cols:\n",
    "        try:\n",
    "            assets.append(FINAL[col]['Assets'][i])\n",
    "        except:\n",
    "            assets.append([])\n",
    "    \n",
    "    FINAL_DF.loc[ind] = assets\n",
    "    ind += 1"
   ]
  },
  {
   "cell_type": "code",
   "execution_count": null,
   "id": "4ba6b810",
   "metadata": {
    "ExecuteTime": {
     "end_time": "2022-01-13T09:18:59.495905Z",
     "start_time": "2022-01-13T09:18:59.490534Z"
    }
   },
   "outputs": [],
   "source": [
    "FINAL_DF['DATE'] = ff[:100]\n",
    "FINAL_DF['timestamp'] = FINAL_DF['DATE'].apply(lambda x: pd.Timestamp(x).timestamp())\n",
    "FINAL_DF = FINAL_DF.sort_values('timestamp')\n",
    "FINAL_DF = FINAL_DF[::-1]"
   ]
  },
  {
   "cell_type": "code",
   "execution_count": null,
   "id": "5defbd64",
   "metadata": {
    "ExecuteTime": {
     "end_time": "2022-01-13T09:18:59.517507Z",
     "start_time": "2022-01-13T09:18:59.497134Z"
    }
   },
   "outputs": [],
   "source": [
    "# Assets for Compound Datewise\n",
    "FINAL_DF"
   ]
  },
  {
   "cell_type": "code",
   "execution_count": null,
   "id": "71940095",
   "metadata": {
    "ExecuteTime": {
     "end_time": "2022-01-13T09:18:59.554687Z",
     "start_time": "2022-01-13T09:18:59.519496Z"
    }
   },
   "outputs": [],
   "source": [
    "change_df"
   ]
  },
  {
   "cell_type": "code",
   "execution_count": null,
   "id": "3800ab78",
   "metadata": {
    "ExecuteTime": {
     "end_time": "2022-01-13T09:19:05.973169Z",
     "start_time": "2022-01-13T09:18:59.556836Z"
    }
   },
   "outputs": [],
   "source": [
    "VAR = []\n",
    "VAR_DATE = []\n",
    "for ind, ROW in enumerate(FINAL_DF.iterrows()):\n",
    "    REQUIRED_10 = []\n",
    "    for required_row in change_df[ind:ind+365].iterrows():\n",
    "        SUM_10 = []\n",
    "        for key in ROW[1].keys()[:-3]:\n",
    "            if key == 'WBTC2':\n",
    "                key = 'WBTC'\n",
    "            if isinstance(ROW[1][key], list):\n",
    "                ROW[1][key] = 0\n",
    "            SUM_10.append((float(ROW[1][key]) * required_row[1][key+'_%change(10)'])/100)\n",
    "        REQUIRED_10.append(sum(SUM_10))\n",
    "    VAR.append(sorted(REQUIRED_10, key=float)[3])\n",
    "    VAR_DATE.append(change_df[ind:ind+365].at[REQUIRED_10.index(sorted(REQUIRED_10, key=float)[3]) + ind, 'date'])"
   ]
  },
  {
   "cell_type": "code",
   "execution_count": null,
   "id": "8e4f3116",
   "metadata": {
    "ExecuteTime": {
     "end_time": "2022-01-13T09:19:05.982789Z",
     "start_time": "2022-01-13T09:19:05.974548Z"
    }
   },
   "outputs": [],
   "source": [
    "BORROW_DF"
   ]
  },
  {
   "cell_type": "code",
   "execution_count": null,
   "id": "afd80aeb",
   "metadata": {
    "ExecuteTime": {
     "end_time": "2022-01-13T09:19:05.989078Z",
     "start_time": "2022-01-13T09:19:05.985178Z"
    }
   },
   "outputs": [],
   "source": [
    "# VAR_DATE"
   ]
  },
  {
   "cell_type": "code",
   "execution_count": null,
   "id": "562108ee",
   "metadata": {
    "ExecuteTime": {
     "end_time": "2022-01-13T09:19:05.997649Z",
     "start_time": "2022-01-13T09:19:05.992220Z"
    }
   },
   "outputs": [],
   "source": [
    "FINAL_DF[\"DATE\"]"
   ]
  },
  {
   "cell_type": "code",
   "execution_count": null,
   "id": "ca36fa32",
   "metadata": {},
   "outputs": [],
   "source": []
  },
  {
   "cell_type": "code",
   "execution_count": null,
   "id": "46eb3626",
   "metadata": {},
   "outputs": [],
   "source": []
  },
  {
   "cell_type": "code",
   "execution_count": null,
   "id": "f17d9c12",
   "metadata": {
    "ExecuteTime": {
     "end_time": "2022-01-13T09:19:06.002203Z",
     "start_time": "2022-01-13T09:19:05.999032Z"
    }
   },
   "outputs": [],
   "source": [
    "# Sample Final Res Columns\n",
    "resultDf.columns"
   ]
  },
  {
   "cell_type": "code",
   "execution_count": null,
   "id": "390658c1",
   "metadata": {
    "ExecuteTime": {
     "end_time": "2022-01-13T09:19:06.004967Z",
     "start_time": "2022-01-13T09:19:06.003310Z"
    }
   },
   "outputs": [],
   "source": [
    "# resultDf"
   ]
  },
  {
   "cell_type": "code",
   "execution_count": null,
   "id": "cc930963",
   "metadata": {
    "ExecuteTime": {
     "end_time": "2022-01-13T09:19:06.009692Z",
     "start_time": "2022-01-13T09:19:06.006198Z"
    }
   },
   "outputs": [],
   "source": [
    "FINAL_DF.columns[:-2][0]"
   ]
  },
  {
   "cell_type": "code",
   "execution_count": null,
   "id": "7453c046",
   "metadata": {
    "ExecuteTime": {
     "end_time": "2022-01-13T09:19:06.014928Z",
     "start_time": "2022-01-13T09:19:06.011320Z"
    }
   },
   "outputs": [],
   "source": [
    "requiredDate"
   ]
  },
  {
   "cell_type": "code",
   "execution_count": null,
   "id": "5846f4ee",
   "metadata": {
    "ExecuteTime": {
     "end_time": "2022-01-13T09:19:06.021166Z",
     "start_time": "2022-01-13T09:19:06.016634Z"
    }
   },
   "outputs": [],
   "source": [
    "FINAL_DF[\"AAVE\"].loc[0]"
   ]
  },
  {
   "cell_type": "code",
   "execution_count": null,
   "id": "cadb87ef",
   "metadata": {
    "ExecuteTime": {
     "end_time": "2022-01-13T09:19:06.026503Z",
     "start_time": "2022-01-13T09:19:06.022734Z"
    }
   },
   "outputs": [],
   "source": [
    "VAR_DATE[0]"
   ]
  },
  {
   "cell_type": "code",
   "execution_count": null,
   "id": "7970175a",
   "metadata": {
    "ExecuteTime": {
     "end_time": "2022-01-13T09:19:06.032930Z",
     "start_time": "2022-01-13T09:19:06.027999Z"
    }
   },
   "outputs": [],
   "source": [
    "idx = change_df.index[change_df['date'] == str(VAR_DATE[0])]\n",
    "priceChangeVARDATE = change_df.loc[idx]"
   ]
  },
  {
   "cell_type": "code",
   "execution_count": null,
   "id": "353d5199",
   "metadata": {
    "ExecuteTime": {
     "end_time": "2022-01-13T09:19:06.052552Z",
     "start_time": "2022-01-13T09:19:06.034943Z"
    }
   },
   "outputs": [],
   "source": [
    "priceChangeVARDATE"
   ]
  },
  {
   "cell_type": "code",
   "execution_count": null,
   "id": "2e94b1e8",
   "metadata": {
    "ExecuteTime": {
     "end_time": "2022-01-13T09:19:35.804133Z",
     "start_time": "2022-01-13T09:19:35.757484Z"
    }
   },
   "outputs": [],
   "source": [
    "idx = change_df.index[change_df['date'] == str(VAR_DATE[0])]\n",
    "priceChangeVARDATE = change_df.loc[idx]\n",
    "    \n",
    "for token in list(FINAL_DF.columns[:-2]):\n",
    "    try:\n",
    "#         print(token)\n",
    "        temp = []\n",
    "        \n",
    "        temp.append(\"COMPOUND\")\n",
    "        temp.append(str(token))\n",
    "        temp.append(float(FINAL_DF[token].loc[0]*pow(10,9)))\n",
    "        temp.append(float(FINAL_DF[token].loc[0]))\n",
    "        temp.append(priceChangeVARDATE[token+\"_%change(10)\"].iloc[0])\n",
    "        temp.append(float(-1 * float(FINAL_DF[token].loc[0]) * float(priceChangeVARDATE[token+\"_%change(10)\"].iloc[0])))\n",
    "        \n",
    "        # Add the values to the latest row\n",
    "        df_length = len(resultDf)\n",
    "        resultDf.loc[df_length] = temp\n",
    "        \n",
    "    except:\n",
    "        print(\"Exception occured for the token: \"+str(token))\n",
    "# print(temp)"
   ]
  },
  {
   "cell_type": "code",
   "execution_count": null,
   "id": "ee67229e",
   "metadata": {
    "ExecuteTime": {
     "end_time": "2022-01-13T09:19:44.658798Z",
     "start_time": "2022-01-13T09:19:44.646700Z"
    }
   },
   "outputs": [],
   "source": [
    "resultDf"
   ]
  },
  {
   "cell_type": "code",
   "execution_count": null,
   "id": "0a5cf87d",
   "metadata": {
    "ExecuteTime": {
     "end_time": "2022-01-13T09:19:45.211629Z",
     "start_time": "2022-01-13T09:19:45.203052Z"
    }
   },
   "outputs": [],
   "source": [
    "resultDf.to_csv(str(requiredDate)+\"_AAVE_COMPOUND_VAR.csv\", index=False)"
   ]
  },
  {
   "cell_type": "code",
   "execution_count": null,
   "id": "29c22452",
   "metadata": {
    "ExecuteTime": {
     "end_time": "2022-01-13T09:19:06.067853Z",
     "start_time": "2022-01-13T18:08:44.852Z"
    }
   },
   "outputs": [],
   "source": [
    "\n",
    "# # for token in aaveV2Res[\"Token\"]:\n",
    "# for idx, row in aaveV2Res.iterrows():\n",
    "#     try:\n",
    "#         temp = []\n",
    "        \n",
    "#         temp.append(\"AAVE\")\n",
    "#         temp.append(str(aaveV2Res[\"Token\"][idx]))\n",
    "#         temp.append(aaveV2Res[\"Position\"][idx])\n",
    "#         temp.append(aaveV2Res[\"Position($,Billion)\"][idx])\n",
    "#         temp.append(priceChangeVARDATE[str(aaveV2Res[\"Token\"][idx])+\"_%change(10)\"].iloc[0])\n",
    "#         temp.append(float(-1 * float(aaveV2Res[\"Position($,Billion)\"][idx]) * float(priceChangeVARDATE[str(aaveV2Res[\"Token\"][idx])+\"_%change(10)\"].iloc[0])))\n",
    "        \n",
    "        \n",
    "        \n",
    "#         # Add the values to the latest row\n",
    "#         df_length = len(resultDf)\n",
    "#         resultDf.loc[df_length] = temp\n",
    "        \n",
    "#     except:\n",
    "#         print(\"Exception occured for the token: \"+str(token))\n",
    "\n",
    "# # print(temp)"
   ]
  },
  {
   "cell_type": "code",
   "execution_count": null,
   "id": "2f8788fa",
   "metadata": {
    "ExecuteTime": {
     "end_time": "2022-01-13T09:19:06.068358Z",
     "start_time": "2022-01-13T18:08:45.032Z"
    }
   },
   "outputs": [],
   "source": [
    "# idx = FINAL_DF.index[FINAL_DF['DATE'] == MASTER_DATE].tolist\n",
    "# print(idx)\n",
    "# # COMPpriceChangeVARDATE = FINAL_DF.loc[idx]"
   ]
  },
  {
   "cell_type": "code",
   "execution_count": null,
   "id": "b9f04a25",
   "metadata": {
    "ExecuteTime": {
     "end_time": "2022-01-13T09:19:06.068856Z",
     "start_time": "2022-01-13T18:08:45.219Z"
    }
   },
   "outputs": [],
   "source": [
    "# FINAL_DF.index[FINAL_DF['DATE'] == MASTER_DATE]"
   ]
  },
  {
   "cell_type": "code",
   "execution_count": null,
   "id": "cf424193",
   "metadata": {
    "ExecuteTime": {
     "end_time": "2022-01-13T09:19:06.069370Z",
     "start_time": "2022-01-13T18:08:45.412Z"
    }
   },
   "outputs": [],
   "source": [
    "# FINAL_DF[\"DATE\"]"
   ]
  },
  {
   "cell_type": "code",
   "execution_count": null,
   "id": "e5313057",
   "metadata": {
    "ExecuteTime": {
     "end_time": "2022-01-13T09:19:06.070099Z",
     "start_time": "2022-01-13T18:08:45.598Z"
    }
   },
   "outputs": [],
   "source": [
    "# MASTER_DATE"
   ]
  },
  {
   "cell_type": "code",
   "execution_count": null,
   "id": "edcfbb43",
   "metadata": {},
   "outputs": [],
   "source": []
  },
  {
   "cell_type": "code",
   "execution_count": null,
   "id": "8407dc79",
   "metadata": {},
   "outputs": [],
   "source": []
  }
 ],
 "metadata": {
  "kernelspec": {
   "display_name": "Python 3 (ipykernel)",
   "language": "python",
   "name": "python3"
  },
  "language_info": {
   "codemirror_mode": {
    "name": "ipython",
    "version": 3
   },
   "file_extension": ".py",
   "mimetype": "text/x-python",
   "name": "python",
   "nbconvert_exporter": "python",
   "pygments_lexer": "ipython3",
   "version": "3.7.11"
  }
 },
 "nbformat": 4,
 "nbformat_minor": 5
}
