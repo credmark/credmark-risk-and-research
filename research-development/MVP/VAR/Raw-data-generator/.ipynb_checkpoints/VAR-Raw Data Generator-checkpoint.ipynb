{
 "cells": [
  {
   "cell_type": "code",
   "execution_count": 1,
   "id": "626c4220",
   "metadata": {
    "ExecuteTime": {
     "end_time": "2022-01-18T11:04:00.596978Z",
     "start_time": "2022-01-18T11:03:59.974762Z"
    }
   },
   "outputs": [],
   "source": [
    "# Import packages\n",
    "import os\n",
    "import sys\n",
    "import random\n",
    "import time\n",
    "from datetime import datetime\n",
    "\n",
    "\n",
    "import pandas as pd\n",
    "import requests\n"
   ]
  },
  {
   "cell_type": "markdown",
   "id": "fc8b30c9",
   "metadata": {},
   "source": [
    "#### 1. Price Change data - using Coingecko"
   ]
  },
  {
   "cell_type": "code",
   "execution_count": 2,
   "id": "39522e6c",
   "metadata": {
    "ExecuteTime": {
     "end_time": "2022-01-18T11:04:00.601004Z",
     "start_time": "2022-01-18T11:04:00.598280Z"
    }
   },
   "outputs": [],
   "source": [
    "# Master Date for which the data is required (only applies to position data for protocols)\n",
    "# As price change data is taken for all the available period by default\n",
    "requiredDate = \"01-09-2022\" # in mm-dd-yyyy format\n",
    "# reqDate = datetime.strptime(_date, '%m-%d-%Y').strftime('%Y-%m-%d')"
   ]
  },
  {
   "cell_type": "code",
   "execution_count": 3,
   "id": "34db76ac",
   "metadata": {
    "ExecuteTime": {
     "end_time": "2022-01-18T11:04:00.606924Z",
     "start_time": "2022-01-18T11:04:00.603009Z"
    },
    "code_folding": [
     2
    ]
   },
   "outputs": [],
   "source": [
    "# Tokens for which the prices are fetched\n",
    "# Coingecko Mapping for each token name to fetch historical prices\n",
    "coingecko_token_names = {\"DAI\"  : 'dai',\n",
    "        \"GUSD\"  : 'gemini-dollar',\n",
    "        \"SUSD\"  : 'susd',\n",
    "        \"TUSD\"  : 'true-usd',\n",
    "        \"USDC\"  : 'usd-coin',\n",
    "        \"USDP\"  : 'usdp',\n",
    "        \"USDT\"  : \"tether\",\n",
    "        \"BAL\"   : \"balancer\",\n",
    "        \"WETH\"   : \"ethereum\",\n",
    "        \"LINK\"  : \"chainlink\",\n",
    "        \"MKR\"   : \"maker\",\n",
    "        \"RAI\"   : \"rai\",\n",
    "        \"UNI\"   : \"uniswap\",\n",
    "        \"WBTC\"  : \"wrapped-bitcoin\",\n",
    "        \"XSUSHI\": \"xsushi\",\n",
    "        \"YFI\"   : \"yearn-finance\",\n",
    "        \"BUSD\"  : \"binance-usd\",\n",
    "        \"FEI\"   : \"fei-usd\",\n",
    "        \"FRAX\"  : \"frax\",\n",
    "        \"AAVE\"  : \"aave\",\n",
    "        \"AMPL\"  : \"ampleforth\",\n",
    "        \"BAT\"   : \"basic-attention-token\",\n",
    "        \"CRV\"   : \"curve-dao-token\",\n",
    "        \"DPI\"   : \"defipulse-index\",\n",
    "        \"ENJ\"   : \"enjin-coin\",\n",
    "        \"KNC\"   : \"kyber-network-crystal\",\n",
    "        \"MANA\"  : \"decentraland\",\n",
    "        \"REN\"   : \"ren\",\n",
    "        \"RENFIL\": \"renfil\",\n",
    "        \"SNX\"   :\"synthetix-network-token\",\n",
    "        \"ZRX\"   : \"0x\"\n",
    "        }"
   ]
  },
  {
   "cell_type": "markdown",
   "id": "39f5500d",
   "metadata": {},
   "source": [
    "##### Utility Methods"
   ]
  },
  {
   "cell_type": "code",
   "execution_count": 4,
   "id": "11ae78cc",
   "metadata": {
    "ExecuteTime": {
     "end_time": "2022-01-18T11:04:00.613557Z",
     "start_time": "2022-01-18T11:04:00.608743Z"
    },
    "code_folding": [
     1
    ]
   },
   "outputs": [],
   "source": [
    "# Coingecko data fetcher\n",
    "def getCoinGeckoHistoricalData(_token):\n",
    "    '''\n",
    "        Fetches the histroical data from Coingecko for a particular token\n",
    "        Args::\n",
    "            _token(str): Token Symbol (actual token will be fetched from token_names dictionary)\n",
    "        Returns::\n",
    "            _resDf(pandas dataframe): Returns the dates (yyyy-mm-dd) and prices (USD) in a dataframe\n",
    "    '''\n",
    "    try:\n",
    "        # Making the coingecko historical API request\n",
    "        coinGeckoTokenCall = coingecko_token_names[_token]\n",
    "        request   = requests.get(\"https://api.coingecko.com/api/v3/coins/\"+ str(coinGeckoTokenCall)+ \"/market_chart?vs_currency=usd&days=max&interval=daily\")\n",
    "        # Converting the result to JSON\n",
    "        resJSON = request.json()\n",
    "        # Creating empty dataframe\n",
    "        resDf = pd.DataFrame(resJSON['prices'], columns = [\"timestamp\", \"price\"])\n",
    "        # We divide by 1000 to convert the default milliseconds from CoinGecko to seconds\n",
    "        # Get the human readable date from timestamp\n",
    "        resDf['timestamp'] = resDf['timestamp'].apply(lambda x: str(datetime.fromtimestamp(x/1000).date()))\n",
    "        # Return the resultant dataframe\n",
    "        return resDf\n",
    "    except Exception as e:\n",
    "        print(\"Exception occured while fetching Coingecko Data\")\n",
    "        return str(e)"
   ]
  },
  {
   "cell_type": "code",
   "execution_count": 5,
   "id": "27167505",
   "metadata": {
    "ExecuteTime": {
     "end_time": "2022-01-18T11:04:00.621420Z",
     "start_time": "2022-01-18T11:04:00.614999Z"
    },
    "code_folding": [
     1
    ]
   },
   "outputs": [],
   "source": [
    "# AAVE V2 data for a particular date\n",
    "def aaveV2HistoricalData(_date):\n",
    "    '''\n",
    "        Fetches the histroical data from Coingecko for a particular token\n",
    "        \n",
    "        \n",
    "        Args::\n",
    "            _date(str): date for which data is needed in (%m-%d-%Y) format\n",
    "            \n",
    "        Returns::\n",
    "            _resDf(pandas dataframe): Token, CurrentPrice, availableLiquidity, decimals,\n",
    "                                        totalLiquidity, utilizationRate, Assets\n",
    "    '''\n",
    "    \n",
    "    try:\n",
    "        # Starting Index\n",
    "        ind = 0\n",
    "        \n",
    "        # Calling the Aave V2\n",
    "        aaveV2res = requests.get('https://aave-api-v2.aave.com/data/liquidity/v2?poolId=0xb53c1a33016b2dc2ff3653530bff1848a515c8c5&date='+_date).json()\n",
    "        resDf = pd.DataFrame(columns=['Token', 'CurrentPrice', 'availableLiquidity','decimals', 'totalLiquidity','utilizationRate','Assets'])\n",
    "        \n",
    "        # Iterating through tokens in AaveV2 API\n",
    "        for token in aaveV2res:\n",
    "            try:\n",
    "                resDf.loc[ind] = [token['symbol']] + [float(token['referenceItem']['priceInUsd'])] + \\\n",
    "                                [float(token['availableLiquidity'])] + [float(token['decimals'])]+ \\\n",
    "                                [float(token['totalLiquidity'])]+ [float(token['referenceItem']['utilizationRate'])] + \\\n",
    "                                [float(token['totalDebt'])]\n",
    "\n",
    "                ind += 1\n",
    "\n",
    "            except Exception as e:\n",
    "                print(\"**\", token, e) #str(asset), str(price_mean), str(price_std), str(cap_mean),str(cap_std), str(vol_mean) , str(vol_std))  \n",
    "    #             errors.append(token)\n",
    "                # transactionResponse[\"error\"] = True\n",
    "                print(\"Exception occured while fetching Aave V2 Token wise Data\")\n",
    "                return str(e)\n",
    "\n",
    "\n",
    "        # totalLiquidity == Market\n",
    "        resDf['totalLiquidity']       = resDf['totalLiquidity'] * resDf['CurrentPrice']\n",
    "        resDf['Assets']               = resDf['Assets'] * resDf['CurrentPrice']\n",
    "        resDf['Position']             = resDf['Assets'] - resDf['totalLiquidity']\n",
    "        resDf['Position($,Billion)']  = resDf['Position'] / pow(10, 9)\n",
    "\n",
    "\n",
    "        # Return the resultant dataframe\n",
    "        return resDf\n",
    "        \n",
    "    except Exception as e:\n",
    "        print(\"Exception occured while fetching Aave V2 API Data\")\n",
    "        return str(e)"
   ]
  },
  {
   "cell_type": "code",
   "execution_count": 6,
   "id": "6c2ca438",
   "metadata": {
    "ExecuteTime": {
     "end_time": "2022-01-18T11:04:00.636524Z",
     "start_time": "2022-01-18T11:04:00.622822Z"
    },
    "code_folding": [
     1,
     38
    ]
   },
   "outputs": [],
   "source": [
    "# Price Change Data\n",
    "def priceDataChange():\n",
    "    \n",
    "    # Data Columns to be added in the datafram\n",
    "    columns = []\n",
    "    # Timestamp columns \n",
    "    columns.append('timestamp')\n",
    "    \n",
    "    # Iterating through coingecko token coingecko_token_names\n",
    "    for key in list(coingecko_token_names.keys()):\n",
    "        # adding price and 10 day change coloumn for each token by iterating over dict\n",
    "        columns.append(key+'_price')\n",
    "        columns.append(key+'_%change(10)')\n",
    "\n",
    "    priceChangeDF   = pd.DataFrame(columns = columns)\n",
    "    \n",
    "    # 2 Year Look back\n",
    "    LOOK_BACK = 375 * 2\n",
    "    #caching WBTC Price first as it will be used to extrapolate for tokens which does not historical data for a period\n",
    "    coingecko_data      = requests.get(\"https://api.coingecko.com/api/v3/coins/\"+ str(coingecko_token_names['WBTC'])+ \"/market_chart?vs_currency=usd&days=max&interval=daily\").json()\n",
    "    #Storing WBTC Prices\n",
    "    WBTC      = coingecko_data['prices']\n",
    "    time_list = []\n",
    "    price_list= []\n",
    "    # Selecting only 2 years of data. \n",
    "    # As prices are in acsending order based on time, latest 2 years are latest LOOK_BACK values\n",
    "    for day in coingecko_data['prices'][-LOOK_BACK:]:\n",
    "        # day = [timestamp, price at that timestamp]\n",
    "        #As coingecko gives timestampin milliseconds, divinding it by 1000 to convert into Seconds to convert it back to date.\n",
    "        time_list.append(day[0]/1000)\n",
    "        price_list.append(day[1])\n",
    "    \n",
    "    # Appending WBTC prices and timestamp to dataframe.\n",
    "    priceChangeDF['WBTC_price'] = price_list\n",
    "    priceChangeDF['timestamp']  = time_list\n",
    "\n",
    "    #Variable to keep track of period of extrapolated data for each token to use to replace percent change too.\n",
    "    track = {}\n",
    "    for asset in list(coingecko_token_names.keys()):#[:LIMIT]:\n",
    "        if asset == 'WBTC':\n",
    "            # Skipping WBTC as it's being cached\n",
    "            continue\n",
    "        \n",
    "        request = requests.get(\"https://api.coingecko.com/api/v3/coins/\"+ str(coingecko_token_names[asset])+ \"/market_chart?vs_currency=usd&days=max&interval=daily\")\n",
    "        # Variable to store required WBTC Price\n",
    "        token_price_holder    = []\n",
    "        if request.status_code != 200:\n",
    "            data = {}\n",
    "            data['prices'] = WBTC[ -LOOK_BACK: ]\n",
    "            for day in data['prices']:\n",
    "                token_price_holder.append(day[1])\n",
    "        else:   \n",
    "            data = request.json()\n",
    "            time_list   = []\n",
    "            \n",
    "            # Checking the length of available data for each token and calculating and computing extrapolation\n",
    "            if len(data['prices']) < LOOK_BACK:\n",
    "                # length of required WBTC Cached value\n",
    "                req = LOOK_BACK - len(data['prices'])\n",
    "                # selecting the token's missing dataframe from Cached WBTC prices\n",
    "                addition = WBTC[-LOOK_BACK:  -LOOK_BACK + req ]\n",
    "                data['prices'] = addition + data['prices']\n",
    "                # Storing the count of values superimposed for each token\n",
    "                track[asset] = req\n",
    "            else:\n",
    "                # if token have 2 years of historical prices, then just select that.\n",
    "                data['prices'] = data['prices'][-LOOK_BACK:]\n",
    "\n",
    "            for day in data['prices']:\n",
    "                time_list.append(day[0]/1000)\n",
    "                token_price_holder.append(day[1])\n",
    "                \n",
    "        priceChangeDF[asset+'_price'] = token_price_holder\n",
    "        # priceChangeDF['timestamp']  = time_list\n",
    "    # priceChangeDF['timestamp'] = time_list\n",
    "    \n",
    "    print(\"PRICES FETECHED\")\n",
    "    \n",
    "    unknown_assets = ['PAX']\n",
    "    for asset in list(coingecko_token_names.keys()):\n",
    "#         try:\n",
    "        #list variable for storing price change \n",
    "        change = []\n",
    "        # Rolling difference of prices for each asset for 10 days\n",
    "        diff_10 = pd.DataFrame(priceChangeDF[asset+'_price'].diff(periods=10) )\n",
    "\n",
    "        # Appending Nan for initial 10 values to match the list size to dataframe rows.\n",
    "        for i in range(10):\n",
    "            change.append('Nan')\n",
    "\n",
    "        # Calculating percent change \n",
    "        for i in range(10,priceChangeDF.shape[0]):\n",
    "            change.append((diff_10.iloc[i][asset+'_price'] / priceChangeDF.iloc[i-10][asset+'_price']) * 100)\n",
    "\n",
    "        priceChangeDF[asset+'_%change(10)'] = change\n",
    "\n",
    "\n",
    "        # Rolling difference of prices for each asset for 1 days\n",
    "        diff_1 = pd.DataFrame(priceChangeDF[asset+'_price'].diff(periods=1) )\n",
    "        change = []\n",
    "        for i in range(10):\n",
    "            change.append('Nan')\n",
    "        for i in range(10,priceChangeDF.shape[0]):\n",
    "            change.append((diff_1.iloc[i][asset+'_price'] / priceChangeDF.iloc[i-1][asset+'_price']) * 100)\n",
    "        priceChangeDF[asset+'_%change(1)'] = change  \n",
    "            \n",
    "#         except Exception as e:\n",
    "#             unknown_assets.append(asset)\n",
    "#             print(\"Error \", asset, e)\n",
    "    \n",
    "    # If data doesn't exists for any asset, using WBTC percent change.\n",
    "    for asset in unknown_assets:\n",
    "        priceChangeDF[asset+'_%change(1)']  = priceChangeDF['WBTC_%change(1)'] \n",
    "        priceChangeDF[asset+'_%change(10)'] = priceChangeDF['WBTC_%change(10)'] \n",
    "    priceChangeDF['PAX_%change(10)'] = priceChangeDF['WBTC_%change(10)'] \n",
    "    priceChangeDF['PAX_%change(1)'] = priceChangeDF['WBTC_%change(1)'] \n",
    "\n",
    "\n",
    "    # using WBTC price change % using tracked variable to calculate price change % for assets which doesn't\n",
    "    # had prices for a period\n",
    "    for key in track.keys():\n",
    "        priceChangeDF[key+'_%change(10)'][:track[key]] = priceChangeDF['WBTC_%change(10)'][:track[key]]\n",
    "\n",
    "    \n",
    "    # adding data columns using timestamp \n",
    "    priceChangeDF['date'] = priceChangeDF['timestamp'].apply(lambda x : str(datetime.fromtimestamp(x).date()))\n",
    "    # Reversing the dataframe so dates comes in descending order\n",
    "    priceChangeDF  = priceChangeDF.iloc[::-1]\n",
    "    # Reseting Index to prevent any indexing errors.\n",
    "    priceChangeDF  = priceChangeDF.reset_index()\n",
    "    priceChangeDF = priceChangeDF.drop(['index'], axis=1)\n",
    "    # removing last 10 values as they have Nan\n",
    "    priceChangeDF = priceChangeDF[:-10]\n",
    "    return priceChangeDF"
   ]
  },
  {
   "cell_type": "code",
   "execution_count": 7,
   "id": "33cc95c9",
   "metadata": {
    "ExecuteTime": {
     "end_time": "2022-01-18T11:04:25.278016Z",
     "start_time": "2022-01-18T11:04:00.637845Z"
    }
   },
   "outputs": [
    {
     "name": "stdout",
     "output_type": "stream",
     "text": [
      "PRICES FETECHED\n"
     ]
    },
    {
     "name": "stderr",
     "output_type": "stream",
     "text": [
      "/home/nishgaba/anaconda3/envs/defi/lib/python3.6/site-packages/ipykernel_launcher.py:122: SettingWithCopyWarning: \n",
      "A value is trying to be set on a copy of a slice from a DataFrame\n",
      "\n",
      "See the caveats in the documentation: https://pandas.pydata.org/pandas-docs/stable/user_guide/indexing.html#returning-a-view-versus-a-copy\n"
     ]
    }
   ],
   "source": [
    "priceDataChangeDF = priceDataChange()"
   ]
  },
  {
   "cell_type": "code",
   "execution_count": 8,
   "id": "7e1354d9",
   "metadata": {
    "ExecuteTime": {
     "end_time": "2022-01-18T11:04:25.339778Z",
     "start_time": "2022-01-18T11:04:25.279730Z"
    }
   },
   "outputs": [],
   "source": [
    "priceDataChangeDF.to_csv(requiredDate+'_priceDataChangeDF.csv', index=False)"
   ]
  },
  {
   "cell_type": "code",
   "execution_count": 9,
   "id": "f010d6e1",
   "metadata": {
    "ExecuteTime": {
     "end_time": "2022-01-18T11:04:26.471193Z",
     "start_time": "2022-01-18T11:04:25.341064Z"
    }
   },
   "outputs": [],
   "source": [
    "aaveV2HistoricalDataDF = aaveV2HistoricalData(requiredDate)"
   ]
  },
  {
   "cell_type": "code",
   "execution_count": 10,
   "id": "958f9749",
   "metadata": {
    "ExecuteTime": {
     "end_time": "2022-01-18T11:04:26.474079Z",
     "start_time": "2022-01-18T11:04:26.472249Z"
    }
   },
   "outputs": [],
   "source": [
    "# aaveV2HistoricalDataDF.to_csv(requiredDate + '_aaveV2HistoricalDataDF.csv', index= False)"
   ]
  },
  {
   "cell_type": "code",
   "execution_count": 11,
   "id": "3cfb6a74",
   "metadata": {
    "ExecuteTime": {
     "end_time": "2022-01-18T11:04:26.481540Z",
     "start_time": "2022-01-18T11:04:26.475046Z"
    }
   },
   "outputs": [],
   "source": [
    "aaveV2HistoricalDataDF[['Token','Position','Position($,Billion)']].to_csv(requiredDate + '_aaveV2HistoricalDataDF.csv', index= False)"
   ]
  },
  {
   "cell_type": "code",
   "execution_count": null,
   "id": "e80ff477",
   "metadata": {
    "ExecuteTime": {
     "end_time": "2022-01-18T07:07:37.378283Z",
     "start_time": "2022-01-18T07:07:36.925332Z"
    }
   },
   "outputs": [],
   "source": []
  },
  {
   "cell_type": "code",
   "execution_count": 12,
   "id": "46f8ac83",
   "metadata": {
    "ExecuteTime": {
     "end_time": "2022-01-18T11:04:26.490169Z",
     "start_time": "2022-01-18T11:04:26.482552Z"
    },
    "code_folding": [
     0
    ]
   },
   "outputs": [],
   "source": [
    "def VARDate(_date):\n",
    "    '''\n",
    "        Gets the VAR results, AaveV2 for a particular position and price change dataframe\n",
    "        \n",
    "        Args::\n",
    "            _date(str): Date in \"%m-%d-%Y\" format\n",
    "        \n",
    "        Returns::\n",
    "            aaveV2Res(pandas dataframe): AaveV2 Historical Data for the given date\n",
    "            df (pandas dataframe): Price change dataframe\n",
    "    '''\n",
    "    # Aave V2 Data for particular date\n",
    "    aaveV2Res = aaveV2HistoricalData(_date)\n",
    "    \n",
    "    # Price Change Dataframe\n",
    "    df = change()\n",
    "    \n",
    "    # Flipping the date format\n",
    "    reqDate = datetime.strptime(_date, '%m-%d-%Y').strftime('%Y-%m-%d')\n",
    "    \n",
    "    # Converting str to datetime\n",
    "    df['date']= pd.to_datetime(df['date'])\n",
    "    # Remove dates above the required date\n",
    "    mask = (df['date'] <= reqDate)\n",
    "    df = df.loc[mask]\n",
    "    # Converting the date column back to str\n",
    "    df['date']=df['date'].astype(str)\n",
    "    \n",
    "    REQUIRED_1 = []\n",
    "    REQUIRED_10 = []\n",
    "    historicalVAR = pd.DataFrame(columns=['date', 'VAR_10', 'VAR_1'])\n",
    "    hist_ind = 0\n",
    "    \n",
    "    cols     = aaveV2Res['Token']\n",
    "    FINAL_DF = aaveV2Res[['Position($,Billion)']].T\n",
    "    FINAL_DF.columns = cols\n",
    "    # Sliding Window Var Calculator\n",
    "    VAR      = []\n",
    "    VAR_DATE = []\n",
    "    errors   = []\n",
    "    \n",
    "    temp_df = pd.DataFrame(columns=['sum_10', 'date'])\n",
    "    temp_df_ind = 0\n",
    "    for ind, ROW in enumerate(FINAL_DF.iterrows()):\n",
    "        REQUIRED_10 = []\n",
    "        for required_row in df[ind:ind+365].iterrows():\n",
    "            SUM_10  = []\n",
    "            for key in ROW[1].keys():\n",
    "                if isinstance(ROW[1][key], list): # \n",
    "                    ROW[1][key] = 0\n",
    "                SUM_10.append((float(ROW[1][key]) * required_row[1][key+'_%change(10)'])/100)\n",
    "            REQUIRED_10.append(sum(SUM_10))\n",
    "            temp_df.loc[temp_df_ind] = [sum(SUM_10)] + [required_row[1]['date']]\n",
    "            temp_df_ind += 1\n",
    "        # Sorting values by sum_10 and choosing 4th value of sum(VAR)  from it and converting it to float\n",
    "        VAR.append(temp_df.sort_values(by=['sum_10'])[3:4]['sum_10'].values[0])\n",
    "        # Sorting values by sum_10 and choosing 4th value of VAR_DATE  from it and converting it to float\n",
    "        VAR_DATE.append(temp_df.sort_values(by=['sum_10'])[3:4]['date'].values[0])\n",
    "#         VAR_DATE.append(df[ind:ind+365].at[REQUIRED_10.index(sorted(REQUIRED_10, key=float)[3]) + ind, 'date'])\n",
    "    \n",
    "    testdf = pd.DataFrame(columns=['SYMBOL', 'totalLiquidity', 'totalDebt'])\n",
    "    ind = 0\n",
    "    \n",
    "    AAVE_API_RESULT  = requests.get('https://aave-api-v2.aave.com/data/liquidity/v2?poolId=0xb53c1a33016b2dc2ff3653530bff1848a515c8c5&date='+_date).json()\n",
    "    \n",
    "    for i in AAVE_API_RESULT:\n",
    "        testdf.loc[ind] = [i['symbol']] + [float(i['totalLiquidity']) * float(i['referenceItem']['priceInUsd']) ]\\\n",
    "                    + [float(i['totalDebt']) * float(i['referenceItem']['priceInUsd'] )] #+ [i['referenceItem']['priceInUsd'] * ]\n",
    "        ind += 1\n",
    "\n",
    "    TOTAL_LIABILITIES    = aaveV2Res['totalLiquidity'].sum()\n",
    "    TOTAL_ASSETS         = aaveV2Res['Assets'].sum()\n",
    "    VAR_10_DAY_99_P      = VAR\n",
    "    VAR_DATE_10_DAY_99_P = VAR_DATE\n",
    "\n",
    "#     RELATIVE_VAR_ASSETS = str(VAR * pow(10,9) / TOTAL_ASSETS)\n",
    "#     RELATIVE_VAR_LIABILITIES = str(VAR * pow(10,9) / TOTAL_LIABILITIES)\n",
    "    #TOTAL_ASSETS\n",
    "    #TOTAL_LIABILITIES\n",
    "    return aaveV2Res, df, TOTAL_ASSETS, TOTAL_LIABILITIES, VAR_10_DAY_99_P, VAR_DATE_10_DAY_99_P, temp_df"
   ]
  },
  {
   "cell_type": "code",
   "execution_count": 13,
   "id": "8bc09c3c",
   "metadata": {
    "ExecuteTime": {
     "end_time": "2022-01-18T11:04:26.498392Z",
     "start_time": "2022-01-18T11:04:26.491346Z"
    }
   },
   "outputs": [],
   "source": [
    "from tqdm import  tqdm"
   ]
  },
  {
   "cell_type": "code",
   "execution_count": 14,
   "id": "7471a071",
   "metadata": {
    "ExecuteTime": {
     "end_time": "2022-01-18T11:04:26.530283Z",
     "start_time": "2022-01-18T11:04:26.499463Z"
    },
    "code_folding": [
     2,
     26,
     99,
     198,
     240,
     271
    ]
   },
   "outputs": [],
   "source": [
    "class Compound_date_VAR():\n",
    "    def __init__(self, REQUIRED_DATE):\n",
    "        self.names = {\"DAI\"  : 'dai',\n",
    "            \"TUSD\"  : 'true-usd',\n",
    "            \"USDC\"  : 'usd-coin',\n",
    "            \"USDT\"  : \"tether\",\n",
    "            \"ETH\"   : \"ethereum\",\n",
    "            \"LINK\"  : \"chainlink\",\n",
    "            \"MKR\"   : \"maker\",\n",
    "            \"UNI\"   : \"uniswap\",\n",
    "            \"WBTC\"  : \"wrapped-bitcoin\",\n",
    "            \"WBTC2\"  : \"wrapped-bitcoin\",\n",
    "            \"SUSHI\" :\"sushi\",  \n",
    "            \"YFI\"   : \"yearn-finance\",\n",
    "            \"AAVE\"  : \"aave\",\n",
    "            \"BAT\"   : \"basic-attention-token\",\n",
    "            \"ZRX\"   : \"0x\",\n",
    "            \"REP\"   : \"augur\",\n",
    "            \"SAI\"   : \"sai\",\n",
    "            }\n",
    "        self.priceChangeDf = None\n",
    "        self.FINAL_DF = None\n",
    "        self.VAR = None\n",
    "        self.VAR_DATE =None\n",
    "        self.REQUIRED_DATE = REQUIRED_DATE\n",
    "        \n",
    "    def calculatePriceChangeDf(self):   \n",
    "        columns = []\n",
    "        columns.append('timestamp')\n",
    "        for key in list(self.names.keys()):\n",
    "            columns.append(key+'_price')\n",
    "            columns.append(key+'_%change(10)')\n",
    "        df        = pd.DataFrame(columns = columns)\n",
    "        LOOK_BACK = 375 * 2\n",
    "        #LIMIT     = 5\n",
    "        WBTC      = []\n",
    "        request   = requests.get(\"https://api.coingecko.com/api/v3/coins/\"+ str(self.names['WBTC'])+ \"/market_chart?vs_currency=usd&days=max&interval=daily\")\n",
    "        data      = request.json()\n",
    "        WBTC      = data['prices']\n",
    "        tt        = []\n",
    "        P         = []\n",
    "        for day in data['prices'][-LOOK_BACK:]:\n",
    "            tt.append(day[0]/1000)\n",
    "            P.append(day[1])\n",
    "        df['WBTC_price'] = P\n",
    "        df['timestamp']  = tt\n",
    "        track = {}\n",
    "        for asset in list(self.names.keys()):#[:LIMIT]:\n",
    "            if asset == 'WBTC':\n",
    "                continue\n",
    "            request = requests.get(\"https://api.coingecko.com/api/v3/coins/\"+ str(self.names[asset])+ \"/market_chart?vs_currency=usd&days=max&interval=daily\")\n",
    "            data = request.json()\n",
    "            tt = []\n",
    "            P = []\n",
    "            # print(\"DEBUG 1 \", data)\n",
    "            if len(data['prices']) < LOOK_BACK:\n",
    "                req = LOOK_BACK - len(data['prices'])\n",
    "                addition = WBTC[-LOOK_BACK:  -LOOK_BACK + req ]\n",
    "                data['prices'] = addition + data['prices']\n",
    "                track[asset] = req\n",
    "            else:\n",
    "                data['prices'] = data['prices'][-LOOK_BACK:]\n",
    "\n",
    "            for day in data['prices']:\n",
    "                tt.append(day[0]/1000)\n",
    "                P.append(day[1])\n",
    "            df[asset+'_price'] = P\n",
    "        for asset in list(self.names.keys()):#[:LIMIT]:\n",
    "\n",
    "            diff_10 = pd.DataFrame(df[asset+'_price'].diff(periods=10) )\n",
    "            change = []\n",
    "            for i in range(10):\n",
    "                change.append('Nan')\n",
    "            for i in range(10,df.shape[0]):\n",
    "                change.append((diff_10.iloc[i][asset+'_price'] / df.iloc[i-10][asset+'_price']) * 100)\n",
    "            df[asset+'_%change(10)'] = change\n",
    "\n",
    "            diff_1 = pd.DataFrame(df[asset+'_price'].diff(periods=1) )\n",
    "            change = []\n",
    "            for i in range(10):\n",
    "                change.append('Nan')\n",
    "            for i in range(10,df.shape[0]):\n",
    "                change.append((diff_1.iloc[i][asset+'_price'] / df.iloc[i-10][asset+'_price']) * 100)\n",
    "            df[asset+'_%change(1)'] = change        \n",
    "        for key in track.keys():\n",
    "            df[key+'_%change(10)'][:track[key]] = df['WBTC_%change(10)'][:track[key]]\n",
    "\n",
    "        df['date'] = df['timestamp'].apply(lambda x : str(datetime.fromtimestamp(x).date()))\n",
    "        df  = df.iloc[::-1]\n",
    "        df  = df.reset_index()\n",
    "        df = df.drop(['index'], axis=1)\n",
    "        df = df[1:-10]\n",
    "        \n",
    "        reqDate = datetime.strptime(self.REQUIRED_DATE, '%m-%d-%Y').strftime('%Y-%m-%d')\n",
    "        df['date']= pd.to_datetime(df['date'])\n",
    "        mask = (df['date'] <= reqDate)\n",
    "        df = df.loc[mask]\n",
    "        df['date']=df['date'].astype(str)\n",
    "        self.priceChangeDf  = df      \n",
    "    def getPositionData(self):\n",
    "        ind  = 0 \n",
    "        res  = requests.get(\"https://api.compound.finance/api/v2/ctoken\")\n",
    "        df   = pd.DataFrame(columns = list(res.json()['cToken'][0].keys()))\n",
    "        for ctoken in tqdm(res.json()['cToken']):\n",
    "            try:\n",
    "                ind += 1\n",
    "                for key in ctoken.keys():\n",
    "                    try:\n",
    "                        df.at[ind,key ] = ctoken[key]['value']\n",
    "                    except:\n",
    "                        df.at[ind,key ] = ctoken[key]\n",
    "\n",
    "                address   = ctoken['token_address']\n",
    "                request   = requests.get(\"https://api.coingecko.com/api/v3/coins/\"+ str(self.names[ctoken['symbol'][1:]])+ \"/market_chart?vs_currency=usd&days=max&interval=daily\")\n",
    "                prices_df = pd.DataFrame(columns=['timestamp', 'price'])\n",
    "                timestamp = []\n",
    "                prices    = []\n",
    "\n",
    "                for req in request.json()['prices']:\n",
    "                    timestamp.append(int(float(req[0])/1000))\n",
    "                    prices.append(req[1])\n",
    "\n",
    "                prices_df['timestamp'] = timestamp\n",
    "                prices_df['price']     = prices\n",
    "\n",
    "                date= []\n",
    "                for time in timestamp:\n",
    "                    date.append(datetime.fromtimestamp(time).strftime('%Y-%m-%d'))\n",
    "                prices_df['date']  = date\n",
    "\n",
    "                datestamp = self.REQUIRED_DATE #mm-dd-yyyy\n",
    "                max_timstamp = int(datetime.strptime(datestamp, '%m-%d-%Y').timestamp()) + 86400\n",
    "                SUPPLY_DF = pd.DataFrame(columns=['block_number', 'block_timestamp','value'])\n",
    "                BORROW_DF = pd.DataFrame(columns=['block_number', 'block_timestamp','value'])\n",
    "                DF = pd.DataFrame()\n",
    "                BIND = 0\n",
    "                SIND = 0\n",
    "                for _ in range(1):\n",
    "                    min_timestamp = max_timstamp  -  3 * 86400 \n",
    "                    res = requests.get(\"https://api.compound.finance/api/v2/market_history/graph?asset=%s&min_block_timestamp=%s&max_block_timestamp=%s&num_buckets=50\" % ( address,min_timestamp, max_timstamp));    \n",
    "                    max_timstamp = max_timstamp   - 3 * 86400 \n",
    "                    temp = res.json()\n",
    "\n",
    "\n",
    "                    for tem in temp['total_borrows_history']:\n",
    "                        BORROW_DF.loc[BIND] = [tem['block_number']] + [tem['block_timestamp']] + [tem['total']['value']]                     \n",
    "                        BIND += 1\n",
    "\n",
    "\n",
    "                    for tem in temp['total_supply_history']:\n",
    "                        SUPPLY_DF.loc[SIND] = [tem['block_number']] + [tem['block_timestamp']] + [tem['total']['value']]\n",
    "                        SIND += 1                      \n",
    "\n",
    "                BORROW_DF         = BORROW_DF.sort_values(['block_timestamp'])\n",
    "                BORROW_DF['DATE'] = BORROW_DF['block_timestamp'].apply(lambda x: datetime.fromtimestamp(x).date())\n",
    "                BORROW_DF.drop_duplicates(subset = ['DATE'], keep = 'first', inplace = True)\n",
    "\n",
    "                SUPPLY_DF         = SUPPLY_DF.sort_values(['block_timestamp'])\n",
    "                SUPPLY_DF['DATE'] = SUPPLY_DF['block_timestamp'].apply(lambda x: datetime.fromtimestamp(x).date())\n",
    "                SUPPLY_DF.drop_duplicates(subset = ['DATE'], keep = 'first', inplace = True)\n",
    "\n",
    "                SUPPLY_DF['supply_tokens'] = pd.to_numeric(SUPPLY_DF['value']) *  float(temp['exchange_rates'][-1]['rate'])\n",
    "\n",
    "\n",
    "                BORROW_DF          = BORROW_DF[::-1]\n",
    "                SUPPLY_DF          = SUPPLY_DF[::-1]\n",
    "                DF['timestamp']    = BORROW_DF['block_timestamp']\n",
    "                DF['BORROW']       = BORROW_DF['value']\n",
    "                DF['SUPPLY']       = SUPPLY_DF['supply_tokens']\n",
    "                DF['DATE']         = BORROW_DF['DATE']\n",
    "                DF['SUPPLY_VALUE'] = SUPPLY_DF['value']\n",
    "                \n",
    "                assigned_price = []\n",
    "                for indW in DF['DATE'] :\n",
    "                    a = prices_df[prices_df['date']==str(indW)]\n",
    "                    assigned_price.append(a['price'].values[0])\n",
    "\n",
    "                DF['prices'] = assigned_price\n",
    "                DF['total_supply'] =  DF['SUPPLY'] * DF['prices']\n",
    "                DF['total_borrow'] =  pd.to_numeric(DF['BORROW']) * pd.to_numeric(DF['prices'])\n",
    "                DF['POSITION']     =  DF['total_borrow'] - DF['total_supply']\n",
    "                DF['POSITION($)']  =  DF['POSITION'] / pow(10,9)\n",
    "                DF.to_csv('COMPOUND_DATA/DF_'+ctoken['symbol'][1:] + '.csv')\n",
    "                #print(ctoken['symbol'], DF.shape)\n",
    "            except Exception as e:\n",
    "                #print(\"ERROR \", e)\n",
    "                pass                              \n",
    "    def computePositionData(self):\n",
    "        assert os.path.exists('COMPOUND_DATA/')\n",
    "        fils = os.listdir('COMPOUND_DATA/')\n",
    "        cols = []\n",
    "        for fil in fils:\n",
    "            try:\n",
    "                aa = fil.split('.')[0].split('_')\n",
    "                cols.append(aa[1])\n",
    "            except:\n",
    "                pass\n",
    "        FINAL ={}\n",
    "        for key in cols:\n",
    "            try:\n",
    "                df = pd.read_csv('COMPOUND_DATA/'+'DF_'+key+'.csv')\n",
    "                df = df.sort_values(['timestamp'])\n",
    "                df = df[::-1]\n",
    "                FINAL[key] = {'Assets': df['POSITION($)'],\n",
    "                              'date':df['DATE'],\n",
    "                              'MARKET':df['total_supply'],\n",
    "                              'BORROW':df['total_borrow']\n",
    "                             }\n",
    "\n",
    "            except Exception as e:\n",
    "                print(e, key)\n",
    "\n",
    "        ff = []\n",
    "        for f in FINAL['ETH']['date']:\n",
    "            ff.append(f)\n",
    "\n",
    "        FINAL_DF = pd.DataFrame(columns= cols)\n",
    "        ind = 0\n",
    "        for i in range(len(ff)):\n",
    "            assets = []\n",
    "            for col in cols:\n",
    "                try:\n",
    "                    assets.append(FINAL[col]['Assets'][i])\n",
    "                except:\n",
    "                    assets.append([])\n",
    "            FINAL_DF.loc[ind] = assets\n",
    "            ind += 1\n",
    "\n",
    "        FINAL_DF['DATE']      = ff[:100]\n",
    "        FINAL_DF['timestamp'] = FINAL_DF['DATE'].apply(lambda x: pd.Timestamp(x).timestamp())\n",
    "        FINAL_DF              = FINAL_DF.sort_values('timestamp')\n",
    "        FINAL_DF              = FINAL_DF[::-1]\n",
    "        \n",
    "        reqDate = datetime.strptime(self.REQUIRED_DATE, '%m-%d-%Y').strftime('%Y-%m-%d')\n",
    "        FINAL_DF['DATE']= pd.to_datetime(FINAL_DF['DATE'])\n",
    "        mask = (FINAL_DF['DATE'] == reqDate)\n",
    "        FINAL_DF = FINAL_DF.loc[mask]\n",
    "        FINAL_DF['DATE']=FINAL_DF['DATE'].astype(str)\n",
    "        \n",
    "        self.FINAL_DF = FINAL_DF        \n",
    "    def getVAR(self):\n",
    "        if self.FINAL_DF is None:\n",
    "            self.getPositionData()\n",
    "            self.computePositionData()\n",
    "        if self.priceChangeDf is None:\n",
    "            self.calculatePriceChangeDf()\n",
    "            \n",
    "\n",
    "            \n",
    "        VAR = []\n",
    "        VAR_DATE = []\n",
    "        temp_df = pd.DataFrame(columns=['sum_10', 'date'])\n",
    "        temp_df_ind = 0\n",
    "        for ind, ROW in enumerate(self.FINAL_DF.iterrows()):\n",
    "            REQUIRED_10 = []\n",
    "            for required_row in self.priceChangeDf[ind:ind+365].iterrows():\n",
    "                SUM_10 = []\n",
    "                for key in ROW[1].keys()[:-3]:\n",
    "                    if key == 'WBTC2':\n",
    "                        key = 'WBTC'\n",
    "                    if isinstance(ROW[1][key], list):\n",
    "                        ROW[1][key] = 0\n",
    "                    SUM_10.append((float(ROW[1][key]) * required_row[1][key+'_%change(10)'])/100)\n",
    "                REQUIRED_10.append(sum(SUM_10))\n",
    "                temp_df.loc[temp_df_ind] = [sum(SUM_10)] + [required_row[1]['date']]\n",
    "                temp_df_ind += 1\n",
    "            VAR.append(temp_df.sort_values(by=['sum_10'])[3:4]['sum_10'].values[0])\n",
    "            VAR_DATE.append(temp_df.sort_values(by=['sum_10'])[3:4]['date'].values[0])\n",
    "            \n",
    "        self.VAR = VAR\n",
    "        self.VAR_DATE = VAR_DATE       \n",
    "    def getResult(self):\n",
    "        idx = self.priceChangeDf.index[self.priceChangeDf['date'] == self.VAR_DATE[0]].tolist()\n",
    "        self.priceChangeVARDATE = self.priceChangeDf.loc[idx]\n",
    "        column_names = [\"PLATFORM\", \"TOKEN\",\"POSITION_ON_INPUT_DATE\", \"POSITION_ON_INPUT_DATE_BILLIONS\",\n",
    "               \"TOKEN_%_CHANGE_ON_VAR_DATE\", \"CONTRIBUTION_TO_VAR\"]\n",
    "        resultDf = pd.DataFrame(columns = column_names)\n",
    "        FINAL_DF_T = self.FINAL_DF.T\n",
    "        FINAL_DF_T = FINAL_DF_T.reset_index()\n",
    "        FINAL_DF_T.columns = ['Token',\"Position($,Billion)\"]#, 'Position' ]\n",
    "        FINAL_DF_T['Position'] = FINAL_DF_T['Position($,Billion)'] * pow(10,9)\n",
    "        \n",
    "        # Itearing through the position in Compound\n",
    "        for idx, row in FINAL_DF_T[:-2].iterrows():\n",
    "            try:\n",
    "                temp = []\n",
    "                temp.append(\"COMPOUND\")\n",
    "                temp.append(str(FINAL_DF_T[\"Token\"][idx]))\n",
    "                temp.append(FINAL_DF_T[\"Position\"][idx])\n",
    "                temp.append(FINAL_DF_T[\"Position($,Billion)\"][idx])\n",
    "                temp.append(self.priceChangeVARDATE[str(FINAL_DF_T[\"Token\"][idx])+\"_%change(10)\"].iloc[0])\n",
    "                temp.append(float(-1 * float(FINAL_DF_T[\"Position($,Billion)\"][idx]) * float(self.priceChangeVARDATE[str(FINAL_DF_T[\"Token\"][idx])+\"_%change(10)\"].iloc[0])))\n",
    "                df_length = len(resultDf)\n",
    "                resultDf.loc[df_length] = temp\n",
    "\n",
    "            except:\n",
    "                print(\"Exception occured for the token: \"+str(token))\n",
    "\n",
    "        return resultDf"
   ]
  },
  {
   "cell_type": "code",
   "execution_count": 15,
   "id": "5c79cc2e",
   "metadata": {
    "ExecuteTime": {
     "end_time": "2022-01-18T11:04:26.534525Z",
     "start_time": "2022-01-18T11:04:26.531356Z"
    }
   },
   "outputs": [],
   "source": [
    "CVAR = Compound_date_VAR(requiredDate)"
   ]
  },
  {
   "cell_type": "code",
   "execution_count": 16,
   "id": "0b27c8fa",
   "metadata": {
    "ExecuteTime": {
     "end_time": "2022-01-18T11:04:38.836490Z",
     "start_time": "2022-01-18T11:04:26.535507Z"
    }
   },
   "outputs": [
    {
     "name": "stderr",
     "output_type": "stream",
     "text": [
      "/home/nishgaba/anaconda3/envs/defi/lib/python3.6/site-packages/ipykernel_launcher.py:86: SettingWithCopyWarning: \n",
      "A value is trying to be set on a copy of a slice from a DataFrame\n",
      "\n",
      "See the caveats in the documentation: https://pandas.pydata.org/pandas-docs/stable/user_guide/indexing.html#returning-a-view-versus-a-copy\n"
     ]
    }
   ],
   "source": [
    "CVAR.calculatePriceChangeDf()"
   ]
  },
  {
   "cell_type": "code",
   "execution_count": 17,
   "id": "2b443962",
   "metadata": {
    "ExecuteTime": {
     "end_time": "2022-01-18T11:05:05.218495Z",
     "start_time": "2022-01-18T11:04:38.837708Z"
    }
   },
   "outputs": [
    {
     "name": "stderr",
     "output_type": "stream",
     "text": [
      "100%|██████████| 19/19 [00:25<00:00,  1.32s/it]\n"
     ]
    }
   ],
   "source": [
    "CVAR.getPositionData()"
   ]
  },
  {
   "cell_type": "code",
   "execution_count": 18,
   "id": "3c3f119d",
   "metadata": {
    "ExecuteTime": {
     "end_time": "2022-01-18T11:05:05.310229Z",
     "start_time": "2022-01-18T11:05:05.220276Z"
    }
   },
   "outputs": [
    {
     "name": "stderr",
     "output_type": "stream",
     "text": [
      "/home/nishgaba/anaconda3/envs/defi/lib/python3.6/site-packages/numpy/core/_asarray.py:83: VisibleDeprecationWarning: Creating an ndarray from ragged nested sequences (which is a list-or-tuple of lists-or-tuples-or ndarrays with different lengths or shapes) is deprecated. If you meant to do this, you must specify 'dtype=object' when creating the ndarray\n",
      "  return array(a, dtype, copy=False, order=order)\n"
     ]
    }
   ],
   "source": [
    "CVAR.computePositionData()"
   ]
  },
  {
   "cell_type": "code",
   "execution_count": 19,
   "id": "0a6c844c",
   "metadata": {
    "ExecuteTime": {
     "end_time": "2022-01-18T11:05:05.328214Z",
     "start_time": "2022-01-18T11:05:05.312177Z"
    }
   },
   "outputs": [
    {
     "data": {
      "text/html": [
       "<div>\n",
       "<style scoped>\n",
       "    .dataframe tbody tr th:only-of-type {\n",
       "        vertical-align: middle;\n",
       "    }\n",
       "\n",
       "    .dataframe tbody tr th {\n",
       "        vertical-align: top;\n",
       "    }\n",
       "\n",
       "    .dataframe thead th {\n",
       "        text-align: right;\n",
       "    }\n",
       "</style>\n",
       "<table border=\"1\" class=\"dataframe\">\n",
       "  <thead>\n",
       "    <tr style=\"text-align: right;\">\n",
       "      <th></th>\n",
       "      <th>AAVE</th>\n",
       "      <th>BAT</th>\n",
       "      <th>DAI</th>\n",
       "      <th>ETH</th>\n",
       "      <th>LINK</th>\n",
       "      <th>MKR</th>\n",
       "      <th>SUSHI</th>\n",
       "      <th>TUSD</th>\n",
       "      <th>UNI</th>\n",
       "      <th>USDC</th>\n",
       "      <th>USDT</th>\n",
       "      <th>WBTC</th>\n",
       "      <th>WBTC2</th>\n",
       "      <th>YFI</th>\n",
       "      <th>ZRX</th>\n",
       "      <th>DATE</th>\n",
       "      <th>timestamp</th>\n",
       "    </tr>\n",
       "  </thead>\n",
       "  <tbody>\n",
       "    <tr>\n",
       "      <th>0</th>\n",
       "      <td>-0.00206567</td>\n",
       "      <td>-0.09934</td>\n",
       "      <td>-0.788772</td>\n",
       "      <td>-4.344341</td>\n",
       "      <td>-0.065925</td>\n",
       "      <td>-0.00311591</td>\n",
       "      <td>-0.000705179</td>\n",
       "      <td>-0.038065</td>\n",
       "      <td>-0.138926</td>\n",
       "      <td>-0.783107</td>\n",
       "      <td>-0.204385</td>\n",
       "      <td>-0.0897917</td>\n",
       "      <td>-1.346386</td>\n",
       "      <td>-0.001232</td>\n",
       "      <td>-0.080765</td>\n",
       "      <td>2022-01-09</td>\n",
       "      <td>1.641686e+09</td>\n",
       "    </tr>\n",
       "  </tbody>\n",
       "</table>\n",
       "</div>"
      ],
      "text/plain": [
       "         AAVE      BAT       DAI       ETH      LINK         MKR        SUSHI  \\\n",
       "0 -0.00206567 -0.09934 -0.788772 -4.344341 -0.065925 -0.00311591 -0.000705179   \n",
       "\n",
       "       TUSD       UNI      USDC      USDT       WBTC     WBTC2       YFI  \\\n",
       "0 -0.038065 -0.138926 -0.783107 -0.204385 -0.0897917 -1.346386 -0.001232   \n",
       "\n",
       "        ZRX        DATE     timestamp  \n",
       "0 -0.080765  2022-01-09  1.641686e+09  "
      ]
     },
     "execution_count": 19,
     "metadata": {},
     "output_type": "execute_result"
    }
   ],
   "source": [
    "CVAR.FINAL_DF"
   ]
  },
  {
   "cell_type": "code",
   "execution_count": 20,
   "id": "16a82a1c",
   "metadata": {
    "ExecuteTime": {
     "end_time": "2022-01-18T11:05:05.334643Z",
     "start_time": "2022-01-18T11:05:05.330616Z"
    }
   },
   "outputs": [],
   "source": [
    "FINAL_DF_T = CVAR.FINAL_DF.T"
   ]
  },
  {
   "cell_type": "code",
   "execution_count": 21,
   "id": "5f9f3e34",
   "metadata": {
    "ExecuteTime": {
     "end_time": "2022-01-18T11:05:05.340448Z",
     "start_time": "2022-01-18T11:05:05.336378Z"
    }
   },
   "outputs": [],
   "source": [
    "FINAL_DF_T = FINAL_DF_T.reset_index()"
   ]
  },
  {
   "cell_type": "code",
   "execution_count": 22,
   "id": "55e43374",
   "metadata": {
    "ExecuteTime": {
     "end_time": "2022-01-18T11:05:05.345441Z",
     "start_time": "2022-01-18T11:05:05.341950Z"
    }
   },
   "outputs": [],
   "source": [
    "FINAL_DF_T.columns = ['Token',\"Position($,Billion)\"]#, 'Position' ]"
   ]
  },
  {
   "cell_type": "code",
   "execution_count": 23,
   "id": "470f7aef",
   "metadata": {
    "ExecuteTime": {
     "end_time": "2022-01-18T11:05:05.353880Z",
     "start_time": "2022-01-18T11:05:05.349214Z"
    }
   },
   "outputs": [
    {
     "data": {
      "text/plain": [
       "0     -0.00206567\n",
       "1      -0.0993399\n",
       "2       -0.788772\n",
       "3        -4.34434\n",
       "4      -0.0659252\n",
       "5     -0.00311591\n",
       "6    -0.000705179\n",
       "7       -0.038065\n",
       "8       -0.138926\n",
       "9       -0.783107\n",
       "10      -0.204385\n",
       "11     -0.0897917\n",
       "12       -1.34639\n",
       "13    -0.00123171\n",
       "14     -0.0807649\n",
       "15     2022-01-09\n",
       "16    1.64169e+09\n",
       "Name: Position($,Billion), dtype: object"
      ]
     },
     "execution_count": 23,
     "metadata": {},
     "output_type": "execute_result"
    }
   ],
   "source": [
    "FINAL_DF_T['Position($,Billion)']"
   ]
  },
  {
   "cell_type": "code",
   "execution_count": 24,
   "id": "2f86e1f4",
   "metadata": {
    "ExecuteTime": {
     "end_time": "2022-01-18T11:05:05.357458Z",
     "start_time": "2022-01-18T11:05:05.355328Z"
    }
   },
   "outputs": [],
   "source": [
    "b = pow(10,9)"
   ]
  },
  {
   "cell_type": "code",
   "execution_count": null,
   "id": "deff68aa",
   "metadata": {
    "ExecuteTime": {
     "start_time": "2022-01-18T11:04:00.118Z"
    }
   },
   "outputs": [],
   "source": [
    "FINAL_DF_T['Position'] = FINAL_DF_T['Position($,Billion)'] * b"
   ]
  },
  {
   "cell_type": "code",
   "execution_count": null,
   "id": "6c57e6c7",
   "metadata": {
    "ExecuteTime": {
     "start_time": "2022-01-18T11:04:00.120Z"
    }
   },
   "outputs": [],
   "source": [
    "FINAL_DF_T.to_csv(requiredDate + '_compoundHistoricalDataDF.csv',chunksize=100000, index= False)"
   ]
  },
  {
   "cell_type": "code",
   "execution_count": null,
   "id": "4dfc8501",
   "metadata": {
    "ExecuteTime": {
     "start_time": "2022-01-18T11:04:00.121Z"
    }
   },
   "outputs": [],
   "source": [
    "pow(10,9)"
   ]
  },
  {
   "cell_type": "code",
   "execution_count": null,
   "id": "45c6c339",
   "metadata": {},
   "outputs": [],
   "source": []
  }
 ],
 "metadata": {
  "kernelspec": {
   "display_name": "Python 3",
   "language": "python",
   "name": "python3"
  },
  "language_info": {
   "codemirror_mode": {
    "name": "ipython",
    "version": 3
   },
   "file_extension": ".py",
   "mimetype": "text/x-python",
   "name": "python",
   "nbconvert_exporter": "python",
   "pygments_lexer": "ipython3",
   "version": "3.6.13"
  }
 },
 "nbformat": 4,
 "nbformat_minor": 5
}
