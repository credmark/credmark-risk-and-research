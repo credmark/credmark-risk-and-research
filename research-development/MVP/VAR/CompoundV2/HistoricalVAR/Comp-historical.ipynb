{
 "cells": [
  {
   "cell_type": "code",
   "execution_count": 27,
   "id": "80981ad3",
   "metadata": {
    "ExecuteTime": {
     "end_time": "2022-01-13T06:08:35.140446Z",
     "start_time": "2022-01-13T06:08:35.137738Z"
    },
    "code_folding": []
   },
   "outputs": [],
   "source": [
    "# ## Imports\n",
    "import os\n",
    "import json\n",
    "import boto3\n",
    "import requests\n",
    "import numpy as np\n",
    "import pandas as pd\n",
    "from io import StringIO\n",
    "from datetime import timedelta\n",
    "from datetime import datetime\n",
    "from gql import gql, Client\n",
    "from gql.transport.requests import RequestsHTTPTransport\n",
    "\n",
    "\n",
    "import matplotlib.pyplot as plt"
   ]
  },
  {
   "cell_type": "code",
   "execution_count": 28,
   "id": "1cb648d3",
   "metadata": {
    "ExecuteTime": {
     "end_time": "2022-01-13T06:08:35.154456Z",
     "start_time": "2022-01-13T06:08:35.141684Z"
    },
    "code_folding": []
   },
   "outputs": [],
   "source": [
    "def change():\n",
    "\n",
    "    names = {\"DAI\"  : 'dai',\n",
    "        \"GUSD\"  : 'gemini-dollar',\n",
    "        # \"SUSD\"  : 'susd',\n",
    "        \"TUSD\"  : 'true-usd',\n",
    "        \"USDC\"  : 'usd-coin',\n",
    "        \"USDP\"  : 'usdp',\n",
    "        \"USDT\"  : \"tether\",\n",
    "        \"BAL\"   : \"balancer\",\n",
    "        \"WETH\"   : \"ethereum\",\n",
    "        \"LINK\"  : \"chainlink\",\n",
    "        \"MKR\"   : \"maker\",\n",
    "        \"RAI\"   : \"rai\",\n",
    "        \"UNI\"   : \"uniswap\",\n",
    "        \"WBTC\"  : \"wrapped-bitcoin\",\n",
    "        \"XSUSHI\": \"xsushi\",\n",
    "        \"YFI\"   : \"yearn-finance\",\n",
    "        \"BUSD\"  : \"binance-usd\",\n",
    "        \"FEI\"   : \"fei-usd\",\n",
    "        \"FRAX\"  : \"frax\",\n",
    "        \"AAVE\"  : \"aave\",\n",
    "        \"AMPL\"  : \"ampleforth\",\n",
    "        \"BAT\"   : \"basic-attention-token\",\n",
    "        \"CRV\"   : \"curve-dao-token\",\n",
    "        \"DPI\"   : \"defipulse-index\",\n",
    "        # \"ENJ\"   : \"enjin-coin\",\n",
    "        \"KNC\"   : \"kyber-network-crystal\",\n",
    "        \"MANA\"  : \"decentraland\",\n",
    "        # \"REN\"   : \"ren\",\n",
    "        \"RENFIL\": \"renfil\",\n",
    "        # \"SNX\"   :\"synthetix-network-token\",\n",
    "        \"ZRX\"   : \"0x\"\n",
    "        }\n",
    "    columns = []\n",
    "    columns.append('timestamp')\n",
    "    for key in list(names.keys()):\n",
    "        columns.append(key+'_price')\n",
    "        columns.append(key+'_%change(10)')\n",
    "    df        = pd.DataFrame(columns = columns)\n",
    "    LOOK_BACK = 375 * 2\n",
    "    #LIMIT     = 5\n",
    "    WBTC      = []\n",
    "    request   = requests.get(\"https://api.coingecko.com/api/v3/coins/\"+ str(names['WBTC'])+ \"/market_chart?vs_currency=usd&days=max&interval=daily\")\n",
    "    data      = request.json()\n",
    "    WBTC      = data['prices']\n",
    "    tt        = []\n",
    "    P         = []\n",
    "    for day in data['prices'][-LOOK_BACK:]:\n",
    "        tt.append(day[0]/1000)\n",
    "        P.append(day[1])\n",
    "    df['WBTC_price'] = P\n",
    "    df['timestamp']  = tt\n",
    "    track = {}\n",
    "    for asset in list(names.keys()):#[:LIMIT]:\n",
    "        if asset == 'WBTC':\n",
    "            continue\n",
    "        request = requests.get(\"https://api.coingecko.com/api/v3/coins/\"+ str(names[asset])+ \"/market_chart?vs_currency=usd&days=max&interval=daily\")\n",
    "        data = request.json()\n",
    "        tt = []\n",
    "        P = []\n",
    "        \n",
    "        if len(data['prices']) < LOOK_BACK:\n",
    "            req = LOOK_BACK - len(data['prices'])\n",
    "            addition = WBTC[-LOOK_BACK:  -LOOK_BACK + req ]\n",
    "            data['prices'] = addition + data['prices']\n",
    "            track[asset] = req\n",
    "        else:\n",
    "            data['prices'] = data['prices'][-LOOK_BACK:]\n",
    "        \n",
    "        for day in data['prices']:\n",
    "            tt.append(day[0]/1000)\n",
    "            P.append(day[1])\n",
    "        df[asset+'_price'] = P\n",
    "        df['timestamp']  = tt\n",
    "    df['timestamp'] = tt\n",
    "    for asset in list(names.keys()):#[:LIMIT]:\n",
    "        \n",
    "        diff_10 = pd.DataFrame(df[asset+'_price'].diff(periods=10) )\n",
    "        change = []\n",
    "        for i in range(10):\n",
    "            change.append('Nan')\n",
    "        for i in range(10,df.shape[0]):\n",
    "            change.append((diff_10.iloc[i][asset+'_price'] / df.iloc[i-10][asset+'_price']) * 100)\n",
    "        df[asset+'_%change(10)'] = change\n",
    "        \n",
    "        diff_1 = pd.DataFrame(df[asset+'_price'].diff(periods=1) )\n",
    "        change = []\n",
    "        for i in range(10):\n",
    "            change.append('Nan')\n",
    "        for i in range(10,df.shape[0]):\n",
    "            change.append((diff_1.iloc[i][asset+'_price'] / df.iloc[i-10][asset+'_price']) * 100)\n",
    "        df[asset+'_%change(1)'] = change        \n",
    "    for key in track.keys():\n",
    "        df[key+'_%change(10)'][:track[key]] = df['WBTC_%change(10)'][:track[key]]\n",
    "\n",
    "    df['date'] = df['timestamp'].apply(lambda x : str(datetime.fromtimestamp(x).date()))\n",
    "    df  = df.iloc[::-1]\n",
    "    df  = df.reset_index()\n",
    "    df = df.drop(['index'], axis=1)\n",
    "\n",
    "    df = df[:-10]\n",
    "\n",
    "    print(\"CHECK POINT \")\n",
    "    return df"
   ]
  },
  {
   "cell_type": "code",
   "execution_count": 29,
   "id": "f726292d",
   "metadata": {
    "ExecuteTime": {
     "end_time": "2022-01-13T06:08:35.158322Z",
     "start_time": "2022-01-13T06:08:35.156094Z"
    },
    "code_folding": [
     1
    ]
   },
   "outputs": [],
   "source": [
    "# transactionResponse = {}\n",
    "# names = {\"DAI\"  : 'dai',\n",
    "#         \"GUSD\"  : 'gemini-dollar',\n",
    "#         # \"SUSD\"  : 'susd',\n",
    "#         \"TUSD\"  : 'true-usd',\n",
    "#         \"USDC\"  : 'usd-coin',\n",
    "#         # \"USDP\"  : 'usdp',\n",
    "#         \"USDT\"  : \"tether\",\n",
    "#         \"BAL\"   : \"balancer\",\n",
    "#         \"WETH\"   : \"ethereum\",\n",
    "#         \"LINK\"  : \"chainlink\",\n",
    "#         \"MKR\"   : \"maker\",\n",
    "#         \"RAI\"   : \"rai\",\n",
    "#         \"UNI\"   : \"uniswap\",\n",
    "#         \"WBTC\"  : \"wrapped-bitcoin\",\n",
    "#         \"XSUSHI\": \"xsushi\",\n",
    "#         \"YFI\"   : \"yearn-finance\",\n",
    "#         \"BUSD\"  : \"binance-usd\",\n",
    "#         \"FEI\"   : \"fei-usd\",\n",
    "#         \"FRAX\"  : \"frax\",\n",
    "#         \"AAVE\"  : \"aave\",\n",
    "#         \"AMPL\"  : \"ampleforth\",\n",
    "#         \"BAT\"   : \"basic-attention-token\",\n",
    "#         \"CRV\"   : \"curve-dao-token\",\n",
    "#         \"DPI\"   : \"defipulse-index\",\n",
    "#         # # \"ENJ\"   : \"enjin-coin\",\n",
    "#         \"KNC\"   : \"kyber-network-crystal\",\n",
    "#         \"MANA\"  : \"decentraland\",\n",
    "#         # \"REN\"   : \"ren\",\n",
    "#         \"RENFIL\": \"renfil\",\n",
    "#         # \"SNX\"   :\"synthetix-network-token\",\n",
    "#         \"ZRX\"   : \"0x\"\n",
    "#         }\n",
    "# errors = []\n",
    "# print(\"Creating key\")\n",
    "# transactionResponse = {\"result\":{\"AAVEV2\":{}}}\n",
    "# ind       = 0\n",
    "# look_back = 1\n"
   ]
  },
  {
   "cell_type": "code",
   "execution_count": null,
   "id": "e882bb5a",
   "metadata": {},
   "outputs": [],
   "source": []
  },
  {
   "cell_type": "code",
   "execution_count": 30,
   "id": "9bdeff28",
   "metadata": {
    "ExecuteTime": {
     "end_time": "2022-01-13T06:08:35.162107Z",
     "start_time": "2022-01-13T06:08:35.159657Z"
    }
   },
   "outputs": [],
   "source": [
    "## Compaound market historial API"
   ]
  },
  {
   "cell_type": "code",
   "execution_count": null,
   "id": "0a5d38fe",
   "metadata": {},
   "outputs": [],
   "source": []
  },
  {
   "cell_type": "code",
   "execution_count": 31,
   "id": "ab5d1427",
   "metadata": {
    "ExecuteTime": {
     "end_time": "2022-01-13T06:08:35.165248Z",
     "start_time": "2022-01-13T06:08:35.163340Z"
    },
    "scrolled": true
   },
   "outputs": [],
   "source": [
    "# res  = requests.get(\"https://api.compound.finance/api/v2/ctoken\")\n",
    "# for ctoken in res.json()['cToken'][6:]:\n",
    "#     print(ctoken['symbol'],ctoken['token_address'])\n",
    "#     res = requests.get(\"https://api.compound.finance/api/v2/market_history/graph?asset=%s&min_block_timestamp=1633285800&max_block_timestamp=1634149800&num_buckets=40\" %ctoken['token_address']);            \n",
    "    \n",
    "#     print(res.json())\n",
    "#     break"
   ]
  },
  {
   "cell_type": "code",
   "execution_count": null,
   "id": "8a080c12",
   "metadata": {},
   "outputs": [],
   "source": []
  },
  {
   "cell_type": "code",
   "execution_count": 32,
   "id": "d337581e",
   "metadata": {
    "ExecuteTime": {
     "end_time": "2022-01-13T06:09:05.794912Z",
     "start_time": "2022-01-13T06:08:35.166476Z"
    },
    "code_folding": [
     41,
     64
    ]
   },
   "outputs": [
    {
     "name": "stdout",
     "output_type": "stream",
     "text": [
      "{'DAI': 'dai', 'TUSD': 'true-usd', 'USDC': 'usd-coin', 'USDT': 'tether', 'ETH': 'ethereum', 'LINK': 'chainlink', 'MKR': 'maker', 'UNI': 'uniswap', 'WBTC': 'wrapped-bitcoin', 'WBTC2': 'wrapped-bitcoin', 'SUSHI': 'sushi', 'YFI': 'yearn-finance', 'AAVE': 'aave', 'BAT': 'basic-attention-token', 'ZRX': '0x', 'REP': 'augur', 'SAI': 'sai'}\n",
      "DEBUG 1  DAI\n",
      "DEBUG 1  TUSD\n",
      "DEBUG 1  USDC\n",
      "DEBUG 1  USDT\n",
      "DEBUG 1  ETH\n",
      "DEBUG 1  LINK\n",
      "DEBUG 1  MKR\n",
      "DEBUG 1  UNI\n",
      "DEBUG 1  WBTC2\n",
      "DEBUG 1  SUSHI\n",
      "DEBUG 1  YFI\n",
      "DEBUG 1  AAVE\n",
      "DEBUG 1  BAT\n",
      "DEBUG 1  ZRX\n",
      "DEBUG 1  REP\n",
      "DEBUG 1  SAI\n",
      "CHECK POINT \n"
     ]
    },
    {
     "name": "stderr",
     "output_type": "stream",
     "text": [
      "/home/nishgaba/anaconda3/envs/defi/lib/python3.6/site-packages/ipykernel_launcher.py:83: SettingWithCopyWarning: \n",
      "A value is trying to be set on a copy of a slice from a DataFrame\n",
      "\n",
      "See the caveats in the documentation: https://pandas.pydata.org/pandas-docs/stable/user_guide/indexing.html#returning-a-view-versus-a-copy\n"
     ]
    }
   ],
   "source": [
    "names = {\"DAI\"  : 'dai',\n",
    "        \"TUSD\"  : 'true-usd',\n",
    "        \"USDC\"  : 'usd-coin',\n",
    "        \"USDT\"  : \"tether\",\n",
    "        \"ETH\"   : \"ethereum\",\n",
    "        \"LINK\"  : \"chainlink\",\n",
    "        \"MKR\"   : \"maker\",\n",
    "        \"UNI\"   : \"uniswap\",\n",
    "        \"WBTC\"  : \"wrapped-bitcoin\",\n",
    "        \"WBTC2\"  : \"wrapped-bitcoin\",\n",
    "        \"SUSHI\" :\"sushi\",  \n",
    "        \"YFI\"   : \"yearn-finance\",\n",
    "        \"AAVE\"  : \"aave\",\n",
    "        \"BAT\"   : \"basic-attention-token\",\n",
    "        \"ZRX\"   : \"0x\",\n",
    "        \"REP\"   : \"augur\",\n",
    "        \"SAI\"   : \"sai\",\n",
    "        }\n",
    "\n",
    "def change():    \n",
    "    columns = []\n",
    "    columns.append('timestamp')\n",
    "    print(names)\n",
    "    for key in list(names.keys()):\n",
    "        columns.append(key+'_price')\n",
    "        columns.append(key+'_%change(10)')\n",
    "    df        = pd.DataFrame(columns = columns)\n",
    "    LOOK_BACK = 375 * 2\n",
    "    #LIMIT     = 5\n",
    "    WBTC      = []\n",
    "    request   = requests.get(\"https://api.coingecko.com/api/v3/coins/\"+ str(names['WBTC'])+ \"/market_chart?vs_currency=usd&days=max&interval=daily\")\n",
    "    data      = request.json()\n",
    "    WBTC      = data['prices']\n",
    "    tt        = []\n",
    "    P         = []\n",
    "    for day in data['prices'][-LOOK_BACK:]:\n",
    "        tt.append(day[0]/1000)\n",
    "        P.append(day[1])\n",
    "    df['WBTC_price'] = P\n",
    "    df['timestamp']  = tt\n",
    "    track = {}\n",
    "    for asset in list(names.keys()):#[:LIMIT]:\n",
    "        if asset == 'WBTC':\n",
    "            continue\n",
    "        print(\"DEBUG 1 \", asset)\n",
    "        request = requests.get(\"https://api.coingecko.com/api/v3/coins/\"+ str(names[asset])+ \"/market_chart?vs_currency=usd&days=max&interval=daily\")\n",
    "        data = request.json()\n",
    "        tt = []\n",
    "        P = []\n",
    "        # print(\"DEBUG 1 \", data)\n",
    "        if len(data['prices']) < LOOK_BACK:\n",
    "            req = LOOK_BACK - len(data['prices'])\n",
    "            addition = WBTC[-LOOK_BACK:  -LOOK_BACK + req ]\n",
    "            data['prices'] = addition + data['prices']\n",
    "            track[asset] = req\n",
    "        else:\n",
    "            data['prices'] = data['prices'][-LOOK_BACK:]\n",
    "\n",
    "        for day in data['prices']:\n",
    "            tt.append(day[0]/1000)\n",
    "            P.append(day[1])\n",
    "        df[asset+'_price'] = P\n",
    "#         df['timestamp']  = tt\n",
    "#     df['timestamp'] = tt\n",
    "    for asset in list(names.keys()):#[:LIMIT]:\n",
    "\n",
    "        diff_10 = pd.DataFrame(df[asset+'_price'].diff(periods=10) )\n",
    "        change = []\n",
    "        for i in range(10):\n",
    "            change.append('Nan')\n",
    "        for i in range(10,df.shape[0]):\n",
    "            change.append((diff_10.iloc[i][asset+'_price'] / df.iloc[i-10][asset+'_price']) * 100)\n",
    "        df[asset+'_%change(10)'] = change\n",
    "\n",
    "        diff_1 = pd.DataFrame(df[asset+'_price'].diff(periods=1) )\n",
    "        change = []\n",
    "        for i in range(10):\n",
    "            change.append('Nan')\n",
    "        for i in range(10,df.shape[0]):\n",
    "            change.append((diff_1.iloc[i][asset+'_price'] / df.iloc[i-10][asset+'_price']) * 100)\n",
    "        df[asset+'_%change(1)'] = change        \n",
    "    for key in track.keys():\n",
    "        df[key+'_%change(10)'][:track[key]] = df['WBTC_%change(10)'][:track[key]]\n",
    "\n",
    "    df['date'] = df['timestamp'].apply(lambda x : str(datetime.fromtimestamp(x).date()))\n",
    "    df  = df.iloc[::-1]\n",
    "    df  = df.reset_index()\n",
    "    df = df.drop(['index'], axis=1)\n",
    "    df = df[:-10]\n",
    "    print(\"CHECK POINT \")\n",
    "    return df[1:]\n",
    "\n",
    "change_df = change()\n",
    "\n",
    "# min_var = 9999999"
   ]
  },
  {
   "cell_type": "code",
   "execution_count": 33,
   "id": "a0420e73",
   "metadata": {
    "ExecuteTime": {
     "end_time": "2022-01-13T06:09:05.921185Z",
     "start_time": "2022-01-13T06:09:05.797425Z"
    }
   },
   "outputs": [
    {
     "name": "stdout",
     "output_type": "stream",
     "text": [
      "mkdir: cannot create directory ‘COMPOUND_DATA’: File exists\r\n"
     ]
    }
   ],
   "source": [
    "!mkdir COMPOUND_DATA"
   ]
  },
  {
   "cell_type": "code",
   "execution_count": 34,
   "id": "6f0c2d04",
   "metadata": {
    "ExecuteTime": {
     "end_time": "2022-01-13T06:09:05.925381Z",
     "start_time": "2022-01-13T06:09:05.923052Z"
    },
    "code_folding": [
     0
    ]
   },
   "outputs": [],
   "source": [
    "# names = {\"DAI\"  : 'dai',\n",
    "#         \"GUSD\"  : 'gemini-dollar',\n",
    "#         # \"SUSD\"  : 'susd',\n",
    "#         \"TUSD\"  : 'true-usd',\n",
    "#         \"USDC\"  : 'usd-coin',\n",
    "#         # \"USDP\"  : 'usdp',\n",
    "#         \"USDT\"  : \"tether\",\n",
    "#         \"BAL\"   : \"balancer\",\n",
    "#         \"WETH\"   : \"ethereum\",\n",
    "#         \"LINK\"  : \"chainlink\",\n",
    "#         \"MKR\"   : \"maker\",\n",
    "#         \"RAI\"   : \"rai\",\n",
    "#         \"UNI\"   : \"uniswap\",\n",
    "#         \"WBTC\"  : \"wrapped-bitcoin\",\n",
    "#         \"XSUSHI\": \"xsushi\",\n",
    "#         \"YFI\"   : \"yearn-finance\",\n",
    "#         \"BUSD\"  : \"binance-usd\",\n",
    "#         \"FEI\"   : \"fei-usd\",\n",
    "#         \"FRAX\"  : \"frax\",\n",
    "#         \"AAVE\"  : \"aave\",\n",
    "#         \"AMPL\"  : \"ampleforth\",\n",
    "#         \"BAT\"   : \"basic-attention-token\",\n",
    "#         \"CRV\"   : \"curve-dao-token\",\n",
    "#         \"DPI\"   : \"defipulse-index\",\n",
    "#         # # \"ENJ\"   : \"enjin-coin\",\n",
    "#         \"KNC\"   : \"kyber-network-crystal\",\n",
    "#         \"MANA\"  : \"decentraland\",\n",
    "#         # \"REN\"   : \"ren\",\n",
    "#         \"RENFIL\": \"renfil\",\n",
    "#         # \"SNX\"   :\"synthetix-network-token\",\n",
    "#         \"ZRX\"   : \"0x\"\n",
    "#         }"
   ]
  },
  {
   "cell_type": "code",
   "execution_count": 35,
   "id": "f583c01c",
   "metadata": {
    "ExecuteTime": {
     "end_time": "2022-01-13T06:09:05.931416Z",
     "start_time": "2022-01-13T06:09:05.927524Z"
    },
    "code_folding": [
     0
    ]
   },
   "outputs": [],
   "source": [
    "names = {\"DAI\"  : 'dai',\n",
    "        \"TUSD\"  : 'true-usd',\n",
    "        \"USDC\"  : 'usd-coin',\n",
    "        \"USDT\"  : \"tether\",\n",
    "        \"ETH\"   : \"ethereum\",\n",
    "        \"LINK\"  : \"chainlink\",\n",
    "        \"MKR\"   : \"maker\",\n",
    "        \"UNI\"   : \"uniswap\",\n",
    "        \"WBTC\"  : \"wrapped-bitcoin\",\n",
    "        \"WBTC2\"  : \"wrapped-bitcoin\",\n",
    "        \"SUSHI\" :\"sushi\", # check -- - - - - -- \n",
    "        \"YFI\"   : \"yearn-finance\",\n",
    "        \"AAVE\"  : \"aave\",\n",
    "        \"BAT\"   : \"basic-attention-token\",\n",
    "        \"ZRX\"   : \"0x\",\n",
    "        \"REP\"   : \"augur\",\n",
    "        \"SAI\"   : \"sai\",\n",
    "        }"
   ]
  },
  {
   "cell_type": "code",
   "execution_count": null,
   "id": "674b999f",
   "metadata": {},
   "outputs": [],
   "source": []
  },
  {
   "cell_type": "code",
   "execution_count": 36,
   "id": "7557b7e4",
   "metadata": {
    "ExecuteTime": {
     "end_time": "2022-01-13T06:09:17.937730Z",
     "start_time": "2022-01-13T06:09:05.933943Z"
    },
    "code_folding": []
   },
   "outputs": [
    {
     "name": "stdout",
     "output_type": "stream",
     "text": [
      "cWBTC\n",
      "cMKR\n",
      "cZRX\n",
      "cYFI\n",
      "cSUSHI\n",
      "cLINK\n",
      "cBAT\n",
      "cUNI\n",
      "cWBTC2\n",
      "cUSDT\n",
      "cTUSD\n",
      "cCOMP\n",
      "cAAVE\n",
      "cUSDC\n",
      "cETH\n",
      "cDAI\n"
     ]
    }
   ],
   "source": [
    "ind  = 0 \n",
    "res  = requests.get(\"https://api.compound.finance/api/v2/ctoken\")\n",
    "df   = pd.DataFrame(columns = list(res.json()['cToken'][0].keys()))\n",
    "for ctoken in res.json()['cToken'][3:]:\n",
    "    \n",
    "    print(ctoken['symbol'])\n",
    "    if ctoken['symbol'] == 'cCOMP':\n",
    "        continue\n",
    "\n",
    "    ind += 1\n",
    "    for key in ctoken.keys():\n",
    "        try:\n",
    "            df.at[ind,key ] = ctoken[key]['value']\n",
    "        except:\n",
    "            df.at[ind,key ] = ctoken[key]\n",
    "\n",
    "    \n",
    "\n",
    "    address   = ctoken['token_address']\n",
    "\n",
    "    request   = requests.get(\"https://api.coingecko.com/api/v3/coins/\"+ str(names[ctoken['symbol'][1:]])+ \"/market_chart?vs_currency=usd&days=max&interval=daily\")\n",
    "    prices_df = pd.DataFrame(columns=['timestamp', 'price'])\n",
    "    timestamp = []\n",
    "    prices    = []\n",
    "\n",
    "    for req in request.json()['prices']:\n",
    "        timestamp.append(int(float(req[0])/1000))\n",
    "        prices.append(req[1])\n",
    "\n",
    "    prices_df['timestamp'] = timestamp\n",
    "    prices_df['price']     = prices\n",
    "\n",
    "    date= []\n",
    "    for time in timestamp:\n",
    "        date.append(datetime.fromtimestamp(time).strftime('%Y-%m-%d'))\n",
    "    prices_df['date']  = date"
   ]
  },
  {
   "cell_type": "code",
   "execution_count": 37,
   "id": "87ebe7e4",
   "metadata": {
    "ExecuteTime": {
     "end_time": "2022-01-13T06:09:17.950152Z",
     "start_time": "2022-01-13T06:09:17.939628Z"
    }
   },
   "outputs": [
    {
     "data": {
      "text/html": [
       "<div>\n",
       "<style scoped>\n",
       "    .dataframe tbody tr th:only-of-type {\n",
       "        vertical-align: middle;\n",
       "    }\n",
       "\n",
       "    .dataframe tbody tr th {\n",
       "        vertical-align: top;\n",
       "    }\n",
       "\n",
       "    .dataframe thead th {\n",
       "        text-align: right;\n",
       "    }\n",
       "</style>\n",
       "<table border=\"1\" class=\"dataframe\">\n",
       "  <thead>\n",
       "    <tr style=\"text-align: right;\">\n",
       "      <th></th>\n",
       "      <th>timestamp</th>\n",
       "      <th>price</th>\n",
       "      <th>date</th>\n",
       "    </tr>\n",
       "  </thead>\n",
       "  <tbody>\n",
       "    <tr>\n",
       "      <th>0</th>\n",
       "      <td>1574121600</td>\n",
       "      <td>1.000651</td>\n",
       "      <td>2019-11-19</td>\n",
       "    </tr>\n",
       "    <tr>\n",
       "      <th>1</th>\n",
       "      <td>1574208000</td>\n",
       "      <td>0.995411</td>\n",
       "      <td>2019-11-20</td>\n",
       "    </tr>\n",
       "    <tr>\n",
       "      <th>2</th>\n",
       "      <td>1574294400</td>\n",
       "      <td>0.991591</td>\n",
       "      <td>2019-11-21</td>\n",
       "    </tr>\n",
       "    <tr>\n",
       "      <th>3</th>\n",
       "      <td>1574380800</td>\n",
       "      <td>0.991102</td>\n",
       "      <td>2019-11-22</td>\n",
       "    </tr>\n",
       "    <tr>\n",
       "      <th>4</th>\n",
       "      <td>1574467200</td>\n",
       "      <td>0.992850</td>\n",
       "      <td>2019-11-23</td>\n",
       "    </tr>\n",
       "    <tr>\n",
       "      <th>...</th>\n",
       "      <td>...</td>\n",
       "      <td>...</td>\n",
       "      <td>...</td>\n",
       "    </tr>\n",
       "    <tr>\n",
       "      <th>783</th>\n",
       "      <td>1641772800</td>\n",
       "      <td>1.002857</td>\n",
       "      <td>2022-01-10</td>\n",
       "    </tr>\n",
       "    <tr>\n",
       "      <th>784</th>\n",
       "      <td>1641859200</td>\n",
       "      <td>1.001071</td>\n",
       "      <td>2022-01-11</td>\n",
       "    </tr>\n",
       "    <tr>\n",
       "      <th>785</th>\n",
       "      <td>1641945600</td>\n",
       "      <td>0.999613</td>\n",
       "      <td>2022-01-12</td>\n",
       "    </tr>\n",
       "    <tr>\n",
       "      <th>786</th>\n",
       "      <td>1642032000</td>\n",
       "      <td>1.001430</td>\n",
       "      <td>2022-01-13</td>\n",
       "    </tr>\n",
       "    <tr>\n",
       "      <th>787</th>\n",
       "      <td>1642084484</td>\n",
       "      <td>1.006948</td>\n",
       "      <td>2022-01-13</td>\n",
       "    </tr>\n",
       "  </tbody>\n",
       "</table>\n",
       "<p>788 rows × 3 columns</p>\n",
       "</div>"
      ],
      "text/plain": [
       "      timestamp     price        date\n",
       "0    1574121600  1.000651  2019-11-19\n",
       "1    1574208000  0.995411  2019-11-20\n",
       "2    1574294400  0.991591  2019-11-21\n",
       "3    1574380800  0.991102  2019-11-22\n",
       "4    1574467200  0.992850  2019-11-23\n",
       "..          ...       ...         ...\n",
       "783  1641772800  1.002857  2022-01-10\n",
       "784  1641859200  1.001071  2022-01-11\n",
       "785  1641945600  0.999613  2022-01-12\n",
       "786  1642032000  1.001430  2022-01-13\n",
       "787  1642084484  1.006948  2022-01-13\n",
       "\n",
       "[788 rows x 3 columns]"
      ]
     },
     "execution_count": 37,
     "metadata": {},
     "output_type": "execute_result"
    }
   ],
   "source": [
    "prices_df"
   ]
  },
  {
   "cell_type": "code",
   "execution_count": 38,
   "id": "eb2c58d4",
   "metadata": {
    "ExecuteTime": {
     "end_time": "2022-01-13T06:09:17.954552Z",
     "start_time": "2022-01-13T06:09:17.951997Z"
    }
   },
   "outputs": [],
   "source": [
    "\n",
    "# PLATFORM: AAVE_V2, Compound\n"
   ]
  },
  {
   "cell_type": "code",
   "execution_count": 39,
   "id": "68fdbe64",
   "metadata": {
    "ExecuteTime": {
     "end_time": "2022-01-13T06:09:17.959553Z",
     "start_time": "2022-01-13T06:09:17.956470Z"
    }
   },
   "outputs": [],
   "source": [
    "# !mkdir COMPOUND_DATA"
   ]
  },
  {
   "cell_type": "code",
   "execution_count": 40,
   "id": "35dd2dee",
   "metadata": {
    "ExecuteTime": {
     "end_time": "2022-01-13T06:11:24.405154Z",
     "start_time": "2022-01-13T06:09:17.960811Z"
    },
    "code_folding": [],
    "scrolled": true
   },
   "outputs": [
    {
     "name": "stdout",
     "output_type": "stream",
     "text": [
      "***\n",
      "***\n",
      "***\n",
      "***\n",
      "***\n",
      "********************** (65, 10)\n",
      "***\n",
      "***\n",
      "***\n",
      "***\n",
      "***\n",
      "ERROR  index 0 is out of bounds for axis 0 with size 0 cSAI\n",
      "ERROR  'USDP' cUSDP\n",
      "***\n",
      "***\n",
      "***\n",
      "***\n",
      "***\n",
      "********************** (144, 10)\n",
      "***\n",
      "***\n",
      "***\n",
      "***\n",
      "***\n",
      "********************** (135, 10)\n",
      "***\n",
      "***\n",
      "***\n",
      "***\n",
      "***\n",
      "********************** (148, 10)\n",
      "***\n",
      "***\n",
      "***\n",
      "***\n",
      "***\n",
      "********************** (143, 10)\n",
      "***\n",
      "***\n",
      "***\n",
      "***\n",
      "***\n",
      "********************** (147, 10)\n",
      "***\n",
      "***\n",
      "***\n",
      "***\n",
      "***\n",
      "********************** (150, 10)\n",
      "***\n",
      "***\n",
      "***\n",
      "***\n",
      "***\n",
      "********************** (150, 10)\n",
      "***\n",
      "***\n",
      "***\n",
      "***\n",
      "***\n",
      "********************** (150, 10)\n",
      "***\n",
      "***\n",
      "***\n",
      "***\n",
      "***\n",
      "********************** (150, 10)\n",
      "***\n",
      "***\n",
      "***\n",
      "***\n",
      "***\n",
      "********************** (150, 10)\n",
      "***\n",
      "***\n",
      "***\n",
      "***\n",
      "***\n",
      "********************** (142, 10)\n",
      "ERROR  'COMP' cCOMP\n",
      "***\n",
      "***\n",
      "***\n",
      "***\n",
      "***\n",
      "ERROR  [Errno 13] Permission denied: 'COMPOUND_DATA/DF_AAVE.csv' cAAVE\n",
      "***\n",
      "***\n",
      "***\n",
      "***\n",
      "***\n",
      "********************** (150, 10)\n",
      "***\n",
      "***\n",
      "***\n"
     ]
    },
    {
     "ename": "KeyboardInterrupt",
     "evalue": "",
     "output_type": "error",
     "traceback": [
      "\u001b[0;31m---------------------------------------------------------------------------\u001b[0m",
      "\u001b[0;31mKeyboardInterrupt\u001b[0m                         Traceback (most recent call last)",
      "\u001b[0;32m<ipython-input-40-1a3e9b6bde1f>\u001b[0m in \u001b[0;36m<module>\u001b[0;34m\u001b[0m\n\u001b[1;32m     43\u001b[0m         \u001b[0;32mfor\u001b[0m \u001b[0m_\u001b[0m \u001b[0;32min\u001b[0m \u001b[0mrange\u001b[0m\u001b[0;34m(\u001b[0m\u001b[0;36m5\u001b[0m\u001b[0;34m)\u001b[0m\u001b[0;34m:\u001b[0m\u001b[0;34m\u001b[0m\u001b[0;34m\u001b[0m\u001b[0m\n\u001b[1;32m     44\u001b[0m             \u001b[0mmin_timestamp\u001b[0m \u001b[0;34m=\u001b[0m \u001b[0mmax_timstamp\u001b[0m  \u001b[0;34m-\u001b[0m  \u001b[0;36m30\u001b[0m \u001b[0;34m*\u001b[0m \u001b[0;36m86400\u001b[0m\u001b[0;34m\u001b[0m\u001b[0;34m\u001b[0m\u001b[0m\n\u001b[0;32m---> 45\u001b[0;31m             \u001b[0mres\u001b[0m \u001b[0;34m=\u001b[0m \u001b[0mrequests\u001b[0m\u001b[0;34m.\u001b[0m\u001b[0mget\u001b[0m\u001b[0;34m(\u001b[0m\u001b[0;34m\"https://api.compound.finance/api/v2/market_history/graph?asset=%s&min_block_timestamp=%s&max_block_timestamp=%s&num_buckets=50\"\u001b[0m \u001b[0;34m%\u001b[0m \u001b[0;34m(\u001b[0m \u001b[0maddress\u001b[0m\u001b[0;34m,\u001b[0m\u001b[0mmin_timestamp\u001b[0m\u001b[0;34m,\u001b[0m \u001b[0mmax_timstamp\u001b[0m\u001b[0;34m)\u001b[0m\u001b[0;34m)\u001b[0m\u001b[0;34m;\u001b[0m\u001b[0;34m\u001b[0m\u001b[0;34m\u001b[0m\u001b[0m\n\u001b[0m\u001b[1;32m     46\u001b[0m             \u001b[0mmax_timstamp\u001b[0m \u001b[0;34m=\u001b[0m \u001b[0mmax_timstamp\u001b[0m   \u001b[0;34m-\u001b[0m \u001b[0;36m30\u001b[0m \u001b[0;34m*\u001b[0m \u001b[0;36m86400\u001b[0m\u001b[0;34m\u001b[0m\u001b[0;34m\u001b[0m\u001b[0m\n\u001b[1;32m     47\u001b[0m             \u001b[0mtemp\u001b[0m \u001b[0;34m=\u001b[0m \u001b[0mres\u001b[0m\u001b[0;34m.\u001b[0m\u001b[0mjson\u001b[0m\u001b[0;34m(\u001b[0m\u001b[0;34m)\u001b[0m\u001b[0;34m\u001b[0m\u001b[0;34m\u001b[0m\u001b[0m\n",
      "\u001b[0;32m~/anaconda3/envs/defi/lib/python3.6/site-packages/requests/api.py\u001b[0m in \u001b[0;36mget\u001b[0;34m(url, params, **kwargs)\u001b[0m\n\u001b[1;32m     74\u001b[0m \u001b[0;34m\u001b[0m\u001b[0m\n\u001b[1;32m     75\u001b[0m     \u001b[0mkwargs\u001b[0m\u001b[0;34m.\u001b[0m\u001b[0msetdefault\u001b[0m\u001b[0;34m(\u001b[0m\u001b[0;34m'allow_redirects'\u001b[0m\u001b[0;34m,\u001b[0m \u001b[0;32mTrue\u001b[0m\u001b[0;34m)\u001b[0m\u001b[0;34m\u001b[0m\u001b[0;34m\u001b[0m\u001b[0m\n\u001b[0;32m---> 76\u001b[0;31m     \u001b[0;32mreturn\u001b[0m \u001b[0mrequest\u001b[0m\u001b[0;34m(\u001b[0m\u001b[0;34m'get'\u001b[0m\u001b[0;34m,\u001b[0m \u001b[0murl\u001b[0m\u001b[0;34m,\u001b[0m \u001b[0mparams\u001b[0m\u001b[0;34m=\u001b[0m\u001b[0mparams\u001b[0m\u001b[0;34m,\u001b[0m \u001b[0;34m**\u001b[0m\u001b[0mkwargs\u001b[0m\u001b[0;34m)\u001b[0m\u001b[0;34m\u001b[0m\u001b[0;34m\u001b[0m\u001b[0m\n\u001b[0m\u001b[1;32m     77\u001b[0m \u001b[0;34m\u001b[0m\u001b[0m\n\u001b[1;32m     78\u001b[0m \u001b[0;34m\u001b[0m\u001b[0m\n",
      "\u001b[0;32m~/anaconda3/envs/defi/lib/python3.6/site-packages/requests/api.py\u001b[0m in \u001b[0;36mrequest\u001b[0;34m(method, url, **kwargs)\u001b[0m\n\u001b[1;32m     59\u001b[0m     \u001b[0;31m# cases, and look like a memory leak in others.\u001b[0m\u001b[0;34m\u001b[0m\u001b[0;34m\u001b[0m\u001b[0;34m\u001b[0m\u001b[0m\n\u001b[1;32m     60\u001b[0m     \u001b[0;32mwith\u001b[0m \u001b[0msessions\u001b[0m\u001b[0;34m.\u001b[0m\u001b[0mSession\u001b[0m\u001b[0;34m(\u001b[0m\u001b[0;34m)\u001b[0m \u001b[0;32mas\u001b[0m \u001b[0msession\u001b[0m\u001b[0;34m:\u001b[0m\u001b[0;34m\u001b[0m\u001b[0;34m\u001b[0m\u001b[0m\n\u001b[0;32m---> 61\u001b[0;31m         \u001b[0;32mreturn\u001b[0m \u001b[0msession\u001b[0m\u001b[0;34m.\u001b[0m\u001b[0mrequest\u001b[0m\u001b[0;34m(\u001b[0m\u001b[0mmethod\u001b[0m\u001b[0;34m=\u001b[0m\u001b[0mmethod\u001b[0m\u001b[0;34m,\u001b[0m \u001b[0murl\u001b[0m\u001b[0;34m=\u001b[0m\u001b[0murl\u001b[0m\u001b[0;34m,\u001b[0m \u001b[0;34m**\u001b[0m\u001b[0mkwargs\u001b[0m\u001b[0;34m)\u001b[0m\u001b[0;34m\u001b[0m\u001b[0;34m\u001b[0m\u001b[0m\n\u001b[0m\u001b[1;32m     62\u001b[0m \u001b[0;34m\u001b[0m\u001b[0m\n\u001b[1;32m     63\u001b[0m \u001b[0;34m\u001b[0m\u001b[0m\n",
      "\u001b[0;32m~/anaconda3/envs/defi/lib/python3.6/site-packages/requests/sessions.py\u001b[0m in \u001b[0;36mrequest\u001b[0;34m(self, method, url, params, data, headers, cookies, files, auth, timeout, allow_redirects, proxies, hooks, stream, verify, cert, json)\u001b[0m\n\u001b[1;32m    540\u001b[0m         }\n\u001b[1;32m    541\u001b[0m         \u001b[0msend_kwargs\u001b[0m\u001b[0;34m.\u001b[0m\u001b[0mupdate\u001b[0m\u001b[0;34m(\u001b[0m\u001b[0msettings\u001b[0m\u001b[0;34m)\u001b[0m\u001b[0;34m\u001b[0m\u001b[0;34m\u001b[0m\u001b[0m\n\u001b[0;32m--> 542\u001b[0;31m         \u001b[0mresp\u001b[0m \u001b[0;34m=\u001b[0m \u001b[0mself\u001b[0m\u001b[0;34m.\u001b[0m\u001b[0msend\u001b[0m\u001b[0;34m(\u001b[0m\u001b[0mprep\u001b[0m\u001b[0;34m,\u001b[0m \u001b[0;34m**\u001b[0m\u001b[0msend_kwargs\u001b[0m\u001b[0;34m)\u001b[0m\u001b[0;34m\u001b[0m\u001b[0;34m\u001b[0m\u001b[0m\n\u001b[0m\u001b[1;32m    543\u001b[0m \u001b[0;34m\u001b[0m\u001b[0m\n\u001b[1;32m    544\u001b[0m         \u001b[0;32mreturn\u001b[0m \u001b[0mresp\u001b[0m\u001b[0;34m\u001b[0m\u001b[0;34m\u001b[0m\u001b[0m\n",
      "\u001b[0;32m~/anaconda3/envs/defi/lib/python3.6/site-packages/requests/sessions.py\u001b[0m in \u001b[0;36msend\u001b[0;34m(self, request, **kwargs)\u001b[0m\n\u001b[1;32m    653\u001b[0m \u001b[0;34m\u001b[0m\u001b[0m\n\u001b[1;32m    654\u001b[0m         \u001b[0;31m# Send the request\u001b[0m\u001b[0;34m\u001b[0m\u001b[0;34m\u001b[0m\u001b[0;34m\u001b[0m\u001b[0m\n\u001b[0;32m--> 655\u001b[0;31m         \u001b[0mr\u001b[0m \u001b[0;34m=\u001b[0m \u001b[0madapter\u001b[0m\u001b[0;34m.\u001b[0m\u001b[0msend\u001b[0m\u001b[0;34m(\u001b[0m\u001b[0mrequest\u001b[0m\u001b[0;34m,\u001b[0m \u001b[0;34m**\u001b[0m\u001b[0mkwargs\u001b[0m\u001b[0;34m)\u001b[0m\u001b[0;34m\u001b[0m\u001b[0;34m\u001b[0m\u001b[0m\n\u001b[0m\u001b[1;32m    656\u001b[0m \u001b[0;34m\u001b[0m\u001b[0m\n\u001b[1;32m    657\u001b[0m         \u001b[0;31m# Total elapsed time of the request (approximately)\u001b[0m\u001b[0;34m\u001b[0m\u001b[0;34m\u001b[0m\u001b[0;34m\u001b[0m\u001b[0m\n",
      "\u001b[0;32m~/anaconda3/envs/defi/lib/python3.6/site-packages/requests/adapters.py\u001b[0m in \u001b[0;36msend\u001b[0;34m(self, request, stream, timeout, verify, cert, proxies)\u001b[0m\n\u001b[1;32m    447\u001b[0m                     \u001b[0mdecode_content\u001b[0m\u001b[0;34m=\u001b[0m\u001b[0;32mFalse\u001b[0m\u001b[0;34m,\u001b[0m\u001b[0;34m\u001b[0m\u001b[0;34m\u001b[0m\u001b[0m\n\u001b[1;32m    448\u001b[0m                     \u001b[0mretries\u001b[0m\u001b[0;34m=\u001b[0m\u001b[0mself\u001b[0m\u001b[0;34m.\u001b[0m\u001b[0mmax_retries\u001b[0m\u001b[0;34m,\u001b[0m\u001b[0;34m\u001b[0m\u001b[0;34m\u001b[0m\u001b[0m\n\u001b[0;32m--> 449\u001b[0;31m                     \u001b[0mtimeout\u001b[0m\u001b[0;34m=\u001b[0m\u001b[0mtimeout\u001b[0m\u001b[0;34m\u001b[0m\u001b[0;34m\u001b[0m\u001b[0m\n\u001b[0m\u001b[1;32m    450\u001b[0m                 )\n\u001b[1;32m    451\u001b[0m \u001b[0;34m\u001b[0m\u001b[0m\n",
      "\u001b[0;32m~/anaconda3/envs/defi/lib/python3.6/site-packages/urllib3/connectionpool.py\u001b[0m in \u001b[0;36murlopen\u001b[0;34m(self, method, url, body, headers, retries, redirect, assert_same_host, timeout, pool_timeout, release_conn, chunked, body_pos, **response_kw)\u001b[0m\n\u001b[1;32m    704\u001b[0m                 \u001b[0mbody\u001b[0m\u001b[0;34m=\u001b[0m\u001b[0mbody\u001b[0m\u001b[0;34m,\u001b[0m\u001b[0;34m\u001b[0m\u001b[0;34m\u001b[0m\u001b[0m\n\u001b[1;32m    705\u001b[0m                 \u001b[0mheaders\u001b[0m\u001b[0;34m=\u001b[0m\u001b[0mheaders\u001b[0m\u001b[0;34m,\u001b[0m\u001b[0;34m\u001b[0m\u001b[0;34m\u001b[0m\u001b[0m\n\u001b[0;32m--> 706\u001b[0;31m                 \u001b[0mchunked\u001b[0m\u001b[0;34m=\u001b[0m\u001b[0mchunked\u001b[0m\u001b[0;34m,\u001b[0m\u001b[0;34m\u001b[0m\u001b[0;34m\u001b[0m\u001b[0m\n\u001b[0m\u001b[1;32m    707\u001b[0m             )\n\u001b[1;32m    708\u001b[0m \u001b[0;34m\u001b[0m\u001b[0m\n",
      "\u001b[0;32m~/anaconda3/envs/defi/lib/python3.6/site-packages/urllib3/connectionpool.py\u001b[0m in \u001b[0;36m_make_request\u001b[0;34m(self, conn, method, url, timeout, chunked, **httplib_request_kw)\u001b[0m\n\u001b[1;32m    443\u001b[0m                     \u001b[0;31m# Python 3 (including for exceptions like SystemExit).\u001b[0m\u001b[0;34m\u001b[0m\u001b[0;34m\u001b[0m\u001b[0;34m\u001b[0m\u001b[0m\n\u001b[1;32m    444\u001b[0m                     \u001b[0;31m# Otherwise it looks like a bug in the code.\u001b[0m\u001b[0;34m\u001b[0m\u001b[0;34m\u001b[0m\u001b[0;34m\u001b[0m\u001b[0m\n\u001b[0;32m--> 445\u001b[0;31m                     \u001b[0msix\u001b[0m\u001b[0;34m.\u001b[0m\u001b[0mraise_from\u001b[0m\u001b[0;34m(\u001b[0m\u001b[0me\u001b[0m\u001b[0;34m,\u001b[0m \u001b[0;32mNone\u001b[0m\u001b[0;34m)\u001b[0m\u001b[0;34m\u001b[0m\u001b[0;34m\u001b[0m\u001b[0m\n\u001b[0m\u001b[1;32m    446\u001b[0m         \u001b[0;32mexcept\u001b[0m \u001b[0;34m(\u001b[0m\u001b[0mSocketTimeout\u001b[0m\u001b[0;34m,\u001b[0m \u001b[0mBaseSSLError\u001b[0m\u001b[0;34m,\u001b[0m \u001b[0mSocketError\u001b[0m\u001b[0;34m)\u001b[0m \u001b[0;32mas\u001b[0m \u001b[0me\u001b[0m\u001b[0;34m:\u001b[0m\u001b[0;34m\u001b[0m\u001b[0;34m\u001b[0m\u001b[0m\n\u001b[1;32m    447\u001b[0m             \u001b[0mself\u001b[0m\u001b[0;34m.\u001b[0m\u001b[0m_raise_timeout\u001b[0m\u001b[0;34m(\u001b[0m\u001b[0merr\u001b[0m\u001b[0;34m=\u001b[0m\u001b[0me\u001b[0m\u001b[0;34m,\u001b[0m \u001b[0murl\u001b[0m\u001b[0;34m=\u001b[0m\u001b[0murl\u001b[0m\u001b[0;34m,\u001b[0m \u001b[0mtimeout_value\u001b[0m\u001b[0;34m=\u001b[0m\u001b[0mread_timeout\u001b[0m\u001b[0;34m)\u001b[0m\u001b[0;34m\u001b[0m\u001b[0;34m\u001b[0m\u001b[0m\n",
      "\u001b[0;32m~/anaconda3/envs/defi/lib/python3.6/site-packages/urllib3/packages/six.py\u001b[0m in \u001b[0;36mraise_from\u001b[0;34m(value, from_value)\u001b[0m\n",
      "\u001b[0;32m~/anaconda3/envs/defi/lib/python3.6/site-packages/urllib3/connectionpool.py\u001b[0m in \u001b[0;36m_make_request\u001b[0;34m(self, conn, method, url, timeout, chunked, **httplib_request_kw)\u001b[0m\n\u001b[1;32m    438\u001b[0m                 \u001b[0;31m# Python 3\u001b[0m\u001b[0;34m\u001b[0m\u001b[0;34m\u001b[0m\u001b[0;34m\u001b[0m\u001b[0m\n\u001b[1;32m    439\u001b[0m                 \u001b[0;32mtry\u001b[0m\u001b[0;34m:\u001b[0m\u001b[0;34m\u001b[0m\u001b[0;34m\u001b[0m\u001b[0m\n\u001b[0;32m--> 440\u001b[0;31m                     \u001b[0mhttplib_response\u001b[0m \u001b[0;34m=\u001b[0m \u001b[0mconn\u001b[0m\u001b[0;34m.\u001b[0m\u001b[0mgetresponse\u001b[0m\u001b[0;34m(\u001b[0m\u001b[0;34m)\u001b[0m\u001b[0;34m\u001b[0m\u001b[0;34m\u001b[0m\u001b[0m\n\u001b[0m\u001b[1;32m    441\u001b[0m                 \u001b[0;32mexcept\u001b[0m \u001b[0mBaseException\u001b[0m \u001b[0;32mas\u001b[0m \u001b[0me\u001b[0m\u001b[0;34m:\u001b[0m\u001b[0;34m\u001b[0m\u001b[0;34m\u001b[0m\u001b[0m\n\u001b[1;32m    442\u001b[0m                     \u001b[0;31m# Remove the TypeError from the exception chain in\u001b[0m\u001b[0;34m\u001b[0m\u001b[0;34m\u001b[0m\u001b[0;34m\u001b[0m\u001b[0m\n",
      "\u001b[0;32m~/anaconda3/envs/defi/lib/python3.6/http/client.py\u001b[0m in \u001b[0;36mgetresponse\u001b[0;34m(self)\u001b[0m\n\u001b[1;32m   1377\u001b[0m         \u001b[0;32mtry\u001b[0m\u001b[0;34m:\u001b[0m\u001b[0;34m\u001b[0m\u001b[0;34m\u001b[0m\u001b[0m\n\u001b[1;32m   1378\u001b[0m             \u001b[0;32mtry\u001b[0m\u001b[0;34m:\u001b[0m\u001b[0;34m\u001b[0m\u001b[0;34m\u001b[0m\u001b[0m\n\u001b[0;32m-> 1379\u001b[0;31m                 \u001b[0mresponse\u001b[0m\u001b[0;34m.\u001b[0m\u001b[0mbegin\u001b[0m\u001b[0;34m(\u001b[0m\u001b[0;34m)\u001b[0m\u001b[0;34m\u001b[0m\u001b[0;34m\u001b[0m\u001b[0m\n\u001b[0m\u001b[1;32m   1380\u001b[0m             \u001b[0;32mexcept\u001b[0m \u001b[0mConnectionError\u001b[0m\u001b[0;34m:\u001b[0m\u001b[0;34m\u001b[0m\u001b[0;34m\u001b[0m\u001b[0m\n\u001b[1;32m   1381\u001b[0m                 \u001b[0mself\u001b[0m\u001b[0;34m.\u001b[0m\u001b[0mclose\u001b[0m\u001b[0;34m(\u001b[0m\u001b[0;34m)\u001b[0m\u001b[0;34m\u001b[0m\u001b[0;34m\u001b[0m\u001b[0m\n",
      "\u001b[0;32m~/anaconda3/envs/defi/lib/python3.6/http/client.py\u001b[0m in \u001b[0;36mbegin\u001b[0;34m(self)\u001b[0m\n\u001b[1;32m    309\u001b[0m         \u001b[0;31m# read until we get a non-100 response\u001b[0m\u001b[0;34m\u001b[0m\u001b[0;34m\u001b[0m\u001b[0;34m\u001b[0m\u001b[0m\n\u001b[1;32m    310\u001b[0m         \u001b[0;32mwhile\u001b[0m \u001b[0;32mTrue\u001b[0m\u001b[0;34m:\u001b[0m\u001b[0;34m\u001b[0m\u001b[0;34m\u001b[0m\u001b[0m\n\u001b[0;32m--> 311\u001b[0;31m             \u001b[0mversion\u001b[0m\u001b[0;34m,\u001b[0m \u001b[0mstatus\u001b[0m\u001b[0;34m,\u001b[0m \u001b[0mreason\u001b[0m \u001b[0;34m=\u001b[0m \u001b[0mself\u001b[0m\u001b[0;34m.\u001b[0m\u001b[0m_read_status\u001b[0m\u001b[0;34m(\u001b[0m\u001b[0;34m)\u001b[0m\u001b[0;34m\u001b[0m\u001b[0;34m\u001b[0m\u001b[0m\n\u001b[0m\u001b[1;32m    312\u001b[0m             \u001b[0;32mif\u001b[0m \u001b[0mstatus\u001b[0m \u001b[0;34m!=\u001b[0m \u001b[0mCONTINUE\u001b[0m\u001b[0;34m:\u001b[0m\u001b[0;34m\u001b[0m\u001b[0;34m\u001b[0m\u001b[0m\n\u001b[1;32m    313\u001b[0m                 \u001b[0;32mbreak\u001b[0m\u001b[0;34m\u001b[0m\u001b[0;34m\u001b[0m\u001b[0m\n",
      "\u001b[0;32m~/anaconda3/envs/defi/lib/python3.6/http/client.py\u001b[0m in \u001b[0;36m_read_status\u001b[0;34m(self)\u001b[0m\n\u001b[1;32m    270\u001b[0m \u001b[0;34m\u001b[0m\u001b[0m\n\u001b[1;32m    271\u001b[0m     \u001b[0;32mdef\u001b[0m \u001b[0m_read_status\u001b[0m\u001b[0;34m(\u001b[0m\u001b[0mself\u001b[0m\u001b[0;34m)\u001b[0m\u001b[0;34m:\u001b[0m\u001b[0;34m\u001b[0m\u001b[0;34m\u001b[0m\u001b[0m\n\u001b[0;32m--> 272\u001b[0;31m         \u001b[0mline\u001b[0m \u001b[0;34m=\u001b[0m \u001b[0mstr\u001b[0m\u001b[0;34m(\u001b[0m\u001b[0mself\u001b[0m\u001b[0;34m.\u001b[0m\u001b[0mfp\u001b[0m\u001b[0;34m.\u001b[0m\u001b[0mreadline\u001b[0m\u001b[0;34m(\u001b[0m\u001b[0m_MAXLINE\u001b[0m \u001b[0;34m+\u001b[0m \u001b[0;36m1\u001b[0m\u001b[0;34m)\u001b[0m\u001b[0;34m,\u001b[0m \u001b[0;34m\"iso-8859-1\"\u001b[0m\u001b[0;34m)\u001b[0m\u001b[0;34m\u001b[0m\u001b[0;34m\u001b[0m\u001b[0m\n\u001b[0m\u001b[1;32m    273\u001b[0m         \u001b[0;32mif\u001b[0m \u001b[0mlen\u001b[0m\u001b[0;34m(\u001b[0m\u001b[0mline\u001b[0m\u001b[0;34m)\u001b[0m \u001b[0;34m>\u001b[0m \u001b[0m_MAXLINE\u001b[0m\u001b[0;34m:\u001b[0m\u001b[0;34m\u001b[0m\u001b[0;34m\u001b[0m\u001b[0m\n\u001b[1;32m    274\u001b[0m             \u001b[0;32mraise\u001b[0m \u001b[0mLineTooLong\u001b[0m\u001b[0;34m(\u001b[0m\u001b[0;34m\"status line\"\u001b[0m\u001b[0;34m)\u001b[0m\u001b[0;34m\u001b[0m\u001b[0;34m\u001b[0m\u001b[0m\n",
      "\u001b[0;32m~/anaconda3/envs/defi/lib/python3.6/socket.py\u001b[0m in \u001b[0;36mreadinto\u001b[0;34m(self, b)\u001b[0m\n\u001b[1;32m    584\u001b[0m         \u001b[0;32mwhile\u001b[0m \u001b[0;32mTrue\u001b[0m\u001b[0;34m:\u001b[0m\u001b[0;34m\u001b[0m\u001b[0;34m\u001b[0m\u001b[0m\n\u001b[1;32m    585\u001b[0m             \u001b[0;32mtry\u001b[0m\u001b[0;34m:\u001b[0m\u001b[0;34m\u001b[0m\u001b[0;34m\u001b[0m\u001b[0m\n\u001b[0;32m--> 586\u001b[0;31m                 \u001b[0;32mreturn\u001b[0m \u001b[0mself\u001b[0m\u001b[0;34m.\u001b[0m\u001b[0m_sock\u001b[0m\u001b[0;34m.\u001b[0m\u001b[0mrecv_into\u001b[0m\u001b[0;34m(\u001b[0m\u001b[0mb\u001b[0m\u001b[0;34m)\u001b[0m\u001b[0;34m\u001b[0m\u001b[0;34m\u001b[0m\u001b[0m\n\u001b[0m\u001b[1;32m    587\u001b[0m             \u001b[0;32mexcept\u001b[0m \u001b[0mtimeout\u001b[0m\u001b[0;34m:\u001b[0m\u001b[0;34m\u001b[0m\u001b[0;34m\u001b[0m\u001b[0m\n\u001b[1;32m    588\u001b[0m                 \u001b[0mself\u001b[0m\u001b[0;34m.\u001b[0m\u001b[0m_timeout_occurred\u001b[0m \u001b[0;34m=\u001b[0m \u001b[0;32mTrue\u001b[0m\u001b[0;34m\u001b[0m\u001b[0;34m\u001b[0m\u001b[0m\n",
      "\u001b[0;32m~/anaconda3/envs/defi/lib/python3.6/ssl.py\u001b[0m in \u001b[0;36mrecv_into\u001b[0;34m(self, buffer, nbytes, flags)\u001b[0m\n\u001b[1;32m   1010\u001b[0m                   \u001b[0;34m\"non-zero flags not allowed in calls to recv_into() on %s\"\u001b[0m \u001b[0;34m%\u001b[0m\u001b[0;34m\u001b[0m\u001b[0;34m\u001b[0m\u001b[0m\n\u001b[1;32m   1011\u001b[0m                   self.__class__)\n\u001b[0;32m-> 1012\u001b[0;31m             \u001b[0;32mreturn\u001b[0m \u001b[0mself\u001b[0m\u001b[0;34m.\u001b[0m\u001b[0mread\u001b[0m\u001b[0;34m(\u001b[0m\u001b[0mnbytes\u001b[0m\u001b[0;34m,\u001b[0m \u001b[0mbuffer\u001b[0m\u001b[0;34m)\u001b[0m\u001b[0;34m\u001b[0m\u001b[0;34m\u001b[0m\u001b[0m\n\u001b[0m\u001b[1;32m   1013\u001b[0m         \u001b[0;32melse\u001b[0m\u001b[0;34m:\u001b[0m\u001b[0;34m\u001b[0m\u001b[0;34m\u001b[0m\u001b[0m\n\u001b[1;32m   1014\u001b[0m             \u001b[0;32mreturn\u001b[0m \u001b[0msocket\u001b[0m\u001b[0;34m.\u001b[0m\u001b[0mrecv_into\u001b[0m\u001b[0;34m(\u001b[0m\u001b[0mself\u001b[0m\u001b[0;34m,\u001b[0m \u001b[0mbuffer\u001b[0m\u001b[0;34m,\u001b[0m \u001b[0mnbytes\u001b[0m\u001b[0;34m,\u001b[0m \u001b[0mflags\u001b[0m\u001b[0;34m)\u001b[0m\u001b[0;34m\u001b[0m\u001b[0;34m\u001b[0m\u001b[0m\n",
      "\u001b[0;32m~/anaconda3/envs/defi/lib/python3.6/ssl.py\u001b[0m in \u001b[0;36mread\u001b[0;34m(self, len, buffer)\u001b[0m\n\u001b[1;32m    872\u001b[0m             \u001b[0;32mraise\u001b[0m \u001b[0mValueError\u001b[0m\u001b[0;34m(\u001b[0m\u001b[0;34m\"Read on closed or unwrapped SSL socket.\"\u001b[0m\u001b[0;34m)\u001b[0m\u001b[0;34m\u001b[0m\u001b[0;34m\u001b[0m\u001b[0m\n\u001b[1;32m    873\u001b[0m         \u001b[0;32mtry\u001b[0m\u001b[0;34m:\u001b[0m\u001b[0;34m\u001b[0m\u001b[0;34m\u001b[0m\u001b[0m\n\u001b[0;32m--> 874\u001b[0;31m             \u001b[0;32mreturn\u001b[0m \u001b[0mself\u001b[0m\u001b[0;34m.\u001b[0m\u001b[0m_sslobj\u001b[0m\u001b[0;34m.\u001b[0m\u001b[0mread\u001b[0m\u001b[0;34m(\u001b[0m\u001b[0mlen\u001b[0m\u001b[0;34m,\u001b[0m \u001b[0mbuffer\u001b[0m\u001b[0;34m)\u001b[0m\u001b[0;34m\u001b[0m\u001b[0;34m\u001b[0m\u001b[0m\n\u001b[0m\u001b[1;32m    875\u001b[0m         \u001b[0;32mexcept\u001b[0m \u001b[0mSSLError\u001b[0m \u001b[0;32mas\u001b[0m \u001b[0mx\u001b[0m\u001b[0;34m:\u001b[0m\u001b[0;34m\u001b[0m\u001b[0;34m\u001b[0m\u001b[0m\n\u001b[1;32m    876\u001b[0m             \u001b[0;32mif\u001b[0m \u001b[0mx\u001b[0m\u001b[0;34m.\u001b[0m\u001b[0margs\u001b[0m\u001b[0;34m[\u001b[0m\u001b[0;36m0\u001b[0m\u001b[0;34m]\u001b[0m \u001b[0;34m==\u001b[0m \u001b[0mSSL_ERROR_EOF\u001b[0m \u001b[0;32mand\u001b[0m \u001b[0mself\u001b[0m\u001b[0;34m.\u001b[0m\u001b[0msuppress_ragged_eofs\u001b[0m\u001b[0;34m:\u001b[0m\u001b[0;34m\u001b[0m\u001b[0;34m\u001b[0m\u001b[0m\n",
      "\u001b[0;32m~/anaconda3/envs/defi/lib/python3.6/ssl.py\u001b[0m in \u001b[0;36mread\u001b[0;34m(self, len, buffer)\u001b[0m\n\u001b[1;32m    629\u001b[0m         \"\"\"\n\u001b[1;32m    630\u001b[0m         \u001b[0;32mif\u001b[0m \u001b[0mbuffer\u001b[0m \u001b[0;32mis\u001b[0m \u001b[0;32mnot\u001b[0m \u001b[0;32mNone\u001b[0m\u001b[0;34m:\u001b[0m\u001b[0;34m\u001b[0m\u001b[0;34m\u001b[0m\u001b[0m\n\u001b[0;32m--> 631\u001b[0;31m             \u001b[0mv\u001b[0m \u001b[0;34m=\u001b[0m \u001b[0mself\u001b[0m\u001b[0;34m.\u001b[0m\u001b[0m_sslobj\u001b[0m\u001b[0;34m.\u001b[0m\u001b[0mread\u001b[0m\u001b[0;34m(\u001b[0m\u001b[0mlen\u001b[0m\u001b[0;34m,\u001b[0m \u001b[0mbuffer\u001b[0m\u001b[0;34m)\u001b[0m\u001b[0;34m\u001b[0m\u001b[0;34m\u001b[0m\u001b[0m\n\u001b[0m\u001b[1;32m    632\u001b[0m         \u001b[0;32melse\u001b[0m\u001b[0;34m:\u001b[0m\u001b[0;34m\u001b[0m\u001b[0;34m\u001b[0m\u001b[0m\n\u001b[1;32m    633\u001b[0m             \u001b[0mv\u001b[0m \u001b[0;34m=\u001b[0m \u001b[0mself\u001b[0m\u001b[0;34m.\u001b[0m\u001b[0m_sslobj\u001b[0m\u001b[0;34m.\u001b[0m\u001b[0mread\u001b[0m\u001b[0;34m(\u001b[0m\u001b[0mlen\u001b[0m\u001b[0;34m)\u001b[0m\u001b[0;34m\u001b[0m\u001b[0;34m\u001b[0m\u001b[0m\n",
      "\u001b[0;31mKeyboardInterrupt\u001b[0m: "
     ]
    }
   ],
   "source": [
    "ind  = 0 \n",
    "res  = requests.get(\"https://api.compound.finance/api/v2/ctoken\")\n",
    "df   = pd.DataFrame(columns = list(res.json()['cToken'][0].keys()))\n",
    "# MASTER_DATE = '2021-12-20'\n",
    "MASTER_DATE = \"2022-01-13\"\n",
    "for ctoken in res.json()['cToken']:\n",
    "    try:\n",
    "        ind += 1\n",
    "        for key in ctoken.keys():\n",
    "            try:\n",
    "                df.at[ind,key ] = ctoken[key]['value']\n",
    "            except:\n",
    "                df.at[ind,key ] = ctoken[key]\n",
    "\n",
    "\n",
    "        address   = ctoken['token_address']\n",
    "\n",
    "        request   = requests.get(\"https://api.coingecko.com/api/v3/coins/\"+ str(names[ctoken['symbol'][1:]])+ \"/market_chart?vs_currency=usd&days=max&interval=daily\")\n",
    "        prices_df = pd.DataFrame(columns=['timestamp', 'price'])\n",
    "        timestamp = []\n",
    "        prices    = []\n",
    "\n",
    "        for req in request.json()['prices']:\n",
    "            timestamp.append(int(float(req[0])/1000))\n",
    "            prices.append(req[1])\n",
    "\n",
    "        prices_df['timestamp'] = timestamp\n",
    "        prices_df['price']     = prices\n",
    "\n",
    "        date= []\n",
    "        for time in timestamp:\n",
    "            date.append(datetime.fromtimestamp(time).strftime('%Y-%m-%d'))\n",
    "        prices_df['date']  = date\n",
    "\n",
    "#         datestamp = '2021-12-14'\n",
    "        datestamp = MASTER_DATE\n",
    "        max_timstamp = int(datetime.strptime(datestamp, '%Y-%m-%d').timestamp())\n",
    "        SUPPLY_DF = pd.DataFrame(columns=['block_number', 'block_timestamp','value'])\n",
    "        BORROW_DF = pd.DataFrame(columns=['block_number', 'block_timestamp','value'])\n",
    "        DF = pd.DataFrame()\n",
    "        BIND = 0\n",
    "        SIND = 0\n",
    "        for _ in range(5):\n",
    "            min_timestamp = max_timstamp  -  30 * 86400 \n",
    "            res = requests.get(\"https://api.compound.finance/api/v2/market_history/graph?asset=%s&min_block_timestamp=%s&max_block_timestamp=%s&num_buckets=50\" % ( address,min_timestamp, max_timstamp));    \n",
    "            max_timstamp = max_timstamp   - 30 * 86400 \n",
    "            temp = res.json()\n",
    "\n",
    "\n",
    "            for tem in temp['total_borrows_history']:\n",
    "                BORROW_DF.loc[BIND] = [tem['block_number']] + [tem['block_timestamp']] + [tem['total']['value']]                     \n",
    "                BIND += 1\n",
    "\n",
    "\n",
    "            for tem in temp['total_supply_history']:\n",
    "                SUPPLY_DF.loc[SIND] = [tem['block_number']] + [tem['block_timestamp']] + [tem['total']['value']]\n",
    "                SIND += 1                      \n",
    "\n",
    "\n",
    "            print(\"***\")\n",
    "\n",
    "        BORROW_DF = BORROW_DF.sort_values(['block_timestamp'])\n",
    "        BORROW_DF['DATE'] = BORROW_DF['block_timestamp'].apply(lambda x: datetime.fromtimestamp(x).date())\n",
    "        BORROW_DF.drop_duplicates(subset = ['DATE'], keep = 'first', inplace = True)\n",
    "        SUPPLY_DF = SUPPLY_DF.sort_values(['block_timestamp'])\n",
    "        SUPPLY_DF['DATE'] = SUPPLY_DF['block_timestamp'].apply(lambda x: datetime.fromtimestamp(x).date())\n",
    "        SUPPLY_DF.drop_duplicates(subset = ['DATE'], keep = 'first', inplace = True)\n",
    "\n",
    "        SUPPLY_DF['supply_tokens'] = pd.to_numeric(SUPPLY_DF['value']) *  float(temp['exchange_rates'][-1]['rate'])\n",
    "\n",
    "\n",
    "        BORROW_DF = BORROW_DF[::-1]\n",
    "        SUPPLY_DF = SUPPLY_DF[::-1]\n",
    "        DF['timestamp']    = BORROW_DF['block_timestamp']\n",
    "        DF['BORROW']       = BORROW_DF['value']\n",
    "        DF['SUPPLY']       = SUPPLY_DF['supply_tokens']\n",
    "        DF['DATE']         = BORROW_DF['DATE']\n",
    "        DF['SUPPLY_VALUE'] = SUPPLY_DF['value']\n",
    "\n",
    "\n",
    "        assigned_price = []\n",
    "        for indW in DF['DATE'] :\n",
    "            a = prices_df[prices_df['date']==str(indW)]\n",
    "            assigned_price.append(a['price'].values[0])\n",
    "\n",
    "        DF['prices'] = assigned_price\n",
    "\n",
    "        DF['total_supply'] =  DF['SUPPLY'] * DF['prices']\n",
    "        DF['total_borrow'] =  pd.to_numeric(DF['BORROW']) * pd.to_numeric(DF['prices'])\n",
    "        DF['POSITION']     =  DF['total_borrow'] - DF['total_supply']\n",
    "        DF['POSITION($)']  =  DF['POSITION'] / pow(10,9)\n",
    "        DF.to_csv('COMPOUND_DATA/DF_'+ctoken['symbol'][1:] + '.csv')\n",
    "\n",
    "\n",
    "\n",
    "        print(\"**********************\", DF.shape)\n",
    "    except Exception as e:\n",
    "        print(\"ERROR \", e, ctoken['symbol'])\n",
    "    "
   ]
  },
  {
   "cell_type": "code",
   "execution_count": null,
   "id": "ac18635f",
   "metadata": {
    "ExecuteTime": {
     "end_time": "2022-01-13T06:05:19.039086Z",
     "start_time": "2022-01-13T06:05:19.036027Z"
    }
   },
   "outputs": [],
   "source": []
  },
  {
   "cell_type": "code",
   "execution_count": null,
   "id": "f1303dc7",
   "metadata": {
    "ExecuteTime": {
     "end_time": "2022-01-13T06:11:24.407586Z",
     "start_time": "2022-01-13T15:01:34.475Z"
    }
   },
   "outputs": [],
   "source": [
    "fils = os.listdir('COMPOUND_DATA/')"
   ]
  },
  {
   "cell_type": "code",
   "execution_count": null,
   "id": "e83f57ca",
   "metadata": {
    "ExecuteTime": {
     "end_time": "2022-01-13T06:11:24.408091Z",
     "start_time": "2022-01-13T15:01:34.478Z"
    }
   },
   "outputs": [],
   "source": [
    "cols = []\n",
    "for fil in fils:\n",
    "    try:\n",
    "        aa = fil.split('.')[0].split('_')\n",
    "    #     print(aa[1])\n",
    "        cols.append(aa[1])\n",
    "    except:\n",
    "        pass"
   ]
  },
  {
   "cell_type": "code",
   "execution_count": null,
   "id": "83809f6a",
   "metadata": {
    "ExecuteTime": {
     "end_time": "2022-01-13T06:11:24.408720Z",
     "start_time": "2022-01-13T15:01:34.479Z"
    }
   },
   "outputs": [],
   "source": [
    "# df"
   ]
  },
  {
   "cell_type": "code",
   "execution_count": null,
   "id": "80923dc0",
   "metadata": {
    "ExecuteTime": {
     "end_time": "2022-01-13T06:11:24.409302Z",
     "start_time": "2022-01-13T15:01:34.480Z"
    },
    "code_folding": []
   },
   "outputs": [],
   "source": [
    "FINAL ={}\n",
    "for key in cols:\n",
    "    try:\n",
    "        df = pd.read_csv('COMPOUND_DATA/'+'DF_'+key+'.csv')\n",
    "        df = df.sort_values(['timestamp'])\n",
    "#         print(df.head())\n",
    "        df = df[::-1]\n",
    "        FINAL[key] = {'Assets': df['POSITION($)'],\n",
    "                      'date':df['DATE'],\n",
    "                      'MARKET':df['total_supply'],\n",
    "                      'BORROW':df['total_borrow']\n",
    "                     }\n",
    "    \n",
    "    except Exception as e:\n",
    "        print(e, key)\n"
   ]
  },
  {
   "cell_type": "code",
   "execution_count": null,
   "id": "a9e1c3cb",
   "metadata": {},
   "outputs": [],
   "source": []
  },
  {
   "cell_type": "code",
   "execution_count": null,
   "id": "f5a20d06",
   "metadata": {
    "ExecuteTime": {
     "end_time": "2022-01-13T06:11:24.410252Z",
     "start_time": "2022-01-13T15:01:34.483Z"
    }
   },
   "outputs": [],
   "source": [
    "ff = []\n",
    "for f in FINAL['ETH']['date']:\n",
    "    ff.append(f)"
   ]
  },
  {
   "cell_type": "code",
   "execution_count": null,
   "id": "483f276d",
   "metadata": {
    "ExecuteTime": {
     "end_time": "2022-01-13T06:11:24.410849Z",
     "start_time": "2022-01-13T15:01:34.484Z"
    }
   },
   "outputs": [],
   "source": [
    "FINAL_DF = pd.DataFrame(columns= cols)\n",
    "ind = 0\n",
    "for i in range(100):\n",
    "    assets = []\n",
    "    for col in cols:\n",
    "        try:\n",
    "            assets.append(FINAL[col]['Assets'][i])\n",
    "        except:\n",
    "            assets.append([])\n",
    "    \n",
    "    FINAL_DF.loc[ind] = assets\n",
    "    ind += 1"
   ]
  },
  {
   "cell_type": "code",
   "execution_count": null,
   "id": "3b500d0f",
   "metadata": {
    "ExecuteTime": {
     "end_time": "2022-01-13T06:11:24.411594Z",
     "start_time": "2022-01-13T15:01:34.486Z"
    }
   },
   "outputs": [],
   "source": [
    "FINAL_DF['DATE'] = ff[:100]\n",
    "FINAL_DF['timestamp'] = FINAL_DF['DATE'].apply(lambda x: pd.Timestamp(x).timestamp())\n",
    "FINAL_DF = FINAL_DF.sort_values('timestamp')\n",
    "FINAL_DF = FINAL_DF[::-1]"
   ]
  },
  {
   "cell_type": "code",
   "execution_count": null,
   "id": "c188b251",
   "metadata": {},
   "outputs": [],
   "source": []
  },
  {
   "cell_type": "code",
   "execution_count": null,
   "id": "3d9a8843",
   "metadata": {
    "ExecuteTime": {
     "end_time": "2022-01-13T06:11:24.412535Z",
     "start_time": "2022-01-13T15:01:34.491Z"
    }
   },
   "outputs": [],
   "source": [
    "FINAL_DF"
   ]
  },
  {
   "cell_type": "code",
   "execution_count": null,
   "id": "38e35f50",
   "metadata": {
    "ExecuteTime": {
     "end_time": "2022-01-13T06:11:24.413132Z",
     "start_time": "2022-01-13T15:01:34.495Z"
    }
   },
   "outputs": [],
   "source": [
    "change_df#[344:345]"
   ]
  },
  {
   "cell_type": "code",
   "execution_count": null,
   "id": "6ca7def5",
   "metadata": {
    "ExecuteTime": {
     "end_time": "2022-01-13T06:11:24.413697Z",
     "start_time": "2022-01-13T15:01:34.497Z"
    }
   },
   "outputs": [],
   "source": [
    "change_df[0:1]"
   ]
  },
  {
   "cell_type": "code",
   "execution_count": null,
   "id": "59e065df",
   "metadata": {
    "ExecuteTime": {
     "end_time": "2022-01-13T06:11:24.414460Z",
     "start_time": "2022-01-13T15:01:34.498Z"
    },
    "code_folding": []
   },
   "outputs": [],
   "source": [
    "VAR = []\n",
    "VAR_DATE = []\n",
    "for ind, ROW in enumerate(FINAL_DF.iterrows()):\n",
    "    REQUIRED_10 = []\n",
    "    for required_row in change_df[ind:ind+365].iterrows():\n",
    "        SUM_10 = []\n",
    "        for key in ROW[1].keys()[:-3]:\n",
    "            if key == 'WBTC2':\n",
    "                key = 'WBTC'\n",
    "            if isinstance(ROW[1][key], list):\n",
    "                ROW[1][key] = 0\n",
    "            SUM_10.append((float(ROW[1][key]) * required_row[1][key+'_%change(10)'])/100)\n",
    "        REQUIRED_10.append(sum(SUM_10))\n",
    "    VAR.append(sorted(REQUIRED_10, key=float)[3])\n",
    "    VAR_DATE.append(change_df[ind:ind+365].at[REQUIRED_10.index(sorted(REQUIRED_10, key=float)[3]) + ind, 'date'])"
   ]
  },
  {
   "cell_type": "code",
   "execution_count": null,
   "id": "d31d5cab",
   "metadata": {
    "ExecuteTime": {
     "end_time": "2022-01-13T06:11:24.415171Z",
     "start_time": "2022-01-13T15:01:34.500Z"
    }
   },
   "outputs": [],
   "source": [
    "VAR_DATE"
   ]
  },
  {
   "cell_type": "code",
   "execution_count": null,
   "id": "73b911c1",
   "metadata": {},
   "outputs": [],
   "source": []
  },
  {
   "cell_type": "code",
   "execution_count": null,
   "id": "d2dcdd16",
   "metadata": {
    "ExecuteTime": {
     "end_time": "2022-01-13T06:11:24.415648Z",
     "start_time": "2022-01-13T15:01:34.503Z"
    }
   },
   "outputs": [],
   "source": [
    "POS_VAR = [-x for x in VAR]"
   ]
  },
  {
   "cell_type": "code",
   "execution_count": null,
   "id": "f96318dc",
   "metadata": {
    "ExecuteTime": {
     "end_time": "2022-01-13T06:11:24.416881Z",
     "start_time": "2022-01-13T15:01:34.504Z"
    }
   },
   "outputs": [],
   "source": [
    "plt.plot(POS_VAR)"
   ]
  },
  {
   "cell_type": "code",
   "execution_count": null,
   "id": "ef1bfd72",
   "metadata": {
    "ExecuteTime": {
     "end_time": "2022-01-13T06:11:24.418072Z",
     "start_time": "2022-01-13T15:01:34.505Z"
    }
   },
   "outputs": [],
   "source": [
    "max(VAR), min(VAR)"
   ]
  },
  {
   "cell_type": "code",
   "execution_count": null,
   "id": "8e9d62c9",
   "metadata": {
    "ExecuteTime": {
     "end_time": "2022-01-13T06:11:24.419086Z",
     "start_time": "2022-01-13T15:01:34.507Z"
    }
   },
   "outputs": [],
   "source": [
    "max(VAR), min(VAR)"
   ]
  },
  {
   "cell_type": "code",
   "execution_count": null,
   "id": "bbea4a7a",
   "metadata": {
    "ExecuteTime": {
     "end_time": "2022-01-13T06:11:24.419836Z",
     "start_time": "2022-01-13T15:01:34.508Z"
    }
   },
   "outputs": [],
   "source": [
    "# textfile = open(\"a_file.txt\", \"w\")\n",
    "# for element in VAR:\n",
    "#     textfile.write(element + \"\\n\")\n",
    "# textfile.close()"
   ]
  },
  {
   "cell_type": "code",
   "execution_count": null,
   "id": "ab679efc",
   "metadata": {},
   "outputs": [],
   "source": []
  },
  {
   "cell_type": "code",
   "execution_count": null,
   "id": "b466dfdd",
   "metadata": {},
   "outputs": [],
   "source": []
  },
  {
   "cell_type": "code",
   "execution_count": null,
   "id": "d7a57d69",
   "metadata": {},
   "outputs": [],
   "source": []
  },
  {
   "cell_type": "code",
   "execution_count": null,
   "id": "1fa78221",
   "metadata": {},
   "outputs": [],
   "source": []
  },
  {
   "cell_type": "code",
   "execution_count": null,
   "id": "c4c13fa9",
   "metadata": {
    "ExecuteTime": {
     "end_time": "2022-01-13T06:11:24.420575Z",
     "start_time": "2022-01-13T15:01:34.513Z"
    }
   },
   "outputs": [],
   "source": [
    "# ff = []\n",
    "# for f in FINAL['ETH']['date']:\n",
    "#     ff.append(f)\n",
    "\n",
    "MARKET_FINAL_DF = pd.DataFrame(columns= cols)\n",
    "ind = 0\n",
    "for i in range(100):\n",
    "    assets = []\n",
    "    for col in cols:\n",
    "        try:\n",
    "            assets.append(FINAL[col]['MARKET'][i])\n",
    "        except Exception as e:\n",
    "            assets.append([])\n",
    "    MARKET_FINAL_DF.loc[ind] = assets\n",
    "    ind += 1"
   ]
  },
  {
   "cell_type": "code",
   "execution_count": null,
   "id": "69d8a30d",
   "metadata": {
    "ExecuteTime": {
     "end_time": "2022-01-13T06:11:24.421156Z",
     "start_time": "2022-01-13T15:01:34.515Z"
    },
    "code_folding": [
     0
    ]
   },
   "outputs": [],
   "source": [
    "for i in range(MARKET_FINAL_DF.shape[0]):\n",
    "    for j in range(1,MARKET_FINAL_DF.shape[1]-1):\n",
    "        if isinstance(MARKET_FINAL_DF.iloc[i,j], list):\n",
    "            print(MARKET_FINAL_DF.iloc[i,j])\n",
    "            MARKET_FINAL_DF.iloc[i,j] = 0\n",
    "            \n",
    "        if 'e' in str(MARKET_FINAL_DF.iloc[i,j]):\n",
    "            MARKET_FINAL_DF.iloc[i,j] = 0"
   ]
  },
  {
   "cell_type": "code",
   "execution_count": null,
   "id": "42534487",
   "metadata": {
    "ExecuteTime": {
     "end_time": "2022-01-13T06:11:24.421681Z",
     "start_time": "2022-01-13T15:01:34.516Z"
    }
   },
   "outputs": [],
   "source": [
    "MARKET_FINAL_DF['DATE'] = ff[:100]\n",
    "MARKET_FINAL_DF['timestamp'] = MARKET_FINAL_DF['DATE'].apply(lambda x: pd.Timestamp(x).timestamp())\n",
    "MARKET_FINAL_DF = MARKET_FINAL_DF.sort_values('timestamp')\n",
    "MARKET_FINAL_DF = MARKET_FINAL_DF[::-1]"
   ]
  },
  {
   "cell_type": "code",
   "execution_count": null,
   "id": "0a11e43b",
   "metadata": {
    "ExecuteTime": {
     "end_time": "2022-01-13T06:11:24.422157Z",
     "start_time": "2022-01-13T15:01:34.517Z"
    }
   },
   "outputs": [],
   "source": [
    "MARKET_FINAL_DF[MARKET_FINAL_DF.columns[:-2]].sum(axis=1)"
   ]
  },
  {
   "cell_type": "code",
   "execution_count": null,
   "id": "2119bdfb",
   "metadata": {},
   "outputs": [],
   "source": []
  },
  {
   "cell_type": "code",
   "execution_count": null,
   "id": "c6db3870",
   "metadata": {},
   "outputs": [],
   "source": []
  },
  {
   "cell_type": "code",
   "execution_count": null,
   "id": "9df3148e",
   "metadata": {},
   "outputs": [],
   "source": []
  },
  {
   "cell_type": "code",
   "execution_count": null,
   "id": "f85e9a42",
   "metadata": {
    "ExecuteTime": {
     "end_time": "2022-01-13T06:11:24.422670Z",
     "start_time": "2022-01-13T15:01:34.523Z"
    }
   },
   "outputs": [],
   "source": [
    "# ff = []\n",
    "# for f in FINAL['ETH']['date']:\n",
    "#     ff.append(f)\n",
    "\n",
    "BORROW_FINAL_DF = pd.DataFrame(columns=cols)\n",
    "ind = 0\n",
    "for i in range(100):\n",
    "    assets = []\n",
    "    for col in cols:\n",
    "        try:\n",
    "            assets.append(FINAL[col]['BORROW'][i])\n",
    "        except:\n",
    "            assets.append([])\n",
    "    \n",
    "    BORROW_FINAL_DF.loc[ind] = assets\n",
    "    ind += 1"
   ]
  },
  {
   "cell_type": "code",
   "execution_count": null,
   "id": "944724f5",
   "metadata": {
    "ExecuteTime": {
     "end_time": "2022-01-13T06:11:24.423120Z",
     "start_time": "2022-01-13T15:01:34.526Z"
    }
   },
   "outputs": [],
   "source": [
    "for i in range(BORROW_FINAL_DF.shape[0]):\n",
    "    for j in range(1,BORROW_FINAL_DF.shape[1]-1):\n",
    "        if isinstance(BORROW_FINAL_DF.iloc[i,j], list):\n",
    "            print(BORROW_FINAL_DF.iloc[i,j])\n",
    "            BORROW_FINAL_DF.iloc[i,j] = 0\n",
    "            \n",
    "        if 'e' in str(BORROW_FINAL_DF.iloc[i,j]):\n",
    "            BORROW_FINAL_DF.iloc[i,j] = 0"
   ]
  },
  {
   "cell_type": "code",
   "execution_count": null,
   "id": "a5726f34",
   "metadata": {
    "ExecuteTime": {
     "end_time": "2022-01-13T06:11:24.424206Z",
     "start_time": "2022-01-13T15:01:34.528Z"
    }
   },
   "outputs": [],
   "source": [
    "BORROW_FINAL_DF['DATE'] = ff[:100]\n",
    "BORROW_FINAL_DF['timestamp'] = BORROW_FINAL_DF['DATE'].apply(lambda x: pd.Timestamp(x).timestamp())\n",
    "BORROW_FINAL_DF = BORROW_FINAL_DF.sort_values('timestamp')\n",
    "BORROW_FINAL_DF = BORROW_FINAL_DF[::-1]"
   ]
  },
  {
   "cell_type": "code",
   "execution_count": null,
   "id": "888e070d",
   "metadata": {
    "ExecuteTime": {
     "end_time": "2022-01-13T06:11:24.424842Z",
     "start_time": "2022-01-13T15:01:34.529Z"
    }
   },
   "outputs": [],
   "source": [
    "BORROW_FINAL_DF[BORROW_FINAL_DF.columns[:-2]].sum(axis=1)"
   ]
  },
  {
   "cell_type": "code",
   "execution_count": null,
   "id": "6a0e48dc",
   "metadata": {
    "ExecuteTime": {
     "end_time": "2022-01-13T06:11:24.425296Z",
     "start_time": "2022-01-13T15:01:34.531Z"
    }
   },
   "outputs": [],
   "source": [
    "BORROW_FINAL_DF.head()"
   ]
  },
  {
   "cell_type": "code",
   "execution_count": null,
   "id": "19d06ea0",
   "metadata": {
    "ExecuteTime": {
     "end_time": "2022-01-13T06:11:24.427432Z",
     "start_time": "2022-01-13T15:01:34.533Z"
    }
   },
   "outputs": [],
   "source": [
    "MARKET_FINAL_DF.head()"
   ]
  },
  {
   "cell_type": "code",
   "execution_count": null,
   "id": "aa289b3a",
   "metadata": {
    "ExecuteTime": {
     "end_time": "2022-01-13T06:11:24.428084Z",
     "start_time": "2022-01-13T15:01:34.535Z"
    }
   },
   "outputs": [],
   "source": [
    "len(BORROW_FINAL_DF.columns)"
   ]
  },
  {
   "cell_type": "code",
   "execution_count": null,
   "id": "8987e333",
   "metadata": {
    "ExecuteTime": {
     "end_time": "2022-01-13T06:11:24.428621Z",
     "start_time": "2022-01-13T15:01:34.537Z"
    }
   },
   "outputs": [],
   "source": [
    "len(BORROW_FINAL_DF)"
   ]
  },
  {
   "cell_type": "code",
   "execution_count": null,
   "id": "c64bf555",
   "metadata": {
    "ExecuteTime": {
     "end_time": "2022-01-13T06:11:24.429127Z",
     "start_time": "2022-01-13T15:01:34.538Z"
    }
   },
   "outputs": [],
   "source": [
    "CONS_DATA = pd.DataFrame(columns=[\"date\", \"Liabilities\", \"Assets\", \"VAR\", \"VAR_DATE\", \"timestamp\"])"
   ]
  },
  {
   "cell_type": "code",
   "execution_count": null,
   "id": "8c638872",
   "metadata": {
    "ExecuteTime": {
     "end_time": "2022-01-13T06:11:24.429686Z",
     "start_time": "2022-01-13T15:01:34.539Z"
    }
   },
   "outputs": [],
   "source": [
    "CONS_DATA['date'] = MARKET_FINAL_DF['DATE'] "
   ]
  },
  {
   "cell_type": "code",
   "execution_count": null,
   "id": "099d2801",
   "metadata": {
    "ExecuteTime": {
     "end_time": "2022-01-13T06:11:24.430239Z",
     "start_time": "2022-01-13T15:01:34.540Z"
    }
   },
   "outputs": [],
   "source": [
    "CONS_DATA['timestamp'] = MARKET_FINAL_DF['timestamp'] "
   ]
  },
  {
   "cell_type": "code",
   "execution_count": null,
   "id": "4f09c28f",
   "metadata": {
    "ExecuteTime": {
     "end_time": "2022-01-13T06:11:24.430977Z",
     "start_time": "2022-01-13T15:01:34.542Z"
    }
   },
   "outputs": [],
   "source": [
    "CONS_DATA['Assets'] = BORROW_FINAL_DF[BORROW_FINAL_DF.columns[:-2]].sum(axis=1)"
   ]
  },
  {
   "cell_type": "code",
   "execution_count": null,
   "id": "9f93bf10",
   "metadata": {
    "ExecuteTime": {
     "end_time": "2022-01-13T06:11:24.431776Z",
     "start_time": "2022-01-13T15:01:34.543Z"
    }
   },
   "outputs": [],
   "source": [
    "CONS_DATA['Liabilities'] = MARKET_FINAL_DF[MARKET_FINAL_DF.columns[:-2]].sum(axis=1)"
   ]
  },
  {
   "cell_type": "code",
   "execution_count": null,
   "id": "1bbe9dba",
   "metadata": {
    "ExecuteTime": {
     "end_time": "2022-01-13T06:11:24.432365Z",
     "start_time": "2022-01-13T15:01:34.544Z"
    }
   },
   "outputs": [],
   "source": [
    "CONS_DATA[\"VAR\"] = VAR"
   ]
  },
  {
   "cell_type": "code",
   "execution_count": null,
   "id": "e70fbae3",
   "metadata": {
    "ExecuteTime": {
     "end_time": "2022-01-13T06:11:24.433606Z",
     "start_time": "2022-01-13T15:01:34.545Z"
    }
   },
   "outputs": [],
   "source": [
    "CONS_DATA[\"VAR_DATE\"] = VAR_DATE"
   ]
  },
  {
   "cell_type": "code",
   "execution_count": null,
   "id": "77a6d68c",
   "metadata": {
    "ExecuteTime": {
     "end_time": "2022-01-13T06:11:24.434560Z",
     "start_time": "2022-01-13T15:01:34.547Z"
    }
   },
   "outputs": [],
   "source": [
    "# Saving to CSV\n",
    "CONS_DATA.to_csv(\"compound-historical-dec-20.csv\", index=False)"
   ]
  },
  {
   "cell_type": "code",
   "execution_count": null,
   "id": "e45ebbe8",
   "metadata": {},
   "outputs": [],
   "source": []
  },
  {
   "cell_type": "code",
   "execution_count": null,
   "id": "d55624de",
   "metadata": {},
   "outputs": [],
   "source": []
  },
  {
   "cell_type": "code",
   "execution_count": null,
   "id": "df587601",
   "metadata": {},
   "outputs": [],
   "source": []
  },
  {
   "cell_type": "code",
   "execution_count": null,
   "id": "d8433afb",
   "metadata": {},
   "outputs": [],
   "source": []
  },
  {
   "cell_type": "code",
   "execution_count": null,
   "id": "e0126493",
   "metadata": {},
   "outputs": [],
   "source": []
  },
  {
   "cell_type": "code",
   "execution_count": null,
   "id": "dce3acde",
   "metadata": {},
   "outputs": [],
   "source": []
  }
 ],
 "metadata": {
  "kernelspec": {
   "display_name": "Python 3",
   "language": "python",
   "name": "python3"
  },
  "language_info": {
   "codemirror_mode": {
    "name": "ipython",
    "version": 3
   },
   "file_extension": ".py",
   "mimetype": "text/x-python",
   "name": "python",
   "nbconvert_exporter": "python",
   "pygments_lexer": "ipython3",
   "version": "3.6.13"
  }
 },
 "nbformat": 4,
 "nbformat_minor": 5
}
