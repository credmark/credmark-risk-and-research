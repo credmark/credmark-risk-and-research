{
 "cells": [
  {
   "cell_type": "code",
   "execution_count": 1,
   "id": "80981ad3",
   "metadata": {
    "ExecuteTime": {
     "end_time": "2022-01-13T05:46:42.555434Z",
     "start_time": "2022-01-13T05:46:42.045449Z"
    },
    "code_folding": []
   },
   "outputs": [],
   "source": [
    "# ## Imports\n",
    "import os\n",
    "import json\n",
    "import boto3\n",
    "import requests\n",
    "import numpy as np\n",
    "import pandas as pd\n",
    "from io import StringIO\n",
    "from datetime import timedelta\n",
    "from datetime import datetime\n",
    "from gql import gql, Client\n",
    "from gql.transport.requests import RequestsHTTPTransport\n",
    "\n",
    "\n",
    "import matplotlib.pyplot as plt"
   ]
  },
  {
   "cell_type": "code",
   "execution_count": 2,
   "id": "1cb648d3",
   "metadata": {
    "ExecuteTime": {
     "end_time": "2022-01-13T05:46:54.188266Z",
     "start_time": "2022-01-13T05:46:54.176925Z"
    },
    "code_folding": []
   },
   "outputs": [],
   "source": [
    "def change():\n",
    "\n",
    "    names = {\"DAI\"  : 'dai',\n",
    "        \"GUSD\"  : 'gemini-dollar',\n",
    "        # \"SUSD\"  : 'susd',\n",
    "        \"TUSD\"  : 'true-usd',\n",
    "        \"USDC\"  : 'usd-coin',\n",
    "        \"USDP\"  : 'usdp',\n",
    "        \"USDT\"  : \"tether\",\n",
    "        \"BAL\"   : \"balancer\",\n",
    "        \"WETH\"   : \"ethereum\",\n",
    "        \"LINK\"  : \"chainlink\",\n",
    "        \"MKR\"   : \"maker\",\n",
    "        \"RAI\"   : \"rai\",\n",
    "        \"UNI\"   : \"uniswap\",\n",
    "        \"WBTC\"  : \"wrapped-bitcoin\",\n",
    "        \"XSUSHI\": \"xsushi\",\n",
    "        \"YFI\"   : \"yearn-finance\",\n",
    "        \"BUSD\"  : \"binance-usd\",\n",
    "        \"FEI\"   : \"fei-usd\",\n",
    "        \"FRAX\"  : \"frax\",\n",
    "        \"AAVE\"  : \"aave\",\n",
    "        \"AMPL\"  : \"ampleforth\",\n",
    "        \"BAT\"   : \"basic-attention-token\",\n",
    "        \"CRV\"   : \"curve-dao-token\",\n",
    "        \"DPI\"   : \"defipulse-index\",\n",
    "        # \"ENJ\"   : \"enjin-coin\",\n",
    "        \"KNC\"   : \"kyber-network-crystal\",\n",
    "        \"MANA\"  : \"decentraland\",\n",
    "        # \"REN\"   : \"ren\",\n",
    "        \"RENFIL\": \"renfil\",\n",
    "        # \"SNX\"   :\"synthetix-network-token\",\n",
    "        \"ZRX\"   : \"0x\"\n",
    "        }\n",
    "    columns = []\n",
    "    columns.append('timestamp')\n",
    "    for key in list(names.keys()):\n",
    "        columns.append(key+'_price')\n",
    "        columns.append(key+'_%change(10)')\n",
    "    df        = pd.DataFrame(columns = columns)\n",
    "    LOOK_BACK = 375 * 2\n",
    "    #LIMIT     = 5\n",
    "    WBTC      = []\n",
    "    request   = requests.get(\"https://api.coingecko.com/api/v3/coins/\"+ str(names['WBTC'])+ \"/market_chart?vs_currency=usd&days=max&interval=daily\")\n",
    "    data      = request.json()\n",
    "    WBTC      = data['prices']\n",
    "    tt        = []\n",
    "    P         = []\n",
    "    for day in data['prices'][-LOOK_BACK:]:\n",
    "        tt.append(day[0]/1000)\n",
    "        P.append(day[1])\n",
    "    df['WBTC_price'] = P\n",
    "    df['timestamp']  = tt\n",
    "    track = {}\n",
    "    for asset in list(names.keys()):#[:LIMIT]:\n",
    "        if asset == 'WBTC':\n",
    "            continue\n",
    "        request = requests.get(\"https://api.coingecko.com/api/v3/coins/\"+ str(names[asset])+ \"/market_chart?vs_currency=usd&days=max&interval=daily\")\n",
    "        data = request.json()\n",
    "        tt = []\n",
    "        P = []\n",
    "        \n",
    "        if len(data['prices']) < LOOK_BACK:\n",
    "            req = LOOK_BACK - len(data['prices'])\n",
    "            addition = WBTC[-LOOK_BACK:  -LOOK_BACK + req ]\n",
    "            data['prices'] = addition + data['prices']\n",
    "            track[asset] = req\n",
    "        else:\n",
    "            data['prices'] = data['prices'][-LOOK_BACK:]\n",
    "        \n",
    "        for day in data['prices']:\n",
    "            tt.append(day[0]/1000)\n",
    "            P.append(day[1])\n",
    "        df[asset+'_price'] = P\n",
    "        df['timestamp']  = tt\n",
    "    df['timestamp'] = tt\n",
    "    for asset in list(names.keys()):#[:LIMIT]:\n",
    "        \n",
    "        diff_10 = pd.DataFrame(df[asset+'_price'].diff(periods=10) )\n",
    "        change = []\n",
    "        for i in range(10):\n",
    "            change.append('Nan')\n",
    "        for i in range(10,df.shape[0]):\n",
    "            change.append((diff_10.iloc[i][asset+'_price'] / df.iloc[i-10][asset+'_price']) * 100)\n",
    "        df[asset+'_%change(10)'] = change\n",
    "        \n",
    "        diff_1 = pd.DataFrame(df[asset+'_price'].diff(periods=1) )\n",
    "        change = []\n",
    "        for i in range(10):\n",
    "            change.append('Nan')\n",
    "        for i in range(10,df.shape[0]):\n",
    "            change.append((diff_1.iloc[i][asset+'_price'] / df.iloc[i-10][asset+'_price']) * 100)\n",
    "        df[asset+'_%change(1)'] = change        \n",
    "    for key in track.keys():\n",
    "        df[key+'_%change(10)'][:track[key]] = df['WBTC_%change(10)'][:track[key]]\n",
    "\n",
    "    df['date'] = df['timestamp'].apply(lambda x : str(datetime.fromtimestamp(x).date()))\n",
    "    df  = df.iloc[::-1]\n",
    "    df  = df.reset_index()\n",
    "    df = df.drop(['index'], axis=1)\n",
    "\n",
    "    df = df[:-10]\n",
    "\n",
    "    print(\"CHECK POINT \")\n",
    "    return df"
   ]
  },
  {
   "cell_type": "code",
   "execution_count": 3,
   "id": "f726292d",
   "metadata": {
    "ExecuteTime": {
     "end_time": "2022-01-13T05:46:54.593424Z",
     "start_time": "2022-01-13T05:46:54.591115Z"
    },
    "code_folding": [
     1
    ]
   },
   "outputs": [],
   "source": [
    "# transactionResponse = {}\n",
    "# names = {\"DAI\"  : 'dai',\n",
    "#         \"GUSD\"  : 'gemini-dollar',\n",
    "#         # \"SUSD\"  : 'susd',\n",
    "#         \"TUSD\"  : 'true-usd',\n",
    "#         \"USDC\"  : 'usd-coin',\n",
    "#         # \"USDP\"  : 'usdp',\n",
    "#         \"USDT\"  : \"tether\",\n",
    "#         \"BAL\"   : \"balancer\",\n",
    "#         \"WETH\"   : \"ethereum\",\n",
    "#         \"LINK\"  : \"chainlink\",\n",
    "#         \"MKR\"   : \"maker\",\n",
    "#         \"RAI\"   : \"rai\",\n",
    "#         \"UNI\"   : \"uniswap\",\n",
    "#         \"WBTC\"  : \"wrapped-bitcoin\",\n",
    "#         \"XSUSHI\": \"xsushi\",\n",
    "#         \"YFI\"   : \"yearn-finance\",\n",
    "#         \"BUSD\"  : \"binance-usd\",\n",
    "#         \"FEI\"   : \"fei-usd\",\n",
    "#         \"FRAX\"  : \"frax\",\n",
    "#         \"AAVE\"  : \"aave\",\n",
    "#         \"AMPL\"  : \"ampleforth\",\n",
    "#         \"BAT\"   : \"basic-attention-token\",\n",
    "#         \"CRV\"   : \"curve-dao-token\",\n",
    "#         \"DPI\"   : \"defipulse-index\",\n",
    "#         # # \"ENJ\"   : \"enjin-coin\",\n",
    "#         \"KNC\"   : \"kyber-network-crystal\",\n",
    "#         \"MANA\"  : \"decentraland\",\n",
    "#         # \"REN\"   : \"ren\",\n",
    "#         \"RENFIL\": \"renfil\",\n",
    "#         # \"SNX\"   :\"synthetix-network-token\",\n",
    "#         \"ZRX\"   : \"0x\"\n",
    "#         }\n",
    "# errors = []\n",
    "# print(\"Creating key\")\n",
    "# transactionResponse = {\"result\":{\"AAVEV2\":{}}}\n",
    "# ind       = 0\n",
    "# look_back = 1\n"
   ]
  },
  {
   "cell_type": "code",
   "execution_count": null,
   "id": "e882bb5a",
   "metadata": {},
   "outputs": [],
   "source": []
  },
  {
   "cell_type": "code",
   "execution_count": 4,
   "id": "9bdeff28",
   "metadata": {
    "ExecuteTime": {
     "end_time": "2022-01-12T23:45:18.102494Z",
     "start_time": "2022-01-12T23:45:18.099249Z"
    }
   },
   "outputs": [],
   "source": [
    "## Compaound market historial API"
   ]
  },
  {
   "cell_type": "code",
   "execution_count": null,
   "id": "0a5d38fe",
   "metadata": {},
   "outputs": [],
   "source": []
  },
  {
   "cell_type": "code",
   "execution_count": 5,
   "id": "ab5d1427",
   "metadata": {
    "ExecuteTime": {
     "end_time": "2022-01-12T23:45:18.107750Z",
     "start_time": "2022-01-12T23:45:18.104793Z"
    },
    "scrolled": true
   },
   "outputs": [],
   "source": [
    "# res  = requests.get(\"https://api.compound.finance/api/v2/ctoken\")\n",
    "# for ctoken in res.json()['cToken'][6:]:\n",
    "#     print(ctoken['symbol'],ctoken['token_address'])\n",
    "#     res = requests.get(\"https://api.compound.finance/api/v2/market_history/graph?asset=%s&min_block_timestamp=1633285800&max_block_timestamp=1634149800&num_buckets=40\" %ctoken['token_address']);            \n",
    "    \n",
    "#     print(res.json())\n",
    "#     break"
   ]
  },
  {
   "cell_type": "code",
   "execution_count": null,
   "id": "8a080c12",
   "metadata": {},
   "outputs": [],
   "source": []
  },
  {
   "cell_type": "code",
   "execution_count": 4,
   "id": "d337581e",
   "metadata": {
    "ExecuteTime": {
     "end_time": "2022-01-13T05:47:21.906512Z",
     "start_time": "2022-01-13T05:46:57.751009Z"
    },
    "code_folding": [
     0,
     41,
     64
    ]
   },
   "outputs": [
    {
     "name": "stdout",
     "output_type": "stream",
     "text": [
      "{'DAI': 'dai', 'TUSD': 'true-usd', 'USDC': 'usd-coin', 'USDT': 'tether', 'ETH': 'ethereum', 'LINK': 'chainlink', 'MKR': 'maker', 'UNI': 'uniswap', 'WBTC': 'wrapped-bitcoin', 'WBTC2': 'wrapped-bitcoin', 'SUSHI': 'sushi', 'YFI': 'yearn-finance', 'AAVE': 'aave', 'BAT': 'basic-attention-token', 'ZRX': '0x', 'REP': 'augur', 'SAI': 'sai'}\n",
      "DEBUG 1  DAI\n",
      "DEBUG 1  TUSD\n",
      "DEBUG 1  USDC\n",
      "DEBUG 1  USDT\n",
      "DEBUG 1  ETH\n",
      "DEBUG 1  LINK\n",
      "DEBUG 1  MKR\n",
      "DEBUG 1  UNI\n",
      "DEBUG 1  WBTC2\n",
      "DEBUG 1  SUSHI\n",
      "DEBUG 1  YFI\n",
      "DEBUG 1  AAVE\n",
      "DEBUG 1  BAT\n",
      "DEBUG 1  ZRX\n",
      "DEBUG 1  REP\n",
      "DEBUG 1  SAI\n",
      "CHECK POINT \n"
     ]
    },
    {
     "name": "stderr",
     "output_type": "stream",
     "text": [
      "/home/nishgaba/anaconda3/envs/defi/lib/python3.6/site-packages/ipykernel_launcher.py:83: SettingWithCopyWarning: \n",
      "A value is trying to be set on a copy of a slice from a DataFrame\n",
      "\n",
      "See the caveats in the documentation: https://pandas.pydata.org/pandas-docs/stable/user_guide/indexing.html#returning-a-view-versus-a-copy\n"
     ]
    }
   ],
   "source": [
    "names = {\"DAI\"  : 'dai',\n",
    "        \"TUSD\"  : 'true-usd',\n",
    "        \"USDC\"  : 'usd-coin',\n",
    "        \"USDT\"  : \"tether\",\n",
    "        \"ETH\"   : \"ethereum\",\n",
    "        \"LINK\"  : \"chainlink\",\n",
    "        \"MKR\"   : \"maker\",\n",
    "        \"UNI\"   : \"uniswap\",\n",
    "        \"WBTC\"  : \"wrapped-bitcoin\",\n",
    "        \"WBTC2\"  : \"wrapped-bitcoin\",\n",
    "        \"SUSHI\" :\"sushi\",  \n",
    "        \"YFI\"   : \"yearn-finance\",\n",
    "        \"AAVE\"  : \"aave\",\n",
    "        \"BAT\"   : \"basic-attention-token\",\n",
    "        \"ZRX\"   : \"0x\",\n",
    "        \"REP\"   : \"augur\",\n",
    "        \"SAI\"   : \"sai\",\n",
    "        }\n",
    "\n",
    "def change():    \n",
    "    columns = []\n",
    "    columns.append('timestamp')\n",
    "    print(names)\n",
    "    for key in list(names.keys()):\n",
    "        columns.append(key+'_price')\n",
    "        columns.append(key+'_%change(10)')\n",
    "    df        = pd.DataFrame(columns = columns)\n",
    "    LOOK_BACK = 375 * 2\n",
    "    #LIMIT     = 5\n",
    "    WBTC      = []\n",
    "    request   = requests.get(\"https://api.coingecko.com/api/v3/coins/\"+ str(names['WBTC'])+ \"/market_chart?vs_currency=usd&days=max&interval=daily\")\n",
    "    data      = request.json()\n",
    "    WBTC      = data['prices']\n",
    "    tt        = []\n",
    "    P         = []\n",
    "    for day in data['prices'][-LOOK_BACK:]:\n",
    "        tt.append(day[0]/1000)\n",
    "        P.append(day[1])\n",
    "    df['WBTC_price'] = P\n",
    "    df['timestamp']  = tt\n",
    "    track = {}\n",
    "    for asset in list(names.keys()):#[:LIMIT]:\n",
    "        if asset == 'WBTC':\n",
    "            continue\n",
    "        print(\"DEBUG 1 \", asset)\n",
    "        request = requests.get(\"https://api.coingecko.com/api/v3/coins/\"+ str(names[asset])+ \"/market_chart?vs_currency=usd&days=max&interval=daily\")\n",
    "        data = request.json()\n",
    "        tt = []\n",
    "        P = []\n",
    "        # print(\"DEBUG 1 \", data)\n",
    "        if len(data['prices']) < LOOK_BACK:\n",
    "            req = LOOK_BACK - len(data['prices'])\n",
    "            addition = WBTC[-LOOK_BACK:  -LOOK_BACK + req ]\n",
    "            data['prices'] = addition + data['prices']\n",
    "            track[asset] = req\n",
    "        else:\n",
    "            data['prices'] = data['prices'][-LOOK_BACK:]\n",
    "\n",
    "        for day in data['prices']:\n",
    "            tt.append(day[0]/1000)\n",
    "            P.append(day[1])\n",
    "        df[asset+'_price'] = P\n",
    "#         df['timestamp']  = tt\n",
    "#     df['timestamp'] = tt\n",
    "    for asset in list(names.keys()):#[:LIMIT]:\n",
    "\n",
    "        diff_10 = pd.DataFrame(df[asset+'_price'].diff(periods=10) )\n",
    "        change = []\n",
    "        for i in range(10):\n",
    "            change.append('Nan')\n",
    "        for i in range(10,df.shape[0]):\n",
    "            change.append((diff_10.iloc[i][asset+'_price'] / df.iloc[i-10][asset+'_price']) * 100)\n",
    "        df[asset+'_%change(10)'] = change\n",
    "\n",
    "        diff_1 = pd.DataFrame(df[asset+'_price'].diff(periods=1) )\n",
    "        change = []\n",
    "        for i in range(10):\n",
    "            change.append('Nan')\n",
    "        for i in range(10,df.shape[0]):\n",
    "            change.append((diff_1.iloc[i][asset+'_price'] / df.iloc[i-10][asset+'_price']) * 100)\n",
    "        df[asset+'_%change(1)'] = change        \n",
    "    for key in track.keys():\n",
    "        df[key+'_%change(10)'][:track[key]] = df['WBTC_%change(10)'][:track[key]]\n",
    "\n",
    "    df['date'] = df['timestamp'].apply(lambda x : str(datetime.fromtimestamp(x).date()))\n",
    "    df  = df.iloc[::-1]\n",
    "    df  = df.reset_index()\n",
    "    df = df.drop(['index'], axis=1)\n",
    "    df = df[:-10]\n",
    "    print(\"CHECK POINT \")\n",
    "    return df[1:]\n",
    "\n",
    "change_df = change()\n",
    "\n",
    "# min_var = 9999999"
   ]
  },
  {
   "cell_type": "code",
   "execution_count": 5,
   "id": "a0420e73",
   "metadata": {
    "ExecuteTime": {
     "end_time": "2022-01-13T05:47:22.022725Z",
     "start_time": "2022-01-13T05:47:21.907873Z"
    }
   },
   "outputs": [],
   "source": [
    "!mkdir COMPOUND_DATA"
   ]
  },
  {
   "cell_type": "code",
   "execution_count": 8,
   "id": "6f0c2d04",
   "metadata": {
    "ExecuteTime": {
     "end_time": "2022-01-12T23:45:44.640920Z",
     "start_time": "2022-01-12T23:45:44.637793Z"
    },
    "code_folding": [
     0
    ]
   },
   "outputs": [],
   "source": [
    "# names = {\"DAI\"  : 'dai',\n",
    "#         \"GUSD\"  : 'gemini-dollar',\n",
    "#         # \"SUSD\"  : 'susd',\n",
    "#         \"TUSD\"  : 'true-usd',\n",
    "#         \"USDC\"  : 'usd-coin',\n",
    "#         # \"USDP\"  : 'usdp',\n",
    "#         \"USDT\"  : \"tether\",\n",
    "#         \"BAL\"   : \"balancer\",\n",
    "#         \"WETH\"   : \"ethereum\",\n",
    "#         \"LINK\"  : \"chainlink\",\n",
    "#         \"MKR\"   : \"maker\",\n",
    "#         \"RAI\"   : \"rai\",\n",
    "#         \"UNI\"   : \"uniswap\",\n",
    "#         \"WBTC\"  : \"wrapped-bitcoin\",\n",
    "#         \"XSUSHI\": \"xsushi\",\n",
    "#         \"YFI\"   : \"yearn-finance\",\n",
    "#         \"BUSD\"  : \"binance-usd\",\n",
    "#         \"FEI\"   : \"fei-usd\",\n",
    "#         \"FRAX\"  : \"frax\",\n",
    "#         \"AAVE\"  : \"aave\",\n",
    "#         \"AMPL\"  : \"ampleforth\",\n",
    "#         \"BAT\"   : \"basic-attention-token\",\n",
    "#         \"CRV\"   : \"curve-dao-token\",\n",
    "#         \"DPI\"   : \"defipulse-index\",\n",
    "#         # # \"ENJ\"   : \"enjin-coin\",\n",
    "#         \"KNC\"   : \"kyber-network-crystal\",\n",
    "#         \"MANA\"  : \"decentraland\",\n",
    "#         # \"REN\"   : \"ren\",\n",
    "#         \"RENFIL\": \"renfil\",\n",
    "#         # \"SNX\"   :\"synthetix-network-token\",\n",
    "#         \"ZRX\"   : \"0x\"\n",
    "#         }"
   ]
  },
  {
   "cell_type": "code",
   "execution_count": 6,
   "id": "f583c01c",
   "metadata": {
    "ExecuteTime": {
     "end_time": "2022-01-13T05:47:22.027298Z",
     "start_time": "2022-01-13T05:47:22.024394Z"
    },
    "code_folding": [
     0
    ]
   },
   "outputs": [],
   "source": [
    "names = {\"DAI\"  : 'dai',\n",
    "        \"TUSD\"  : 'true-usd',\n",
    "        \"USDC\"  : 'usd-coin',\n",
    "        \"USDT\"  : \"tether\",\n",
    "        \"ETH\"   : \"ethereum\",\n",
    "        \"LINK\"  : \"chainlink\",\n",
    "        \"MKR\"   : \"maker\",\n",
    "        \"UNI\"   : \"uniswap\",\n",
    "        \"WBTC\"  : \"wrapped-bitcoin\",\n",
    "        \"WBTC2\"  : \"wrapped-bitcoin\",\n",
    "        \"SUSHI\" :\"sushi\", # check -- - - - - -- \n",
    "        \"YFI\"   : \"yearn-finance\",\n",
    "        \"AAVE\"  : \"aave\",\n",
    "        \"BAT\"   : \"basic-attention-token\",\n",
    "        \"ZRX\"   : \"0x\",\n",
    "        \"REP\"   : \"augur\",\n",
    "        \"SAI\"   : \"sai\",\n",
    "        }"
   ]
  },
  {
   "cell_type": "code",
   "execution_count": null,
   "id": "674b999f",
   "metadata": {},
   "outputs": [],
   "source": []
  },
  {
   "cell_type": "code",
   "execution_count": 7,
   "id": "7557b7e4",
   "metadata": {
    "ExecuteTime": {
     "end_time": "2022-01-13T05:47:37.423539Z",
     "start_time": "2022-01-13T05:47:22.028948Z"
    },
    "code_folding": []
   },
   "outputs": [
    {
     "name": "stdout",
     "output_type": "stream",
     "text": [
      "cWBTC\n",
      "cMKR\n",
      "cZRX\n",
      "cYFI\n",
      "cSUSHI\n",
      "cLINK\n",
      "cBAT\n",
      "cUNI\n",
      "cWBTC2\n",
      "cUSDT\n",
      "cUSDC\n",
      "cTUSD\n",
      "cDAI\n",
      "cETH\n",
      "cCOMP\n",
      "cAAVE\n"
     ]
    }
   ],
   "source": [
    "ind  = 0 \n",
    "res  = requests.get(\"https://api.compound.finance/api/v2/ctoken\")\n",
    "df   = pd.DataFrame(columns = list(res.json()['cToken'][0].keys()))\n",
    "for ctoken in res.json()['cToken'][3:]:\n",
    "    \n",
    "    print(ctoken['symbol'])\n",
    "    if ctoken['symbol'] == 'cCOMP':\n",
    "        continue\n",
    "\n",
    "    ind += 1\n",
    "    for key in ctoken.keys():\n",
    "        try:\n",
    "            df.at[ind,key ] = ctoken[key]['value']\n",
    "        except:\n",
    "            df.at[ind,key ] = ctoken[key]\n",
    "\n",
    "    \n",
    "\n",
    "    address   = ctoken['token_address']\n",
    "\n",
    "    request   = requests.get(\"https://api.coingecko.com/api/v3/coins/\"+ str(names[ctoken['symbol'][1:]])+ \"/market_chart?vs_currency=usd&days=max&interval=daily\")\n",
    "    prices_df = pd.DataFrame(columns=['timestamp', 'price'])\n",
    "    timestamp = []\n",
    "    prices    = []\n",
    "\n",
    "    for req in request.json()['prices']:\n",
    "        timestamp.append(int(float(req[0])/1000))\n",
    "        prices.append(req[1])\n",
    "\n",
    "    prices_df['timestamp'] = timestamp\n",
    "    prices_df['price']     = prices\n",
    "\n",
    "    date= []\n",
    "    for time in timestamp:\n",
    "        date.append(datetime.fromtimestamp(time).strftime('%Y-%m-%d'))\n",
    "    prices_df['date']  = date"
   ]
  },
  {
   "cell_type": "code",
   "execution_count": 11,
   "id": "87ebe7e4",
   "metadata": {
    "ExecuteTime": {
     "end_time": "2022-01-12T23:45:52.561866Z",
     "start_time": "2022-01-12T23:45:52.539312Z"
    }
   },
   "outputs": [
    {
     "data": {
      "text/html": [
       "<div>\n",
       "<style scoped>\n",
       "    .dataframe tbody tr th:only-of-type {\n",
       "        vertical-align: middle;\n",
       "    }\n",
       "\n",
       "    .dataframe tbody tr th {\n",
       "        vertical-align: top;\n",
       "    }\n",
       "\n",
       "    .dataframe thead th {\n",
       "        text-align: right;\n",
       "    }\n",
       "</style>\n",
       "<table border=\"1\" class=\"dataframe\">\n",
       "  <thead>\n",
       "    <tr style=\"text-align: right;\">\n",
       "      <th></th>\n",
       "      <th>timestamp</th>\n",
       "      <th>price</th>\n",
       "      <th>date</th>\n",
       "    </tr>\n",
       "  </thead>\n",
       "  <tbody>\n",
       "    <tr>\n",
       "      <th>0</th>\n",
       "      <td>1538697600</td>\n",
       "      <td>1.006242</td>\n",
       "      <td>2018-10-05</td>\n",
       "    </tr>\n",
       "    <tr>\n",
       "      <th>1</th>\n",
       "      <td>1538784000</td>\n",
       "      <td>1.001530</td>\n",
       "      <td>2018-10-06</td>\n",
       "    </tr>\n",
       "    <tr>\n",
       "      <th>2</th>\n",
       "      <td>1538870400</td>\n",
       "      <td>1.001177</td>\n",
       "      <td>2018-10-07</td>\n",
       "    </tr>\n",
       "    <tr>\n",
       "      <th>3</th>\n",
       "      <td>1538956800</td>\n",
       "      <td>1.001906</td>\n",
       "      <td>2018-10-08</td>\n",
       "    </tr>\n",
       "    <tr>\n",
       "      <th>4</th>\n",
       "      <td>1539043200</td>\n",
       "      <td>1.001983</td>\n",
       "      <td>2018-10-09</td>\n",
       "    </tr>\n",
       "    <tr>\n",
       "      <th>...</th>\n",
       "      <td>...</td>\n",
       "      <td>...</td>\n",
       "      <td>...</td>\n",
       "    </tr>\n",
       "    <tr>\n",
       "      <th>1192</th>\n",
       "      <td>1641686400</td>\n",
       "      <td>0.999403</td>\n",
       "      <td>2022-01-09</td>\n",
       "    </tr>\n",
       "    <tr>\n",
       "      <th>1193</th>\n",
       "      <td>1641772800</td>\n",
       "      <td>1.000593</td>\n",
       "      <td>2022-01-10</td>\n",
       "    </tr>\n",
       "    <tr>\n",
       "      <th>1194</th>\n",
       "      <td>1641859200</td>\n",
       "      <td>1.000715</td>\n",
       "      <td>2022-01-11</td>\n",
       "    </tr>\n",
       "    <tr>\n",
       "      <th>1195</th>\n",
       "      <td>1641945600</td>\n",
       "      <td>0.999859</td>\n",
       "      <td>2022-01-12</td>\n",
       "    </tr>\n",
       "    <tr>\n",
       "      <th>1196</th>\n",
       "      <td>1642030359</td>\n",
       "      <td>1.001424</td>\n",
       "      <td>2022-01-13</td>\n",
       "    </tr>\n",
       "  </tbody>\n",
       "</table>\n",
       "<p>1197 rows × 3 columns</p>\n",
       "</div>"
      ],
      "text/plain": [
       "       timestamp     price        date\n",
       "0     1538697600  1.006242  2018-10-05\n",
       "1     1538784000  1.001530  2018-10-06\n",
       "2     1538870400  1.001177  2018-10-07\n",
       "3     1538956800  1.001906  2018-10-08\n",
       "4     1539043200  1.001983  2018-10-09\n",
       "...          ...       ...         ...\n",
       "1192  1641686400  0.999403  2022-01-09\n",
       "1193  1641772800  1.000593  2022-01-10\n",
       "1194  1641859200  1.000715  2022-01-11\n",
       "1195  1641945600  0.999859  2022-01-12\n",
       "1196  1642030359  1.001424  2022-01-13\n",
       "\n",
       "[1197 rows x 3 columns]"
      ]
     },
     "execution_count": 11,
     "metadata": {},
     "output_type": "execute_result"
    }
   ],
   "source": [
    "prices_df"
   ]
  },
  {
   "cell_type": "code",
   "execution_count": null,
   "id": "eb2c58d4",
   "metadata": {},
   "outputs": [],
   "source": [
    "\n",
    "# PLATFORM: AAVE_V2, Compound\n"
   ]
  },
  {
   "cell_type": "code",
   "execution_count": 12,
   "id": "68fdbe64",
   "metadata": {
    "ExecuteTime": {
     "end_time": "2022-01-12T23:45:52.570356Z",
     "start_time": "2022-01-12T23:45:52.565036Z"
    }
   },
   "outputs": [],
   "source": [
    "# !mkdir COMPOUND_DATA"
   ]
  },
  {
   "cell_type": "code",
   "execution_count": 8,
   "id": "35dd2dee",
   "metadata": {
    "ExecuteTime": {
     "end_time": "2022-01-13T05:50:29.325979Z",
     "start_time": "2022-01-13T05:48:16.537330Z"
    },
    "code_folding": [],
    "scrolled": true
   },
   "outputs": [
    {
     "name": "stdout",
     "output_type": "stream",
     "text": [
      "***\n",
      "***\n",
      "***\n",
      "***\n",
      "***\n",
      "********************** (98, 10)\n",
      "***\n",
      "***\n",
      "***\n",
      "***\n",
      "***\n",
      "ERROR  index 0 is out of bounds for axis 0 with size 0 cSAI\n",
      "ERROR  'USDP' cUSDP\n",
      "***\n",
      "***\n",
      "***\n",
      "***\n",
      "***\n",
      "********************** (147, 10)\n",
      "***\n",
      "***\n",
      "***\n",
      "***\n",
      "***\n",
      "********************** (139, 10)\n",
      "***\n",
      "***\n",
      "***\n",
      "***\n",
      "***\n",
      "********************** (150, 10)\n",
      "***\n",
      "***\n",
      "***\n",
      "***\n",
      "***\n",
      "********************** (130, 10)\n",
      "***\n",
      "***\n",
      "***\n",
      "***\n",
      "***\n",
      "********************** (146, 10)\n",
      "***\n",
      "***\n",
      "***\n",
      "***\n",
      "***\n",
      "********************** (150, 10)\n",
      "***\n",
      "***\n",
      "***\n",
      "***\n",
      "***\n",
      "********************** (149, 10)\n",
      "***\n",
      "***\n",
      "***\n",
      "***\n",
      "***\n",
      "********************** (150, 10)\n",
      "***\n",
      "***\n",
      "***\n",
      "***\n",
      "***\n",
      "********************** (150, 10)\n",
      "***\n",
      "***\n",
      "***\n",
      "***\n",
      "***\n",
      "********************** (150, 10)\n",
      "***\n",
      "***\n",
      "***\n",
      "***\n",
      "***\n",
      "********************** (150, 10)\n",
      "***\n",
      "***\n",
      "***\n",
      "***\n",
      "***\n",
      "********************** (138, 10)\n",
      "***\n",
      "***\n",
      "***\n",
      "***\n",
      "***\n",
      "********************** (150, 10)\n",
      "***\n",
      "***\n",
      "***\n",
      "***\n",
      "***\n",
      "********************** (150, 10)\n",
      "ERROR  'COMP' cCOMP\n",
      "***\n",
      "***\n",
      "***\n",
      "***\n",
      "***\n",
      "********************** (131, 10)\n"
     ]
    }
   ],
   "source": [
    "ind  = 0 \n",
    "res  = requests.get(\"https://api.compound.finance/api/v2/ctoken\")\n",
    "df   = pd.DataFrame(columns = list(res.json()['cToken'][0].keys()))\n",
    "# MASTER_DATE = '2021-12-20'\n",
    "MASTER_DATE = \"2022-01-13\"\n",
    "for ctoken in res.json()['cToken']:\n",
    "    try:\n",
    "        ind += 1\n",
    "        for key in ctoken.keys():\n",
    "            try:\n",
    "                df.at[ind,key ] = ctoken[key]['value']\n",
    "            except:\n",
    "                df.at[ind,key ] = ctoken[key]\n",
    "\n",
    "\n",
    "        address   = ctoken['token_address']\n",
    "\n",
    "        request   = requests.get(\"https://api.coingecko.com/api/v3/coins/\"+ str(names[ctoken['symbol'][1:]])+ \"/market_chart?vs_currency=usd&days=max&interval=daily\")\n",
    "        prices_df = pd.DataFrame(columns=['timestamp', 'price'])\n",
    "        timestamp = []\n",
    "        prices    = []\n",
    "\n",
    "        for req in request.json()['prices']:\n",
    "            timestamp.append(int(float(req[0])/1000))\n",
    "            prices.append(req[1])\n",
    "\n",
    "        prices_df['timestamp'] = timestamp\n",
    "        prices_df['price']     = prices\n",
    "\n",
    "        date= []\n",
    "        for time in timestamp:\n",
    "            date.append(datetime.fromtimestamp(time).strftime('%Y-%m-%d'))\n",
    "        prices_df['date']  = date\n",
    "\n",
    "#         datestamp = '2021-12-14'\n",
    "        datestamp = MASTER_DATE\n",
    "        max_timstamp = int(datetime.strptime(datestamp, '%Y-%m-%d').timestamp())\n",
    "        SUPPLY_DF = pd.DataFrame(columns=['block_number', 'block_timestamp','value'])\n",
    "        BORROW_DF = pd.DataFrame(columns=['block_number', 'block_timestamp','value'])\n",
    "        DF = pd.DataFrame()\n",
    "        BIND = 0\n",
    "        SIND = 0\n",
    "        for _ in range(5):\n",
    "            min_timestamp = max_timstamp  -  30 * 86400 \n",
    "            res = requests.get(\"https://api.compound.finance/api/v2/market_history/graph?asset=%s&min_block_timestamp=%s&max_block_timestamp=%s&num_buckets=50\" % ( address,min_timestamp, max_timstamp));    \n",
    "            max_timstamp = max_timstamp   - 30 * 86400 \n",
    "            temp = res.json()\n",
    "\n",
    "\n",
    "            for tem in temp['total_borrows_history']:\n",
    "                BORROW_DF.loc[BIND] = [tem['block_number']] + [tem['block_timestamp']] + [tem['total']['value']]                     \n",
    "                BIND += 1\n",
    "\n",
    "\n",
    "            for tem in temp['total_supply_history']:\n",
    "                SUPPLY_DF.loc[SIND] = [tem['block_number']] + [tem['block_timestamp']] + [tem['total']['value']]\n",
    "                SIND += 1                      \n",
    "\n",
    "\n",
    "            print(\"***\")\n",
    "\n",
    "        BORROW_DF = BORROW_DF.sort_values(['block_timestamp'])\n",
    "        BORROW_DF['DATE'] = BORROW_DF['block_timestamp'].apply(lambda x: datetime.fromtimestamp(x).date())\n",
    "        BORROW_DF.drop_duplicates(subset = ['DATE'], keep = 'first', inplace = True)\n",
    "        SUPPLY_DF = SUPPLY_DF.sort_values(['block_timestamp'])\n",
    "        SUPPLY_DF['DATE'] = SUPPLY_DF['block_timestamp'].apply(lambda x: datetime.fromtimestamp(x).date())\n",
    "        SUPPLY_DF.drop_duplicates(subset = ['DATE'], keep = 'first', inplace = True)\n",
    "\n",
    "        SUPPLY_DF['supply_tokens'] = pd.to_numeric(SUPPLY_DF['value']) *  float(temp['exchange_rates'][-1]['rate'])\n",
    "\n",
    "\n",
    "        BORROW_DF = BORROW_DF[::-1]\n",
    "        SUPPLY_DF = SUPPLY_DF[::-1]\n",
    "        DF['timestamp']    = BORROW_DF['block_timestamp']\n",
    "        DF['BORROW']       = BORROW_DF['value']\n",
    "        DF['SUPPLY']       = SUPPLY_DF['supply_tokens']\n",
    "        DF['DATE']         = BORROW_DF['DATE']\n",
    "        DF['SUPPLY_VALUE'] = SUPPLY_DF['value']\n",
    "\n",
    "\n",
    "        assigned_price = []\n",
    "        for indW in DF['DATE'] :\n",
    "            a = prices_df[prices_df['date']==str(indW)]\n",
    "            assigned_price.append(a['price'].values[0])\n",
    "\n",
    "        DF['prices'] = assigned_price\n",
    "\n",
    "        DF['total_supply'] =  DF['SUPPLY'] * DF['prices']\n",
    "        DF['total_borrow'] =  pd.to_numeric(DF['BORROW']) * pd.to_numeric(DF['prices'])\n",
    "        DF['POSITION']     =  DF['total_borrow'] - DF['total_supply']\n",
    "        DF['POSITION($)']  =  DF['POSITION'] / pow(10,9)\n",
    "        DF.to_csv('COMPOUND_DATA/DF_'+ctoken['symbol'][1:] + '.csv')\n",
    "\n",
    "\n",
    "\n",
    "        print(\"**********************\", DF.shape)\n",
    "    except Exception as e:\n",
    "        print(\"ERROR \", e, ctoken['symbol'])\n",
    "    "
   ]
  },
  {
   "cell_type": "code",
   "execution_count": 26,
   "id": "ac18635f",
   "metadata": {
    "ExecuteTime": {
     "end_time": "2022-01-13T06:05:19.039086Z",
     "start_time": "2022-01-13T06:05:19.036027Z"
    }
   },
   "outputs": [
    {
     "data": {
      "text/plain": [
       "2592000"
      ]
     },
     "execution_count": 26,
     "metadata": {},
     "output_type": "execute_result"
    }
   ],
   "source": []
  },
  {
   "cell_type": "code",
   "execution_count": 9,
   "id": "f1303dc7",
   "metadata": {
    "ExecuteTime": {
     "end_time": "2022-01-13T05:51:05.696252Z",
     "start_time": "2022-01-13T05:51:05.692752Z"
    }
   },
   "outputs": [],
   "source": [
    "fils = os.listdir('COMPOUND_DATA/')"
   ]
  },
  {
   "cell_type": "code",
   "execution_count": 10,
   "id": "e83f57ca",
   "metadata": {
    "ExecuteTime": {
     "end_time": "2022-01-13T05:52:18.306628Z",
     "start_time": "2022-01-13T05:52:18.303886Z"
    }
   },
   "outputs": [],
   "source": [
    "cols = []\n",
    "for fil in fils:\n",
    "    try:\n",
    "        aa = fil.split('.')[0].split('_')\n",
    "    #     print(aa[1])\n",
    "        cols.append(aa[1])\n",
    "    except:\n",
    "        pass"
   ]
  },
  {
   "cell_type": "code",
   "execution_count": 11,
   "id": "83809f6a",
   "metadata": {
    "ExecuteTime": {
     "end_time": "2022-01-13T05:52:18.616386Z",
     "start_time": "2022-01-13T05:52:18.614446Z"
    }
   },
   "outputs": [],
   "source": [
    "# df"
   ]
  },
  {
   "cell_type": "code",
   "execution_count": 12,
   "id": "80923dc0",
   "metadata": {
    "ExecuteTime": {
     "end_time": "2022-01-13T05:52:19.227058Z",
     "start_time": "2022-01-13T05:52:19.017324Z"
    },
    "code_folding": []
   },
   "outputs": [],
   "source": [
    "FINAL ={}\n",
    "for key in cols:\n",
    "    try:\n",
    "        df = pd.read_csv('COMPOUND_DATA/'+'DF_'+key+'.csv')\n",
    "        df = df.sort_values(['timestamp'])\n",
    "#         print(df.head())\n",
    "        df = df[::-1]\n",
    "        FINAL[key] = {'Assets': df['POSITION($)'],\n",
    "                      'date':df['DATE'],\n",
    "                      'MARKET':df['total_supply'],\n",
    "                      'BORROW':df['total_borrow']\n",
    "                     }\n",
    "    \n",
    "    except Exception as e:\n",
    "        print(e, key)\n"
   ]
  },
  {
   "cell_type": "code",
   "execution_count": null,
   "id": "a9e1c3cb",
   "metadata": {},
   "outputs": [],
   "source": []
  },
  {
   "cell_type": "code",
   "execution_count": 13,
   "id": "f5a20d06",
   "metadata": {
    "ExecuteTime": {
     "end_time": "2022-01-13T05:52:19.629928Z",
     "start_time": "2022-01-13T05:52:19.627396Z"
    }
   },
   "outputs": [],
   "source": [
    "ff = []\n",
    "for f in FINAL['ETH']['date']:\n",
    "    ff.append(f)"
   ]
  },
  {
   "cell_type": "code",
   "execution_count": 14,
   "id": "483f276d",
   "metadata": {
    "ExecuteTime": {
     "end_time": "2022-01-13T05:52:20.234694Z",
     "start_time": "2022-01-13T05:52:19.823942Z"
    }
   },
   "outputs": [
    {
     "name": "stderr",
     "output_type": "stream",
     "text": [
      "/home/nishgaba/anaconda3/envs/defi/lib/python3.6/site-packages/numpy/core/_asarray.py:83: VisibleDeprecationWarning: Creating an ndarray from ragged nested sequences (which is a list-or-tuple of lists-or-tuples-or ndarrays with different lengths or shapes) is deprecated. If you meant to do this, you must specify 'dtype=object' when creating the ndarray\n",
      "  return array(a, dtype, copy=False, order=order)\n"
     ]
    }
   ],
   "source": [
    "FINAL_DF = pd.DataFrame(columns= cols)\n",
    "ind = 0\n",
    "for i in range(100):\n",
    "    assets = []\n",
    "    for col in cols:\n",
    "        try:\n",
    "            assets.append(FINAL[col]['Assets'][i])\n",
    "        except:\n",
    "            assets.append([])\n",
    "    \n",
    "    FINAL_DF.loc[ind] = assets\n",
    "    ind += 1"
   ]
  },
  {
   "cell_type": "code",
   "execution_count": 15,
   "id": "3b500d0f",
   "metadata": {
    "ExecuteTime": {
     "end_time": "2022-01-13T05:52:20.249238Z",
     "start_time": "2022-01-13T05:52:20.236114Z"
    }
   },
   "outputs": [],
   "source": [
    "FINAL_DF['DATE'] = ff[:100]\n",
    "FINAL_DF['timestamp'] = FINAL_DF['DATE'].apply(lambda x: pd.Timestamp(x).timestamp())\n",
    "FINAL_DF = FINAL_DF.sort_values('timestamp')\n",
    "FINAL_DF = FINAL_DF[::-1]"
   ]
  },
  {
   "cell_type": "code",
   "execution_count": null,
   "id": "c188b251",
   "metadata": {},
   "outputs": [],
   "source": []
  },
  {
   "cell_type": "code",
   "execution_count": 16,
   "id": "3d9a8843",
   "metadata": {
    "ExecuteTime": {
     "end_time": "2022-01-13T05:52:20.447477Z",
     "start_time": "2022-01-13T05:52:20.387905Z"
    }
   },
   "outputs": [
    {
     "data": {
      "text/html": [
       "<div>\n",
       "<style scoped>\n",
       "    .dataframe tbody tr th:only-of-type {\n",
       "        vertical-align: middle;\n",
       "    }\n",
       "\n",
       "    .dataframe tbody tr th {\n",
       "        vertical-align: top;\n",
       "    }\n",
       "\n",
       "    .dataframe thead th {\n",
       "        text-align: right;\n",
       "    }\n",
       "</style>\n",
       "<table border=\"1\" class=\"dataframe\">\n",
       "  <thead>\n",
       "    <tr style=\"text-align: right;\">\n",
       "      <th></th>\n",
       "      <th>AAVE</th>\n",
       "      <th>BAT</th>\n",
       "      <th>DAI</th>\n",
       "      <th>ETH</th>\n",
       "      <th>LINK</th>\n",
       "      <th>MKR</th>\n",
       "      <th>REP</th>\n",
       "      <th>SUSHI</th>\n",
       "      <th>TUSD</th>\n",
       "      <th>UNI</th>\n",
       "      <th>USDC</th>\n",
       "      <th>USDT</th>\n",
       "      <th>WBTC</th>\n",
       "      <th>WBTC2</th>\n",
       "      <th>YFI</th>\n",
       "      <th>ZRX</th>\n",
       "      <th>DATE</th>\n",
       "      <th>timestamp</th>\n",
       "    </tr>\n",
       "  </thead>\n",
       "  <tbody>\n",
       "    <tr>\n",
       "      <th>0</th>\n",
       "      <td>-0.002310</td>\n",
       "      <td>-0.127123</td>\n",
       "      <td>-0.834741</td>\n",
       "      <td>-5.709998</td>\n",
       "      <td>-0.039767</td>\n",
       "      <td>-0.002897</td>\n",
       "      <td>-1.6391e-05</td>\n",
       "      <td>-0.000631</td>\n",
       "      <td>-0.038384</td>\n",
       "      <td>-0.125463</td>\n",
       "      <td>-1.007843</td>\n",
       "      <td>-0.265166</td>\n",
       "      <td>-0.113868</td>\n",
       "      <td>-1.475464</td>\n",
       "      <td>-0.000777</td>\n",
       "      <td>-0.093449</td>\n",
       "      <td>2021-12-19</td>\n",
       "      <td>1.639872e+09</td>\n",
       "    </tr>\n",
       "    <tr>\n",
       "      <th>1</th>\n",
       "      <td>-0.002197</td>\n",
       "      <td>-0.124717</td>\n",
       "      <td>-0.777469</td>\n",
       "      <td>-5.623920</td>\n",
       "      <td>-0.036913</td>\n",
       "      <td>-0.002174</td>\n",
       "      <td>7.0047e-06</td>\n",
       "      <td>-0.000643</td>\n",
       "      <td>-0.038673</td>\n",
       "      <td>-0.120981</td>\n",
       "      <td>-1.090484</td>\n",
       "      <td>-0.260881</td>\n",
       "      <td>-0.117068</td>\n",
       "      <td>-1.455817</td>\n",
       "      <td>-0.000761</td>\n",
       "      <td>-0.092133</td>\n",
       "      <td>2021-12-18</td>\n",
       "      <td>1.639786e+09</td>\n",
       "    </tr>\n",
       "    <tr>\n",
       "      <th>2</th>\n",
       "      <td>-0.002185</td>\n",
       "      <td>-0.122286</td>\n",
       "      <td>-0.751481</td>\n",
       "      <td>-5.722817</td>\n",
       "      <td>-0.037800</td>\n",
       "      <td>-0.002133</td>\n",
       "      <td>7.0747e-06</td>\n",
       "      <td>-0.000687</td>\n",
       "      <td>-0.038743</td>\n",
       "      <td>-0.116334</td>\n",
       "      <td>-1.105261</td>\n",
       "      <td>-0.261430</td>\n",
       "      <td>-0.119965</td>\n",
       "      <td>-1.505208</td>\n",
       "      <td>-0.000731</td>\n",
       "      <td>-0.093062</td>\n",
       "      <td>2021-12-17</td>\n",
       "      <td>1.639699e+09</td>\n",
       "    </tr>\n",
       "    <tr>\n",
       "      <th>3</th>\n",
       "      <td>-0.001918</td>\n",
       "      <td>-0.121160</td>\n",
       "      <td>-0.858827</td>\n",
       "      <td>-5.811821</td>\n",
       "      <td>-0.039117</td>\n",
       "      <td>-0.002176</td>\n",
       "      <td>6.88269e-06</td>\n",
       "      <td>-0.000640</td>\n",
       "      <td>-0.038900</td>\n",
       "      <td>-0.122742</td>\n",
       "      <td>-1.113266</td>\n",
       "      <td>-0.265938</td>\n",
       "      <td>-0.118663</td>\n",
       "      <td>-1.552829</td>\n",
       "      <td>-0.000803</td>\n",
       "      <td>-0.094211</td>\n",
       "      <td>2021-12-16</td>\n",
       "      <td>1.639613e+09</td>\n",
       "    </tr>\n",
       "    <tr>\n",
       "      <th>4</th>\n",
       "      <td>-0.001837</td>\n",
       "      <td>-0.114213</td>\n",
       "      <td>-0.861666</td>\n",
       "      <td>-5.576628</td>\n",
       "      <td>-0.036440</td>\n",
       "      <td>-0.002698</td>\n",
       "      <td>7.5031e-06</td>\n",
       "      <td>-0.000626</td>\n",
       "      <td>-0.038633</td>\n",
       "      <td>-0.120897</td>\n",
       "      <td>-1.084636</td>\n",
       "      <td>-0.278540</td>\n",
       "      <td>-0.114837</td>\n",
       "      <td>-1.527812</td>\n",
       "      <td>-0.000783</td>\n",
       "      <td>-0.091209</td>\n",
       "      <td>2021-12-15</td>\n",
       "      <td>1.639526e+09</td>\n",
       "    </tr>\n",
       "    <tr>\n",
       "      <th>...</th>\n",
       "      <td>...</td>\n",
       "      <td>...</td>\n",
       "      <td>...</td>\n",
       "      <td>...</td>\n",
       "      <td>...</td>\n",
       "      <td>...</td>\n",
       "      <td>...</td>\n",
       "      <td>...</td>\n",
       "      <td>...</td>\n",
       "      <td>...</td>\n",
       "      <td>...</td>\n",
       "      <td>...</td>\n",
       "      <td>...</td>\n",
       "      <td>...</td>\n",
       "      <td>...</td>\n",
       "      <td>...</td>\n",
       "      <td>...</td>\n",
       "      <td>...</td>\n",
       "    </tr>\n",
       "    <tr>\n",
       "      <th>95</th>\n",
       "      <td>-0.010782</td>\n",
       "      <td>-0.084141</td>\n",
       "      <td>-1.133305</td>\n",
       "      <td>-5.653727</td>\n",
       "      <td>-0.182212</td>\n",
       "      <td>-0.000560</td>\n",
       "      <td>-6.61225e-05</td>\n",
       "      <td>-0.000618</td>\n",
       "      <td>-0.025681</td>\n",
       "      <td>-0.229960</td>\n",
       "      <td>-1.219632</td>\n",
       "      <td>-0.271750</td>\n",
       "      <td>-0.126273</td>\n",
       "      <td>-1.692418</td>\n",
       "      <td>-0.000246</td>\n",
       "      <td>-0.114900</td>\n",
       "      <td>2021-09-15</td>\n",
       "      <td>1.631664e+09</td>\n",
       "    </tr>\n",
       "    <tr>\n",
       "      <th>96</th>\n",
       "      <td>-0.010540</td>\n",
       "      <td>-0.090331</td>\n",
       "      <td>-1.152836</td>\n",
       "      <td>-5.590506</td>\n",
       "      <td>-0.161859</td>\n",
       "      <td>-0.000651</td>\n",
       "      <td>-4.1272e-05</td>\n",
       "      <td>-0.000473</td>\n",
       "      <td>-0.025605</td>\n",
       "      <td>-0.203204</td>\n",
       "      <td>-1.220949</td>\n",
       "      <td>-0.261797</td>\n",
       "      <td>-0.123461</td>\n",
       "      <td>-1.652350</td>\n",
       "      <td>-0.000231</td>\n",
       "      <td>-0.107803</td>\n",
       "      <td>2021-09-14</td>\n",
       "      <td>1.631578e+09</td>\n",
       "    </tr>\n",
       "    <tr>\n",
       "      <th>97</th>\n",
       "      <td>-0.011280</td>\n",
       "      <td>-0.086491</td>\n",
       "      <td>-1.159605</td>\n",
       "      <td>-5.782493</td>\n",
       "      <td>-0.162053</td>\n",
       "      <td>-0.000649</td>\n",
       "      <td>-4.06183e-05</td>\n",
       "      <td>-0.000500</td>\n",
       "      <td>-0.025636</td>\n",
       "      <td>-0.218210</td>\n",
       "      <td>-1.222411</td>\n",
       "      <td>-0.270699</td>\n",
       "      <td>-0.122439</td>\n",
       "      <td>-1.701350</td>\n",
       "      <td>-0.000153</td>\n",
       "      <td>-0.112966</td>\n",
       "      <td>2021-09-13</td>\n",
       "      <td>1.631491e+09</td>\n",
       "    </tr>\n",
       "    <tr>\n",
       "      <th>98</th>\n",
       "      <td>-0.011111</td>\n",
       "      <td>-0.085338</td>\n",
       "      <td>-1.143503</td>\n",
       "      <td>-5.538950</td>\n",
       "      <td>-0.148240</td>\n",
       "      <td>-0.000622</td>\n",
       "      <td>[]</td>\n",
       "      <td>-0.000518</td>\n",
       "      <td>-0.025626</td>\n",
       "      <td>-0.208739</td>\n",
       "      <td>-1.234688</td>\n",
       "      <td>-0.227807</td>\n",
       "      <td>-0.127191</td>\n",
       "      <td>-1.660440</td>\n",
       "      <td>-0.000061</td>\n",
       "      <td>-0.107876</td>\n",
       "      <td>2021-09-12</td>\n",
       "      <td>1.631405e+09</td>\n",
       "    </tr>\n",
       "    <tr>\n",
       "      <th>99</th>\n",
       "      <td>-0.011624</td>\n",
       "      <td>-0.091601</td>\n",
       "      <td>-1.123362</td>\n",
       "      <td>-5.688804</td>\n",
       "      <td>-0.146562</td>\n",
       "      <td>-0.000639</td>\n",
       "      <td>[]</td>\n",
       "      <td>-0.000538</td>\n",
       "      <td>-0.025479</td>\n",
       "      <td>-0.222863</td>\n",
       "      <td>-1.000832</td>\n",
       "      <td>-0.149733</td>\n",
       "      <td>-0.126707</td>\n",
       "      <td>-1.663514</td>\n",
       "      <td>-0.000061</td>\n",
       "      <td>-0.106065</td>\n",
       "      <td>2021-09-11</td>\n",
       "      <td>1.631318e+09</td>\n",
       "    </tr>\n",
       "  </tbody>\n",
       "</table>\n",
       "<p>100 rows × 18 columns</p>\n",
       "</div>"
      ],
      "text/plain": [
       "        AAVE       BAT       DAI       ETH      LINK       MKR          REP  \\\n",
       "0  -0.002310 -0.127123 -0.834741 -5.709998 -0.039767 -0.002897  -1.6391e-05   \n",
       "1  -0.002197 -0.124717 -0.777469 -5.623920 -0.036913 -0.002174   7.0047e-06   \n",
       "2  -0.002185 -0.122286 -0.751481 -5.722817 -0.037800 -0.002133   7.0747e-06   \n",
       "3  -0.001918 -0.121160 -0.858827 -5.811821 -0.039117 -0.002176  6.88269e-06   \n",
       "4  -0.001837 -0.114213 -0.861666 -5.576628 -0.036440 -0.002698   7.5031e-06   \n",
       "..       ...       ...       ...       ...       ...       ...          ...   \n",
       "95 -0.010782 -0.084141 -1.133305 -5.653727 -0.182212 -0.000560 -6.61225e-05   \n",
       "96 -0.010540 -0.090331 -1.152836 -5.590506 -0.161859 -0.000651  -4.1272e-05   \n",
       "97 -0.011280 -0.086491 -1.159605 -5.782493 -0.162053 -0.000649 -4.06183e-05   \n",
       "98 -0.011111 -0.085338 -1.143503 -5.538950 -0.148240 -0.000622           []   \n",
       "99 -0.011624 -0.091601 -1.123362 -5.688804 -0.146562 -0.000639           []   \n",
       "\n",
       "       SUSHI      TUSD       UNI      USDC      USDT      WBTC     WBTC2  \\\n",
       "0  -0.000631 -0.038384 -0.125463 -1.007843 -0.265166 -0.113868 -1.475464   \n",
       "1  -0.000643 -0.038673 -0.120981 -1.090484 -0.260881 -0.117068 -1.455817   \n",
       "2  -0.000687 -0.038743 -0.116334 -1.105261 -0.261430 -0.119965 -1.505208   \n",
       "3  -0.000640 -0.038900 -0.122742 -1.113266 -0.265938 -0.118663 -1.552829   \n",
       "4  -0.000626 -0.038633 -0.120897 -1.084636 -0.278540 -0.114837 -1.527812   \n",
       "..       ...       ...       ...       ...       ...       ...       ...   \n",
       "95 -0.000618 -0.025681 -0.229960 -1.219632 -0.271750 -0.126273 -1.692418   \n",
       "96 -0.000473 -0.025605 -0.203204 -1.220949 -0.261797 -0.123461 -1.652350   \n",
       "97 -0.000500 -0.025636 -0.218210 -1.222411 -0.270699 -0.122439 -1.701350   \n",
       "98 -0.000518 -0.025626 -0.208739 -1.234688 -0.227807 -0.127191 -1.660440   \n",
       "99 -0.000538 -0.025479 -0.222863 -1.000832 -0.149733 -0.126707 -1.663514   \n",
       "\n",
       "         YFI       ZRX        DATE     timestamp  \n",
       "0  -0.000777 -0.093449  2021-12-19  1.639872e+09  \n",
       "1  -0.000761 -0.092133  2021-12-18  1.639786e+09  \n",
       "2  -0.000731 -0.093062  2021-12-17  1.639699e+09  \n",
       "3  -0.000803 -0.094211  2021-12-16  1.639613e+09  \n",
       "4  -0.000783 -0.091209  2021-12-15  1.639526e+09  \n",
       "..       ...       ...         ...           ...  \n",
       "95 -0.000246 -0.114900  2021-09-15  1.631664e+09  \n",
       "96 -0.000231 -0.107803  2021-09-14  1.631578e+09  \n",
       "97 -0.000153 -0.112966  2021-09-13  1.631491e+09  \n",
       "98 -0.000061 -0.107876  2021-09-12  1.631405e+09  \n",
       "99 -0.000061 -0.106065  2021-09-11  1.631318e+09  \n",
       "\n",
       "[100 rows x 18 columns]"
      ]
     },
     "execution_count": 16,
     "metadata": {},
     "output_type": "execute_result"
    }
   ],
   "source": [
    "FINAL_DF"
   ]
  },
  {
   "cell_type": "code",
   "execution_count": 17,
   "id": "38e35f50",
   "metadata": {
    "ExecuteTime": {
     "end_time": "2022-01-13T05:52:20.634252Z",
     "start_time": "2022-01-13T05:52:20.592291Z"
    }
   },
   "outputs": [
    {
     "data": {
      "text/html": [
       "<div>\n",
       "<style scoped>\n",
       "    .dataframe tbody tr th:only-of-type {\n",
       "        vertical-align: middle;\n",
       "    }\n",
       "\n",
       "    .dataframe tbody tr th {\n",
       "        vertical-align: top;\n",
       "    }\n",
       "\n",
       "    .dataframe thead th {\n",
       "        text-align: right;\n",
       "    }\n",
       "</style>\n",
       "<table border=\"1\" class=\"dataframe\">\n",
       "  <thead>\n",
       "    <tr style=\"text-align: right;\">\n",
       "      <th></th>\n",
       "      <th>timestamp</th>\n",
       "      <th>DAI_price</th>\n",
       "      <th>DAI_%change(10)</th>\n",
       "      <th>TUSD_price</th>\n",
       "      <th>TUSD_%change(10)</th>\n",
       "      <th>USDC_price</th>\n",
       "      <th>USDC_%change(10)</th>\n",
       "      <th>USDT_price</th>\n",
       "      <th>USDT_%change(10)</th>\n",
       "      <th>ETH_price</th>\n",
       "      <th>...</th>\n",
       "      <th>WBTC_%change(1)</th>\n",
       "      <th>WBTC2_%change(1)</th>\n",
       "      <th>SUSHI_%change(1)</th>\n",
       "      <th>YFI_%change(1)</th>\n",
       "      <th>AAVE_%change(1)</th>\n",
       "      <th>BAT_%change(1)</th>\n",
       "      <th>ZRX_%change(1)</th>\n",
       "      <th>REP_%change(1)</th>\n",
       "      <th>SAI_%change(1)</th>\n",
       "      <th>date</th>\n",
       "    </tr>\n",
       "  </thead>\n",
       "  <tbody>\n",
       "    <tr>\n",
       "      <th>1</th>\n",
       "      <td>1.642032e+09</td>\n",
       "      <td>1.001430</td>\n",
       "      <td>-0.0298551</td>\n",
       "      <td>1.001834</td>\n",
       "      <td>0.10263</td>\n",
       "      <td>1.001409</td>\n",
       "      <td>0.108038</td>\n",
       "      <td>1.000972</td>\n",
       "      <td>0.0488767</td>\n",
       "      <td>3378.035895</td>\n",
       "      <td>...</td>\n",
       "      <td>2.41734</td>\n",
       "      <td>2.41734</td>\n",
       "      <td>1.72256</td>\n",
       "      <td>2.63012</td>\n",
       "      <td>1.98119</td>\n",
       "      <td>4.5334</td>\n",
       "      <td>3.92047</td>\n",
       "      <td>3.23535</td>\n",
       "      <td>0</td>\n",
       "      <td>2022-01-13</td>\n",
       "    </tr>\n",
       "    <tr>\n",
       "      <th>2</th>\n",
       "      <td>1.641946e+09</td>\n",
       "      <td>0.999613</td>\n",
       "      <td>-0.494773</td>\n",
       "      <td>1.000153</td>\n",
       "      <td>-0.557577</td>\n",
       "      <td>0.999859</td>\n",
       "      <td>-0.508185</td>\n",
       "      <td>1.000418</td>\n",
       "      <td>-0.517607</td>\n",
       "      <td>3246.413723</td>\n",
       "      <td>...</td>\n",
       "      <td>2.03631</td>\n",
       "      <td>2.03631</td>\n",
       "      <td>4.23861</td>\n",
       "      <td>1.99777</td>\n",
       "      <td>5.13704</td>\n",
       "      <td>4.90393</td>\n",
       "      <td>3.49427</td>\n",
       "      <td>5.37757</td>\n",
       "      <td>0</td>\n",
       "      <td>2022-01-12</td>\n",
       "    </tr>\n",
       "    <tr>\n",
       "      <th>3</th>\n",
       "      <td>1.641859e+09</td>\n",
       "      <td>1.001071</td>\n",
       "      <td>0.170157</td>\n",
       "      <td>1.002476</td>\n",
       "      <td>0.424748</td>\n",
       "      <td>1.000715</td>\n",
       "      <td>0.0284644</td>\n",
       "      <td>1.001096</td>\n",
       "      <td>0.251778</td>\n",
       "      <td>3086.729002</td>\n",
       "      <td>...</td>\n",
       "      <td>-0.181559</td>\n",
       "      <td>-0.181559</td>\n",
       "      <td>-3.77384</td>\n",
       "      <td>-1.97316</td>\n",
       "      <td>-3.98116</td>\n",
       "      <td>-2.77533</td>\n",
       "      <td>-4.79252</td>\n",
       "      <td>-4.2775</td>\n",
       "      <td>0</td>\n",
       "      <td>2022-01-11</td>\n",
       "    </tr>\n",
       "    <tr>\n",
       "      <th>4</th>\n",
       "      <td>1.641773e+09</td>\n",
       "      <td>1.002857</td>\n",
       "      <td>-0.059015</td>\n",
       "      <td>1.000299</td>\n",
       "      <td>-0.169955</td>\n",
       "      <td>1.000593</td>\n",
       "      <td>-0.263729</td>\n",
       "      <td>0.999476</td>\n",
       "      <td>-0.185822</td>\n",
       "      <td>3156.967262</td>\n",
       "      <td>...</td>\n",
       "      <td>0.445028</td>\n",
       "      <td>0.445028</td>\n",
       "      <td>3.44492</td>\n",
       "      <td>-1.71643</td>\n",
       "      <td>-1.17769</td>\n",
       "      <td>0.412506</td>\n",
       "      <td>1.95901</td>\n",
       "      <td>0.724551</td>\n",
       "      <td>0</td>\n",
       "      <td>2022-01-10</td>\n",
       "    </tr>\n",
       "    <tr>\n",
       "      <th>5</th>\n",
       "      <td>1.641686e+09</td>\n",
       "      <td>0.997979</td>\n",
       "      <td>-0.511445</td>\n",
       "      <td>0.997312</td>\n",
       "      <td>-0.101253</td>\n",
       "      <td>0.999403</td>\n",
       "      <td>-0.581565</td>\n",
       "      <td>0.997693</td>\n",
       "      <td>-0.457192</td>\n",
       "      <td>3101.040902</td>\n",
       "      <td>...</td>\n",
       "      <td>-0.653672</td>\n",
       "      <td>-0.653672</td>\n",
       "      <td>-6.24161</td>\n",
       "      <td>-8.69001</td>\n",
       "      <td>0.953256</td>\n",
       "      <td>-4.65892</td>\n",
       "      <td>-5.25208</td>\n",
       "      <td>-4.46708</td>\n",
       "      <td>0</td>\n",
       "      <td>2022-01-09</td>\n",
       "    </tr>\n",
       "    <tr>\n",
       "      <th>...</th>\n",
       "      <td>...</td>\n",
       "      <td>...</td>\n",
       "      <td>...</td>\n",
       "      <td>...</td>\n",
       "      <td>...</td>\n",
       "      <td>...</td>\n",
       "      <td>...</td>\n",
       "      <td>...</td>\n",
       "      <td>...</td>\n",
       "      <td>...</td>\n",
       "      <td>...</td>\n",
       "      <td>...</td>\n",
       "      <td>...</td>\n",
       "      <td>...</td>\n",
       "      <td>...</td>\n",
       "      <td>...</td>\n",
       "      <td>...</td>\n",
       "      <td>...</td>\n",
       "      <td>...</td>\n",
       "      <td>...</td>\n",
       "      <td>...</td>\n",
       "    </tr>\n",
       "    <tr>\n",
       "      <th>735</th>\n",
       "      <td>1.578614e+09</td>\n",
       "      <td>1.002732</td>\n",
       "      <td>2.12226</td>\n",
       "      <td>1.000020</td>\n",
       "      <td>-0.257931</td>\n",
       "      <td>1.000419</td>\n",
       "      <td>-0.0833051</td>\n",
       "      <td>0.999479</td>\n",
       "      <td>0.120977</td>\n",
       "      <td>137.860559</td>\n",
       "      <td>...</td>\n",
       "      <td>-3.10762</td>\n",
       "      <td>-3.10762</td>\n",
       "      <td>-3.10762</td>\n",
       "      <td>-3.10762</td>\n",
       "      <td>-3.10762</td>\n",
       "      <td>1.16746</td>\n",
       "      <td>-2.43441</td>\n",
       "      <td>-2.62453</td>\n",
       "      <td>0.199728</td>\n",
       "      <td>2020-01-10</td>\n",
       "    </tr>\n",
       "    <tr>\n",
       "      <th>736</th>\n",
       "      <td>1.578528e+09</td>\n",
       "      <td>1.000406</td>\n",
       "      <td>1.61287</td>\n",
       "      <td>0.996705</td>\n",
       "      <td>-0.35493</td>\n",
       "      <td>0.996342</td>\n",
       "      <td>-0.389219</td>\n",
       "      <td>0.996537</td>\n",
       "      <td>-0.319909</td>\n",
       "      <td>140.273935</td>\n",
       "      <td>...</td>\n",
       "      <td>-0.667996</td>\n",
       "      <td>-0.667996</td>\n",
       "      <td>-0.667996</td>\n",
       "      <td>-0.667996</td>\n",
       "      <td>-0.667996</td>\n",
       "      <td>-5.40615</td>\n",
       "      <td>12.0742</td>\n",
       "      <td>-0.331698</td>\n",
       "      <td>0.113107</td>\n",
       "      <td>2020-01-09</td>\n",
       "    </tr>\n",
       "    <tr>\n",
       "      <th>737</th>\n",
       "      <td>1.578442e+09</td>\n",
       "      <td>0.995636</td>\n",
       "      <td>2.42278</td>\n",
       "      <td>0.999350</td>\n",
       "      <td>-0.317283</td>\n",
       "      <td>0.999140</td>\n",
       "      <td>-0.249331</td>\n",
       "      <td>0.997681</td>\n",
       "      <td>-0.16141</td>\n",
       "      <td>143.019432</td>\n",
       "      <td>...</td>\n",
       "      <td>4.64645</td>\n",
       "      <td>4.64645</td>\n",
       "      <td>4.64645</td>\n",
       "      <td>4.64645</td>\n",
       "      <td>4.64645</td>\n",
       "      <td>0.925568</td>\n",
       "      <td>-3.80894</td>\n",
       "      <td>-1.29527</td>\n",
       "      <td>-0.450304</td>\n",
       "      <td>2020-01-08</td>\n",
       "    </tr>\n",
       "    <tr>\n",
       "      <th>738</th>\n",
       "      <td>1.578355e+09</td>\n",
       "      <td>0.998680</td>\n",
       "      <td>2.48368</td>\n",
       "      <td>0.998690</td>\n",
       "      <td>-0.22173</td>\n",
       "      <td>0.999543</td>\n",
       "      <td>-0.198063</td>\n",
       "      <td>0.998183</td>\n",
       "      <td>-0.167694</td>\n",
       "      <td>143.806398</td>\n",
       "      <td>...</td>\n",
       "      <td>5.94334</td>\n",
       "      <td>5.94334</td>\n",
       "      <td>5.94334</td>\n",
       "      <td>5.94334</td>\n",
       "      <td>5.94334</td>\n",
       "      <td>2.30919</td>\n",
       "      <td>4.73891</td>\n",
       "      <td>3.83729</td>\n",
       "      <td>0.142036</td>\n",
       "      <td>2020-01-07</td>\n",
       "    </tr>\n",
       "    <tr>\n",
       "      <th>739</th>\n",
       "      <td>1.578269e+09</td>\n",
       "      <td>0.981101</td>\n",
       "      <td>0.70326</td>\n",
       "      <td>0.999804</td>\n",
       "      <td>-0.247903</td>\n",
       "      <td>1.000500</td>\n",
       "      <td>-0.12975</td>\n",
       "      <td>0.999073</td>\n",
       "      <td>-0.0995009</td>\n",
       "      <td>135.005714</td>\n",
       "      <td>...</td>\n",
       "      <td>-0.26071</td>\n",
       "      <td>-0.26071</td>\n",
       "      <td>-0.26071</td>\n",
       "      <td>-0.26071</td>\n",
       "      <td>-0.26071</td>\n",
       "      <td>-0.902457</td>\n",
       "      <td>0.0664355</td>\n",
       "      <td>2.51796</td>\n",
       "      <td>-0.673685</td>\n",
       "      <td>2020-01-06</td>\n",
       "    </tr>\n",
       "  </tbody>\n",
       "</table>\n",
       "<p>739 rows × 53 columns</p>\n",
       "</div>"
      ],
      "text/plain": [
       "        timestamp  DAI_price DAI_%change(10)  TUSD_price TUSD_%change(10)  \\\n",
       "1    1.642032e+09   1.001430      -0.0298551    1.001834          0.10263   \n",
       "2    1.641946e+09   0.999613       -0.494773    1.000153        -0.557577   \n",
       "3    1.641859e+09   1.001071        0.170157    1.002476         0.424748   \n",
       "4    1.641773e+09   1.002857       -0.059015    1.000299        -0.169955   \n",
       "5    1.641686e+09   0.997979       -0.511445    0.997312        -0.101253   \n",
       "..            ...        ...             ...         ...              ...   \n",
       "735  1.578614e+09   1.002732         2.12226    1.000020        -0.257931   \n",
       "736  1.578528e+09   1.000406         1.61287    0.996705         -0.35493   \n",
       "737  1.578442e+09   0.995636         2.42278    0.999350        -0.317283   \n",
       "738  1.578355e+09   0.998680         2.48368    0.998690         -0.22173   \n",
       "739  1.578269e+09   0.981101         0.70326    0.999804        -0.247903   \n",
       "\n",
       "     USDC_price USDC_%change(10)  USDT_price USDT_%change(10)    ETH_price  \\\n",
       "1      1.001409         0.108038    1.000972        0.0488767  3378.035895   \n",
       "2      0.999859        -0.508185    1.000418        -0.517607  3246.413723   \n",
       "3      1.000715        0.0284644    1.001096         0.251778  3086.729002   \n",
       "4      1.000593        -0.263729    0.999476        -0.185822  3156.967262   \n",
       "5      0.999403        -0.581565    0.997693        -0.457192  3101.040902   \n",
       "..          ...              ...         ...              ...          ...   \n",
       "735    1.000419       -0.0833051    0.999479         0.120977   137.860559   \n",
       "736    0.996342        -0.389219    0.996537        -0.319909   140.273935   \n",
       "737    0.999140        -0.249331    0.997681         -0.16141   143.019432   \n",
       "738    0.999543        -0.198063    0.998183        -0.167694   143.806398   \n",
       "739    1.000500         -0.12975    0.999073       -0.0995009   135.005714   \n",
       "\n",
       "     ... WBTC_%change(1)  WBTC2_%change(1) SUSHI_%change(1)  YFI_%change(1)  \\\n",
       "1    ...         2.41734           2.41734          1.72256         2.63012   \n",
       "2    ...         2.03631           2.03631          4.23861         1.99777   \n",
       "3    ...       -0.181559         -0.181559         -3.77384        -1.97316   \n",
       "4    ...        0.445028          0.445028          3.44492        -1.71643   \n",
       "5    ...       -0.653672         -0.653672         -6.24161        -8.69001   \n",
       "..   ...             ...               ...              ...             ...   \n",
       "735  ...        -3.10762          -3.10762         -3.10762        -3.10762   \n",
       "736  ...       -0.667996         -0.667996        -0.667996       -0.667996   \n",
       "737  ...         4.64645           4.64645          4.64645         4.64645   \n",
       "738  ...         5.94334           5.94334          5.94334         5.94334   \n",
       "739  ...        -0.26071          -0.26071         -0.26071        -0.26071   \n",
       "\n",
       "    AAVE_%change(1)  BAT_%change(1) ZRX_%change(1)  REP_%change(1)  \\\n",
       "1           1.98119          4.5334        3.92047         3.23535   \n",
       "2           5.13704         4.90393        3.49427         5.37757   \n",
       "3          -3.98116        -2.77533       -4.79252         -4.2775   \n",
       "4          -1.17769        0.412506        1.95901        0.724551   \n",
       "5          0.953256        -4.65892       -5.25208        -4.46708   \n",
       "..              ...             ...            ...             ...   \n",
       "735        -3.10762         1.16746       -2.43441        -2.62453   \n",
       "736       -0.667996        -5.40615        12.0742       -0.331698   \n",
       "737         4.64645        0.925568       -3.80894        -1.29527   \n",
       "738         5.94334         2.30919        4.73891         3.83729   \n",
       "739        -0.26071       -0.902457      0.0664355         2.51796   \n",
       "\n",
       "    SAI_%change(1)        date  \n",
       "1                0  2022-01-13  \n",
       "2                0  2022-01-12  \n",
       "3                0  2022-01-11  \n",
       "4                0  2022-01-10  \n",
       "5                0  2022-01-09  \n",
       "..             ...         ...  \n",
       "735       0.199728  2020-01-10  \n",
       "736       0.113107  2020-01-09  \n",
       "737      -0.450304  2020-01-08  \n",
       "738       0.142036  2020-01-07  \n",
       "739      -0.673685  2020-01-06  \n",
       "\n",
       "[739 rows x 53 columns]"
      ]
     },
     "execution_count": 17,
     "metadata": {},
     "output_type": "execute_result"
    }
   ],
   "source": [
    "change_df#[344:345]"
   ]
  },
  {
   "cell_type": "code",
   "execution_count": 18,
   "id": "6ca7def5",
   "metadata": {
    "ExecuteTime": {
     "end_time": "2022-01-13T05:52:20.807317Z",
     "start_time": "2022-01-13T05:52:20.789290Z"
    }
   },
   "outputs": [
    {
     "data": {
      "text/html": [
       "<div>\n",
       "<style scoped>\n",
       "    .dataframe tbody tr th:only-of-type {\n",
       "        vertical-align: middle;\n",
       "    }\n",
       "\n",
       "    .dataframe tbody tr th {\n",
       "        vertical-align: top;\n",
       "    }\n",
       "\n",
       "    .dataframe thead th {\n",
       "        text-align: right;\n",
       "    }\n",
       "</style>\n",
       "<table border=\"1\" class=\"dataframe\">\n",
       "  <thead>\n",
       "    <tr style=\"text-align: right;\">\n",
       "      <th></th>\n",
       "      <th>timestamp</th>\n",
       "      <th>DAI_price</th>\n",
       "      <th>DAI_%change(10)</th>\n",
       "      <th>TUSD_price</th>\n",
       "      <th>TUSD_%change(10)</th>\n",
       "      <th>USDC_price</th>\n",
       "      <th>USDC_%change(10)</th>\n",
       "      <th>USDT_price</th>\n",
       "      <th>USDT_%change(10)</th>\n",
       "      <th>ETH_price</th>\n",
       "      <th>...</th>\n",
       "      <th>WBTC_%change(1)</th>\n",
       "      <th>WBTC2_%change(1)</th>\n",
       "      <th>SUSHI_%change(1)</th>\n",
       "      <th>YFI_%change(1)</th>\n",
       "      <th>AAVE_%change(1)</th>\n",
       "      <th>BAT_%change(1)</th>\n",
       "      <th>ZRX_%change(1)</th>\n",
       "      <th>REP_%change(1)</th>\n",
       "      <th>SAI_%change(1)</th>\n",
       "      <th>date</th>\n",
       "    </tr>\n",
       "  </thead>\n",
       "  <tbody>\n",
       "    <tr>\n",
       "      <th>1</th>\n",
       "      <td>1.642032e+09</td>\n",
       "      <td>1.00143</td>\n",
       "      <td>-0.0298551</td>\n",
       "      <td>1.001834</td>\n",
       "      <td>0.10263</td>\n",
       "      <td>1.001409</td>\n",
       "      <td>0.108038</td>\n",
       "      <td>1.000972</td>\n",
       "      <td>0.0488767</td>\n",
       "      <td>3378.035895</td>\n",
       "      <td>...</td>\n",
       "      <td>2.41734</td>\n",
       "      <td>2.41734</td>\n",
       "      <td>1.72256</td>\n",
       "      <td>2.63012</td>\n",
       "      <td>1.98119</td>\n",
       "      <td>4.5334</td>\n",
       "      <td>3.92047</td>\n",
       "      <td>3.23535</td>\n",
       "      <td>0</td>\n",
       "      <td>2022-01-13</td>\n",
       "    </tr>\n",
       "  </tbody>\n",
       "</table>\n",
       "<p>1 rows × 53 columns</p>\n",
       "</div>"
      ],
      "text/plain": [
       "      timestamp  DAI_price DAI_%change(10)  TUSD_price TUSD_%change(10)  \\\n",
       "1  1.642032e+09    1.00143      -0.0298551    1.001834          0.10263   \n",
       "\n",
       "   USDC_price USDC_%change(10)  USDT_price USDT_%change(10)    ETH_price  ...  \\\n",
       "1    1.001409         0.108038    1.000972        0.0488767  3378.035895  ...   \n",
       "\n",
       "  WBTC_%change(1)  WBTC2_%change(1) SUSHI_%change(1)  YFI_%change(1)  \\\n",
       "1         2.41734           2.41734          1.72256         2.63012   \n",
       "\n",
       "  AAVE_%change(1)  BAT_%change(1) ZRX_%change(1)  REP_%change(1)  \\\n",
       "1         1.98119          4.5334        3.92047         3.23535   \n",
       "\n",
       "  SAI_%change(1)        date  \n",
       "1              0  2022-01-13  \n",
       "\n",
       "[1 rows x 53 columns]"
      ]
     },
     "execution_count": 18,
     "metadata": {},
     "output_type": "execute_result"
    }
   ],
   "source": [
    "change_df[0:1]"
   ]
  },
  {
   "cell_type": "code",
   "execution_count": 19,
   "id": "59e065df",
   "metadata": {
    "ExecuteTime": {
     "end_time": "2022-01-13T05:52:32.174750Z",
     "start_time": "2022-01-13T05:52:21.040851Z"
    },
    "code_folding": []
   },
   "outputs": [],
   "source": [
    "VAR = []\n",
    "VAR_DATE = []\n",
    "for ind, ROW in enumerate(FINAL_DF.iterrows()):\n",
    "    REQUIRED_10 = []\n",
    "    for required_row in change_df[ind:ind+365].iterrows():\n",
    "        SUM_10 = []\n",
    "        for key in ROW[1].keys()[:-3]:\n",
    "            if key == 'WBTC2':\n",
    "                key = 'WBTC'\n",
    "            if isinstance(ROW[1][key], list):\n",
    "                ROW[1][key] = 0\n",
    "            SUM_10.append((float(ROW[1][key]) * required_row[1][key+'_%change(10)'])/100)\n",
    "        REQUIRED_10.append(sum(SUM_10))\n",
    "    VAR.append(sorted(REQUIRED_10, key=float)[3])\n",
    "    VAR_DATE.append(change_df[ind:ind+365].at[REQUIRED_10.index(sorted(REQUIRED_10, key=float)[3]) + ind, 'date'])"
   ]
  },
  {
   "cell_type": "code",
   "execution_count": 20,
   "id": "d31d5cab",
   "metadata": {
    "ExecuteTime": {
     "end_time": "2022-01-13T05:52:32.180063Z",
     "start_time": "2022-01-13T05:52:32.175921Z"
    }
   },
   "outputs": [
    {
     "data": {
      "text/plain": [
       "['2021-05-11',\n",
       " '2021-05-11',\n",
       " '2021-05-05',\n",
       " '2021-05-06',\n",
       " '2021-01-13',\n",
       " '2021-05-07',\n",
       " '2021-01-10',\n",
       " '2021-01-09',\n",
       " '2021-01-11',\n",
       " '2021-01-11',\n",
       " '2021-01-11',\n",
       " '2021-01-11',\n",
       " '2021-01-11',\n",
       " '2021-01-11',\n",
       " '2021-01-12',\n",
       " '2021-01-12',\n",
       " '2021-01-12',\n",
       " '2021-01-12',\n",
       " '2021-01-12',\n",
       " '2021-01-12',\n",
       " '2021-01-12',\n",
       " '2021-01-12',\n",
       " '2021-01-12',\n",
       " '2021-01-12',\n",
       " '2021-01-12',\n",
       " '2021-01-12',\n",
       " '2021-01-12',\n",
       " '2021-01-12',\n",
       " '2021-01-12',\n",
       " '2021-01-12',\n",
       " '2021-01-12',\n",
       " '2021-01-12',\n",
       " '2021-01-12',\n",
       " '2021-01-12',\n",
       " '2021-01-12',\n",
       " '2021-01-12',\n",
       " '2021-01-12',\n",
       " '2021-01-12',\n",
       " '2021-01-12',\n",
       " '2021-01-12',\n",
       " '2021-01-12',\n",
       " '2021-01-12',\n",
       " '2021-01-12',\n",
       " '2021-01-12',\n",
       " '2021-01-12',\n",
       " '2021-01-12',\n",
       " '2021-01-12',\n",
       " '2021-01-12',\n",
       " '2021-01-12',\n",
       " '2021-01-12',\n",
       " '2021-01-12',\n",
       " '2021-01-12',\n",
       " '2021-01-12',\n",
       " '2021-01-12',\n",
       " '2021-01-12',\n",
       " '2021-01-12',\n",
       " '2021-01-12',\n",
       " '2021-01-12',\n",
       " '2021-01-12',\n",
       " '2021-01-12',\n",
       " '2021-01-12',\n",
       " '2021-01-12',\n",
       " '2021-01-12',\n",
       " '2021-01-12',\n",
       " '2021-01-12',\n",
       " '2021-01-12',\n",
       " '2021-01-12',\n",
       " '2021-01-12',\n",
       " '2021-01-12',\n",
       " '2021-01-12',\n",
       " '2021-01-12',\n",
       " '2021-01-12',\n",
       " '2021-01-12',\n",
       " '2021-01-12',\n",
       " '2021-01-12',\n",
       " '2021-01-12',\n",
       " '2021-01-12',\n",
       " '2021-01-12',\n",
       " '2021-01-12',\n",
       " '2021-01-12',\n",
       " '2021-01-12',\n",
       " '2021-01-12',\n",
       " '2021-01-12',\n",
       " '2021-01-12',\n",
       " '2021-01-12',\n",
       " '2021-01-12',\n",
       " '2021-01-12',\n",
       " '2021-01-12',\n",
       " '2021-01-12',\n",
       " '2021-01-12',\n",
       " '2021-01-12',\n",
       " '2021-01-12',\n",
       " '2021-01-12',\n",
       " '2021-01-12',\n",
       " '2021-01-12',\n",
       " '2021-01-12',\n",
       " '2021-01-12',\n",
       " '2021-01-12',\n",
       " '2021-01-12',\n",
       " '2021-01-12']"
      ]
     },
     "execution_count": 20,
     "metadata": {},
     "output_type": "execute_result"
    }
   ],
   "source": [
    "VAR_DATE"
   ]
  },
  {
   "cell_type": "code",
   "execution_count": null,
   "id": "73b911c1",
   "metadata": {},
   "outputs": [],
   "source": []
  },
  {
   "cell_type": "code",
   "execution_count": 21,
   "id": "d2dcdd16",
   "metadata": {
    "ExecuteTime": {
     "end_time": "2022-01-13T05:52:32.185398Z",
     "start_time": "2022-01-13T05:52:32.181911Z"
    }
   },
   "outputs": [],
   "source": [
    "POS_VAR = [-x for x in VAR]"
   ]
  },
  {
   "cell_type": "code",
   "execution_count": 22,
   "id": "f96318dc",
   "metadata": {
    "ExecuteTime": {
     "end_time": "2022-01-13T05:52:32.366277Z",
     "start_time": "2022-01-13T05:52:32.186960Z"
    }
   },
   "outputs": [
    {
     "data": {
      "text/plain": [
       "[<matplotlib.lines.Line2D at 0x7fc67ff81320>]"
      ]
     },
     "execution_count": 22,
     "metadata": {},
     "output_type": "execute_result"
    },
    {
     "data": {
      "image/png": "[encoded data removed]",
      "text/plain": [
       "<Figure size 432x288 with 1 Axes>"
      ]
     },
     "metadata": {
      "needs_background": "light"
     },
     "output_type": "display_data"
    }
   ],
   "source": [
    "plt.plot(POS_VAR)"
   ]
  },
  {
   "cell_type": "code",
   "execution_count": 23,
   "id": "ef1bfd72",
   "metadata": {
    "ExecuteTime": {
     "end_time": "2022-01-13T05:52:32.370864Z",
     "start_time": "2022-01-13T05:52:32.367645Z"
    }
   },
   "outputs": [
    {
     "data": {
      "text/plain": [
       "(-2.4484007183452925, -5.597307619111495)"
      ]
     },
     "execution_count": 23,
     "metadata": {},
     "output_type": "execute_result"
    }
   ],
   "source": [
    "max(VAR), min(VAR)"
   ]
  },
  {
   "cell_type": "code",
   "execution_count": 24,
   "id": "8e9d62c9",
   "metadata": {
    "ExecuteTime": {
     "end_time": "2022-01-13T05:52:32.376189Z",
     "start_time": "2022-01-13T05:52:32.372711Z"
    }
   },
   "outputs": [
    {
     "data": {
      "text/plain": [
       "(-2.4484007183452925, -5.597307619111495)"
      ]
     },
     "execution_count": 24,
     "metadata": {},
     "output_type": "execute_result"
    }
   ],
   "source": [
    "max(VAR), min(VAR)"
   ]
  },
  {
   "cell_type": "code",
   "execution_count": 25,
   "id": "bbea4a7a",
   "metadata": {
    "ExecuteTime": {
     "end_time": "2022-01-13T05:52:32.379253Z",
     "start_time": "2022-01-13T05:52:32.377209Z"
    }
   },
   "outputs": [],
   "source": [
    "# textfile = open(\"a_file.txt\", \"w\")\n",
    "# for element in VAR:\n",
    "#     textfile.write(element + \"\\n\")\n",
    "# textfile.close()"
   ]
  },
  {
   "cell_type": "code",
   "execution_count": null,
   "id": "ab679efc",
   "metadata": {},
   "outputs": [],
   "source": []
  },
  {
   "cell_type": "code",
   "execution_count": null,
   "id": "b466dfdd",
   "metadata": {},
   "outputs": [],
   "source": []
  },
  {
   "cell_type": "code",
   "execution_count": null,
   "id": "d7a57d69",
   "metadata": {},
   "outputs": [],
   "source": []
  },
  {
   "cell_type": "code",
   "execution_count": null,
   "id": "1fa78221",
   "metadata": {},
   "outputs": [],
   "source": []
  },
  {
   "cell_type": "code",
   "execution_count": 31,
   "id": "c4c13fa9",
   "metadata": {
    "ExecuteTime": {
     "end_time": "2022-01-12T23:48:22.195495Z",
     "start_time": "2022-01-12T23:48:22.001042Z"
    }
   },
   "outputs": [
    {
     "name": "stderr",
     "output_type": "stream",
     "text": [
      "/home/nishgaba/anaconda3/envs/defi/lib/python3.6/site-packages/numpy/core/_asarray.py:83: VisibleDeprecationWarning: Creating an ndarray from ragged nested sequences (which is a list-or-tuple of lists-or-tuples-or ndarrays with different lengths or shapes) is deprecated. If you meant to do this, you must specify 'dtype=object' when creating the ndarray\n",
      "  return array(a, dtype, copy=False, order=order)\n"
     ]
    }
   ],
   "source": [
    "# ff = []\n",
    "# for f in FINAL['ETH']['date']:\n",
    "#     ff.append(f)\n",
    "\n",
    "MARKET_FINAL_DF = pd.DataFrame(columns= cols)\n",
    "ind = 0\n",
    "for i in range(100):\n",
    "    assets = []\n",
    "    for col in cols:\n",
    "        try:\n",
    "            assets.append(FINAL[col]['MARKET'][i])\n",
    "        except Exception as e:\n",
    "            assets.append([])\n",
    "    MARKET_FINAL_DF.loc[ind] = assets\n",
    "    ind += 1"
   ]
  },
  {
   "cell_type": "code",
   "execution_count": 32,
   "id": "69d8a30d",
   "metadata": {
    "ExecuteTime": {
     "end_time": "2022-01-12T23:48:22.260038Z",
     "start_time": "2022-01-12T23:48:22.197345Z"
    },
    "code_folding": [
     0
    ]
   },
   "outputs": [
    {
     "name": "stdout",
     "output_type": "stream",
     "text": [
      "[]\n",
      "[]\n",
      "[]\n",
      "[]\n",
      "[]\n",
      "[]\n",
      "[]\n",
      "[]\n",
      "[]\n",
      "[]\n",
      "[]\n"
     ]
    }
   ],
   "source": [
    "for i in range(MARKET_FINAL_DF.shape[0]):\n",
    "    for j in range(1,MARKET_FINAL_DF.shape[1]-1):\n",
    "        if isinstance(MARKET_FINAL_DF.iloc[i,j], list):\n",
    "            print(MARKET_FINAL_DF.iloc[i,j])\n",
    "            MARKET_FINAL_DF.iloc[i,j] = 0\n",
    "            \n",
    "        if 'e' in str(MARKET_FINAL_DF.iloc[i,j]):\n",
    "            MARKET_FINAL_DF.iloc[i,j] = 0"
   ]
  },
  {
   "cell_type": "code",
   "execution_count": 33,
   "id": "42534487",
   "metadata": {
    "ExecuteTime": {
     "end_time": "2022-01-12T23:48:22.268071Z",
     "start_time": "2022-01-12T23:48:22.261411Z"
    }
   },
   "outputs": [],
   "source": [
    "MARKET_FINAL_DF['DATE'] = ff[:100]\n",
    "MARKET_FINAL_DF['timestamp'] = MARKET_FINAL_DF['DATE'].apply(lambda x: pd.Timestamp(x).timestamp())\n",
    "MARKET_FINAL_DF = MARKET_FINAL_DF.sort_values('timestamp')\n",
    "MARKET_FINAL_DF = MARKET_FINAL_DF[::-1]"
   ]
  },
  {
   "cell_type": "code",
   "execution_count": 34,
   "id": "0a11e43b",
   "metadata": {
    "ExecuteTime": {
     "end_time": "2022-01-12T23:48:22.277646Z",
     "start_time": "2022-01-12T23:48:22.270017Z"
    }
   },
   "outputs": [
    {
     "data": {
      "text/plain": [
       "0     1.681361e+10\n",
       "1     1.674532e+10\n",
       "2     1.694005e+10\n",
       "3     1.719853e+10\n",
       "4     1.703186e+10\n",
       "          ...     \n",
       "95    1.939434e+10\n",
       "96    1.933554e+10\n",
       "97    1.972848e+10\n",
       "98    1.929174e+10\n",
       "99    1.931654e+10\n",
       "Length: 100, dtype: float64"
      ]
     },
     "execution_count": 34,
     "metadata": {},
     "output_type": "execute_result"
    }
   ],
   "source": [
    "MARKET_FINAL_DF[MARKET_FINAL_DF.columns[:-2]].sum(axis=1)"
   ]
  },
  {
   "cell_type": "code",
   "execution_count": null,
   "id": "2119bdfb",
   "metadata": {},
   "outputs": [],
   "source": []
  },
  {
   "cell_type": "code",
   "execution_count": null,
   "id": "c6db3870",
   "metadata": {},
   "outputs": [],
   "source": []
  },
  {
   "cell_type": "code",
   "execution_count": null,
   "id": "9df3148e",
   "metadata": {},
   "outputs": [],
   "source": []
  },
  {
   "cell_type": "code",
   "execution_count": 35,
   "id": "f85e9a42",
   "metadata": {
    "ExecuteTime": {
     "end_time": "2022-01-12T23:48:22.467507Z",
     "start_time": "2022-01-12T23:48:22.279057Z"
    }
   },
   "outputs": [],
   "source": [
    "# ff = []\n",
    "# for f in FINAL['ETH']['date']:\n",
    "#     ff.append(f)\n",
    "\n",
    "BORROW_FINAL_DF = pd.DataFrame(columns=cols)\n",
    "ind = 0\n",
    "for i in range(100):\n",
    "    assets = []\n",
    "    for col in cols:\n",
    "        try:\n",
    "            assets.append(FINAL[col]['BORROW'][i])\n",
    "        except:\n",
    "            assets.append([])\n",
    "    \n",
    "    BORROW_FINAL_DF.loc[ind] = assets\n",
    "    ind += 1"
   ]
  },
  {
   "cell_type": "code",
   "execution_count": 36,
   "id": "944724f5",
   "metadata": {
    "ExecuteTime": {
     "end_time": "2022-01-12T23:48:22.527067Z",
     "start_time": "2022-01-12T23:48:22.468875Z"
    }
   },
   "outputs": [
    {
     "name": "stdout",
     "output_type": "stream",
     "text": [
      "[]\n",
      "[]\n",
      "[]\n",
      "[]\n",
      "[]\n",
      "[]\n",
      "[]\n",
      "[]\n",
      "[]\n",
      "[]\n",
      "[]\n"
     ]
    }
   ],
   "source": [
    "for i in range(BORROW_FINAL_DF.shape[0]):\n",
    "    for j in range(1,BORROW_FINAL_DF.shape[1]-1):\n",
    "        if isinstance(BORROW_FINAL_DF.iloc[i,j], list):\n",
    "            print(BORROW_FINAL_DF.iloc[i,j])\n",
    "            BORROW_FINAL_DF.iloc[i,j] = 0\n",
    "            \n",
    "        if 'e' in str(BORROW_FINAL_DF.iloc[i,j]):\n",
    "            BORROW_FINAL_DF.iloc[i,j] = 0"
   ]
  },
  {
   "cell_type": "code",
   "execution_count": 37,
   "id": "a5726f34",
   "metadata": {
    "ExecuteTime": {
     "end_time": "2022-01-12T23:48:22.535347Z",
     "start_time": "2022-01-12T23:48:22.528432Z"
    }
   },
   "outputs": [],
   "source": [
    "BORROW_FINAL_DF['DATE'] = ff[:100]\n",
    "BORROW_FINAL_DF['timestamp'] = BORROW_FINAL_DF['DATE'].apply(lambda x: pd.Timestamp(x).timestamp())\n",
    "BORROW_FINAL_DF = BORROW_FINAL_DF.sort_values('timestamp')\n",
    "BORROW_FINAL_DF = BORROW_FINAL_DF[::-1]"
   ]
  },
  {
   "cell_type": "code",
   "execution_count": 38,
   "id": "888e070d",
   "metadata": {
    "ExecuteTime": {
     "end_time": "2022-01-12T23:48:22.543500Z",
     "start_time": "2022-01-12T23:48:22.536834Z"
    }
   },
   "outputs": [
    {
     "data": {
      "text/plain": [
       "0     6.980691e+09\n",
       "1     6.999967e+09\n",
       "2     6.998187e+09\n",
       "3     7.055017e+09\n",
       "4     7.179749e+09\n",
       "          ...     \n",
       "95    8.638576e+09\n",
       "96    8.731249e+09\n",
       "97    8.838436e+09\n",
       "98    8.777449e+09\n",
       "99    8.976895e+09\n",
       "Length: 100, dtype: float64"
      ]
     },
     "execution_count": 38,
     "metadata": {},
     "output_type": "execute_result"
    }
   ],
   "source": [
    "BORROW_FINAL_DF[BORROW_FINAL_DF.columns[:-2]].sum(axis=1)"
   ]
  },
  {
   "cell_type": "code",
   "execution_count": 39,
   "id": "6a0e48dc",
   "metadata": {
    "ExecuteTime": {
     "end_time": "2022-01-12T23:48:22.562229Z",
     "start_time": "2022-01-12T23:48:22.544756Z"
    }
   },
   "outputs": [
    {
     "data": {
      "text/html": [
       "<div>\n",
       "<style scoped>\n",
       "    .dataframe tbody tr th:only-of-type {\n",
       "        vertical-align: middle;\n",
       "    }\n",
       "\n",
       "    .dataframe tbody tr th {\n",
       "        vertical-align: top;\n",
       "    }\n",
       "\n",
       "    .dataframe thead th {\n",
       "        text-align: right;\n",
       "    }\n",
       "</style>\n",
       "<table border=\"1\" class=\"dataframe\">\n",
       "  <thead>\n",
       "    <tr style=\"text-align: right;\">\n",
       "      <th></th>\n",
       "      <th>AAVE</th>\n",
       "      <th>BAT</th>\n",
       "      <th>DAI</th>\n",
       "      <th>ETH</th>\n",
       "      <th>LINK</th>\n",
       "      <th>MKR</th>\n",
       "      <th>REP</th>\n",
       "      <th>SUSHI</th>\n",
       "      <th>TUSD</th>\n",
       "      <th>UNI</th>\n",
       "      <th>USDC</th>\n",
       "      <th>USDT</th>\n",
       "      <th>WBTC</th>\n",
       "      <th>WBTC2</th>\n",
       "      <th>YFI</th>\n",
       "      <th>ZRX</th>\n",
       "      <th>DATE</th>\n",
       "      <th>timestamp</th>\n",
       "    </tr>\n",
       "  </thead>\n",
       "  <tbody>\n",
       "    <tr>\n",
       "      <th>0</th>\n",
       "      <td>52886.704453</td>\n",
       "      <td>8.980073e+06</td>\n",
       "      <td>3.449819e+09</td>\n",
       "      <td>2.147442e+08</td>\n",
       "      <td>7.306048e+06</td>\n",
       "      <td>127.156399</td>\n",
       "      <td>10545.1</td>\n",
       "      <td>127769.623049</td>\n",
       "      <td>4.857219e+07</td>\n",
       "      <td>9.368603e+06</td>\n",
       "      <td>2.512223e+09</td>\n",
       "      <td>6.155188e+08</td>\n",
       "      <td>29956.668114</td>\n",
       "      <td>1.064013e+08</td>\n",
       "      <td>226098.390363</td>\n",
       "      <td>7.310966e+06</td>\n",
       "      <td>2021-12-19</td>\n",
       "      <td>1.639872e+09</td>\n",
       "    </tr>\n",
       "    <tr>\n",
       "      <th>1</th>\n",
       "      <td>45462.149896</td>\n",
       "      <td>8.806639e+06</td>\n",
       "      <td>3.464749e+09</td>\n",
       "      <td>2.110095e+08</td>\n",
       "      <td>6.846032e+06</td>\n",
       "      <td>124.802732</td>\n",
       "      <td>28809.5</td>\n",
       "      <td>125815.049371</td>\n",
       "      <td>4.807268e+07</td>\n",
       "      <td>9.002025e+06</td>\n",
       "      <td>2.520981e+09</td>\n",
       "      <td>6.178348e+08</td>\n",
       "      <td>30794.765820</td>\n",
       "      <td>1.049930e+08</td>\n",
       "      <td>240556.614222</td>\n",
       "      <td>7.201091e+06</td>\n",
       "      <td>2021-12-18</td>\n",
       "      <td>1.639786e+09</td>\n",
       "    </tr>\n",
       "    <tr>\n",
       "      <th>2</th>\n",
       "      <td>45228.118142</td>\n",
       "      <td>8.640094e+06</td>\n",
       "      <td>3.475775e+09</td>\n",
       "      <td>2.182140e+08</td>\n",
       "      <td>7.028132e+06</td>\n",
       "      <td>127.290305</td>\n",
       "      <td>28027.6</td>\n",
       "      <td>128834.771531</td>\n",
       "      <td>4.802889e+07</td>\n",
       "      <td>8.655296e+06</td>\n",
       "      <td>2.498731e+09</td>\n",
       "      <td>6.175866e+08</td>\n",
       "      <td>31555.114959</td>\n",
       "      <td>1.079378e+08</td>\n",
       "      <td>178591.718655</td>\n",
       "      <td>7.177461e+06</td>\n",
       "      <td>2021-12-17</td>\n",
       "      <td>1.639699e+09</td>\n",
       "    </tr>\n",
       "    <tr>\n",
       "      <th>3</th>\n",
       "      <td>39484.995990</td>\n",
       "      <td>8.554861e+06</td>\n",
       "      <td>3.475425e+09</td>\n",
       "      <td>2.179592e+08</td>\n",
       "      <td>7.630973e+06</td>\n",
       "      <td>123.380092</td>\n",
       "      <td>30554</td>\n",
       "      <td>134395.215080</td>\n",
       "      <td>4.806761e+07</td>\n",
       "      <td>9.128087e+06</td>\n",
       "      <td>2.552207e+09</td>\n",
       "      <td>6.178243e+08</td>\n",
       "      <td>31197.063471</td>\n",
       "      <td>1.105882e+08</td>\n",
       "      <td>149564.037394</td>\n",
       "      <td>7.246405e+06</td>\n",
       "      <td>2021-12-16</td>\n",
       "      <td>1.639613e+09</td>\n",
       "    </tr>\n",
       "    <tr>\n",
       "      <th>4</th>\n",
       "      <td>37808.981699</td>\n",
       "      <td>7.493660e+06</td>\n",
       "      <td>3.588911e+09</td>\n",
       "      <td>2.051120e+08</td>\n",
       "      <td>6.736925e+06</td>\n",
       "      <td>11363.050640</td>\n",
       "      <td>30172.6</td>\n",
       "      <td>130598.228097</td>\n",
       "      <td>4.819419e+07</td>\n",
       "      <td>8.986191e+06</td>\n",
       "      <td>2.589070e+09</td>\n",
       "      <td>6.084899e+08</td>\n",
       "      <td>30184.341613</td>\n",
       "      <td>1.093317e+08</td>\n",
       "      <td>135706.169085</td>\n",
       "      <td>7.048095e+06</td>\n",
       "      <td>2021-12-15</td>\n",
       "      <td>1.639526e+09</td>\n",
       "    </tr>\n",
       "  </tbody>\n",
       "</table>\n",
       "</div>"
      ],
      "text/plain": [
       "           AAVE           BAT           DAI           ETH          LINK  \\\n",
       "0  52886.704453  8.980073e+06  3.449819e+09  2.147442e+08  7.306048e+06   \n",
       "1  45462.149896  8.806639e+06  3.464749e+09  2.110095e+08  6.846032e+06   \n",
       "2  45228.118142  8.640094e+06  3.475775e+09  2.182140e+08  7.028132e+06   \n",
       "3  39484.995990  8.554861e+06  3.475425e+09  2.179592e+08  7.630973e+06   \n",
       "4  37808.981699  7.493660e+06  3.588911e+09  2.051120e+08  6.736925e+06   \n",
       "\n",
       "            MKR      REP          SUSHI          TUSD           UNI  \\\n",
       "0    127.156399  10545.1  127769.623049  4.857219e+07  9.368603e+06   \n",
       "1    124.802732  28809.5  125815.049371  4.807268e+07  9.002025e+06   \n",
       "2    127.290305  28027.6  128834.771531  4.802889e+07  8.655296e+06   \n",
       "3    123.380092    30554  134395.215080  4.806761e+07  9.128087e+06   \n",
       "4  11363.050640  30172.6  130598.228097  4.819419e+07  8.986191e+06   \n",
       "\n",
       "           USDC          USDT          WBTC         WBTC2            YFI  \\\n",
       "0  2.512223e+09  6.155188e+08  29956.668114  1.064013e+08  226098.390363   \n",
       "1  2.520981e+09  6.178348e+08  30794.765820  1.049930e+08  240556.614222   \n",
       "2  2.498731e+09  6.175866e+08  31555.114959  1.079378e+08  178591.718655   \n",
       "3  2.552207e+09  6.178243e+08  31197.063471  1.105882e+08  149564.037394   \n",
       "4  2.589070e+09  6.084899e+08  30184.341613  1.093317e+08  135706.169085   \n",
       "\n",
       "            ZRX        DATE     timestamp  \n",
       "0  7.310966e+06  2021-12-19  1.639872e+09  \n",
       "1  7.201091e+06  2021-12-18  1.639786e+09  \n",
       "2  7.177461e+06  2021-12-17  1.639699e+09  \n",
       "3  7.246405e+06  2021-12-16  1.639613e+09  \n",
       "4  7.048095e+06  2021-12-15  1.639526e+09  "
      ]
     },
     "execution_count": 39,
     "metadata": {},
     "output_type": "execute_result"
    }
   ],
   "source": [
    "BORROW_FINAL_DF.head()"
   ]
  },
  {
   "cell_type": "code",
   "execution_count": 40,
   "id": "19d06ea0",
   "metadata": {
    "ExecuteTime": {
     "end_time": "2022-01-12T23:48:22.581479Z",
     "start_time": "2022-01-12T23:48:22.563762Z"
    }
   },
   "outputs": [
    {
     "data": {
      "text/html": [
       "<div>\n",
       "<style scoped>\n",
       "    .dataframe tbody tr th:only-of-type {\n",
       "        vertical-align: middle;\n",
       "    }\n",
       "\n",
       "    .dataframe tbody tr th {\n",
       "        vertical-align: top;\n",
       "    }\n",
       "\n",
       "    .dataframe thead th {\n",
       "        text-align: right;\n",
       "    }\n",
       "</style>\n",
       "<table border=\"1\" class=\"dataframe\">\n",
       "  <thead>\n",
       "    <tr style=\"text-align: right;\">\n",
       "      <th></th>\n",
       "      <th>AAVE</th>\n",
       "      <th>BAT</th>\n",
       "      <th>DAI</th>\n",
       "      <th>ETH</th>\n",
       "      <th>LINK</th>\n",
       "      <th>MKR</th>\n",
       "      <th>REP</th>\n",
       "      <th>SUSHI</th>\n",
       "      <th>TUSD</th>\n",
       "      <th>UNI</th>\n",
       "      <th>USDC</th>\n",
       "      <th>USDT</th>\n",
       "      <th>WBTC</th>\n",
       "      <th>WBTC2</th>\n",
       "      <th>YFI</th>\n",
       "      <th>ZRX</th>\n",
       "      <th>DATE</th>\n",
       "      <th>timestamp</th>\n",
       "    </tr>\n",
       "  </thead>\n",
       "  <tbody>\n",
       "    <tr>\n",
       "      <th>0</th>\n",
       "      <td>2.359578e+06</td>\n",
       "      <td>1.361078e+08</td>\n",
       "      <td>4.284548e+09</td>\n",
       "      <td>5.924237e+09</td>\n",
       "      <td>4.707409e+07</td>\n",
       "      <td>2.173782e+06</td>\n",
       "      <td>21512.3</td>\n",
       "      <td>770790.562859</td>\n",
       "      <td>8.691854e+07</td>\n",
       "      <td>1.347828e+08</td>\n",
       "      <td>3.515798e+09</td>\n",
       "      <td>8.807660e+08</td>\n",
       "      <td>1.138924e+08</td>\n",
       "      <td>1.581999e+09</td>\n",
       "      <td>1.399851e+06</td>\n",
       "      <td>1.007587e+08</td>\n",
       "      <td>2021-12-19</td>\n",
       "      <td>1.639872e+09</td>\n",
       "    </tr>\n",
       "    <tr>\n",
       "      <th>1</th>\n",
       "      <td>2.243655e+06</td>\n",
       "      <td>1.335409e+08</td>\n",
       "      <td>4.243054e+09</td>\n",
       "      <td>5.834937e+09</td>\n",
       "      <td>4.378757e+07</td>\n",
       "      <td>2.133546e+06</td>\n",
       "      <td>21734.8</td>\n",
       "      <td>755440.272935</td>\n",
       "      <td>8.675692e+07</td>\n",
       "      <td>1.299535e+08</td>\n",
       "      <td>3.611028e+09</td>\n",
       "      <td>8.787254e+08</td>\n",
       "      <td>1.170990e+08</td>\n",
       "      <td>1.560554e+09</td>\n",
       "      <td>1.490396e+06</td>\n",
       "      <td>9.924199e+07</td>\n",
       "      <td>2021-12-18</td>\n",
       "      <td>1.639786e+09</td>\n",
       "    </tr>\n",
       "    <tr>\n",
       "      <th>2</th>\n",
       "      <td>2.232105e+06</td>\n",
       "      <td>1.309181e+08</td>\n",
       "      <td>4.267173e+09</td>\n",
       "      <td>5.972839e+09</td>\n",
       "      <td>4.482828e+07</td>\n",
       "      <td>2.176072e+06</td>\n",
       "      <td>21144.9</td>\n",
       "      <td>773571.806039</td>\n",
       "      <td>8.678398e+07</td>\n",
       "      <td>1.249941e+08</td>\n",
       "      <td>3.603976e+09</td>\n",
       "      <td>8.806785e+08</td>\n",
       "      <td>1.199902e+08</td>\n",
       "      <td>1.601334e+09</td>\n",
       "      <td>1.106486e+06</td>\n",
       "      <td>1.002202e+08</td>\n",
       "      <td>2021-12-17</td>\n",
       "      <td>1.639699e+09</td>\n",
       "    </tr>\n",
       "    <tr>\n",
       "      <th>3</th>\n",
       "      <td>2.178695e+06</td>\n",
       "      <td>1.297193e+08</td>\n",
       "      <td>4.334331e+09</td>\n",
       "      <td>6.029433e+09</td>\n",
       "      <td>4.680972e+07</td>\n",
       "      <td>2.109319e+06</td>\n",
       "      <td>23050.9</td>\n",
       "      <td>809517.568350</td>\n",
       "      <td>8.685394e+07</td>\n",
       "      <td>1.318726e+08</td>\n",
       "      <td>3.665547e+09</td>\n",
       "      <td>8.830195e+08</td>\n",
       "      <td>1.186636e+08</td>\n",
       "      <td>1.664775e+09</td>\n",
       "      <td>9.266413e+05</td>\n",
       "      <td>1.014549e+08</td>\n",
       "      <td>2021-12-16</td>\n",
       "      <td>1.639613e+09</td>\n",
       "    </tr>\n",
       "    <tr>\n",
       "      <th>4</th>\n",
       "      <td>2.086216e+06</td>\n",
       "      <td>1.218666e+08</td>\n",
       "      <td>4.450579e+09</td>\n",
       "      <td>5.782030e+09</td>\n",
       "      <td>4.321722e+07</td>\n",
       "      <td>2.625715e+06</td>\n",
       "      <td>22763.1</td>\n",
       "      <td>796573.933865</td>\n",
       "      <td>8.709934e+07</td>\n",
       "      <td>1.298458e+08</td>\n",
       "      <td>3.673158e+09</td>\n",
       "      <td>8.874348e+08</td>\n",
       "      <td>1.148676e+08</td>\n",
       "      <td>1.637074e+09</td>\n",
       "      <td>8.965423e+05</td>\n",
       "      <td>9.825654e+07</td>\n",
       "      <td>2021-12-15</td>\n",
       "      <td>1.639526e+09</td>\n",
       "    </tr>\n",
       "  </tbody>\n",
       "</table>\n",
       "</div>"
      ],
      "text/plain": [
       "           AAVE           BAT           DAI           ETH          LINK  \\\n",
       "0  2.359578e+06  1.361078e+08  4.284548e+09  5.924237e+09  4.707409e+07   \n",
       "1  2.243655e+06  1.335409e+08  4.243054e+09  5.834937e+09  4.378757e+07   \n",
       "2  2.232105e+06  1.309181e+08  4.267173e+09  5.972839e+09  4.482828e+07   \n",
       "3  2.178695e+06  1.297193e+08  4.334331e+09  6.029433e+09  4.680972e+07   \n",
       "4  2.086216e+06  1.218666e+08  4.450579e+09  5.782030e+09  4.321722e+07   \n",
       "\n",
       "            MKR      REP          SUSHI          TUSD           UNI  \\\n",
       "0  2.173782e+06  21512.3  770790.562859  8.691854e+07  1.347828e+08   \n",
       "1  2.133546e+06  21734.8  755440.272935  8.675692e+07  1.299535e+08   \n",
       "2  2.176072e+06  21144.9  773571.806039  8.678398e+07  1.249941e+08   \n",
       "3  2.109319e+06  23050.9  809517.568350  8.685394e+07  1.318726e+08   \n",
       "4  2.625715e+06  22763.1  796573.933865  8.709934e+07  1.298458e+08   \n",
       "\n",
       "           USDC          USDT          WBTC         WBTC2           YFI  \\\n",
       "0  3.515798e+09  8.807660e+08  1.138924e+08  1.581999e+09  1.399851e+06   \n",
       "1  3.611028e+09  8.787254e+08  1.170990e+08  1.560554e+09  1.490396e+06   \n",
       "2  3.603976e+09  8.806785e+08  1.199902e+08  1.601334e+09  1.106486e+06   \n",
       "3  3.665547e+09  8.830195e+08  1.186636e+08  1.664775e+09  9.266413e+05   \n",
       "4  3.673158e+09  8.874348e+08  1.148676e+08  1.637074e+09  8.965423e+05   \n",
       "\n",
       "            ZRX        DATE     timestamp  \n",
       "0  1.007587e+08  2021-12-19  1.639872e+09  \n",
       "1  9.924199e+07  2021-12-18  1.639786e+09  \n",
       "2  1.002202e+08  2021-12-17  1.639699e+09  \n",
       "3  1.014549e+08  2021-12-16  1.639613e+09  \n",
       "4  9.825654e+07  2021-12-15  1.639526e+09  "
      ]
     },
     "execution_count": 40,
     "metadata": {},
     "output_type": "execute_result"
    }
   ],
   "source": [
    "MARKET_FINAL_DF.head()"
   ]
  },
  {
   "cell_type": "code",
   "execution_count": 41,
   "id": "aa289b3a",
   "metadata": {
    "ExecuteTime": {
     "end_time": "2022-01-12T23:48:22.588063Z",
     "start_time": "2022-01-12T23:48:22.584383Z"
    }
   },
   "outputs": [
    {
     "data": {
      "text/plain": [
       "18"
      ]
     },
     "execution_count": 41,
     "metadata": {},
     "output_type": "execute_result"
    }
   ],
   "source": [
    "len(BORROW_FINAL_DF.columns)"
   ]
  },
  {
   "cell_type": "code",
   "execution_count": 42,
   "id": "8987e333",
   "metadata": {
    "ExecuteTime": {
     "end_time": "2022-01-12T23:48:22.595164Z",
     "start_time": "2022-01-12T23:48:22.589755Z"
    }
   },
   "outputs": [
    {
     "data": {
      "text/plain": [
       "100"
      ]
     },
     "execution_count": 42,
     "metadata": {},
     "output_type": "execute_result"
    }
   ],
   "source": [
    "len(BORROW_FINAL_DF)"
   ]
  },
  {
   "cell_type": "code",
   "execution_count": 43,
   "id": "c64bf555",
   "metadata": {
    "ExecuteTime": {
     "end_time": "2022-01-12T23:48:22.604712Z",
     "start_time": "2022-01-12T23:48:22.596874Z"
    }
   },
   "outputs": [],
   "source": [
    "CONS_DATA = pd.DataFrame(columns=[\"date\", \"Liabilities\", \"Assets\", \"VAR\", \"VAR_DATE\", \"timestamp\"])"
   ]
  },
  {
   "cell_type": "code",
   "execution_count": 44,
   "id": "8c638872",
   "metadata": {
    "ExecuteTime": {
     "end_time": "2022-01-12T23:48:22.610477Z",
     "start_time": "2022-01-12T23:48:22.606484Z"
    }
   },
   "outputs": [],
   "source": [
    "CONS_DATA['date'] = MARKET_FINAL_DF['DATE'] "
   ]
  },
  {
   "cell_type": "code",
   "execution_count": 45,
   "id": "099d2801",
   "metadata": {
    "ExecuteTime": {
     "end_time": "2022-01-12T23:48:22.615695Z",
     "start_time": "2022-01-12T23:48:22.612151Z"
    }
   },
   "outputs": [],
   "source": [
    "CONS_DATA['timestamp'] = MARKET_FINAL_DF['timestamp'] "
   ]
  },
  {
   "cell_type": "code",
   "execution_count": 46,
   "id": "4f09c28f",
   "metadata": {
    "ExecuteTime": {
     "end_time": "2022-01-12T23:48:22.624902Z",
     "start_time": "2022-01-12T23:48:22.617861Z"
    }
   },
   "outputs": [],
   "source": [
    "CONS_DATA['Assets'] = BORROW_FINAL_DF[BORROW_FINAL_DF.columns[:-2]].sum(axis=1)"
   ]
  },
  {
   "cell_type": "code",
   "execution_count": 47,
   "id": "9f93bf10",
   "metadata": {
    "ExecuteTime": {
     "end_time": "2022-01-12T23:48:22.632244Z",
     "start_time": "2022-01-12T23:48:22.626635Z"
    }
   },
   "outputs": [],
   "source": [
    "CONS_DATA['Liabilities'] = MARKET_FINAL_DF[MARKET_FINAL_DF.columns[:-2]].sum(axis=1)"
   ]
  },
  {
   "cell_type": "code",
   "execution_count": 48,
   "id": "1bbe9dba",
   "metadata": {
    "ExecuteTime": {
     "end_time": "2022-01-12T23:48:22.638559Z",
     "start_time": "2022-01-12T23:48:22.634484Z"
    }
   },
   "outputs": [],
   "source": [
    "CONS_DATA[\"VAR\"] = VAR"
   ]
  },
  {
   "cell_type": "code",
   "execution_count": 49,
   "id": "e70fbae3",
   "metadata": {
    "ExecuteTime": {
     "end_time": "2022-01-12T23:48:22.643672Z",
     "start_time": "2022-01-12T23:48:22.640234Z"
    }
   },
   "outputs": [],
   "source": [
    "CONS_DATA[\"VAR_DATE\"] = VAR_DATE"
   ]
  },
  {
   "cell_type": "code",
   "execution_count": 50,
   "id": "77a6d68c",
   "metadata": {
    "ExecuteTime": {
     "end_time": "2022-01-12T23:48:22.656450Z",
     "start_time": "2022-01-12T23:48:22.645271Z"
    }
   },
   "outputs": [],
   "source": [
    "# Saving to CSV\n",
    "CONS_DATA.to_csv(\"compound-historical-dec-20.csv\", index=False)"
   ]
  },
  {
   "cell_type": "code",
   "execution_count": null,
   "id": "e45ebbe8",
   "metadata": {},
   "outputs": [],
   "source": []
  },
  {
   "cell_type": "code",
   "execution_count": null,
   "id": "d55624de",
   "metadata": {},
   "outputs": [],
   "source": []
  },
  {
   "cell_type": "code",
   "execution_count": null,
   "id": "df587601",
   "metadata": {},
   "outputs": [],
   "source": []
  },
  {
   "cell_type": "code",
   "execution_count": null,
   "id": "d8433afb",
   "metadata": {},
   "outputs": [],
   "source": []
  },
  {
   "cell_type": "code",
   "execution_count": null,
   "id": "e0126493",
   "metadata": {},
   "outputs": [],
   "source": []
  },
  {
   "cell_type": "code",
   "execution_count": null,
   "id": "dce3acde",
   "metadata": {},
   "outputs": [],
   "source": []
  }
 ],
 "metadata": {
  "kernelspec": {
   "display_name": "Python 3",
   "language": "python",
   "name": "python3"
  },
  "language_info": {
   "codemirror_mode": {
    "name": "ipython",
    "version": 3
   },
   "file_extension": ".py",
   "mimetype": "text/x-python",
   "name": "python",
   "nbconvert_exporter": "python",
   "pygments_lexer": "ipython3",
   "version": "3.6.13"
  }
 },
 "nbformat": 4,
 "nbformat_minor": 5
}
